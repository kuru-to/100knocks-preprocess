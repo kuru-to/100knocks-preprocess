{
 "cells": [
  {
   "cell_type": "markdown",
   "id": "5c8fbcc2-e8f7-4bcc-9460-a31ac202ff8b",
   "metadata": {},
   "source": [
    "# データサイエンス100本ノック（構造化データ加工編） - Julia"
   ]
  },
  {
   "cell_type": "markdown",
   "id": "dbdca2ca-dbd8-424b-80af-b4fff33963f4",
   "metadata": {},
   "source": [
    "## はじめに\n",
    "- 初めに以下のセルを実行してください\n",
    "- 必要なライブラリのインポートとデータベース（PostgreSQL）からのデータ読み込みを行います\n",
    "- 利用が想定されるライブラリは以下セルでインポートしています\n",
    "- その他利用したいライブラリがあれば適宜インストールしてください（\"!pip install ライブラリ名\"でインストールも可能）\n",
    "- 処理は複数回に分けても構いません\n",
    "- 名前、住所等はダミーデータであり、実在するものではありません"
   ]
  },
  {
   "cell_type": "code",
   "execution_count": 1,
   "id": "b7c621d5-6807-48eb-9130-f2db086c7a51",
   "metadata": {
    "tags": []
   },
   "outputs": [],
   "source": [
    "# ENV[\"COLUMNS\"]=240  # 描画する表の列数を増やす\n",
    "# ENV[\"LINES\"]=10  # 行の数は制限（問題の指示とは異なるので好みに合わせて修正）\n",
    "# ENV[\"PYTHON\"]=\"\" # 使用する python へのパス\n",
    "\n",
    "using Pkg\n",
    "\n",
    "# Pkg.add(\"DataFrames\")\n",
    "# Pkg.add(\"DataFramesMeta\")\n",
    "# Pkg.add(\"LibPQ\")\n",
    "# Pkg.add(\"StatsBase\")\n",
    "# Pkg.add(\"ScikitLearn\")\n",
    "# Pkg.add(\"MLDataPattern\")\n",
    "# Pkg.add(\"CSV\")\n",
    "# Pkg.add(\"ShiftedArrays\")"
   ]
  },
  {
   "cell_type": "code",
   "execution_count": 2,
   "id": "4ea6f485-03cc-4f67-a3b9-cf3f3becea66",
   "metadata": {
    "tags": []
   },
   "outputs": [],
   "source": [
    "using DataFrames\n",
    "using DataFramesMeta\n",
    "using StatsBase\n",
    "using Statistics\n",
    "using Dates\n",
    "using Random\n",
    "using ScikitLearn\n",
    "using MLDataPattern\n",
    "using CSV\n",
    "using ShiftedArrays: lag\n",
    "\n",
    "# @sk_import preprocessing: (LabelBinarizer, StandardScaler, MinMaxScaler)"
   ]
  },
  {
   "cell_type": "markdown",
   "id": "539fea77",
   "metadata": {},
   "source": [
    "## データ読み込み"
   ]
  },
  {
   "cell_type": "code",
   "execution_count": 3,
   "id": "47feb4d7-27bc-4ecb-9473-ee89aaf857a0",
   "metadata": {},
   "outputs": [
    {
     "name": "stdout",
     "output_type": "stream",
     "text": [
      "load data from DB.\n"
     ]
    }
   ],
   "source": [
    "if \"PG_PORT\" in keys(ENV)\n",
    "    using LibPQ\n",
    "    \n",
    "    host = \"db\"\n",
    "    port = ENV[\"PG_PORT\"]\n",
    "    database = ENV[\"PG_DATABASE\"]\n",
    "    user = ENV[\"PG_USER\"]\n",
    "    password = ENV[\"PG_PASSWORD\"]\n",
    "    dsl = \"postgresql://$user:$password@$host:$port/$database\"\n",
    "    conn = LibPQ.Connection(dsl)\n",
    "\n",
    "    # データ読み込み\n",
    "    df_customer = DataFrame(execute(conn, \"select * from customer\"))\n",
    "    df_category = DataFrame(execute(conn, \"select * from category\"))\n",
    "    df_product = DataFrame(execute(conn, \"select * from product\"))\n",
    "    df_receipt = DataFrame(execute(conn, \"select * from receipt\"))\n",
    "    df_store = DataFrame(execute(conn, \"select * from store\"))\n",
    "    df_geocode = DataFrame(execute(conn, \"select * from geocode\"))\n",
    "\n",
    "    println(\"load data from DB.\")\n",
    "else\n",
    "    df_customer = CSV.read(\"./data/customer.csv\", DataFrame)\n",
    "    df_category = CSV.read(\"./data/category.csv\", DataFrame)\n",
    "    df_product = CSV.read(\"./data/product.csv\", DataFrame)\n",
    "    df_receipt = CSV.read(\"./data/receipt.csv\", DataFrame)\n",
    "    df_store = CSV.read(\"./data/store.csv\", DataFrame)\n",
    "    df_geocode = CSV.read(\"./data/geocode.csv\", DataFrame)\n",
    "    \n",
    "    println(\"load data from csv.\")\n",
    "end"
   ]
  },
  {
   "cell_type": "markdown",
   "id": "ecbcf9a3-35ed-4574-91a2-d0f2ea7f9770",
   "metadata": {},
   "source": [
    "# 演習問題"
   ]
  },
  {
   "cell_type": "markdown",
   "id": "20dffe56-f43d-434a-92ea-eaebeec69e33",
   "metadata": {},
   "source": [
    "---\n",
    "> P-001: レシート明細データ（df_receipt）から全項目の先頭10件を表示し、どのようなデータを保有しているか目視で確認せよ。"
   ]
  },
  {
   "cell_type": "code",
   "execution_count": 4,
   "id": "ab0ec2ff-c13f-4cf5-9e3c-576e11858c16",
   "metadata": {},
   "outputs": [
    {
     "data": {
      "text/html": [
       "<div><div style = \"float: left;\"><span>10×9 DataFrame</span></div><div style = \"clear: both;\"></div></div><div class = \"data-frame\" style = \"overflow-x: scroll;\"><table class = \"data-frame\" style = \"margin-bottom: 6px;\"><thead><tr class = \"header\"><th class = \"rowNumber\" style = \"font-weight: bold; text-align: right;\">Row</th><th style = \"text-align: left;\">sales_ymd</th><th style = \"text-align: left;\">sales_epoch</th><th style = \"text-align: left;\">store_cd</th><th style = \"text-align: left;\">receipt_no</th><th style = \"text-align: left;\">receipt_sub_no</th><th style = \"text-align: left;\">customer_id</th><th style = \"text-align: left;\">product_cd</th><th style = \"text-align: left;\">quantity</th><th style = \"text-align: left;\">amount</th></tr><tr class = \"subheader headerLastRow\"><th class = \"rowNumber\" style = \"font-weight: bold; text-align: right;\"></th><th title = \"Union{Missing, Int32}\" style = \"text-align: left;\">Int32?</th><th title = \"Union{Missing, Int32}\" style = \"text-align: left;\">Int32?</th><th title = \"Union{Missing, String}\" style = \"text-align: left;\">String?</th><th title = \"Union{Missing, Int16}\" style = \"text-align: left;\">Int16?</th><th title = \"Union{Missing, Int16}\" style = \"text-align: left;\">Int16?</th><th title = \"Union{Missing, String}\" style = \"text-align: left;\">String?</th><th title = \"Union{Missing, String}\" style = \"text-align: left;\">String?</th><th title = \"Union{Missing, Int32}\" style = \"text-align: left;\">Int32?</th><th title = \"Union{Missing, Int32}\" style = \"text-align: left;\">Int32?</th></tr></thead><tbody><tr><td class = \"rowNumber\" style = \"font-weight: bold; text-align: right;\">1</td><td style = \"text-align: right;\">20181103</td><td style = \"text-align: right;\">1541203200</td><td style = \"text-align: left;\">S14006</td><td style = \"text-align: right;\">112</td><td style = \"text-align: right;\">1</td><td style = \"text-align: left;\">CS006214000001</td><td style = \"text-align: left;\">P070305012</td><td style = \"text-align: right;\">1</td><td style = \"text-align: right;\">158</td></tr><tr><td class = \"rowNumber\" style = \"font-weight: bold; text-align: right;\">2</td><td style = \"text-align: right;\">20181118</td><td style = \"text-align: right;\">1542499200</td><td style = \"text-align: left;\">S13008</td><td style = \"text-align: right;\">1132</td><td style = \"text-align: right;\">2</td><td style = \"text-align: left;\">CS008415000097</td><td style = \"text-align: left;\">P070701017</td><td style = \"text-align: right;\">1</td><td style = \"text-align: right;\">81</td></tr><tr><td class = \"rowNumber\" style = \"font-weight: bold; text-align: right;\">3</td><td style = \"text-align: right;\">20170712</td><td style = \"text-align: right;\">1499817600</td><td style = \"text-align: left;\">S14028</td><td style = \"text-align: right;\">1102</td><td style = \"text-align: right;\">1</td><td style = \"text-align: left;\">CS028414000014</td><td style = \"text-align: left;\">P060101005</td><td style = \"text-align: right;\">1</td><td style = \"text-align: right;\">170</td></tr><tr><td class = \"rowNumber\" style = \"font-weight: bold; text-align: right;\">4</td><td style = \"text-align: right;\">20190205</td><td style = \"text-align: right;\">1549324800</td><td style = \"text-align: left;\">S14042</td><td style = \"text-align: right;\">1132</td><td style = \"text-align: right;\">1</td><td style = \"text-align: left;\">ZZ000000000000</td><td style = \"text-align: left;\">P050301001</td><td style = \"text-align: right;\">1</td><td style = \"text-align: right;\">25</td></tr><tr><td class = \"rowNumber\" style = \"font-weight: bold; text-align: right;\">5</td><td style = \"text-align: right;\">20180821</td><td style = \"text-align: right;\">1534809600</td><td style = \"text-align: left;\">S14025</td><td style = \"text-align: right;\">1102</td><td style = \"text-align: right;\">2</td><td style = \"text-align: left;\">CS025415000050</td><td style = \"text-align: left;\">P060102007</td><td style = \"text-align: right;\">1</td><td style = \"text-align: right;\">90</td></tr><tr><td class = \"rowNumber\" style = \"font-weight: bold; text-align: right;\">6</td><td style = \"text-align: right;\">20190605</td><td style = \"text-align: right;\">1559692800</td><td style = \"text-align: left;\">S13003</td><td style = \"text-align: right;\">1112</td><td style = \"text-align: right;\">1</td><td style = \"text-align: left;\">CS003515000195</td><td style = \"text-align: left;\">P050102002</td><td style = \"text-align: right;\">1</td><td style = \"text-align: right;\">138</td></tr><tr><td class = \"rowNumber\" style = \"font-weight: bold; text-align: right;\">7</td><td style = \"text-align: right;\">20181205</td><td style = \"text-align: right;\">1543968000</td><td style = \"text-align: left;\">S14024</td><td style = \"text-align: right;\">1102</td><td style = \"text-align: right;\">2</td><td style = \"text-align: left;\">CS024514000042</td><td style = \"text-align: left;\">P080101005</td><td style = \"text-align: right;\">1</td><td style = \"text-align: right;\">30</td></tr><tr><td class = \"rowNumber\" style = \"font-weight: bold; text-align: right;\">8</td><td style = \"text-align: right;\">20190922</td><td style = \"text-align: right;\">1569110400</td><td style = \"text-align: left;\">S14040</td><td style = \"text-align: right;\">1102</td><td style = \"text-align: right;\">1</td><td style = \"text-align: left;\">CS040415000178</td><td style = \"text-align: left;\">P070501004</td><td style = \"text-align: right;\">1</td><td style = \"text-align: right;\">128</td></tr><tr><td class = \"rowNumber\" style = \"font-weight: bold; text-align: right;\">9</td><td style = \"text-align: right;\">20170504</td><td style = \"text-align: right;\">1493856000</td><td style = \"text-align: left;\">S13020</td><td style = \"text-align: right;\">1112</td><td style = \"text-align: right;\">2</td><td style = \"text-align: left;\">ZZ000000000000</td><td style = \"text-align: left;\">P071302010</td><td style = \"text-align: right;\">1</td><td style = \"text-align: right;\">770</td></tr><tr><td class = \"rowNumber\" style = \"font-weight: bold; text-align: right;\">10</td><td style = \"text-align: right;\">20191010</td><td style = \"text-align: right;\">1570665600</td><td style = \"text-align: left;\">S14027</td><td style = \"text-align: right;\">1102</td><td style = \"text-align: right;\">1</td><td style = \"text-align: left;\">CS027514000015</td><td style = \"text-align: left;\">P071101003</td><td style = \"text-align: right;\">1</td><td style = \"text-align: right;\">680</td></tr></tbody></table></div>"
      ],
      "text/latex": [
       "\\begin{tabular}{r|cccccccc}\n",
       "\t& sales\\_ymd & sales\\_epoch & store\\_cd & receipt\\_no & receipt\\_sub\\_no & customer\\_id & product\\_cd & \\\\\n",
       "\t\\hline\n",
       "\t& Int32? & Int32? & String? & Int16? & Int16? & String? & String? & \\\\\n",
       "\t\\hline\n",
       "\t1 & 20181103 & 1541203200 & S14006 & 112 & 1 & CS006214000001 & P070305012 & $\\dots$ \\\\\n",
       "\t2 & 20181118 & 1542499200 & S13008 & 1132 & 2 & CS008415000097 & P070701017 & $\\dots$ \\\\\n",
       "\t3 & 20170712 & 1499817600 & S14028 & 1102 & 1 & CS028414000014 & P060101005 & $\\dots$ \\\\\n",
       "\t4 & 20190205 & 1549324800 & S14042 & 1132 & 1 & ZZ000000000000 & P050301001 & $\\dots$ \\\\\n",
       "\t5 & 20180821 & 1534809600 & S14025 & 1102 & 2 & CS025415000050 & P060102007 & $\\dots$ \\\\\n",
       "\t6 & 20190605 & 1559692800 & S13003 & 1112 & 1 & CS003515000195 & P050102002 & $\\dots$ \\\\\n",
       "\t7 & 20181205 & 1543968000 & S14024 & 1102 & 2 & CS024514000042 & P080101005 & $\\dots$ \\\\\n",
       "\t8 & 20190922 & 1569110400 & S14040 & 1102 & 1 & CS040415000178 & P070501004 & $\\dots$ \\\\\n",
       "\t9 & 20170504 & 1493856000 & S13020 & 1112 & 2 & ZZ000000000000 & P071302010 & $\\dots$ \\\\\n",
       "\t10 & 20191010 & 1570665600 & S14027 & 1102 & 1 & CS027514000015 & P071101003 & $\\dots$ \\\\\n",
       "\\end{tabular}\n"
      ],
      "text/plain": [
       "\u001b[1m10×9 DataFrame\u001b[0m\n",
       "\u001b[1m Row \u001b[0m│\u001b[1m sales_ymd \u001b[0m\u001b[1m sales_epoch \u001b[0m\u001b[1m store_cd \u001b[0m\u001b[1m receipt_no \u001b[0m\u001b[1m receipt_sub_no \u001b[0m\u001b[1m customer_\u001b[0m ⋯\n",
       "     │\u001b[90m Int32?    \u001b[0m\u001b[90m Int32?      \u001b[0m\u001b[90m String?  \u001b[0m\u001b[90m Int16?     \u001b[0m\u001b[90m Int16?         \u001b[0m\u001b[90m String?  \u001b[0m ⋯\n",
       "─────┼──────────────────────────────────────────────────────────────────────────\n",
       "   1 │  20181103   1541203200  S14006           112               1  CS0062140 ⋯\n",
       "   2 │  20181118   1542499200  S13008          1132               2  CS0084150\n",
       "   3 │  20170712   1499817600  S14028          1102               1  CS0284140\n",
       "   4 │  20190205   1549324800  S14042          1132               1  ZZ0000000\n",
       "   5 │  20180821   1534809600  S14025          1102               2  CS0254150 ⋯\n",
       "   6 │  20190605   1559692800  S13003          1112               1  CS0035150\n",
       "   7 │  20181205   1543968000  S14024          1102               2  CS0245140\n",
       "   8 │  20190922   1569110400  S14040          1102               1  CS0404150\n",
       "   9 │  20170504   1493856000  S13020          1112               2  ZZ0000000 ⋯\n",
       "  10 │  20191010   1570665600  S14027          1102               1  CS0275140\n",
       "\u001b[36m                                                               4 columns omitted\u001b[0m"
      ]
     },
     "execution_count": 4,
     "metadata": {},
     "output_type": "execute_result"
    }
   ],
   "source": [
    "@linq df_receipt |> first(10)"
   ]
  },
  {
   "cell_type": "markdown",
   "id": "f14cc6d8-7d29-4f3a-9e48-6103654d72c4",
   "metadata": {},
   "source": [
    "---\n",
    "> P-002: レシート明細データ（df_receipt）から売上年月日（sales_ymd）、顧客ID（customer_id）、商品コード（product_cd）、売上金額（amount）の順に列を指定し、10件表示せよ。"
   ]
  },
  {
   "cell_type": "code",
   "execution_count": 5,
   "id": "57984038-5620-4437-89e3-cca89838ebe1",
   "metadata": {},
   "outputs": [
    {
     "data": {
      "text/html": [
       "<div><div style = \"float: left;\"><span>10×4 DataFrame</span></div><div style = \"clear: both;\"></div></div><div class = \"data-frame\" style = \"overflow-x: scroll;\"><table class = \"data-frame\" style = \"margin-bottom: 6px;\"><thead><tr class = \"header\"><th class = \"rowNumber\" style = \"font-weight: bold; text-align: right;\">Row</th><th style = \"text-align: left;\">sales_ymd</th><th style = \"text-align: left;\">customer_id</th><th style = \"text-align: left;\">product_cd</th><th style = \"text-align: left;\">amount</th></tr><tr class = \"subheader headerLastRow\"><th class = \"rowNumber\" style = \"font-weight: bold; text-align: right;\"></th><th title = \"Union{Missing, Int32}\" style = \"text-align: left;\">Int32?</th><th title = \"Union{Missing, String}\" style = \"text-align: left;\">String?</th><th title = \"Union{Missing, String}\" style = \"text-align: left;\">String?</th><th title = \"Union{Missing, Int32}\" style = \"text-align: left;\">Int32?</th></tr></thead><tbody><tr><td class = \"rowNumber\" style = \"font-weight: bold; text-align: right;\">1</td><td style = \"text-align: right;\">20181103</td><td style = \"text-align: left;\">CS006214000001</td><td style = \"text-align: left;\">P070305012</td><td style = \"text-align: right;\">158</td></tr><tr><td class = \"rowNumber\" style = \"font-weight: bold; text-align: right;\">2</td><td style = \"text-align: right;\">20181118</td><td style = \"text-align: left;\">CS008415000097</td><td style = \"text-align: left;\">P070701017</td><td style = \"text-align: right;\">81</td></tr><tr><td class = \"rowNumber\" style = \"font-weight: bold; text-align: right;\">3</td><td style = \"text-align: right;\">20170712</td><td style = \"text-align: left;\">CS028414000014</td><td style = \"text-align: left;\">P060101005</td><td style = \"text-align: right;\">170</td></tr><tr><td class = \"rowNumber\" style = \"font-weight: bold; text-align: right;\">4</td><td style = \"text-align: right;\">20190205</td><td style = \"text-align: left;\">ZZ000000000000</td><td style = \"text-align: left;\">P050301001</td><td style = \"text-align: right;\">25</td></tr><tr><td class = \"rowNumber\" style = \"font-weight: bold; text-align: right;\">5</td><td style = \"text-align: right;\">20180821</td><td style = \"text-align: left;\">CS025415000050</td><td style = \"text-align: left;\">P060102007</td><td style = \"text-align: right;\">90</td></tr><tr><td class = \"rowNumber\" style = \"font-weight: bold; text-align: right;\">6</td><td style = \"text-align: right;\">20190605</td><td style = \"text-align: left;\">CS003515000195</td><td style = \"text-align: left;\">P050102002</td><td style = \"text-align: right;\">138</td></tr><tr><td class = \"rowNumber\" style = \"font-weight: bold; text-align: right;\">7</td><td style = \"text-align: right;\">20181205</td><td style = \"text-align: left;\">CS024514000042</td><td style = \"text-align: left;\">P080101005</td><td style = \"text-align: right;\">30</td></tr><tr><td class = \"rowNumber\" style = \"font-weight: bold; text-align: right;\">8</td><td style = \"text-align: right;\">20190922</td><td style = \"text-align: left;\">CS040415000178</td><td style = \"text-align: left;\">P070501004</td><td style = \"text-align: right;\">128</td></tr><tr><td class = \"rowNumber\" style = \"font-weight: bold; text-align: right;\">9</td><td style = \"text-align: right;\">20170504</td><td style = \"text-align: left;\">ZZ000000000000</td><td style = \"text-align: left;\">P071302010</td><td style = \"text-align: right;\">770</td></tr><tr><td class = \"rowNumber\" style = \"font-weight: bold; text-align: right;\">10</td><td style = \"text-align: right;\">20191010</td><td style = \"text-align: left;\">CS027514000015</td><td style = \"text-align: left;\">P071101003</td><td style = \"text-align: right;\">680</td></tr></tbody></table></div>"
      ],
      "text/latex": [
       "\\begin{tabular}{r|cccc}\n",
       "\t& sales\\_ymd & customer\\_id & product\\_cd & amount\\\\\n",
       "\t\\hline\n",
       "\t& Int32? & String? & String? & Int32?\\\\\n",
       "\t\\hline\n",
       "\t1 & 20181103 & CS006214000001 & P070305012 & 158 \\\\\n",
       "\t2 & 20181118 & CS008415000097 & P070701017 & 81 \\\\\n",
       "\t3 & 20170712 & CS028414000014 & P060101005 & 170 \\\\\n",
       "\t4 & 20190205 & ZZ000000000000 & P050301001 & 25 \\\\\n",
       "\t5 & 20180821 & CS025415000050 & P060102007 & 90 \\\\\n",
       "\t6 & 20190605 & CS003515000195 & P050102002 & 138 \\\\\n",
       "\t7 & 20181205 & CS024514000042 & P080101005 & 30 \\\\\n",
       "\t8 & 20190922 & CS040415000178 & P070501004 & 128 \\\\\n",
       "\t9 & 20170504 & ZZ000000000000 & P071302010 & 770 \\\\\n",
       "\t10 & 20191010 & CS027514000015 & P071101003 & 680 \\\\\n",
       "\\end{tabular}\n"
      ],
      "text/plain": [
       "\u001b[1m10×4 DataFrame\u001b[0m\n",
       "\u001b[1m Row \u001b[0m│\u001b[1m sales_ymd \u001b[0m\u001b[1m customer_id    \u001b[0m\u001b[1m product_cd \u001b[0m\u001b[1m amount \u001b[0m\n",
       "     │\u001b[90m Int32?    \u001b[0m\u001b[90m String?        \u001b[0m\u001b[90m String?    \u001b[0m\u001b[90m Int32? \u001b[0m\n",
       "─────┼───────────────────────────────────────────────\n",
       "   1 │  20181103  CS006214000001  P070305012     158\n",
       "   2 │  20181118  CS008415000097  P070701017      81\n",
       "   3 │  20170712  CS028414000014  P060101005     170\n",
       "   4 │  20190205  ZZ000000000000  P050301001      25\n",
       "   5 │  20180821  CS025415000050  P060102007      90\n",
       "   6 │  20190605  CS003515000195  P050102002     138\n",
       "   7 │  20181205  CS024514000042  P080101005      30\n",
       "   8 │  20190922  CS040415000178  P070501004     128\n",
       "   9 │  20170504  ZZ000000000000  P071302010     770\n",
       "  10 │  20191010  CS027514000015  P071101003     680"
      ]
     },
     "execution_count": 5,
     "metadata": {},
     "output_type": "execute_result"
    }
   ],
   "source": [
    "@linq df_receipt |>\n",
    "    select(:sales_ymd, :customer_id, :product_cd, :amount) |>\n",
    "    first(10)"
   ]
  },
  {
   "cell_type": "markdown",
   "id": "851fef3f-8a8b-4ccf-8c1e-33b6e68e3c3f",
   "metadata": {},
   "source": [
    "---\n",
    "> P-003: レシート明細データ（df_receipt）から売上年月日（sales_ymd）、顧客ID（customer_id）、商品コード（product_cd）、売上金額（amount）の順に列を指定し、10件表示せよ。ただし、sales_ymdをsales_dateに項目名を変更して抽出すること。"
   ]
  },
  {
   "cell_type": "code",
   "execution_count": 6,
   "id": "4d6189c0-74cc-4f1b-bde2-95af5fbcacf9",
   "metadata": {},
   "outputs": [
    {
     "data": {
      "text/html": [
       "<div><div style = \"float: left;\"><span>10×4 DataFrame</span></div><div style = \"clear: both;\"></div></div><div class = \"data-frame\" style = \"overflow-x: scroll;\"><table class = \"data-frame\" style = \"margin-bottom: 6px;\"><thead><tr class = \"header\"><th class = \"rowNumber\" style = \"font-weight: bold; text-align: right;\">Row</th><th style = \"text-align: left;\">sales_date</th><th style = \"text-align: left;\">customer_id</th><th style = \"text-align: left;\">product_cd</th><th style = \"text-align: left;\">amount</th></tr><tr class = \"subheader headerLastRow\"><th class = \"rowNumber\" style = \"font-weight: bold; text-align: right;\"></th><th title = \"Union{Missing, Int32}\" style = \"text-align: left;\">Int32?</th><th title = \"Union{Missing, String}\" style = \"text-align: left;\">String?</th><th title = \"Union{Missing, String}\" style = \"text-align: left;\">String?</th><th title = \"Union{Missing, Int32}\" style = \"text-align: left;\">Int32?</th></tr></thead><tbody><tr><td class = \"rowNumber\" style = \"font-weight: bold; text-align: right;\">1</td><td style = \"text-align: right;\">20181103</td><td style = \"text-align: left;\">CS006214000001</td><td style = \"text-align: left;\">P070305012</td><td style = \"text-align: right;\">158</td></tr><tr><td class = \"rowNumber\" style = \"font-weight: bold; text-align: right;\">2</td><td style = \"text-align: right;\">20181118</td><td style = \"text-align: left;\">CS008415000097</td><td style = \"text-align: left;\">P070701017</td><td style = \"text-align: right;\">81</td></tr><tr><td class = \"rowNumber\" style = \"font-weight: bold; text-align: right;\">3</td><td style = \"text-align: right;\">20170712</td><td style = \"text-align: left;\">CS028414000014</td><td style = \"text-align: left;\">P060101005</td><td style = \"text-align: right;\">170</td></tr><tr><td class = \"rowNumber\" style = \"font-weight: bold; text-align: right;\">4</td><td style = \"text-align: right;\">20190205</td><td style = \"text-align: left;\">ZZ000000000000</td><td style = \"text-align: left;\">P050301001</td><td style = \"text-align: right;\">25</td></tr><tr><td class = \"rowNumber\" style = \"font-weight: bold; text-align: right;\">5</td><td style = \"text-align: right;\">20180821</td><td style = \"text-align: left;\">CS025415000050</td><td style = \"text-align: left;\">P060102007</td><td style = \"text-align: right;\">90</td></tr><tr><td class = \"rowNumber\" style = \"font-weight: bold; text-align: right;\">6</td><td style = \"text-align: right;\">20190605</td><td style = \"text-align: left;\">CS003515000195</td><td style = \"text-align: left;\">P050102002</td><td style = \"text-align: right;\">138</td></tr><tr><td class = \"rowNumber\" style = \"font-weight: bold; text-align: right;\">7</td><td style = \"text-align: right;\">20181205</td><td style = \"text-align: left;\">CS024514000042</td><td style = \"text-align: left;\">P080101005</td><td style = \"text-align: right;\">30</td></tr><tr><td class = \"rowNumber\" style = \"font-weight: bold; text-align: right;\">8</td><td style = \"text-align: right;\">20190922</td><td style = \"text-align: left;\">CS040415000178</td><td style = \"text-align: left;\">P070501004</td><td style = \"text-align: right;\">128</td></tr><tr><td class = \"rowNumber\" style = \"font-weight: bold; text-align: right;\">9</td><td style = \"text-align: right;\">20170504</td><td style = \"text-align: left;\">ZZ000000000000</td><td style = \"text-align: left;\">P071302010</td><td style = \"text-align: right;\">770</td></tr><tr><td class = \"rowNumber\" style = \"font-weight: bold; text-align: right;\">10</td><td style = \"text-align: right;\">20191010</td><td style = \"text-align: left;\">CS027514000015</td><td style = \"text-align: left;\">P071101003</td><td style = \"text-align: right;\">680</td></tr></tbody></table></div>"
      ],
      "text/latex": [
       "\\begin{tabular}{r|cccc}\n",
       "\t& sales\\_date & customer\\_id & product\\_cd & amount\\\\\n",
       "\t\\hline\n",
       "\t& Int32? & String? & String? & Int32?\\\\\n",
       "\t\\hline\n",
       "\t1 & 20181103 & CS006214000001 & P070305012 & 158 \\\\\n",
       "\t2 & 20181118 & CS008415000097 & P070701017 & 81 \\\\\n",
       "\t3 & 20170712 & CS028414000014 & P060101005 & 170 \\\\\n",
       "\t4 & 20190205 & ZZ000000000000 & P050301001 & 25 \\\\\n",
       "\t5 & 20180821 & CS025415000050 & P060102007 & 90 \\\\\n",
       "\t6 & 20190605 & CS003515000195 & P050102002 & 138 \\\\\n",
       "\t7 & 20181205 & CS024514000042 & P080101005 & 30 \\\\\n",
       "\t8 & 20190922 & CS040415000178 & P070501004 & 128 \\\\\n",
       "\t9 & 20170504 & ZZ000000000000 & P071302010 & 770 \\\\\n",
       "\t10 & 20191010 & CS027514000015 & P071101003 & 680 \\\\\n",
       "\\end{tabular}\n"
      ],
      "text/plain": [
       "\u001b[1m10×4 DataFrame\u001b[0m\n",
       "\u001b[1m Row \u001b[0m│\u001b[1m sales_date \u001b[0m\u001b[1m customer_id    \u001b[0m\u001b[1m product_cd \u001b[0m\u001b[1m amount \u001b[0m\n",
       "     │\u001b[90m Int32?     \u001b[0m\u001b[90m String?        \u001b[0m\u001b[90m String?    \u001b[0m\u001b[90m Int32? \u001b[0m\n",
       "─────┼────────────────────────────────────────────────\n",
       "   1 │   20181103  CS006214000001  P070305012     158\n",
       "   2 │   20181118  CS008415000097  P070701017      81\n",
       "   3 │   20170712  CS028414000014  P060101005     170\n",
       "   4 │   20190205  ZZ000000000000  P050301001      25\n",
       "   5 │   20180821  CS025415000050  P060102007      90\n",
       "   6 │   20190605  CS003515000195  P050102002     138\n",
       "   7 │   20181205  CS024514000042  P080101005      30\n",
       "   8 │   20190922  CS040415000178  P070501004     128\n",
       "   9 │   20170504  ZZ000000000000  P071302010     770\n",
       "  10 │   20191010  CS027514000015  P071101003     680"
      ]
     },
     "execution_count": 6,
     "metadata": {},
     "output_type": "execute_result"
    }
   ],
   "source": [
    "# @linq df_receipt |>\n",
    "#     select(:sales_ymd, :customer_id, :product_cd, :amount) |>\n",
    "#     rename(:sales_ymd => :sales_date) |>\n",
    "#     first(10)\n",
    "\n",
    "# 別解. select で rename も可能\n",
    "@chain df_receipt begin\n",
    "    select(:sales_ymd => :sales_date, :customer_id, :product_cd, :amount)\n",
    "    first(10)\n",
    "end"
   ]
  },
  {
   "cell_type": "markdown",
   "id": "ab248647-f5f9-4035-9982-04a9567b3c0c",
   "metadata": {},
   "source": [
    "---\n",
    "> P-004: レシート明細データ（df_receipt）から売上日（sales_ymd）、顧客ID（customer_id）、商品コード（product_cd）、売上金額（amount）の順に列を指定し、以下の条件を満たすデータを抽出せよ。\n",
    "> - 顧客ID（customer_id）が\"CS018205000001\""
   ]
  },
  {
   "cell_type": "code",
   "execution_count": 7,
   "id": "2c13e4de-fa45-4394-9dba-a279118942fc",
   "metadata": {},
   "outputs": [
    {
     "data": {
      "text/html": [
       "<div><div style = \"float: left;\"><span>12×4 DataFrame</span></div><div style = \"clear: both;\"></div></div><div class = \"data-frame\" style = \"overflow-x: scroll;\"><table class = \"data-frame\" style = \"margin-bottom: 6px;\"><thead><tr class = \"header\"><th class = \"rowNumber\" style = \"font-weight: bold; text-align: right;\">Row</th><th style = \"text-align: left;\">sales_ymd</th><th style = \"text-align: left;\">customer_id</th><th style = \"text-align: left;\">product_cd</th><th style = \"text-align: left;\">amount</th></tr><tr class = \"subheader headerLastRow\"><th class = \"rowNumber\" style = \"font-weight: bold; text-align: right;\"></th><th title = \"Union{Missing, Int32}\" style = \"text-align: left;\">Int32?</th><th title = \"Union{Missing, String}\" style = \"text-align: left;\">String?</th><th title = \"Union{Missing, String}\" style = \"text-align: left;\">String?</th><th title = \"Union{Missing, Int32}\" style = \"text-align: left;\">Int32?</th></tr></thead><tbody><tr><td class = \"rowNumber\" style = \"font-weight: bold; text-align: right;\">1</td><td style = \"text-align: right;\">20180911</td><td style = \"text-align: left;\">CS018205000001</td><td style = \"text-align: left;\">P071401012</td><td style = \"text-align: right;\">2200</td></tr><tr><td class = \"rowNumber\" style = \"font-weight: bold; text-align: right;\">2</td><td style = \"text-align: right;\">20180414</td><td style = \"text-align: left;\">CS018205000001</td><td style = \"text-align: left;\">P060104007</td><td style = \"text-align: right;\">600</td></tr><tr><td class = \"rowNumber\" style = \"font-weight: bold; text-align: right;\">3</td><td style = \"text-align: right;\">20170614</td><td style = \"text-align: left;\">CS018205000001</td><td style = \"text-align: left;\">P050206001</td><td style = \"text-align: right;\">990</td></tr><tr><td class = \"rowNumber\" style = \"font-weight: bold; text-align: right;\">4</td><td style = \"text-align: right;\">20170614</td><td style = \"text-align: left;\">CS018205000001</td><td style = \"text-align: left;\">P060702015</td><td style = \"text-align: right;\">108</td></tr><tr><td class = \"rowNumber\" style = \"font-weight: bold; text-align: right;\">5</td><td style = \"text-align: right;\">20190216</td><td style = \"text-align: left;\">CS018205000001</td><td style = \"text-align: left;\">P071005024</td><td style = \"text-align: right;\">102</td></tr><tr><td class = \"rowNumber\" style = \"font-weight: bold; text-align: right;\">6</td><td style = \"text-align: right;\">20180414</td><td style = \"text-align: left;\">CS018205000001</td><td style = \"text-align: left;\">P071101002</td><td style = \"text-align: right;\">278</td></tr><tr><td class = \"rowNumber\" style = \"font-weight: bold; text-align: right;\">7</td><td style = \"text-align: right;\">20190226</td><td style = \"text-align: left;\">CS018205000001</td><td style = \"text-align: left;\">P070902035</td><td style = \"text-align: right;\">168</td></tr><tr><td class = \"rowNumber\" style = \"font-weight: bold; text-align: right;\">8</td><td style = \"text-align: right;\">20190924</td><td style = \"text-align: left;\">CS018205000001</td><td style = \"text-align: left;\">P060805001</td><td style = \"text-align: right;\">495</td></tr><tr><td class = \"rowNumber\" style = \"font-weight: bold; text-align: right;\">9</td><td style = \"text-align: right;\">20190226</td><td style = \"text-align: left;\">CS018205000001</td><td style = \"text-align: left;\">P071401020</td><td style = \"text-align: right;\">2200</td></tr><tr><td class = \"rowNumber\" style = \"font-weight: bold; text-align: right;\">10</td><td style = \"text-align: right;\">20180911</td><td style = \"text-align: left;\">CS018205000001</td><td style = \"text-align: left;\">P071401005</td><td style = \"text-align: right;\">1100</td></tr><tr><td class = \"rowNumber\" style = \"font-weight: bold; text-align: right;\">11</td><td style = \"text-align: right;\">20190216</td><td style = \"text-align: left;\">CS018205000001</td><td style = \"text-align: left;\">P040101002</td><td style = \"text-align: right;\">218</td></tr><tr><td class = \"rowNumber\" style = \"font-weight: bold; text-align: right;\">12</td><td style = \"text-align: right;\">20190924</td><td style = \"text-align: left;\">CS018205000001</td><td style = \"text-align: left;\">P091503001</td><td style = \"text-align: right;\">280</td></tr></tbody></table></div>"
      ],
      "text/latex": [
       "\\begin{tabular}{r|cccc}\n",
       "\t& sales\\_ymd & customer\\_id & product\\_cd & amount\\\\\n",
       "\t\\hline\n",
       "\t& Int32? & String? & String? & Int32?\\\\\n",
       "\t\\hline\n",
       "\t1 & 20180911 & CS018205000001 & P071401012 & 2200 \\\\\n",
       "\t2 & 20180414 & CS018205000001 & P060104007 & 600 \\\\\n",
       "\t3 & 20170614 & CS018205000001 & P050206001 & 990 \\\\\n",
       "\t4 & 20170614 & CS018205000001 & P060702015 & 108 \\\\\n",
       "\t5 & 20190216 & CS018205000001 & P071005024 & 102 \\\\\n",
       "\t6 & 20180414 & CS018205000001 & P071101002 & 278 \\\\\n",
       "\t7 & 20190226 & CS018205000001 & P070902035 & 168 \\\\\n",
       "\t8 & 20190924 & CS018205000001 & P060805001 & 495 \\\\\n",
       "\t9 & 20190226 & CS018205000001 & P071401020 & 2200 \\\\\n",
       "\t10 & 20180911 & CS018205000001 & P071401005 & 1100 \\\\\n",
       "\t11 & 20190216 & CS018205000001 & P040101002 & 218 \\\\\n",
       "\t12 & 20190924 & CS018205000001 & P091503001 & 280 \\\\\n",
       "\\end{tabular}\n"
      ],
      "text/plain": [
       "\u001b[1m12×4 DataFrame\u001b[0m\n",
       "\u001b[1m Row \u001b[0m│\u001b[1m sales_ymd \u001b[0m\u001b[1m customer_id    \u001b[0m\u001b[1m product_cd \u001b[0m\u001b[1m amount \u001b[0m\n",
       "     │\u001b[90m Int32?    \u001b[0m\u001b[90m String?        \u001b[0m\u001b[90m String?    \u001b[0m\u001b[90m Int32? \u001b[0m\n",
       "─────┼───────────────────────────────────────────────\n",
       "   1 │  20180911  CS018205000001  P071401012    2200\n",
       "   2 │  20180414  CS018205000001  P060104007     600\n",
       "   3 │  20170614  CS018205000001  P050206001     990\n",
       "   4 │  20170614  CS018205000001  P060702015     108\n",
       "   5 │  20190216  CS018205000001  P071005024     102\n",
       "   6 │  20180414  CS018205000001  P071101002     278\n",
       "   7 │  20190226  CS018205000001  P070902035     168\n",
       "   8 │  20190924  CS018205000001  P060805001     495\n",
       "   9 │  20190226  CS018205000001  P071401020    2200\n",
       "  10 │  20180911  CS018205000001  P071401005    1100\n",
       "  11 │  20190216  CS018205000001  P040101002     218\n",
       "  12 │  20190924  CS018205000001  P091503001     280"
      ]
     },
     "execution_count": 7,
     "metadata": {},
     "output_type": "execute_result"
    }
   ],
   "source": [
    "@linq df_receipt |>\n",
    "    select(:sales_ymd, :customer_id, :product_cd, :amount) |>\n",
    "    where(:customer_id .== \"CS018205000001\")"
   ]
  },
  {
   "cell_type": "markdown",
   "id": "44efbe66-bbea-43f4-ac94-932241d339b5",
   "metadata": {},
   "source": [
    "---\n",
    "> P-005: レシート明細データ（df_receipt）から売上日（sales_ymd）、顧客ID（customer_id）、商品コード（product_cd）、売上金額（amount）の順に列を指定し、以下の全ての条件を満たすデータを抽出せよ。\n",
    "> - 顧客ID（customer_id）が\"CS018205000001\"\n",
    "> - 売上金額（amount）が1,000以上"
   ]
  },
  {
   "cell_type": "code",
   "execution_count": 8,
   "id": "a52997d2-2a07-4042-ab83-ea5a6459bca5",
   "metadata": {},
   "outputs": [
    {
     "data": {
      "text/html": [
       "<div><div style = \"float: left;\"><span>3×4 DataFrame</span></div><div style = \"clear: both;\"></div></div><div class = \"data-frame\" style = \"overflow-x: scroll;\"><table class = \"data-frame\" style = \"margin-bottom: 6px;\"><thead><tr class = \"header\"><th class = \"rowNumber\" style = \"font-weight: bold; text-align: right;\">Row</th><th style = \"text-align: left;\">sales_ymd</th><th style = \"text-align: left;\">customer_id</th><th style = \"text-align: left;\">product_cd</th><th style = \"text-align: left;\">amount</th></tr><tr class = \"subheader headerLastRow\"><th class = \"rowNumber\" style = \"font-weight: bold; text-align: right;\"></th><th title = \"Union{Missing, Int32}\" style = \"text-align: left;\">Int32?</th><th title = \"Union{Missing, String}\" style = \"text-align: left;\">String?</th><th title = \"Union{Missing, String}\" style = \"text-align: left;\">String?</th><th title = \"Union{Missing, Int32}\" style = \"text-align: left;\">Int32?</th></tr></thead><tbody><tr><td class = \"rowNumber\" style = \"font-weight: bold; text-align: right;\">1</td><td style = \"text-align: right;\">20180911</td><td style = \"text-align: left;\">CS018205000001</td><td style = \"text-align: left;\">P071401012</td><td style = \"text-align: right;\">2200</td></tr><tr><td class = \"rowNumber\" style = \"font-weight: bold; text-align: right;\">2</td><td style = \"text-align: right;\">20190226</td><td style = \"text-align: left;\">CS018205000001</td><td style = \"text-align: left;\">P071401020</td><td style = \"text-align: right;\">2200</td></tr><tr><td class = \"rowNumber\" style = \"font-weight: bold; text-align: right;\">3</td><td style = \"text-align: right;\">20180911</td><td style = \"text-align: left;\">CS018205000001</td><td style = \"text-align: left;\">P071401005</td><td style = \"text-align: right;\">1100</td></tr></tbody></table></div>"
      ],
      "text/latex": [
       "\\begin{tabular}{r|cccc}\n",
       "\t& sales\\_ymd & customer\\_id & product\\_cd & amount\\\\\n",
       "\t\\hline\n",
       "\t& Int32? & String? & String? & Int32?\\\\\n",
       "\t\\hline\n",
       "\t1 & 20180911 & CS018205000001 & P071401012 & 2200 \\\\\n",
       "\t2 & 20190226 & CS018205000001 & P071401020 & 2200 \\\\\n",
       "\t3 & 20180911 & CS018205000001 & P071401005 & 1100 \\\\\n",
       "\\end{tabular}\n"
      ],
      "text/plain": [
       "\u001b[1m3×4 DataFrame\u001b[0m\n",
       "\u001b[1m Row \u001b[0m│\u001b[1m sales_ymd \u001b[0m\u001b[1m customer_id    \u001b[0m\u001b[1m product_cd \u001b[0m\u001b[1m amount \u001b[0m\n",
       "     │\u001b[90m Int32?    \u001b[0m\u001b[90m String?        \u001b[0m\u001b[90m String?    \u001b[0m\u001b[90m Int32? \u001b[0m\n",
       "─────┼───────────────────────────────────────────────\n",
       "   1 │  20180911  CS018205000001  P071401012    2200\n",
       "   2 │  20190226  CS018205000001  P071401020    2200\n",
       "   3 │  20180911  CS018205000001  P071401005    1100"
      ]
     },
     "execution_count": 8,
     "metadata": {},
     "output_type": "execute_result"
    }
   ],
   "source": [
    "@linq df_receipt |>\n",
    "    select(:sales_ymd, :customer_id, :product_cd, :amount) |>\n",
    "    where(:customer_id .== \"CS018205000001\", :amount .>= 1_000)"
   ]
  },
  {
   "cell_type": "markdown",
   "id": "91a0f27b-d2c7-430c-b6fc-64228cde6fec",
   "metadata": {},
   "source": [
    "---\n",
    "> P-006: レシート明細データ（df_receipt）から売上日（sales_ymd）、顧客ID（customer_id）、商品コード（product_cd）、売上数量（quantity）、売上金額（amount）の順に列を指定し、以下の全ての条件を満たすデータを抽出せよ。\n",
    "> - 顧客ID（customer_id）が\"CS018205000001\"\n",
    "> - 売上金額（amount）が1,000以上または売上数量（quantity）が5以上"
   ]
  },
  {
   "cell_type": "code",
   "execution_count": 9,
   "id": "46af6af0-a374-46af-94eb-d6dc7ad1c12b",
   "metadata": {},
   "outputs": [
    {
     "data": {
      "text/html": [
       "<div><div style = \"float: left;\"><span>5×5 DataFrame</span></div><div style = \"clear: both;\"></div></div><div class = \"data-frame\" style = \"overflow-x: scroll;\"><table class = \"data-frame\" style = \"margin-bottom: 6px;\"><thead><tr class = \"header\"><th class = \"rowNumber\" style = \"font-weight: bold; text-align: right;\">Row</th><th style = \"text-align: left;\">sales_ymd</th><th style = \"text-align: left;\">customer_id</th><th style = \"text-align: left;\">product_cd</th><th style = \"text-align: left;\">quantity</th><th style = \"text-align: left;\">amount</th></tr><tr class = \"subheader headerLastRow\"><th class = \"rowNumber\" style = \"font-weight: bold; text-align: right;\"></th><th title = \"Union{Missing, Int32}\" style = \"text-align: left;\">Int32?</th><th title = \"Union{Missing, String}\" style = \"text-align: left;\">String?</th><th title = \"Union{Missing, String}\" style = \"text-align: left;\">String?</th><th title = \"Union{Missing, Int32}\" style = \"text-align: left;\">Int32?</th><th title = \"Union{Missing, Int32}\" style = \"text-align: left;\">Int32?</th></tr></thead><tbody><tr><td class = \"rowNumber\" style = \"font-weight: bold; text-align: right;\">1</td><td style = \"text-align: right;\">20180911</td><td style = \"text-align: left;\">CS018205000001</td><td style = \"text-align: left;\">P071401012</td><td style = \"text-align: right;\">1</td><td style = \"text-align: right;\">2200</td></tr><tr><td class = \"rowNumber\" style = \"font-weight: bold; text-align: right;\">2</td><td style = \"text-align: right;\">20180414</td><td style = \"text-align: left;\">CS018205000001</td><td style = \"text-align: left;\">P060104007</td><td style = \"text-align: right;\">6</td><td style = \"text-align: right;\">600</td></tr><tr><td class = \"rowNumber\" style = \"font-weight: bold; text-align: right;\">3</td><td style = \"text-align: right;\">20170614</td><td style = \"text-align: left;\">CS018205000001</td><td style = \"text-align: left;\">P050206001</td><td style = \"text-align: right;\">5</td><td style = \"text-align: right;\">990</td></tr><tr><td class = \"rowNumber\" style = \"font-weight: bold; text-align: right;\">4</td><td style = \"text-align: right;\">20190226</td><td style = \"text-align: left;\">CS018205000001</td><td style = \"text-align: left;\">P071401020</td><td style = \"text-align: right;\">1</td><td style = \"text-align: right;\">2200</td></tr><tr><td class = \"rowNumber\" style = \"font-weight: bold; text-align: right;\">5</td><td style = \"text-align: right;\">20180911</td><td style = \"text-align: left;\">CS018205000001</td><td style = \"text-align: left;\">P071401005</td><td style = \"text-align: right;\">1</td><td style = \"text-align: right;\">1100</td></tr></tbody></table></div>"
      ],
      "text/latex": [
       "\\begin{tabular}{r|ccccc}\n",
       "\t& sales\\_ymd & customer\\_id & product\\_cd & quantity & amount\\\\\n",
       "\t\\hline\n",
       "\t& Int32? & String? & String? & Int32? & Int32?\\\\\n",
       "\t\\hline\n",
       "\t1 & 20180911 & CS018205000001 & P071401012 & 1 & 2200 \\\\\n",
       "\t2 & 20180414 & CS018205000001 & P060104007 & 6 & 600 \\\\\n",
       "\t3 & 20170614 & CS018205000001 & P050206001 & 5 & 990 \\\\\n",
       "\t4 & 20190226 & CS018205000001 & P071401020 & 1 & 2200 \\\\\n",
       "\t5 & 20180911 & CS018205000001 & P071401005 & 1 & 1100 \\\\\n",
       "\\end{tabular}\n"
      ],
      "text/plain": [
       "\u001b[1m5×5 DataFrame\u001b[0m\n",
       "\u001b[1m Row \u001b[0m│\u001b[1m sales_ymd \u001b[0m\u001b[1m customer_id    \u001b[0m\u001b[1m product_cd \u001b[0m\u001b[1m quantity \u001b[0m\u001b[1m amount \u001b[0m\n",
       "     │\u001b[90m Int32?    \u001b[0m\u001b[90m String?        \u001b[0m\u001b[90m String?    \u001b[0m\u001b[90m Int32?   \u001b[0m\u001b[90m Int32? \u001b[0m\n",
       "─────┼─────────────────────────────────────────────────────────\n",
       "   1 │  20180911  CS018205000001  P071401012         1    2200\n",
       "   2 │  20180414  CS018205000001  P060104007         6     600\n",
       "   3 │  20170614  CS018205000001  P050206001         5     990\n",
       "   4 │  20190226  CS018205000001  P071401020         1    2200\n",
       "   5 │  20180911  CS018205000001  P071401005         1    1100"
      ]
     },
     "execution_count": 9,
     "metadata": {},
     "output_type": "execute_result"
    }
   ],
   "source": [
    "@linq df_receipt |>\n",
    "    select(:sales_ymd, :customer_id, :product_cd, :quantity, :amount) |>\n",
    "    where(:customer_id .== \"CS018205000001\", (:amount .>= 1_000).|(:quantity .>= 5))"
   ]
  },
  {
   "cell_type": "markdown",
   "id": "d9206a1e-dde2-417e-befc-7e90f3a1f489",
   "metadata": {},
   "source": [
    "---\n",
    "> P-007: レシート明細データ（df_receipt）から売上日（sales_ymd）、顧客ID（customer_id）、商品コード（product_cd）、売上金額（amount）の順に列を指定し、以下の全ての条件を満たすデータを抽出せよ。\n",
    "> - 顧客ID（customer_id）が\"CS018205000001\"\n",
    "> - 売上金額（amount）が1,000以上2,000以下"
   ]
  },
  {
   "cell_type": "code",
   "execution_count": 10,
   "id": "c8edfc26-ffd8-4f64-9b73-30ec87aa90b0",
   "metadata": {},
   "outputs": [
    {
     "data": {
      "text/html": [
       "<div><div style = \"float: left;\"><span>1×4 DataFrame</span></div><div style = \"clear: both;\"></div></div><div class = \"data-frame\" style = \"overflow-x: scroll;\"><table class = \"data-frame\" style = \"margin-bottom: 6px;\"><thead><tr class = \"header\"><th class = \"rowNumber\" style = \"font-weight: bold; text-align: right;\">Row</th><th style = \"text-align: left;\">sales_ymd</th><th style = \"text-align: left;\">customer_id</th><th style = \"text-align: left;\">product_cd</th><th style = \"text-align: left;\">amount</th></tr><tr class = \"subheader headerLastRow\"><th class = \"rowNumber\" style = \"font-weight: bold; text-align: right;\"></th><th title = \"Union{Missing, Int32}\" style = \"text-align: left;\">Int32?</th><th title = \"Union{Missing, String}\" style = \"text-align: left;\">String?</th><th title = \"Union{Missing, String}\" style = \"text-align: left;\">String?</th><th title = \"Union{Missing, Int32}\" style = \"text-align: left;\">Int32?</th></tr></thead><tbody><tr><td class = \"rowNumber\" style = \"font-weight: bold; text-align: right;\">1</td><td style = \"text-align: right;\">20180911</td><td style = \"text-align: left;\">CS018205000001</td><td style = \"text-align: left;\">P071401005</td><td style = \"text-align: right;\">1100</td></tr></tbody></table></div>"
      ],
      "text/latex": [
       "\\begin{tabular}{r|cccc}\n",
       "\t& sales\\_ymd & customer\\_id & product\\_cd & amount\\\\\n",
       "\t\\hline\n",
       "\t& Int32? & String? & String? & Int32?\\\\\n",
       "\t\\hline\n",
       "\t1 & 20180911 & CS018205000001 & P071401005 & 1100 \\\\\n",
       "\\end{tabular}\n"
      ],
      "text/plain": [
       "\u001b[1m1×4 DataFrame\u001b[0m\n",
       "\u001b[1m Row \u001b[0m│\u001b[1m sales_ymd \u001b[0m\u001b[1m customer_id    \u001b[0m\u001b[1m product_cd \u001b[0m\u001b[1m amount \u001b[0m\n",
       "     │\u001b[90m Int32?    \u001b[0m\u001b[90m String?        \u001b[0m\u001b[90m String?    \u001b[0m\u001b[90m Int32? \u001b[0m\n",
       "─────┼───────────────────────────────────────────────\n",
       "   1 │  20180911  CS018205000001  P071401005    1100"
      ]
     },
     "execution_count": 10,
     "metadata": {},
     "output_type": "execute_result"
    }
   ],
   "source": [
    "@linq df_receipt |>\n",
    "    select(:sales_ymd, :customer_id, :product_cd, :amount) |>\n",
    "    where(:customer_id .== \"CS018205000001\", 1_000 .<= :amount .<= 2_000)"
   ]
  },
  {
   "cell_type": "markdown",
   "id": "c2d4607f-a089-4860-8f0e-505d2908fc43",
   "metadata": {},
   "source": [
    "---\n",
    "> P-008: レシート明細データ（df_receipt）から売上日（sales_ymd）、顧客ID（customer_id）、商品コード（product_cd）、売上金額（amount）の順に列を指定し、以下の全ての条件を満たすデータを抽出せよ。\n",
    "> - 顧客ID（customer_id）が\"CS018205000001\"\n",
    "> - 商品コード（product_cd）が\"P071401019\"以外"
   ]
  },
  {
   "cell_type": "code",
   "execution_count": 11,
   "id": "89be06d3-63d4-4f2d-af1f-b6bfb4428cc7",
   "metadata": {},
   "outputs": [
    {
     "data": {
      "text/html": [
       "<div><div style = \"float: left;\"><span>12×4 DataFrame</span></div><div style = \"clear: both;\"></div></div><div class = \"data-frame\" style = \"overflow-x: scroll;\"><table class = \"data-frame\" style = \"margin-bottom: 6px;\"><thead><tr class = \"header\"><th class = \"rowNumber\" style = \"font-weight: bold; text-align: right;\">Row</th><th style = \"text-align: left;\">sales_ymd</th><th style = \"text-align: left;\">customer_id</th><th style = \"text-align: left;\">product_cd</th><th style = \"text-align: left;\">amount</th></tr><tr class = \"subheader headerLastRow\"><th class = \"rowNumber\" style = \"font-weight: bold; text-align: right;\"></th><th title = \"Union{Missing, Int32}\" style = \"text-align: left;\">Int32?</th><th title = \"Union{Missing, String}\" style = \"text-align: left;\">String?</th><th title = \"Union{Missing, String}\" style = \"text-align: left;\">String?</th><th title = \"Union{Missing, Int32}\" style = \"text-align: left;\">Int32?</th></tr></thead><tbody><tr><td class = \"rowNumber\" style = \"font-weight: bold; text-align: right;\">1</td><td style = \"text-align: right;\">20180911</td><td style = \"text-align: left;\">CS018205000001</td><td style = \"text-align: left;\">P071401012</td><td style = \"text-align: right;\">2200</td></tr><tr><td class = \"rowNumber\" style = \"font-weight: bold; text-align: right;\">2</td><td style = \"text-align: right;\">20180414</td><td style = \"text-align: left;\">CS018205000001</td><td style = \"text-align: left;\">P060104007</td><td style = \"text-align: right;\">600</td></tr><tr><td class = \"rowNumber\" style = \"font-weight: bold; text-align: right;\">3</td><td style = \"text-align: right;\">20170614</td><td style = \"text-align: left;\">CS018205000001</td><td style = \"text-align: left;\">P050206001</td><td style = \"text-align: right;\">990</td></tr><tr><td class = \"rowNumber\" style = \"font-weight: bold; text-align: right;\">4</td><td style = \"text-align: right;\">20170614</td><td style = \"text-align: left;\">CS018205000001</td><td style = \"text-align: left;\">P060702015</td><td style = \"text-align: right;\">108</td></tr><tr><td class = \"rowNumber\" style = \"font-weight: bold; text-align: right;\">5</td><td style = \"text-align: right;\">20190216</td><td style = \"text-align: left;\">CS018205000001</td><td style = \"text-align: left;\">P071005024</td><td style = \"text-align: right;\">102</td></tr><tr><td class = \"rowNumber\" style = \"font-weight: bold; text-align: right;\">6</td><td style = \"text-align: right;\">20180414</td><td style = \"text-align: left;\">CS018205000001</td><td style = \"text-align: left;\">P071101002</td><td style = \"text-align: right;\">278</td></tr><tr><td class = \"rowNumber\" style = \"font-weight: bold; text-align: right;\">7</td><td style = \"text-align: right;\">20190226</td><td style = \"text-align: left;\">CS018205000001</td><td style = \"text-align: left;\">P070902035</td><td style = \"text-align: right;\">168</td></tr><tr><td class = \"rowNumber\" style = \"font-weight: bold; text-align: right;\">8</td><td style = \"text-align: right;\">20190924</td><td style = \"text-align: left;\">CS018205000001</td><td style = \"text-align: left;\">P060805001</td><td style = \"text-align: right;\">495</td></tr><tr><td class = \"rowNumber\" style = \"font-weight: bold; text-align: right;\">9</td><td style = \"text-align: right;\">20190226</td><td style = \"text-align: left;\">CS018205000001</td><td style = \"text-align: left;\">P071401020</td><td style = \"text-align: right;\">2200</td></tr><tr><td class = \"rowNumber\" style = \"font-weight: bold; text-align: right;\">10</td><td style = \"text-align: right;\">20180911</td><td style = \"text-align: left;\">CS018205000001</td><td style = \"text-align: left;\">P071401005</td><td style = \"text-align: right;\">1100</td></tr><tr><td class = \"rowNumber\" style = \"font-weight: bold; text-align: right;\">11</td><td style = \"text-align: right;\">20190216</td><td style = \"text-align: left;\">CS018205000001</td><td style = \"text-align: left;\">P040101002</td><td style = \"text-align: right;\">218</td></tr><tr><td class = \"rowNumber\" style = \"font-weight: bold; text-align: right;\">12</td><td style = \"text-align: right;\">20190924</td><td style = \"text-align: left;\">CS018205000001</td><td style = \"text-align: left;\">P091503001</td><td style = \"text-align: right;\">280</td></tr></tbody></table></div>"
      ],
      "text/latex": [
       "\\begin{tabular}{r|cccc}\n",
       "\t& sales\\_ymd & customer\\_id & product\\_cd & amount\\\\\n",
       "\t\\hline\n",
       "\t& Int32? & String? & String? & Int32?\\\\\n",
       "\t\\hline\n",
       "\t1 & 20180911 & CS018205000001 & P071401012 & 2200 \\\\\n",
       "\t2 & 20180414 & CS018205000001 & P060104007 & 600 \\\\\n",
       "\t3 & 20170614 & CS018205000001 & P050206001 & 990 \\\\\n",
       "\t4 & 20170614 & CS018205000001 & P060702015 & 108 \\\\\n",
       "\t5 & 20190216 & CS018205000001 & P071005024 & 102 \\\\\n",
       "\t6 & 20180414 & CS018205000001 & P071101002 & 278 \\\\\n",
       "\t7 & 20190226 & CS018205000001 & P070902035 & 168 \\\\\n",
       "\t8 & 20190924 & CS018205000001 & P060805001 & 495 \\\\\n",
       "\t9 & 20190226 & CS018205000001 & P071401020 & 2200 \\\\\n",
       "\t10 & 20180911 & CS018205000001 & P071401005 & 1100 \\\\\n",
       "\t11 & 20190216 & CS018205000001 & P040101002 & 218 \\\\\n",
       "\t12 & 20190924 & CS018205000001 & P091503001 & 280 \\\\\n",
       "\\end{tabular}\n"
      ],
      "text/plain": [
       "\u001b[1m12×4 DataFrame\u001b[0m\n",
       "\u001b[1m Row \u001b[0m│\u001b[1m sales_ymd \u001b[0m\u001b[1m customer_id    \u001b[0m\u001b[1m product_cd \u001b[0m\u001b[1m amount \u001b[0m\n",
       "     │\u001b[90m Int32?    \u001b[0m\u001b[90m String?        \u001b[0m\u001b[90m String?    \u001b[0m\u001b[90m Int32? \u001b[0m\n",
       "─────┼───────────────────────────────────────────────\n",
       "   1 │  20180911  CS018205000001  P071401012    2200\n",
       "   2 │  20180414  CS018205000001  P060104007     600\n",
       "   3 │  20170614  CS018205000001  P050206001     990\n",
       "   4 │  20170614  CS018205000001  P060702015     108\n",
       "   5 │  20190216  CS018205000001  P071005024     102\n",
       "   6 │  20180414  CS018205000001  P071101002     278\n",
       "   7 │  20190226  CS018205000001  P070902035     168\n",
       "   8 │  20190924  CS018205000001  P060805001     495\n",
       "   9 │  20190226  CS018205000001  P071401020    2200\n",
       "  10 │  20180911  CS018205000001  P071401005    1100\n",
       "  11 │  20190216  CS018205000001  P040101002     218\n",
       "  12 │  20190924  CS018205000001  P091503001     280"
      ]
     },
     "execution_count": 11,
     "metadata": {},
     "output_type": "execute_result"
    }
   ],
   "source": [
    "@linq df_receipt |>\n",
    "    select(:sales_ymd, :customer_id, :product_cd, :amount) |>\n",
    "    where(:customer_id .== \"CS018205000001\", :product_cd .!= \"P071401019\")"
   ]
  },
  {
   "cell_type": "markdown",
   "id": "122f7b45-c563-4ccc-ba20-5d032306b634",
   "metadata": {},
   "source": [
    "---\n",
    "> P-009: 以下の処理において、出力結果を変えずにORをANDに書き換えよ。\n",
    "> \n",
    "> `df_store.query('not(prefecture_cd == \"13\" | floor_area > 900)')`"
   ]
  },
  {
   "cell_type": "code",
   "execution_count": 12,
   "id": "f76b3025-6267-41e0-9e6c-60d7037c027a",
   "metadata": {},
   "outputs": [
    {
     "data": {
      "text/html": [
       "<div><div style = \"float: left;\"><span>3×10 DataFrame</span></div><div style = \"clear: both;\"></div></div><div class = \"data-frame\" style = \"overflow-x: scroll;\"><table class = \"data-frame\" style = \"margin-bottom: 6px;\"><thead><tr class = \"header\"><th class = \"rowNumber\" style = \"font-weight: bold; text-align: right;\">Row</th><th style = \"text-align: left;\">store_cd</th><th style = \"text-align: left;\">store_name</th><th style = \"text-align: left;\">prefecture_cd</th><th style = \"text-align: left;\">prefecture</th><th style = \"text-align: left;\">address</th><th style = \"text-align: left;\">address_kana</th><th style = \"text-align: left;\">tel_no</th><th style = \"text-align: left;\">longitude</th><th style = \"text-align: left;\">latitude</th><th style = \"text-align: left;\">floor_area</th></tr><tr class = \"subheader headerLastRow\"><th class = \"rowNumber\" style = \"font-weight: bold; text-align: right;\"></th><th title = \"Union{Missing, String}\" style = \"text-align: left;\">String?</th><th title = \"Union{Missing, String}\" style = \"text-align: left;\">String?</th><th title = \"Union{Missing, String}\" style = \"text-align: left;\">String?</th><th title = \"Union{Missing, String}\" style = \"text-align: left;\">String?</th><th title = \"Union{Missing, String}\" style = \"text-align: left;\">String?</th><th title = \"Union{Missing, String}\" style = \"text-align: left;\">String?</th><th title = \"Union{Missing, String}\" style = \"text-align: left;\">String?</th><th title = \"Union{Missing, Decimals.Decimal}\" style = \"text-align: left;\">Decimal</th><th title = \"Union{Missing, Decimals.Decimal}\" style = \"text-align: left;\">Decimal</th><th title = \"Union{Missing, Decimals.Decimal}\" style = \"text-align: left;\">Decimal</th></tr></thead><tbody><tr><td class = \"rowNumber\" style = \"font-weight: bold; text-align: right;\">1</td><td style = \"text-align: left;\">S14046</td><td style = \"text-align: left;\">北山田店</td><td style = \"text-align: left;\">14</td><td style = \"text-align: left;\">神奈川県</td><td style = \"text-align: left;\">神奈川県横浜市都筑区北山田一丁目</td><td style = \"text-align: left;\">カナガワケンヨコハマシツヅキクキタヤマタイッチョウメ</td><td style = \"text-align: left;\">045-123-4049</td><td style = \"text-align: right;\">139.5916</td><td style = \"text-align: right;\">35.56189</td><td style = \"text-align: right;\">831</td></tr><tr><td class = \"rowNumber\" style = \"font-weight: bold; text-align: right;\">2</td><td style = \"text-align: left;\">S14011</td><td style = \"text-align: left;\">日吉本町店</td><td style = \"text-align: left;\">14</td><td style = \"text-align: left;\">神奈川県</td><td style = \"text-align: left;\">神奈川県横浜市港北区日吉本町四丁目</td><td style = \"text-align: left;\">カナガワケンヨコハマシコウホククヒヨシホンチョウヨンチョウメ</td><td style = \"text-align: left;\">045-123-4033</td><td style = \"text-align: right;\">139.6316</td><td style = \"text-align: right;\">35.54655</td><td style = \"text-align: right;\">890</td></tr><tr><td class = \"rowNumber\" style = \"font-weight: bold; text-align: right;\">3</td><td style = \"text-align: left;\">S12013</td><td style = \"text-align: left;\">習志野店</td><td style = \"text-align: left;\">12</td><td style = \"text-align: left;\">千葉県</td><td style = \"text-align: left;\">千葉県習志野市芝園一丁目</td><td style = \"text-align: left;\">チバケンナラシノシシバゾノイッチョウメ</td><td style = \"text-align: left;\">047-123-4002</td><td style = \"text-align: right;\">140.022</td><td style = \"text-align: right;\">35.66122</td><td style = \"text-align: right;\">808</td></tr></tbody></table></div>"
      ],
      "text/latex": [
       "\\begin{tabular}{r|cccccc}\n",
       "\t& store\\_cd & store\\_name & prefecture\\_cd & prefecture & address & \\\\\n",
       "\t\\hline\n",
       "\t& String? & String? & String? & String? & String? & \\\\\n",
       "\t\\hline\n",
       "\t1 & S14046 & 北山田店 & 14 & 神奈川県 & 神奈川県横浜市都筑区北山田一丁目 & $\\dots$ \\\\\n",
       "\t2 & S14011 & 日吉本町店 & 14 & 神奈川県 & 神奈川県横浜市港北区日吉本町四丁目 & $\\dots$ \\\\\n",
       "\t3 & S12013 & 習志野店 & 12 & 千葉県 & 千葉県習志野市芝園一丁目 & $\\dots$ \\\\\n",
       "\\end{tabular}\n"
      ],
      "text/plain": [
       "\u001b[1m3×10 DataFrame\u001b[0m\n",
       "\u001b[1m Row \u001b[0m│\u001b[1m store_cd \u001b[0m\u001b[1m store_name \u001b[0m\u001b[1m prefecture_cd \u001b[0m\u001b[1m prefecture \u001b[0m\u001b[1m address               \u001b[0m ⋯\n",
       "     │\u001b[90m String?  \u001b[0m\u001b[90m String?    \u001b[0m\u001b[90m String?       \u001b[0m\u001b[90m String?    \u001b[0m\u001b[90m String?               \u001b[0m ⋯\n",
       "─────┼──────────────────────────────────────────────────────────────────────────\n",
       "   1 │ S14046    北山田店    14             神奈川県    神奈川県横浜市都筑区北 ⋯\n",
       "   2 │ S14011    日吉本町店  14             神奈川県    神奈川県横浜市港北区日\n",
       "   3 │ S12013    習志野店    12             千葉県      千葉県習志野市芝園一丁\n",
       "\u001b[36m                                                               6 columns omitted\u001b[0m"
      ]
     },
     "execution_count": 12,
     "metadata": {},
     "output_type": "execute_result"
    }
   ],
   "source": [
    "@linq df_store |>\n",
    "    where(:prefecture_cd .!= \"13\", :floor_area .<= 900)"
   ]
  },
  {
   "cell_type": "markdown",
   "id": "47037046-9051-438f-a4b6-3566d54519c4",
   "metadata": {},
   "source": [
    "---\n",
    "> P-010: 店舗データ（df_store）から、店舗コード（store_cd）が\"S14\"で始まるものだけ全項目抽出し、10件表示せよ。"
   ]
  },
  {
   "cell_type": "code",
   "execution_count": 13,
   "id": "0ae48b93-2ea7-40b5-9355-60d8ddfd4ee7",
   "metadata": {},
   "outputs": [
    {
     "data": {
      "text/html": [
       "<div><div style = \"float: left;\"><span>10×10 DataFrame</span></div><div style = \"clear: both;\"></div></div><div class = \"data-frame\" style = \"overflow-x: scroll;\"><table class = \"data-frame\" style = \"margin-bottom: 6px;\"><thead><tr class = \"header\"><th class = \"rowNumber\" style = \"font-weight: bold; text-align: right;\">Row</th><th style = \"text-align: left;\">store_cd</th><th style = \"text-align: left;\">store_name</th><th style = \"text-align: left;\">prefecture_cd</th><th style = \"text-align: left;\">prefecture</th><th style = \"text-align: left;\">address</th><th style = \"text-align: left;\">address_kana</th><th style = \"text-align: left;\">tel_no</th><th style = \"text-align: left;\">longitude</th><th style = \"text-align: left;\">latitude</th><th style = \"text-align: left;\">floor_area</th></tr><tr class = \"subheader headerLastRow\"><th class = \"rowNumber\" style = \"font-weight: bold; text-align: right;\"></th><th title = \"Union{Missing, String}\" style = \"text-align: left;\">String?</th><th title = \"Union{Missing, String}\" style = \"text-align: left;\">String?</th><th title = \"Union{Missing, String}\" style = \"text-align: left;\">String?</th><th title = \"Union{Missing, String}\" style = \"text-align: left;\">String?</th><th title = \"Union{Missing, String}\" style = \"text-align: left;\">String?</th><th title = \"Union{Missing, String}\" style = \"text-align: left;\">String?</th><th title = \"Union{Missing, String}\" style = \"text-align: left;\">String?</th><th title = \"Union{Missing, Decimals.Decimal}\" style = \"text-align: left;\">Decimal</th><th title = \"Union{Missing, Decimals.Decimal}\" style = \"text-align: left;\">Decimal</th><th title = \"Union{Missing, Decimals.Decimal}\" style = \"text-align: left;\">Decimal</th></tr></thead><tbody><tr><td class = \"rowNumber\" style = \"font-weight: bold; text-align: right;\">1</td><td style = \"text-align: left;\">S14010</td><td style = \"text-align: left;\">菊名店</td><td style = \"text-align: left;\">14</td><td style = \"text-align: left;\">神奈川県</td><td style = \"text-align: left;\">神奈川県横浜市港北区菊名一丁目</td><td style = \"text-align: left;\">カナガワケンヨコハマシコウホククキクナイッチョウメ</td><td style = \"text-align: left;\">045-123-4032</td><td style = \"text-align: right;\">139.6326</td><td style = \"text-align: right;\">35.50049</td><td style = \"text-align: right;\">1732</td></tr><tr><td class = \"rowNumber\" style = \"font-weight: bold; text-align: right;\">2</td><td style = \"text-align: left;\">S14033</td><td style = \"text-align: left;\">阿久和店</td><td style = \"text-align: left;\">14</td><td style = \"text-align: left;\">神奈川県</td><td style = \"text-align: left;\">神奈川県横浜市瀬谷区阿久和西一丁目</td><td style = \"text-align: left;\">カナガワケンヨコハマシセヤクアクワニシイッチョウメ</td><td style = \"text-align: left;\">045-123-4043</td><td style = \"text-align: right;\">139.4961</td><td style = \"text-align: right;\">35.45918</td><td style = \"text-align: right;\">1495</td></tr><tr><td class = \"rowNumber\" style = \"font-weight: bold; text-align: right;\">3</td><td style = \"text-align: left;\">S14036</td><td style = \"text-align: left;\">相模原中央店</td><td style = \"text-align: left;\">14</td><td style = \"text-align: left;\">神奈川県</td><td style = \"text-align: left;\">神奈川県相模原市中央二丁目</td><td style = \"text-align: left;\">カナガワケンサガミハラシチュウオウニチョウメ</td><td style = \"text-align: left;\">042-123-4045</td><td style = \"text-align: right;\">139.3716</td><td style = \"text-align: right;\">35.57327</td><td style = \"text-align: right;\">1679</td></tr><tr><td class = \"rowNumber\" style = \"font-weight: bold; text-align: right;\">4</td><td style = \"text-align: left;\">S14040</td><td style = \"text-align: left;\">長津田店</td><td style = \"text-align: left;\">14</td><td style = \"text-align: left;\">神奈川県</td><td style = \"text-align: left;\">神奈川県横浜市緑区長津田みなみ台五丁目</td><td style = \"text-align: left;\">カナガワケンヨコハマシミドリクナガツタミナミダイゴチョウメ</td><td style = \"text-align: left;\">045-123-4046</td><td style = \"text-align: right;\">139.4994</td><td style = \"text-align: right;\">35.52398</td><td style = \"text-align: right;\">1548</td></tr><tr><td class = \"rowNumber\" style = \"font-weight: bold; text-align: right;\">5</td><td style = \"text-align: left;\">S14050</td><td style = \"text-align: left;\">阿久和西店</td><td style = \"text-align: left;\">14</td><td style = \"text-align: left;\">神奈川県</td><td style = \"text-align: left;\">神奈川県横浜市瀬谷区阿久和西一丁目</td><td style = \"text-align: left;\">カナガワケンヨコハマシセヤクアクワニシイッチョウメ</td><td style = \"text-align: left;\">045-123-4053</td><td style = \"text-align: right;\">139.4961</td><td style = \"text-align: right;\">35.45918</td><td style = \"text-align: right;\">1830</td></tr><tr><td class = \"rowNumber\" style = \"font-weight: bold; text-align: right;\">6</td><td style = \"text-align: left;\">S14028</td><td style = \"text-align: left;\">二ツ橋店</td><td style = \"text-align: left;\">14</td><td style = \"text-align: left;\">神奈川県</td><td style = \"text-align: left;\">神奈川県横浜市瀬谷区二ツ橋町</td><td style = \"text-align: left;\">カナガワケンヨコハマシセヤクフタツバシチョウ</td><td style = \"text-align: left;\">045-123-4042</td><td style = \"text-align: right;\">139.4963</td><td style = \"text-align: right;\">35.46304</td><td style = \"text-align: right;\">1574</td></tr><tr><td class = \"rowNumber\" style = \"font-weight: bold; text-align: right;\">7</td><td style = \"text-align: left;\">S14012</td><td style = \"text-align: left;\">本牧和田店</td><td style = \"text-align: left;\">14</td><td style = \"text-align: left;\">神奈川県</td><td style = \"text-align: left;\">神奈川県横浜市中区本牧和田</td><td style = \"text-align: left;\">カナガワケンヨコハマシナカクホンモクワダ</td><td style = \"text-align: left;\">045-123-4034</td><td style = \"text-align: right;\">139.6582</td><td style = \"text-align: right;\">35.42156</td><td style = \"text-align: right;\">1341</td></tr><tr><td class = \"rowNumber\" style = \"font-weight: bold; text-align: right;\">8</td><td style = \"text-align: left;\">S14046</td><td style = \"text-align: left;\">北山田店</td><td style = \"text-align: left;\">14</td><td style = \"text-align: left;\">神奈川県</td><td style = \"text-align: left;\">神奈川県横浜市都筑区北山田一丁目</td><td style = \"text-align: left;\">カナガワケンヨコハマシツヅキクキタヤマタイッチョウメ</td><td style = \"text-align: left;\">045-123-4049</td><td style = \"text-align: right;\">139.5916</td><td style = \"text-align: right;\">35.56189</td><td style = \"text-align: right;\">831</td></tr><tr><td class = \"rowNumber\" style = \"font-weight: bold; text-align: right;\">9</td><td style = \"text-align: left;\">S14022</td><td style = \"text-align: left;\">逗子店</td><td style = \"text-align: left;\">14</td><td style = \"text-align: left;\">神奈川県</td><td style = \"text-align: left;\">神奈川県逗子市逗子一丁目</td><td style = \"text-align: left;\">カナガワケンズシシズシイッチョウメ</td><td style = \"text-align: left;\">046-123-4036</td><td style = \"text-align: right;\">139.5789</td><td style = \"text-align: right;\">35.29642</td><td style = \"text-align: right;\">1838</td></tr><tr><td class = \"rowNumber\" style = \"font-weight: bold; text-align: right;\">10</td><td style = \"text-align: left;\">S14011</td><td style = \"text-align: left;\">日吉本町店</td><td style = \"text-align: left;\">14</td><td style = \"text-align: left;\">神奈川県</td><td style = \"text-align: left;\">神奈川県横浜市港北区日吉本町四丁目</td><td style = \"text-align: left;\">カナガワケンヨコハマシコウホククヒヨシホンチョウヨンチョウメ</td><td style = \"text-align: left;\">045-123-4033</td><td style = \"text-align: right;\">139.6316</td><td style = \"text-align: right;\">35.54655</td><td style = \"text-align: right;\">890</td></tr></tbody></table></div>"
      ],
      "text/latex": [
       "\\begin{tabular}{r|cccccc}\n",
       "\t& store\\_cd & store\\_name & prefecture\\_cd & prefecture & address & \\\\\n",
       "\t\\hline\n",
       "\t& String? & String? & String? & String? & String? & \\\\\n",
       "\t\\hline\n",
       "\t1 & S14010 & 菊名店 & 14 & 神奈川県 & 神奈川県横浜市港北区菊名一丁目 & $\\dots$ \\\\\n",
       "\t2 & S14033 & 阿久和店 & 14 & 神奈川県 & 神奈川県横浜市瀬谷区阿久和西一丁目 & $\\dots$ \\\\\n",
       "\t3 & S14036 & 相模原中央店 & 14 & 神奈川県 & 神奈川県相模原市中央二丁目 & $\\dots$ \\\\\n",
       "\t4 & S14040 & 長津田店 & 14 & 神奈川県 & 神奈川県横浜市緑区長津田みなみ台五丁目 & $\\dots$ \\\\\n",
       "\t5 & S14050 & 阿久和西店 & 14 & 神奈川県 & 神奈川県横浜市瀬谷区阿久和西一丁目 & $\\dots$ \\\\\n",
       "\t6 & S14028 & 二ツ橋店 & 14 & 神奈川県 & 神奈川県横浜市瀬谷区二ツ橋町 & $\\dots$ \\\\\n",
       "\t7 & S14012 & 本牧和田店 & 14 & 神奈川県 & 神奈川県横浜市中区本牧和田 & $\\dots$ \\\\\n",
       "\t8 & S14046 & 北山田店 & 14 & 神奈川県 & 神奈川県横浜市都筑区北山田一丁目 & $\\dots$ \\\\\n",
       "\t9 & S14022 & 逗子店 & 14 & 神奈川県 & 神奈川県逗子市逗子一丁目 & $\\dots$ \\\\\n",
       "\t10 & S14011 & 日吉本町店 & 14 & 神奈川県 & 神奈川県横浜市港北区日吉本町四丁目 & $\\dots$ \\\\\n",
       "\\end{tabular}\n"
      ],
      "text/plain": [
       "\u001b[1m10×10 DataFrame\u001b[0m\n",
       "\u001b[1m Row \u001b[0m│\u001b[1m store_cd \u001b[0m\u001b[1m store_name   \u001b[0m\u001b[1m prefecture_cd \u001b[0m\u001b[1m prefecture \u001b[0m\u001b[1m address             \u001b[0m ⋯\n",
       "     │\u001b[90m String?  \u001b[0m\u001b[90m String?      \u001b[0m\u001b[90m String?       \u001b[0m\u001b[90m String?    \u001b[0m\u001b[90m String?             \u001b[0m ⋯\n",
       "─────┼──────────────────────────────────────────────────────────────────────────\n",
       "   1 │ S14010    菊名店        14             神奈川県    神奈川県横浜市港北区 ⋯\n",
       "   2 │ S14033    阿久和店      14             神奈川県    神奈川県横浜市瀬谷区\n",
       "   3 │ S14036    相模原中央店  14             神奈川県    神奈川県相模原市中央\n",
       "   4 │ S14040    長津田店      14             神奈川県    神奈川県横浜市緑区長\n",
       "   5 │ S14050    阿久和西店    14             神奈川県    神奈川県横浜市瀬谷区 ⋯\n",
       "   6 │ S14028    二ツ橋店      14             神奈川県    神奈川県横浜市瀬谷区\n",
       "   7 │ S14012    本牧和田店    14             神奈川県    神奈川県横浜市中区本\n",
       "   8 │ S14046    北山田店      14             神奈川県    神奈川県横浜市都筑区\n",
       "   9 │ S14022    逗子店        14             神奈川県    神奈川県逗子市逗子一 ⋯\n",
       "  10 │ S14011    日吉本町店    14             神奈川県    神奈川県横浜市港北区\n",
       "\u001b[36m                                                               6 columns omitted\u001b[0m"
      ]
     },
     "execution_count": 13,
     "metadata": {},
     "output_type": "execute_result"
    }
   ],
   "source": [
    "@linq df_store |>\n",
    "    where(startswith.(:store_cd, \"S14\")) |>\n",
    "    first(10)"
   ]
  },
  {
   "cell_type": "markdown",
   "id": "742e4ba6-8c85-48c9-88f2-d784f79c5142",
   "metadata": {},
   "source": [
    "---\n",
    "> P-011: 顧客データ（df_customer）から顧客ID（customer_id）の末尾が1のものだけ全項目抽出し、10件表示せよ。"
   ]
  },
  {
   "cell_type": "code",
   "execution_count": 14,
   "id": "20612b36-88fd-4f01-b70a-3a26025ce9f3",
   "metadata": {},
   "outputs": [
    {
     "data": {
      "text/html": [
       "<div><div style = \"float: left;\"><span>10×11 DataFrame</span></div><div style = \"clear: both;\"></div></div><div class = \"data-frame\" style = \"overflow-x: scroll;\"><table class = \"data-frame\" style = \"margin-bottom: 6px;\"><thead><tr class = \"header\"><th class = \"rowNumber\" style = \"font-weight: bold; text-align: right;\">Row</th><th style = \"text-align: left;\">customer_id</th><th style = \"text-align: left;\">customer_name</th><th style = \"text-align: left;\">gender_cd</th><th style = \"text-align: left;\">gender</th><th style = \"text-align: left;\">birth_day</th><th style = \"text-align: left;\">age</th><th style = \"text-align: left;\">postal_cd</th><th style = \"text-align: left;\">address</th><th style = \"text-align: left;\">application_store_cd</th><th style = \"text-align: left;\">application_date</th><th style = \"text-align: left;\">status_cd</th></tr><tr class = \"subheader headerLastRow\"><th class = \"rowNumber\" style = \"font-weight: bold; text-align: right;\"></th><th title = \"Union{Missing, String}\" style = \"text-align: left;\">String?</th><th title = \"Union{Missing, String}\" style = \"text-align: left;\">String?</th><th title = \"Union{Missing, String}\" style = \"text-align: left;\">String?</th><th title = \"Union{Missing, String}\" style = \"text-align: left;\">String?</th><th title = \"Union{Missing, Date}\" style = \"text-align: left;\">Date?</th><th title = \"Union{Missing, Int32}\" style = \"text-align: left;\">Int32?</th><th title = \"Union{Missing, String}\" style = \"text-align: left;\">String?</th><th title = \"Union{Missing, String}\" style = \"text-align: left;\">String?</th><th title = \"Union{Missing, String}\" style = \"text-align: left;\">String?</th><th title = \"Union{Missing, String}\" style = \"text-align: left;\">String?</th><th title = \"Union{Missing, String}\" style = \"text-align: left;\">String?</th></tr></thead><tbody><tr><td class = \"rowNumber\" style = \"font-weight: bold; text-align: right;\">1</td><td style = \"text-align: left;\">CS037613000071</td><td style = \"text-align: left;\">六角 雅彦</td><td style = \"text-align: left;\">9</td><td style = \"text-align: left;\">不明</td><td style = \"text-align: left;\">1952-04-01</td><td style = \"text-align: right;\">66</td><td style = \"text-align: left;\">136-0076</td><td style = \"text-align: left;\">東京都江東区南砂**********</td><td style = \"text-align: left;\">S13037</td><td style = \"text-align: left;\">20150414</td><td style = \"text-align: left;\">0-00000000-0</td></tr><tr><td class = \"rowNumber\" style = \"font-weight: bold; text-align: right;\">2</td><td style = \"text-align: left;\">CS028811000001</td><td style = \"text-align: left;\">堀井 かおり</td><td style = \"text-align: left;\">1</td><td style = \"text-align: left;\">女性</td><td style = \"text-align: left;\">1933-03-27</td><td style = \"text-align: right;\">86</td><td style = \"text-align: left;\">245-0016</td><td style = \"text-align: left;\">神奈川県横浜市泉区和泉町**********</td><td style = \"text-align: left;\">S14028</td><td style = \"text-align: left;\">20160115</td><td style = \"text-align: left;\">0-00000000-0</td></tr><tr><td class = \"rowNumber\" style = \"font-weight: bold; text-align: right;\">3</td><td style = \"text-align: left;\">CS040412000191</td><td style = \"text-align: left;\">川井 郁恵</td><td style = \"text-align: left;\">1</td><td style = \"text-align: left;\">女性</td><td style = \"text-align: left;\">1977-01-05</td><td style = \"text-align: right;\">42</td><td style = \"text-align: left;\">226-0021</td><td style = \"text-align: left;\">神奈川県横浜市緑区北八朔町**********</td><td style = \"text-align: left;\">S14040</td><td style = \"text-align: left;\">20151101</td><td style = \"text-align: left;\">1-20091025-4</td></tr><tr><td class = \"rowNumber\" style = \"font-weight: bold; text-align: right;\">4</td><td style = \"text-align: left;\">CS028314000011</td><td style = \"text-align: left;\">小菅 あおい</td><td style = \"text-align: left;\">1</td><td style = \"text-align: left;\">女性</td><td style = \"text-align: left;\">1983-11-26</td><td style = \"text-align: right;\">35</td><td style = \"text-align: left;\">246-0038</td><td style = \"text-align: left;\">神奈川県横浜市瀬谷区宮沢**********</td><td style = \"text-align: left;\">S14028</td><td style = \"text-align: left;\">20151123</td><td style = \"text-align: left;\">1-20080426-5</td></tr><tr><td class = \"rowNumber\" style = \"font-weight: bold; text-align: right;\">5</td><td style = \"text-align: left;\">CS039212000051</td><td style = \"text-align: left;\">藤島 恵梨香</td><td style = \"text-align: left;\">1</td><td style = \"text-align: left;\">女性</td><td style = \"text-align: left;\">1997-02-03</td><td style = \"text-align: right;\">22</td><td style = \"text-align: left;\">166-0001</td><td style = \"text-align: left;\">東京都杉並区阿佐谷北**********</td><td style = \"text-align: left;\">S13039</td><td style = \"text-align: left;\">20171121</td><td style = \"text-align: left;\">1-20100215-4</td></tr><tr><td class = \"rowNumber\" style = \"font-weight: bold; text-align: right;\">6</td><td style = \"text-align: left;\">CS015412000111</td><td style = \"text-align: left;\">松居 奈月</td><td style = \"text-align: left;\">1</td><td style = \"text-align: left;\">女性</td><td style = \"text-align: left;\">1972-10-04</td><td style = \"text-align: right;\">46</td><td style = \"text-align: left;\">136-0071</td><td style = \"text-align: left;\">東京都江東区亀戸**********</td><td style = \"text-align: left;\">S13015</td><td style = \"text-align: left;\">20150629</td><td style = \"text-align: left;\">0-00000000-0</td></tr><tr><td class = \"rowNumber\" style = \"font-weight: bold; text-align: right;\">7</td><td style = \"text-align: left;\">CS004702000041</td><td style = \"text-align: left;\">野島 洋</td><td style = \"text-align: left;\">0</td><td style = \"text-align: left;\">男性</td><td style = \"text-align: left;\">1943-08-24</td><td style = \"text-align: right;\">75</td><td style = \"text-align: left;\">176-0022</td><td style = \"text-align: left;\">東京都練馬区向山**********</td><td style = \"text-align: left;\">S13004</td><td style = \"text-align: left;\">20170218</td><td style = \"text-align: left;\">0-00000000-0</td></tr><tr><td class = \"rowNumber\" style = \"font-weight: bold; text-align: right;\">8</td><td style = \"text-align: left;\">CS041515000001</td><td style = \"text-align: left;\">栗田 千夏</td><td style = \"text-align: left;\">1</td><td style = \"text-align: left;\">女性</td><td style = \"text-align: left;\">1967-01-02</td><td style = \"text-align: right;\">52</td><td style = \"text-align: left;\">206-0001</td><td style = \"text-align: left;\">東京都多摩市和田**********</td><td style = \"text-align: left;\">S13041</td><td style = \"text-align: left;\">20160422</td><td style = \"text-align: left;\">E-20100803-F</td></tr><tr><td class = \"rowNumber\" style = \"font-weight: bold; text-align: right;\">9</td><td style = \"text-align: left;\">CS029313000221</td><td style = \"text-align: left;\">北条 ひかり</td><td style = \"text-align: left;\">1</td><td style = \"text-align: left;\">女性</td><td style = \"text-align: left;\">1987-06-19</td><td style = \"text-align: right;\">31</td><td style = \"text-align: left;\">279-0011</td><td style = \"text-align: left;\">千葉県浦安市美浜**********</td><td style = \"text-align: left;\">S12029</td><td style = \"text-align: left;\">20180810</td><td style = \"text-align: left;\">0-00000000-0</td></tr><tr><td class = \"rowNumber\" style = \"font-weight: bold; text-align: right;\">10</td><td style = \"text-align: left;\">CS034312000071</td><td style = \"text-align: left;\">望月 奈央</td><td style = \"text-align: left;\">1</td><td style = \"text-align: left;\">女性</td><td style = \"text-align: left;\">1980-09-20</td><td style = \"text-align: right;\">38</td><td style = \"text-align: left;\">213-0026</td><td style = \"text-align: left;\">神奈川県川崎市高津区久末**********</td><td style = \"text-align: left;\">S14034</td><td style = \"text-align: left;\">20160106</td><td style = \"text-align: left;\">0-00000000-0</td></tr></tbody></table></div>"
      ],
      "text/latex": [
       "\\begin{tabular}{r|cccccccc}\n",
       "\t& customer\\_id & customer\\_name & gender\\_cd & gender & birth\\_day & age & postal\\_cd & \\\\\n",
       "\t\\hline\n",
       "\t& String? & String? & String? & String? & Date? & Int32? & String? & \\\\\n",
       "\t\\hline\n",
       "\t1 & CS037613000071 & 六角 雅彦 & 9 & 不明 & 1952-04-01 & 66 & 136-0076 & $\\dots$ \\\\\n",
       "\t2 & CS028811000001 & 堀井 かおり & 1 & 女性 & 1933-03-27 & 86 & 245-0016 & $\\dots$ \\\\\n",
       "\t3 & CS040412000191 & 川井 郁恵 & 1 & 女性 & 1977-01-05 & 42 & 226-0021 & $\\dots$ \\\\\n",
       "\t4 & CS028314000011 & 小菅 あおい & 1 & 女性 & 1983-11-26 & 35 & 246-0038 & $\\dots$ \\\\\n",
       "\t5 & CS039212000051 & 藤島 恵梨香 & 1 & 女性 & 1997-02-03 & 22 & 166-0001 & $\\dots$ \\\\\n",
       "\t6 & CS015412000111 & 松居 奈月 & 1 & 女性 & 1972-10-04 & 46 & 136-0071 & $\\dots$ \\\\\n",
       "\t7 & CS004702000041 & 野島 洋 & 0 & 男性 & 1943-08-24 & 75 & 176-0022 & $\\dots$ \\\\\n",
       "\t8 & CS041515000001 & 栗田 千夏 & 1 & 女性 & 1967-01-02 & 52 & 206-0001 & $\\dots$ \\\\\n",
       "\t9 & CS029313000221 & 北条 ひかり & 1 & 女性 & 1987-06-19 & 31 & 279-0011 & $\\dots$ \\\\\n",
       "\t10 & CS034312000071 & 望月 奈央 & 1 & 女性 & 1980-09-20 & 38 & 213-0026 & $\\dots$ \\\\\n",
       "\\end{tabular}\n"
      ],
      "text/plain": [
       "\u001b[1m10×11 DataFrame\u001b[0m\n",
       "\u001b[1m Row \u001b[0m│\u001b[1m customer_id    \u001b[0m\u001b[1m customer_name \u001b[0m\u001b[1m gender_cd \u001b[0m\u001b[1m gender  \u001b[0m\u001b[1m birth_day  \u001b[0m\u001b[1m age    \u001b[0m\u001b[1m \u001b[0m ⋯\n",
       "     │\u001b[90m String?        \u001b[0m\u001b[90m String?       \u001b[0m\u001b[90m String?   \u001b[0m\u001b[90m String? \u001b[0m\u001b[90m Date?      \u001b[0m\u001b[90m Int32? \u001b[0m\u001b[90m \u001b[0m ⋯\n",
       "─────┼──────────────────────────────────────────────────────────────────────────\n",
       "   1 │ CS037613000071  六角 雅彦      9          不明     1952-04-01      66   ⋯\n",
       "   2 │ CS028811000001  堀井 かおり    1          女性     1933-03-27      86\n",
       "   3 │ CS040412000191  川井 郁恵      1          女性     1977-01-05      42\n",
       "   4 │ CS028314000011  小菅 あおい    1          女性     1983-11-26      35\n",
       "   5 │ CS039212000051  藤島 恵梨香    1          女性     1997-02-03      22   ⋯\n",
       "   6 │ CS015412000111  松居 奈月      1          女性     1972-10-04      46\n",
       "   7 │ CS004702000041  野島 洋        0          男性     1943-08-24      75\n",
       "   8 │ CS041515000001  栗田 千夏      1          女性     1967-01-02      52\n",
       "   9 │ CS029313000221  北条 ひかり    1          女性     1987-06-19      31   ⋯\n",
       "  10 │ CS034312000071  望月 奈央      1          女性     1980-09-20      38\n",
       "\u001b[36m                                                               5 columns omitted\u001b[0m"
      ]
     },
     "execution_count": 14,
     "metadata": {},
     "output_type": "execute_result"
    }
   ],
   "source": [
    "@linq df_customer |>\n",
    "    where(endswith.(:customer_id, \"1\")) |>\n",
    "    first(10)"
   ]
  },
  {
   "cell_type": "markdown",
   "id": "6ab801cf-6c39-4fb1-9bdf-72b2b46ec114",
   "metadata": {},
   "source": [
    "---\n",
    "> P-012: 店舗データ（df_store）から、住所 (address) に\"横浜市\"が含まれるものだけ全項目表示せよ。"
   ]
  },
  {
   "cell_type": "code",
   "execution_count": 15,
   "id": "e3559c6f-2c62-41a6-bc28-ecef41173f51",
   "metadata": {},
   "outputs": [
    {
     "data": {
      "text/html": [
       "<div><div style = \"float: left;\"><span>11×10 DataFrame</span></div><div style = \"clear: both;\"></div></div><div class = \"data-frame\" style = \"overflow-x: scroll;\"><table class = \"data-frame\" style = \"margin-bottom: 6px;\"><thead><tr class = \"header\"><th class = \"rowNumber\" style = \"font-weight: bold; text-align: right;\">Row</th><th style = \"text-align: left;\">store_cd</th><th style = \"text-align: left;\">store_name</th><th style = \"text-align: left;\">prefecture_cd</th><th style = \"text-align: left;\">prefecture</th><th style = \"text-align: left;\">address</th><th style = \"text-align: left;\">address_kana</th><th style = \"text-align: left;\">tel_no</th><th style = \"text-align: left;\">longitude</th><th style = \"text-align: left;\">latitude</th><th style = \"text-align: left;\">floor_area</th></tr><tr class = \"subheader headerLastRow\"><th class = \"rowNumber\" style = \"font-weight: bold; text-align: right;\"></th><th title = \"Union{Missing, String}\" style = \"text-align: left;\">String?</th><th title = \"Union{Missing, String}\" style = \"text-align: left;\">String?</th><th title = \"Union{Missing, String}\" style = \"text-align: left;\">String?</th><th title = \"Union{Missing, String}\" style = \"text-align: left;\">String?</th><th title = \"Union{Missing, String}\" style = \"text-align: left;\">String?</th><th title = \"Union{Missing, String}\" style = \"text-align: left;\">String?</th><th title = \"Union{Missing, String}\" style = \"text-align: left;\">String?</th><th title = \"Union{Missing, Decimals.Decimal}\" style = \"text-align: left;\">Decimal</th><th title = \"Union{Missing, Decimals.Decimal}\" style = \"text-align: left;\">Decimal</th><th title = \"Union{Missing, Decimals.Decimal}\" style = \"text-align: left;\">Decimal</th></tr></thead><tbody><tr><td class = \"rowNumber\" style = \"font-weight: bold; text-align: right;\">1</td><td style = \"text-align: left;\">S14010</td><td style = \"text-align: left;\">菊名店</td><td style = \"text-align: left;\">14</td><td style = \"text-align: left;\">神奈川県</td><td style = \"text-align: left;\">神奈川県横浜市港北区菊名一丁目</td><td style = \"text-align: left;\">カナガワケンヨコハマシコウホククキクナイッチョウメ</td><td style = \"text-align: left;\">045-123-4032</td><td style = \"text-align: right;\">139.6326</td><td style = \"text-align: right;\">35.50049</td><td style = \"text-align: right;\">1732</td></tr><tr><td class = \"rowNumber\" style = \"font-weight: bold; text-align: right;\">2</td><td style = \"text-align: left;\">S14033</td><td style = \"text-align: left;\">阿久和店</td><td style = \"text-align: left;\">14</td><td style = \"text-align: left;\">神奈川県</td><td style = \"text-align: left;\">神奈川県横浜市瀬谷区阿久和西一丁目</td><td style = \"text-align: left;\">カナガワケンヨコハマシセヤクアクワニシイッチョウメ</td><td style = \"text-align: left;\">045-123-4043</td><td style = \"text-align: right;\">139.4961</td><td style = \"text-align: right;\">35.45918</td><td style = \"text-align: right;\">1495</td></tr><tr><td class = \"rowNumber\" style = \"font-weight: bold; text-align: right;\">3</td><td style = \"text-align: left;\">S14040</td><td style = \"text-align: left;\">長津田店</td><td style = \"text-align: left;\">14</td><td style = \"text-align: left;\">神奈川県</td><td style = \"text-align: left;\">神奈川県横浜市緑区長津田みなみ台五丁目</td><td style = \"text-align: left;\">カナガワケンヨコハマシミドリクナガツタミナミダイゴチョウメ</td><td style = \"text-align: left;\">045-123-4046</td><td style = \"text-align: right;\">139.4994</td><td style = \"text-align: right;\">35.52398</td><td style = \"text-align: right;\">1548</td></tr><tr><td class = \"rowNumber\" style = \"font-weight: bold; text-align: right;\">4</td><td style = \"text-align: left;\">S14050</td><td style = \"text-align: left;\">阿久和西店</td><td style = \"text-align: left;\">14</td><td style = \"text-align: left;\">神奈川県</td><td style = \"text-align: left;\">神奈川県横浜市瀬谷区阿久和西一丁目</td><td style = \"text-align: left;\">カナガワケンヨコハマシセヤクアクワニシイッチョウメ</td><td style = \"text-align: left;\">045-123-4053</td><td style = \"text-align: right;\">139.4961</td><td style = \"text-align: right;\">35.45918</td><td style = \"text-align: right;\">1830</td></tr><tr><td class = \"rowNumber\" style = \"font-weight: bold; text-align: right;\">5</td><td style = \"text-align: left;\">S14028</td><td style = \"text-align: left;\">二ツ橋店</td><td style = \"text-align: left;\">14</td><td style = \"text-align: left;\">神奈川県</td><td style = \"text-align: left;\">神奈川県横浜市瀬谷区二ツ橋町</td><td style = \"text-align: left;\">カナガワケンヨコハマシセヤクフタツバシチョウ</td><td style = \"text-align: left;\">045-123-4042</td><td style = \"text-align: right;\">139.4963</td><td style = \"text-align: right;\">35.46304</td><td style = \"text-align: right;\">1574</td></tr><tr><td class = \"rowNumber\" style = \"font-weight: bold; text-align: right;\">6</td><td style = \"text-align: left;\">S14012</td><td style = \"text-align: left;\">本牧和田店</td><td style = \"text-align: left;\">14</td><td style = \"text-align: left;\">神奈川県</td><td style = \"text-align: left;\">神奈川県横浜市中区本牧和田</td><td style = \"text-align: left;\">カナガワケンヨコハマシナカクホンモクワダ</td><td style = \"text-align: left;\">045-123-4034</td><td style = \"text-align: right;\">139.6582</td><td style = \"text-align: right;\">35.42156</td><td style = \"text-align: right;\">1341</td></tr><tr><td class = \"rowNumber\" style = \"font-weight: bold; text-align: right;\">7</td><td style = \"text-align: left;\">S14046</td><td style = \"text-align: left;\">北山田店</td><td style = \"text-align: left;\">14</td><td style = \"text-align: left;\">神奈川県</td><td style = \"text-align: left;\">神奈川県横浜市都筑区北山田一丁目</td><td style = \"text-align: left;\">カナガワケンヨコハマシツヅキクキタヤマタイッチョウメ</td><td style = \"text-align: left;\">045-123-4049</td><td style = \"text-align: right;\">139.5916</td><td style = \"text-align: right;\">35.56189</td><td style = \"text-align: right;\">831</td></tr><tr><td class = \"rowNumber\" style = \"font-weight: bold; text-align: right;\">8</td><td style = \"text-align: left;\">S14011</td><td style = \"text-align: left;\">日吉本町店</td><td style = \"text-align: left;\">14</td><td style = \"text-align: left;\">神奈川県</td><td style = \"text-align: left;\">神奈川県横浜市港北区日吉本町四丁目</td><td style = \"text-align: left;\">カナガワケンヨコハマシコウホククヒヨシホンチョウヨンチョウメ</td><td style = \"text-align: left;\">045-123-4033</td><td style = \"text-align: right;\">139.6316</td><td style = \"text-align: right;\">35.54655</td><td style = \"text-align: right;\">890</td></tr><tr><td class = \"rowNumber\" style = \"font-weight: bold; text-align: right;\">9</td><td style = \"text-align: left;\">S14048</td><td style = \"text-align: left;\">中川中央店</td><td style = \"text-align: left;\">14</td><td style = \"text-align: left;\">神奈川県</td><td style = \"text-align: left;\">神奈川県横浜市都筑区中川中央二丁目</td><td style = \"text-align: left;\">カナガワケンヨコハマシツヅキクナカガワチュウオウニチョウメ</td><td style = \"text-align: left;\">045-123-4051</td><td style = \"text-align: right;\">139.5758</td><td style = \"text-align: right;\">35.54912</td><td style = \"text-align: right;\">1657</td></tr><tr><td class = \"rowNumber\" style = \"font-weight: bold; text-align: right;\">10</td><td style = \"text-align: left;\">S14042</td><td style = \"text-align: left;\">新山下店</td><td style = \"text-align: left;\">14</td><td style = \"text-align: left;\">神奈川県</td><td style = \"text-align: left;\">神奈川県横浜市中区新山下二丁目</td><td style = \"text-align: left;\">カナガワケンヨコハマシナカクシンヤマシタニチョウメ</td><td style = \"text-align: left;\">045-123-4047</td><td style = \"text-align: right;\">139.6593</td><td style = \"text-align: right;\">35.43894</td><td style = \"text-align: right;\">1044</td></tr><tr><td class = \"rowNumber\" style = \"font-weight: bold; text-align: right;\">11</td><td style = \"text-align: left;\">S14006</td><td style = \"text-align: left;\">葛が谷店</td><td style = \"text-align: left;\">14</td><td style = \"text-align: left;\">神奈川県</td><td style = \"text-align: left;\">神奈川県横浜市都筑区葛が谷</td><td style = \"text-align: left;\">カナガワケンヨコハマシツヅキククズガヤ</td><td style = \"text-align: left;\">045-123-4031</td><td style = \"text-align: right;\">139.5633</td><td style = \"text-align: right;\">35.53573</td><td style = \"text-align: right;\">1886</td></tr></tbody></table></div>"
      ],
      "text/latex": [
       "\\begin{tabular}{r|cccccc}\n",
       "\t& store\\_cd & store\\_name & prefecture\\_cd & prefecture & address & \\\\\n",
       "\t\\hline\n",
       "\t& String? & String? & String? & String? & String? & \\\\\n",
       "\t\\hline\n",
       "\t1 & S14010 & 菊名店 & 14 & 神奈川県 & 神奈川県横浜市港北区菊名一丁目 & $\\dots$ \\\\\n",
       "\t2 & S14033 & 阿久和店 & 14 & 神奈川県 & 神奈川県横浜市瀬谷区阿久和西一丁目 & $\\dots$ \\\\\n",
       "\t3 & S14040 & 長津田店 & 14 & 神奈川県 & 神奈川県横浜市緑区長津田みなみ台五丁目 & $\\dots$ \\\\\n",
       "\t4 & S14050 & 阿久和西店 & 14 & 神奈川県 & 神奈川県横浜市瀬谷区阿久和西一丁目 & $\\dots$ \\\\\n",
       "\t5 & S14028 & 二ツ橋店 & 14 & 神奈川県 & 神奈川県横浜市瀬谷区二ツ橋町 & $\\dots$ \\\\\n",
       "\t6 & S14012 & 本牧和田店 & 14 & 神奈川県 & 神奈川県横浜市中区本牧和田 & $\\dots$ \\\\\n",
       "\t7 & S14046 & 北山田店 & 14 & 神奈川県 & 神奈川県横浜市都筑区北山田一丁目 & $\\dots$ \\\\\n",
       "\t8 & S14011 & 日吉本町店 & 14 & 神奈川県 & 神奈川県横浜市港北区日吉本町四丁目 & $\\dots$ \\\\\n",
       "\t9 & S14048 & 中川中央店 & 14 & 神奈川県 & 神奈川県横浜市都筑区中川中央二丁目 & $\\dots$ \\\\\n",
       "\t10 & S14042 & 新山下店 & 14 & 神奈川県 & 神奈川県横浜市中区新山下二丁目 & $\\dots$ \\\\\n",
       "\t11 & S14006 & 葛が谷店 & 14 & 神奈川県 & 神奈川県横浜市都筑区葛が谷 & $\\dots$ \\\\\n",
       "\\end{tabular}\n"
      ],
      "text/plain": [
       "\u001b[1m11×10 DataFrame\u001b[0m\n",
       "\u001b[1m Row \u001b[0m│\u001b[1m store_cd \u001b[0m\u001b[1m store_name \u001b[0m\u001b[1m prefecture_cd \u001b[0m\u001b[1m prefecture \u001b[0m\u001b[1m address               \u001b[0m ⋯\n",
       "     │\u001b[90m String?  \u001b[0m\u001b[90m String?    \u001b[0m\u001b[90m String?       \u001b[0m\u001b[90m String?    \u001b[0m\u001b[90m String?               \u001b[0m ⋯\n",
       "─────┼──────────────────────────────────────────────────────────────────────────\n",
       "   1 │ S14010    菊名店      14             神奈川県    神奈川県横浜市港北区菊 ⋯\n",
       "   2 │ S14033    阿久和店    14             神奈川県    神奈川県横浜市瀬谷区阿\n",
       "   3 │ S14040    長津田店    14             神奈川県    神奈川県横浜市緑区長津\n",
       "   4 │ S14050    阿久和西店  14             神奈川県    神奈川県横浜市瀬谷区阿\n",
       "   5 │ S14028    二ツ橋店    14             神奈川県    神奈川県横浜市瀬谷区二 ⋯\n",
       "   6 │ S14012    本牧和田店  14             神奈川県    神奈川県横浜市中区本牧\n",
       "   7 │ S14046    北山田店    14             神奈川県    神奈川県横浜市都筑区北\n",
       "   8 │ S14011    日吉本町店  14             神奈川県    神奈川県横浜市港北区日\n",
       "   9 │ S14048    中川中央店  14             神奈川県    神奈川県横浜市都筑区中 ⋯\n",
       "  10 │ S14042    新山下店    14             神奈川県    神奈川県横浜市中区新山\n",
       "  11 │ S14006    葛が谷店    14             神奈川県    神奈川県横浜市都筑区葛\n",
       "\u001b[36m                                                               6 columns omitted\u001b[0m"
      ]
     },
     "execution_count": 15,
     "metadata": {},
     "output_type": "execute_result"
    }
   ],
   "source": [
    "@linq df_store |>\n",
    "    where(occursin.(\"横浜市\", :address))"
   ]
  },
  {
   "cell_type": "markdown",
   "id": "783fbd7e-b6fe-4519-a682-001bf7caf7e5",
   "metadata": {},
   "source": [
    "---\n",
    "> P-013: 顧客データ（df_customer）から、ステータスコード（status_cd）の先頭がアルファベットのA〜Fで始まるデータを全項目抽出し、10件表示せよ。"
   ]
  },
  {
   "cell_type": "code",
   "execution_count": 16,
   "id": "6cd7743f-e157-4fc1-82f3-d0ecaa702e66",
   "metadata": {},
   "outputs": [
    {
     "data": {
      "text/html": [
       "<div><div style = \"float: left;\"><span>10×11 DataFrame</span></div><div style = \"clear: both;\"></div></div><div class = \"data-frame\" style = \"overflow-x: scroll;\"><table class = \"data-frame\" style = \"margin-bottom: 6px;\"><thead><tr class = \"header\"><th class = \"rowNumber\" style = \"font-weight: bold; text-align: right;\">Row</th><th style = \"text-align: left;\">customer_id</th><th style = \"text-align: left;\">customer_name</th><th style = \"text-align: left;\">gender_cd</th><th style = \"text-align: left;\">gender</th><th style = \"text-align: left;\">birth_day</th><th style = \"text-align: left;\">age</th><th style = \"text-align: left;\">postal_cd</th><th style = \"text-align: left;\">address</th><th style = \"text-align: left;\">application_store_cd</th><th style = \"text-align: left;\">application_date</th><th style = \"text-align: left;\">status_cd</th></tr><tr class = \"subheader headerLastRow\"><th class = \"rowNumber\" style = \"font-weight: bold; text-align: right;\"></th><th title = \"Union{Missing, String}\" style = \"text-align: left;\">String?</th><th title = \"Union{Missing, String}\" style = \"text-align: left;\">String?</th><th title = \"Union{Missing, String}\" style = \"text-align: left;\">String?</th><th title = \"Union{Missing, String}\" style = \"text-align: left;\">String?</th><th title = \"Union{Missing, Date}\" style = \"text-align: left;\">Date?</th><th title = \"Union{Missing, Int32}\" style = \"text-align: left;\">Int32?</th><th title = \"Union{Missing, String}\" style = \"text-align: left;\">String?</th><th title = \"Union{Missing, String}\" style = \"text-align: left;\">String?</th><th title = \"Union{Missing, String}\" style = \"text-align: left;\">String?</th><th title = \"Union{Missing, String}\" style = \"text-align: left;\">String?</th><th title = \"Union{Missing, String}\" style = \"text-align: left;\">String?</th></tr></thead><tbody><tr><td class = \"rowNumber\" style = \"font-weight: bold; text-align: right;\">1</td><td style = \"text-align: left;\">CS031415000172</td><td style = \"text-align: left;\">宇多田 貴美子</td><td style = \"text-align: left;\">1</td><td style = \"text-align: left;\">女性</td><td style = \"text-align: left;\">1976-10-04</td><td style = \"text-align: right;\">42</td><td style = \"text-align: left;\">151-0053</td><td style = \"text-align: left;\">東京都渋谷区代々木**********</td><td style = \"text-align: left;\">S13031</td><td style = \"text-align: left;\">20150529</td><td style = \"text-align: left;\">D-20100325-C</td></tr><tr><td class = \"rowNumber\" style = \"font-weight: bold; text-align: right;\">2</td><td style = \"text-align: left;\">CS015414000103</td><td style = \"text-align: left;\">奥野 陽子</td><td style = \"text-align: left;\">1</td><td style = \"text-align: left;\">女性</td><td style = \"text-align: left;\">1977-08-09</td><td style = \"text-align: right;\">41</td><td style = \"text-align: left;\">136-0073</td><td style = \"text-align: left;\">東京都江東区北砂**********</td><td style = \"text-align: left;\">S13015</td><td style = \"text-align: left;\">20150722</td><td style = \"text-align: left;\">B-20100609-B</td></tr><tr><td class = \"rowNumber\" style = \"font-weight: bold; text-align: right;\">3</td><td style = \"text-align: left;\">CS011215000048</td><td style = \"text-align: left;\">芦田 沙耶</td><td style = \"text-align: left;\">1</td><td style = \"text-align: left;\">女性</td><td style = \"text-align: left;\">1992-02-01</td><td style = \"text-align: right;\">27</td><td style = \"text-align: left;\">223-0062</td><td style = \"text-align: left;\">神奈川県横浜市港北区日吉本町**********</td><td style = \"text-align: left;\">S14011</td><td style = \"text-align: left;\">20150228</td><td style = \"text-align: left;\">C-20100421-9</td></tr><tr><td class = \"rowNumber\" style = \"font-weight: bold; text-align: right;\">4</td><td style = \"text-align: left;\">CS029415000023</td><td style = \"text-align: left;\">梅田 里穂</td><td style = \"text-align: left;\">1</td><td style = \"text-align: left;\">女性</td><td style = \"text-align: left;\">1976-01-17</td><td style = \"text-align: right;\">43</td><td style = \"text-align: left;\">279-0043</td><td style = \"text-align: left;\">千葉県浦安市富士見**********</td><td style = \"text-align: left;\">S12029</td><td style = \"text-align: left;\">20150610</td><td style = \"text-align: left;\">D-20100918-E</td></tr><tr><td class = \"rowNumber\" style = \"font-weight: bold; text-align: right;\">5</td><td style = \"text-align: left;\">CS035415000029</td><td style = \"text-align: left;\">寺沢 真希</td><td style = \"text-align: left;\">9</td><td style = \"text-align: left;\">不明</td><td style = \"text-align: left;\">1977-09-27</td><td style = \"text-align: right;\">41</td><td style = \"text-align: left;\">158-0096</td><td style = \"text-align: left;\">東京都世田谷区玉川台**********</td><td style = \"text-align: left;\">S13035</td><td style = \"text-align: left;\">20141220</td><td style = \"text-align: left;\">F-20101029-F</td></tr><tr><td class = \"rowNumber\" style = \"font-weight: bold; text-align: right;\">6</td><td style = \"text-align: left;\">CS031415000106</td><td style = \"text-align: left;\">宇野 由美子</td><td style = \"text-align: left;\">1</td><td style = \"text-align: left;\">女性</td><td style = \"text-align: left;\">1970-02-26</td><td style = \"text-align: right;\">49</td><td style = \"text-align: left;\">151-0053</td><td style = \"text-align: left;\">東京都渋谷区代々木**********</td><td style = \"text-align: left;\">S13031</td><td style = \"text-align: left;\">20150201</td><td style = \"text-align: left;\">F-20100511-E</td></tr><tr><td class = \"rowNumber\" style = \"font-weight: bold; text-align: right;\">7</td><td style = \"text-align: left;\">CS029215000025</td><td style = \"text-align: left;\">石倉 美帆</td><td style = \"text-align: left;\">1</td><td style = \"text-align: left;\">女性</td><td style = \"text-align: left;\">1993-09-28</td><td style = \"text-align: right;\">25</td><td style = \"text-align: left;\">279-0022</td><td style = \"text-align: left;\">千葉県浦安市今川**********</td><td style = \"text-align: left;\">S12029</td><td style = \"text-align: left;\">20150708</td><td style = \"text-align: left;\">B-20100820-C</td></tr><tr><td class = \"rowNumber\" style = \"font-weight: bold; text-align: right;\">8</td><td style = \"text-align: left;\">CS033605000005</td><td style = \"text-align: left;\">猪股 雄太</td><td style = \"text-align: left;\">0</td><td style = \"text-align: left;\">男性</td><td style = \"text-align: left;\">1955-12-05</td><td style = \"text-align: right;\">63</td><td style = \"text-align: left;\">246-0031</td><td style = \"text-align: left;\">神奈川県横浜市瀬谷区瀬谷**********</td><td style = \"text-align: left;\">S14033</td><td style = \"text-align: left;\">20150425</td><td style = \"text-align: left;\">F-20100917-E</td></tr><tr><td class = \"rowNumber\" style = \"font-weight: bold; text-align: right;\">9</td><td style = \"text-align: left;\">CS033415000229</td><td style = \"text-align: left;\">板垣 菜々美</td><td style = \"text-align: left;\">1</td><td style = \"text-align: left;\">女性</td><td style = \"text-align: left;\">1977-11-07</td><td style = \"text-align: right;\">41</td><td style = \"text-align: left;\">246-0021</td><td style = \"text-align: left;\">神奈川県横浜市瀬谷区二ツ橋町**********</td><td style = \"text-align: left;\">S14033</td><td style = \"text-align: left;\">20150712</td><td style = \"text-align: left;\">F-20100326-E</td></tr><tr><td class = \"rowNumber\" style = \"font-weight: bold; text-align: right;\">10</td><td style = \"text-align: left;\">CS008415000145</td><td style = \"text-align: left;\">黒谷 麻緒</td><td style = \"text-align: left;\">1</td><td style = \"text-align: left;\">女性</td><td style = \"text-align: left;\">1977-06-27</td><td style = \"text-align: right;\">41</td><td style = \"text-align: left;\">157-0067</td><td style = \"text-align: left;\">東京都世田谷区喜多見**********</td><td style = \"text-align: left;\">S13008</td><td style = \"text-align: left;\">20150829</td><td style = \"text-align: left;\">F-20100622-F</td></tr></tbody></table></div>"
      ],
      "text/latex": [
       "\\begin{tabular}{r|cccccccc}\n",
       "\t& customer\\_id & customer\\_name & gender\\_cd & gender & birth\\_day & age & postal\\_cd & \\\\\n",
       "\t\\hline\n",
       "\t& String? & String? & String? & String? & Date? & Int32? & String? & \\\\\n",
       "\t\\hline\n",
       "\t1 & CS031415000172 & 宇多田 貴美子 & 1 & 女性 & 1976-10-04 & 42 & 151-0053 & $\\dots$ \\\\\n",
       "\t2 & CS015414000103 & 奥野 陽子 & 1 & 女性 & 1977-08-09 & 41 & 136-0073 & $\\dots$ \\\\\n",
       "\t3 & CS011215000048 & 芦田 沙耶 & 1 & 女性 & 1992-02-01 & 27 & 223-0062 & $\\dots$ \\\\\n",
       "\t4 & CS029415000023 & 梅田 里穂 & 1 & 女性 & 1976-01-17 & 43 & 279-0043 & $\\dots$ \\\\\n",
       "\t5 & CS035415000029 & 寺沢 真希 & 9 & 不明 & 1977-09-27 & 41 & 158-0096 & $\\dots$ \\\\\n",
       "\t6 & CS031415000106 & 宇野 由美子 & 1 & 女性 & 1970-02-26 & 49 & 151-0053 & $\\dots$ \\\\\n",
       "\t7 & CS029215000025 & 石倉 美帆 & 1 & 女性 & 1993-09-28 & 25 & 279-0022 & $\\dots$ \\\\\n",
       "\t8 & CS033605000005 & 猪股 雄太 & 0 & 男性 & 1955-12-05 & 63 & 246-0031 & $\\dots$ \\\\\n",
       "\t9 & CS033415000229 & 板垣 菜々美 & 1 & 女性 & 1977-11-07 & 41 & 246-0021 & $\\dots$ \\\\\n",
       "\t10 & CS008415000145 & 黒谷 麻緒 & 1 & 女性 & 1977-06-27 & 41 & 157-0067 & $\\dots$ \\\\\n",
       "\\end{tabular}\n"
      ],
      "text/plain": [
       "\u001b[1m10×11 DataFrame\u001b[0m\n",
       "\u001b[1m Row \u001b[0m│\u001b[1m customer_id    \u001b[0m\u001b[1m customer_name \u001b[0m\u001b[1m gender_cd \u001b[0m\u001b[1m gender  \u001b[0m\u001b[1m birth_day  \u001b[0m\u001b[1m age    \u001b[0m\u001b[1m \u001b[0m ⋯\n",
       "     │\u001b[90m String?        \u001b[0m\u001b[90m String?       \u001b[0m\u001b[90m String?   \u001b[0m\u001b[90m String? \u001b[0m\u001b[90m Date?      \u001b[0m\u001b[90m Int32? \u001b[0m\u001b[90m \u001b[0m ⋯\n",
       "─────┼──────────────────────────────────────────────────────────────────────────\n",
       "   1 │ CS031415000172  宇多田 貴美子  1          女性     1976-10-04      42   ⋯\n",
       "   2 │ CS015414000103  奥野 陽子      1          女性     1977-08-09      41\n",
       "   3 │ CS011215000048  芦田 沙耶      1          女性     1992-02-01      27\n",
       "   4 │ CS029415000023  梅田 里穂      1          女性     1976-01-17      43\n",
       "   5 │ CS035415000029  寺沢 真希      9          不明     1977-09-27      41   ⋯\n",
       "   6 │ CS031415000106  宇野 由美子    1          女性     1970-02-26      49\n",
       "   7 │ CS029215000025  石倉 美帆      1          女性     1993-09-28      25\n",
       "   8 │ CS033605000005  猪股 雄太      0          男性     1955-12-05      63\n",
       "   9 │ CS033415000229  板垣 菜々美    1          女性     1977-11-07      41   ⋯\n",
       "  10 │ CS008415000145  黒谷 麻緒      1          女性     1977-06-27      41\n",
       "\u001b[36m                                                               5 columns omitted\u001b[0m"
      ]
     },
     "execution_count": 16,
     "metadata": {},
     "output_type": "execute_result"
    }
   ],
   "source": [
    "@linq df_customer |>\n",
    "    where(occursin.(r\"^[A-F]\", :status_cd)) |>\n",
    "    first(10)"
   ]
  },
  {
   "cell_type": "markdown",
   "id": "95a93c04-0427-4748-a1e1-2f386ac0a6b6",
   "metadata": {},
   "source": [
    "---\n",
    "> P-014: 顧客データ（df_customer）から、ステータスコード（status_cd）の末尾が数字の1〜9で終わるデータを全項目抽出し、10件表示せよ。"
   ]
  },
  {
   "cell_type": "code",
   "execution_count": 17,
   "id": "adb0ed5f-86ff-4233-81e8-489e35dee2f6",
   "metadata": {},
   "outputs": [
    {
     "data": {
      "text/html": [
       "<div><div style = \"float: left;\"><span>10×11 DataFrame</span></div><div style = \"clear: both;\"></div></div><div class = \"data-frame\" style = \"overflow-x: scroll;\"><table class = \"data-frame\" style = \"margin-bottom: 6px;\"><thead><tr class = \"header\"><th class = \"rowNumber\" style = \"font-weight: bold; text-align: right;\">Row</th><th style = \"text-align: left;\">customer_id</th><th style = \"text-align: left;\">customer_name</th><th style = \"text-align: left;\">gender_cd</th><th style = \"text-align: left;\">gender</th><th style = \"text-align: left;\">birth_day</th><th style = \"text-align: left;\">age</th><th style = \"text-align: left;\">postal_cd</th><th style = \"text-align: left;\">address</th><th style = \"text-align: left;\">application_store_cd</th><th style = \"text-align: left;\">application_date</th><th style = \"text-align: left;\">status_cd</th></tr><tr class = \"subheader headerLastRow\"><th class = \"rowNumber\" style = \"font-weight: bold; text-align: right;\"></th><th title = \"Union{Missing, String}\" style = \"text-align: left;\">String?</th><th title = \"Union{Missing, String}\" style = \"text-align: left;\">String?</th><th title = \"Union{Missing, String}\" style = \"text-align: left;\">String?</th><th title = \"Union{Missing, String}\" style = \"text-align: left;\">String?</th><th title = \"Union{Missing, Date}\" style = \"text-align: left;\">Date?</th><th title = \"Union{Missing, Int32}\" style = \"text-align: left;\">Int32?</th><th title = \"Union{Missing, String}\" style = \"text-align: left;\">String?</th><th title = \"Union{Missing, String}\" style = \"text-align: left;\">String?</th><th title = \"Union{Missing, String}\" style = \"text-align: left;\">String?</th><th title = \"Union{Missing, String}\" style = \"text-align: left;\">String?</th><th title = \"Union{Missing, String}\" style = \"text-align: left;\">String?</th></tr></thead><tbody><tr><td class = \"rowNumber\" style = \"font-weight: bold; text-align: right;\">1</td><td style = \"text-align: left;\">CS001215000145</td><td style = \"text-align: left;\">田崎 美紀</td><td style = \"text-align: left;\">1</td><td style = \"text-align: left;\">女性</td><td style = \"text-align: left;\">1995-03-29</td><td style = \"text-align: right;\">24</td><td style = \"text-align: left;\">144-0055</td><td style = \"text-align: left;\">東京都大田区仲六郷**********</td><td style = \"text-align: left;\">S13001</td><td style = \"text-align: left;\">20170605</td><td style = \"text-align: left;\">6-20090929-2</td></tr><tr><td class = \"rowNumber\" style = \"font-weight: bold; text-align: right;\">2</td><td style = \"text-align: left;\">CS033513000180</td><td style = \"text-align: left;\">安斎 遥</td><td style = \"text-align: left;\">1</td><td style = \"text-align: left;\">女性</td><td style = \"text-align: left;\">1962-07-11</td><td style = \"text-align: right;\">56</td><td style = \"text-align: left;\">241-0823</td><td style = \"text-align: left;\">神奈川県横浜市旭区善部町**********</td><td style = \"text-align: left;\">S14033</td><td style = \"text-align: left;\">20150728</td><td style = \"text-align: left;\">6-20080506-5</td></tr><tr><td class = \"rowNumber\" style = \"font-weight: bold; text-align: right;\">3</td><td style = \"text-align: left;\">CS011215000048</td><td style = \"text-align: left;\">芦田 沙耶</td><td style = \"text-align: left;\">1</td><td style = \"text-align: left;\">女性</td><td style = \"text-align: left;\">1992-02-01</td><td style = \"text-align: right;\">27</td><td style = \"text-align: left;\">223-0062</td><td style = \"text-align: left;\">神奈川県横浜市港北区日吉本町**********</td><td style = \"text-align: left;\">S14011</td><td style = \"text-align: left;\">20150228</td><td style = \"text-align: left;\">C-20100421-9</td></tr><tr><td class = \"rowNumber\" style = \"font-weight: bold; text-align: right;\">4</td><td style = \"text-align: left;\">CS040412000191</td><td style = \"text-align: left;\">川井 郁恵</td><td style = \"text-align: left;\">1</td><td style = \"text-align: left;\">女性</td><td style = \"text-align: left;\">1977-01-05</td><td style = \"text-align: right;\">42</td><td style = \"text-align: left;\">226-0021</td><td style = \"text-align: left;\">神奈川県横浜市緑区北八朔町**********</td><td style = \"text-align: left;\">S14040</td><td style = \"text-align: left;\">20151101</td><td style = \"text-align: left;\">1-20091025-4</td></tr><tr><td class = \"rowNumber\" style = \"font-weight: bold; text-align: right;\">5</td><td style = \"text-align: left;\">CS009315000023</td><td style = \"text-align: left;\">皆川 文世</td><td style = \"text-align: left;\">1</td><td style = \"text-align: left;\">女性</td><td style = \"text-align: left;\">1980-04-15</td><td style = \"text-align: right;\">38</td><td style = \"text-align: left;\">154-0012</td><td style = \"text-align: left;\">東京都世田谷区駒沢**********</td><td style = \"text-align: left;\">S13009</td><td style = \"text-align: left;\">20150319</td><td style = \"text-align: left;\">5-20080322-1</td></tr><tr><td class = \"rowNumber\" style = \"font-weight: bold; text-align: right;\">6</td><td style = \"text-align: left;\">CS015315000033</td><td style = \"text-align: left;\">福士 璃奈子</td><td style = \"text-align: left;\">1</td><td style = \"text-align: left;\">女性</td><td style = \"text-align: left;\">1983-03-17</td><td style = \"text-align: right;\">36</td><td style = \"text-align: left;\">135-0043</td><td style = \"text-align: left;\">東京都江東区塩浜**********</td><td style = \"text-align: left;\">S13015</td><td style = \"text-align: left;\">20141024</td><td style = \"text-align: left;\">4-20080219-3</td></tr><tr><td class = \"rowNumber\" style = \"font-weight: bold; text-align: right;\">7</td><td style = \"text-align: left;\">CS023513000066</td><td style = \"text-align: left;\">神戸 そら</td><td style = \"text-align: left;\">1</td><td style = \"text-align: left;\">女性</td><td style = \"text-align: left;\">1961-12-17</td><td style = \"text-align: right;\">57</td><td style = \"text-align: left;\">210-0005</td><td style = \"text-align: left;\">神奈川県川崎市川崎区東田町**********</td><td style = \"text-align: left;\">S14023</td><td style = \"text-align: left;\">20150915</td><td style = \"text-align: left;\">5-20100524-9</td></tr><tr><td class = \"rowNumber\" style = \"font-weight: bold; text-align: right;\">8</td><td style = \"text-align: left;\">CS035513000134</td><td style = \"text-align: left;\">市川 美帆</td><td style = \"text-align: left;\">1</td><td style = \"text-align: left;\">女性</td><td style = \"text-align: left;\">1960-03-27</td><td style = \"text-align: right;\">59</td><td style = \"text-align: left;\">156-0053</td><td style = \"text-align: left;\">東京都世田谷区桜**********</td><td style = \"text-align: left;\">S13035</td><td style = \"text-align: left;\">20150227</td><td style = \"text-align: left;\">8-20100711-9</td></tr><tr><td class = \"rowNumber\" style = \"font-weight: bold; text-align: right;\">9</td><td style = \"text-align: left;\">CS001515000263</td><td style = \"text-align: left;\">高松 夏空</td><td style = \"text-align: left;\">1</td><td style = \"text-align: left;\">女性</td><td style = \"text-align: left;\">1962-11-09</td><td style = \"text-align: right;\">56</td><td style = \"text-align: left;\">144-0051</td><td style = \"text-align: left;\">東京都大田区西蒲田**********</td><td style = \"text-align: left;\">S13001</td><td style = \"text-align: left;\">20160812</td><td style = \"text-align: left;\">1-20100804-1</td></tr><tr><td class = \"rowNumber\" style = \"font-weight: bold; text-align: right;\">10</td><td style = \"text-align: left;\">CS040314000027</td><td style = \"text-align: left;\">鶴田 きみまろ</td><td style = \"text-align: left;\">9</td><td style = \"text-align: left;\">不明</td><td style = \"text-align: left;\">1986-03-26</td><td style = \"text-align: right;\">33</td><td style = \"text-align: left;\">226-0027</td><td style = \"text-align: left;\">神奈川県横浜市緑区長津田**********</td><td style = \"text-align: left;\">S14040</td><td style = \"text-align: left;\">20150122</td><td style = \"text-align: left;\">2-20080426-4</td></tr></tbody></table></div>"
      ],
      "text/latex": [
       "\\begin{tabular}{r|cccccccc}\n",
       "\t& customer\\_id & customer\\_name & gender\\_cd & gender & birth\\_day & age & postal\\_cd & \\\\\n",
       "\t\\hline\n",
       "\t& String? & String? & String? & String? & Date? & Int32? & String? & \\\\\n",
       "\t\\hline\n",
       "\t1 & CS001215000145 & 田崎 美紀 & 1 & 女性 & 1995-03-29 & 24 & 144-0055 & $\\dots$ \\\\\n",
       "\t2 & CS033513000180 & 安斎 遥 & 1 & 女性 & 1962-07-11 & 56 & 241-0823 & $\\dots$ \\\\\n",
       "\t3 & CS011215000048 & 芦田 沙耶 & 1 & 女性 & 1992-02-01 & 27 & 223-0062 & $\\dots$ \\\\\n",
       "\t4 & CS040412000191 & 川井 郁恵 & 1 & 女性 & 1977-01-05 & 42 & 226-0021 & $\\dots$ \\\\\n",
       "\t5 & CS009315000023 & 皆川 文世 & 1 & 女性 & 1980-04-15 & 38 & 154-0012 & $\\dots$ \\\\\n",
       "\t6 & CS015315000033 & 福士 璃奈子 & 1 & 女性 & 1983-03-17 & 36 & 135-0043 & $\\dots$ \\\\\n",
       "\t7 & CS023513000066 & 神戸 そら & 1 & 女性 & 1961-12-17 & 57 & 210-0005 & $\\dots$ \\\\\n",
       "\t8 & CS035513000134 & 市川 美帆 & 1 & 女性 & 1960-03-27 & 59 & 156-0053 & $\\dots$ \\\\\n",
       "\t9 & CS001515000263 & 高松 夏空 & 1 & 女性 & 1962-11-09 & 56 & 144-0051 & $\\dots$ \\\\\n",
       "\t10 & CS040314000027 & 鶴田 きみまろ & 9 & 不明 & 1986-03-26 & 33 & 226-0027 & $\\dots$ \\\\\n",
       "\\end{tabular}\n"
      ],
      "text/plain": [
       "\u001b[1m10×11 DataFrame\u001b[0m\n",
       "\u001b[1m Row \u001b[0m│\u001b[1m customer_id    \u001b[0m\u001b[1m customer_name \u001b[0m\u001b[1m gender_cd \u001b[0m\u001b[1m gender  \u001b[0m\u001b[1m birth_day  \u001b[0m\u001b[1m age    \u001b[0m\u001b[1m \u001b[0m ⋯\n",
       "     │\u001b[90m String?        \u001b[0m\u001b[90m String?       \u001b[0m\u001b[90m String?   \u001b[0m\u001b[90m String? \u001b[0m\u001b[90m Date?      \u001b[0m\u001b[90m Int32? \u001b[0m\u001b[90m \u001b[0m ⋯\n",
       "─────┼──────────────────────────────────────────────────────────────────────────\n",
       "   1 │ CS001215000145  田崎 美紀      1          女性     1995-03-29      24   ⋯\n",
       "   2 │ CS033513000180  安斎 遥        1          女性     1962-07-11      56\n",
       "   3 │ CS011215000048  芦田 沙耶      1          女性     1992-02-01      27\n",
       "   4 │ CS040412000191  川井 郁恵      1          女性     1977-01-05      42\n",
       "   5 │ CS009315000023  皆川 文世      1          女性     1980-04-15      38   ⋯\n",
       "   6 │ CS015315000033  福士 璃奈子    1          女性     1983-03-17      36\n",
       "   7 │ CS023513000066  神戸 そら      1          女性     1961-12-17      57\n",
       "   8 │ CS035513000134  市川 美帆      1          女性     1960-03-27      59\n",
       "   9 │ CS001515000263  高松 夏空      1          女性     1962-11-09      56   ⋯\n",
       "  10 │ CS040314000027  鶴田 きみまろ  9          不明     1986-03-26      33\n",
       "\u001b[36m                                                               5 columns omitted\u001b[0m"
      ]
     },
     "execution_count": 17,
     "metadata": {},
     "output_type": "execute_result"
    }
   ],
   "source": [
    "@linq df_customer |>\n",
    "    where(occursin.(r\".*[1-9]$\", :status_cd)) |>\n",
    "    first(10)"
   ]
  },
  {
   "cell_type": "markdown",
   "id": "05c148db-ab68-45c8-b275-f558b8a58dc7",
   "metadata": {},
   "source": [
    "---\n",
    "> P-015: 顧客データ（df_customer）から、ステータスコード（status_cd）の先頭がアルファベットのA〜Fで始まり、末尾が数字の1〜9で終わるデータを全項目抽出し、10件表示せよ。"
   ]
  },
  {
   "cell_type": "code",
   "execution_count": 18,
   "id": "00623282-b70a-4dfa-99a7-37edf0aa44a6",
   "metadata": {},
   "outputs": [
    {
     "data": {
      "text/html": [
       "<div><div style = \"float: left;\"><span>10×11 DataFrame</span></div><div style = \"clear: both;\"></div></div><div class = \"data-frame\" style = \"overflow-x: scroll;\"><table class = \"data-frame\" style = \"margin-bottom: 6px;\"><thead><tr class = \"header\"><th class = \"rowNumber\" style = \"font-weight: bold; text-align: right;\">Row</th><th style = \"text-align: left;\">customer_id</th><th style = \"text-align: left;\">customer_name</th><th style = \"text-align: left;\">gender_cd</th><th style = \"text-align: left;\">gender</th><th style = \"text-align: left;\">birth_day</th><th style = \"text-align: left;\">age</th><th style = \"text-align: left;\">postal_cd</th><th style = \"text-align: left;\">address</th><th style = \"text-align: left;\">application_store_cd</th><th style = \"text-align: left;\">application_date</th><th style = \"text-align: left;\">status_cd</th></tr><tr class = \"subheader headerLastRow\"><th class = \"rowNumber\" style = \"font-weight: bold; text-align: right;\"></th><th title = \"Union{Missing, String}\" style = \"text-align: left;\">String?</th><th title = \"Union{Missing, String}\" style = \"text-align: left;\">String?</th><th title = \"Union{Missing, String}\" style = \"text-align: left;\">String?</th><th title = \"Union{Missing, String}\" style = \"text-align: left;\">String?</th><th title = \"Union{Missing, Date}\" style = \"text-align: left;\">Date?</th><th title = \"Union{Missing, Int32}\" style = \"text-align: left;\">Int32?</th><th title = \"Union{Missing, String}\" style = \"text-align: left;\">String?</th><th title = \"Union{Missing, String}\" style = \"text-align: left;\">String?</th><th title = \"Union{Missing, String}\" style = \"text-align: left;\">String?</th><th title = \"Union{Missing, String}\" style = \"text-align: left;\">String?</th><th title = \"Union{Missing, String}\" style = \"text-align: left;\">String?</th></tr></thead><tbody><tr><td class = \"rowNumber\" style = \"font-weight: bold; text-align: right;\">1</td><td style = \"text-align: left;\">CS011215000048</td><td style = \"text-align: left;\">芦田 沙耶</td><td style = \"text-align: left;\">1</td><td style = \"text-align: left;\">女性</td><td style = \"text-align: left;\">1992-02-01</td><td style = \"text-align: right;\">27</td><td style = \"text-align: left;\">223-0062</td><td style = \"text-align: left;\">神奈川県横浜市港北区日吉本町**********</td><td style = \"text-align: left;\">S14011</td><td style = \"text-align: left;\">20150228</td><td style = \"text-align: left;\">C-20100421-9</td></tr><tr><td class = \"rowNumber\" style = \"font-weight: bold; text-align: right;\">2</td><td style = \"text-align: left;\">CS022513000105</td><td style = \"text-align: left;\">島村 貴美子</td><td style = \"text-align: left;\">1</td><td style = \"text-align: left;\">女性</td><td style = \"text-align: left;\">1962-03-12</td><td style = \"text-align: right;\">57</td><td style = \"text-align: left;\">249-0002</td><td style = \"text-align: left;\">神奈川県逗子市山の根**********</td><td style = \"text-align: left;\">S14022</td><td style = \"text-align: left;\">20150320</td><td style = \"text-align: left;\">A-20091115-7</td></tr><tr><td class = \"rowNumber\" style = \"font-weight: bold; text-align: right;\">3</td><td style = \"text-align: left;\">CS001515000096</td><td style = \"text-align: left;\">水野 陽子</td><td style = \"text-align: left;\">9</td><td style = \"text-align: left;\">不明</td><td style = \"text-align: left;\">1960-11-29</td><td style = \"text-align: right;\">58</td><td style = \"text-align: left;\">144-0053</td><td style = \"text-align: left;\">東京都大田区蒲田本町**********</td><td style = \"text-align: left;\">S13001</td><td style = \"text-align: left;\">20150614</td><td style = \"text-align: left;\">A-20100724-7</td></tr><tr><td class = \"rowNumber\" style = \"font-weight: bold; text-align: right;\">4</td><td style = \"text-align: left;\">CS013615000053</td><td style = \"text-align: left;\">西脇 季衣</td><td style = \"text-align: left;\">1</td><td style = \"text-align: left;\">女性</td><td style = \"text-align: left;\">1953-10-18</td><td style = \"text-align: right;\">65</td><td style = \"text-align: left;\">261-0026</td><td style = \"text-align: left;\">千葉県千葉市美浜区幕張西**********</td><td style = \"text-align: left;\">S12013</td><td style = \"text-align: left;\">20150128</td><td style = \"text-align: left;\">B-20100329-6</td></tr><tr><td class = \"rowNumber\" style = \"font-weight: bold; text-align: right;\">5</td><td style = \"text-align: left;\">CS020412000161</td><td style = \"text-align: left;\">小宮 薫</td><td style = \"text-align: left;\">1</td><td style = \"text-align: left;\">女性</td><td style = \"text-align: left;\">1974-05-21</td><td style = \"text-align: right;\">44</td><td style = \"text-align: left;\">174-0042</td><td style = \"text-align: left;\">東京都板橋区東坂下**********</td><td style = \"text-align: left;\">S13020</td><td style = \"text-align: left;\">20150822</td><td style = \"text-align: left;\">B-20081021-3</td></tr><tr><td class = \"rowNumber\" style = \"font-weight: bold; text-align: right;\">6</td><td style = \"text-align: left;\">CS001215000097</td><td style = \"text-align: left;\">竹中 あさみ</td><td style = \"text-align: left;\">1</td><td style = \"text-align: left;\">女性</td><td style = \"text-align: left;\">1990-07-25</td><td style = \"text-align: right;\">28</td><td style = \"text-align: left;\">146-0095</td><td style = \"text-align: left;\">東京都大田区多摩川**********</td><td style = \"text-align: left;\">S13001</td><td style = \"text-align: left;\">20170315</td><td style = \"text-align: left;\">A-20100211-2</td></tr><tr><td class = \"rowNumber\" style = \"font-weight: bold; text-align: right;\">7</td><td style = \"text-align: left;\">CS035212000007</td><td style = \"text-align: left;\">内村 恵梨香</td><td style = \"text-align: left;\">1</td><td style = \"text-align: left;\">女性</td><td style = \"text-align: left;\">1990-12-04</td><td style = \"text-align: right;\">28</td><td style = \"text-align: left;\">152-0023</td><td style = \"text-align: left;\">東京都目黒区八雲**********</td><td style = \"text-align: left;\">S13035</td><td style = \"text-align: left;\">20151013</td><td style = \"text-align: left;\">B-20101018-6</td></tr><tr><td class = \"rowNumber\" style = \"font-weight: bold; text-align: right;\">8</td><td style = \"text-align: left;\">CS002515000386</td><td style = \"text-align: left;\">野田 コウ</td><td style = \"text-align: left;\">1</td><td style = \"text-align: left;\">女性</td><td style = \"text-align: left;\">1963-05-30</td><td style = \"text-align: right;\">55</td><td style = \"text-align: left;\">185-0013</td><td style = \"text-align: left;\">東京都国分寺市西恋ケ窪**********</td><td style = \"text-align: left;\">S13002</td><td style = \"text-align: left;\">20160410</td><td style = \"text-align: left;\">C-20100127-8</td></tr><tr><td class = \"rowNumber\" style = \"font-weight: bold; text-align: right;\">9</td><td style = \"text-align: left;\">CS001615000372</td><td style = \"text-align: left;\">稲垣 寿々花</td><td style = \"text-align: left;\">1</td><td style = \"text-align: left;\">女性</td><td style = \"text-align: left;\">1956-10-29</td><td style = \"text-align: right;\">62</td><td style = \"text-align: left;\">144-0035</td><td style = \"text-align: left;\">東京都大田区南蒲田**********</td><td style = \"text-align: left;\">S13001</td><td style = \"text-align: left;\">20170403</td><td style = \"text-align: left;\">A-20100104-1</td></tr><tr><td class = \"rowNumber\" style = \"font-weight: bold; text-align: right;\">10</td><td style = \"text-align: left;\">CS032512000121</td><td style = \"text-align: left;\">松井 知世</td><td style = \"text-align: left;\">1</td><td style = \"text-align: left;\">女性</td><td style = \"text-align: left;\">1962-09-04</td><td style = \"text-align: right;\">56</td><td style = \"text-align: left;\">210-0011</td><td style = \"text-align: left;\">神奈川県川崎市川崎区富士見**********</td><td style = \"text-align: left;\">S13032</td><td style = \"text-align: left;\">20150727</td><td style = \"text-align: left;\">A-20100103-5</td></tr></tbody></table></div>"
      ],
      "text/latex": [
       "\\begin{tabular}{r|cccccccc}\n",
       "\t& customer\\_id & customer\\_name & gender\\_cd & gender & birth\\_day & age & postal\\_cd & \\\\\n",
       "\t\\hline\n",
       "\t& String? & String? & String? & String? & Date? & Int32? & String? & \\\\\n",
       "\t\\hline\n",
       "\t1 & CS011215000048 & 芦田 沙耶 & 1 & 女性 & 1992-02-01 & 27 & 223-0062 & $\\dots$ \\\\\n",
       "\t2 & CS022513000105 & 島村 貴美子 & 1 & 女性 & 1962-03-12 & 57 & 249-0002 & $\\dots$ \\\\\n",
       "\t3 & CS001515000096 & 水野 陽子 & 9 & 不明 & 1960-11-29 & 58 & 144-0053 & $\\dots$ \\\\\n",
       "\t4 & CS013615000053 & 西脇 季衣 & 1 & 女性 & 1953-10-18 & 65 & 261-0026 & $\\dots$ \\\\\n",
       "\t5 & CS020412000161 & 小宮 薫 & 1 & 女性 & 1974-05-21 & 44 & 174-0042 & $\\dots$ \\\\\n",
       "\t6 & CS001215000097 & 竹中 あさみ & 1 & 女性 & 1990-07-25 & 28 & 146-0095 & $\\dots$ \\\\\n",
       "\t7 & CS035212000007 & 内村 恵梨香 & 1 & 女性 & 1990-12-04 & 28 & 152-0023 & $\\dots$ \\\\\n",
       "\t8 & CS002515000386 & 野田 コウ & 1 & 女性 & 1963-05-30 & 55 & 185-0013 & $\\dots$ \\\\\n",
       "\t9 & CS001615000372 & 稲垣 寿々花 & 1 & 女性 & 1956-10-29 & 62 & 144-0035 & $\\dots$ \\\\\n",
       "\t10 & CS032512000121 & 松井 知世 & 1 & 女性 & 1962-09-04 & 56 & 210-0011 & $\\dots$ \\\\\n",
       "\\end{tabular}\n"
      ],
      "text/plain": [
       "\u001b[1m10×11 DataFrame\u001b[0m\n",
       "\u001b[1m Row \u001b[0m│\u001b[1m customer_id    \u001b[0m\u001b[1m customer_name \u001b[0m\u001b[1m gender_cd \u001b[0m\u001b[1m gender  \u001b[0m\u001b[1m birth_day  \u001b[0m\u001b[1m age    \u001b[0m\u001b[1m \u001b[0m ⋯\n",
       "     │\u001b[90m String?        \u001b[0m\u001b[90m String?       \u001b[0m\u001b[90m String?   \u001b[0m\u001b[90m String? \u001b[0m\u001b[90m Date?      \u001b[0m\u001b[90m Int32? \u001b[0m\u001b[90m \u001b[0m ⋯\n",
       "─────┼──────────────────────────────────────────────────────────────────────────\n",
       "   1 │ CS011215000048  芦田 沙耶      1          女性     1992-02-01      27   ⋯\n",
       "   2 │ CS022513000105  島村 貴美子    1          女性     1962-03-12      57\n",
       "   3 │ CS001515000096  水野 陽子      9          不明     1960-11-29      58\n",
       "   4 │ CS013615000053  西脇 季衣      1          女性     1953-10-18      65\n",
       "   5 │ CS020412000161  小宮 薫        1          女性     1974-05-21      44   ⋯\n",
       "   6 │ CS001215000097  竹中 あさみ    1          女性     1990-07-25      28\n",
       "   7 │ CS035212000007  内村 恵梨香    1          女性     1990-12-04      28\n",
       "   8 │ CS002515000386  野田 コウ      1          女性     1963-05-30      55\n",
       "   9 │ CS001615000372  稲垣 寿々花    1          女性     1956-10-29      62   ⋯\n",
       "  10 │ CS032512000121  松井 知世      1          女性     1962-09-04      56\n",
       "\u001b[36m                                                               5 columns omitted\u001b[0m"
      ]
     },
     "execution_count": 18,
     "metadata": {},
     "output_type": "execute_result"
    }
   ],
   "source": [
    "@linq df_customer |>\n",
    "    where(occursin.(r\"^[A-F].*[1-9]$\", :status_cd)) |>\n",
    "    first(10)"
   ]
  },
  {
   "cell_type": "markdown",
   "id": "25a379a5-27d7-4179-b5e0-a46fa63c11f9",
   "metadata": {},
   "source": [
    "---\n",
    "> P-016: 店舗データ（df_store）から、電話番号（tel_no）が3桁-3桁-4桁のデータを全項目表示せよ。"
   ]
  },
  {
   "cell_type": "code",
   "execution_count": 19,
   "id": "704abfa4-e18c-4190-a4bf-95261b37cb09",
   "metadata": {},
   "outputs": [
    {
     "data": {
      "text/html": [
       "<div><div style = \"float: left;\"><span>34×10 DataFrame</span></div><div style = \"float: right;\"><span style = \"font-style: italic;\">9 rows omitted</span></div><div style = \"clear: both;\"></div></div><div class = \"data-frame\" style = \"overflow-x: scroll;\"><table class = \"data-frame\" style = \"margin-bottom: 6px;\"><thead><tr class = \"header\"><th class = \"rowNumber\" style = \"font-weight: bold; text-align: right;\">Row</th><th style = \"text-align: left;\">store_cd</th><th style = \"text-align: left;\">store_name</th><th style = \"text-align: left;\">prefecture_cd</th><th style = \"text-align: left;\">prefecture</th><th style = \"text-align: left;\">address</th><th style = \"text-align: left;\">address_kana</th><th style = \"text-align: left;\">tel_no</th><th style = \"text-align: left;\">longitude</th><th style = \"text-align: left;\">latitude</th><th style = \"text-align: left;\">floor_area</th></tr><tr class = \"subheader headerLastRow\"><th class = \"rowNumber\" style = \"font-weight: bold; text-align: right;\"></th><th title = \"Union{Missing, String}\" style = \"text-align: left;\">String?</th><th title = \"Union{Missing, String}\" style = \"text-align: left;\">String?</th><th title = \"Union{Missing, String}\" style = \"text-align: left;\">String?</th><th title = \"Union{Missing, String}\" style = \"text-align: left;\">String?</th><th title = \"Union{Missing, String}\" style = \"text-align: left;\">String?</th><th title = \"Union{Missing, String}\" style = \"text-align: left;\">String?</th><th title = \"Union{Missing, String}\" style = \"text-align: left;\">String?</th><th title = \"Union{Missing, Decimals.Decimal}\" style = \"text-align: left;\">Decimal</th><th title = \"Union{Missing, Decimals.Decimal}\" style = \"text-align: left;\">Decimal</th><th title = \"Union{Missing, Decimals.Decimal}\" style = \"text-align: left;\">Decimal</th></tr></thead><tbody><tr><td class = \"rowNumber\" style = \"font-weight: bold; text-align: right;\">1</td><td style = \"text-align: left;\">S12014</td><td style = \"text-align: left;\">千草台店</td><td style = \"text-align: left;\">12</td><td style = \"text-align: left;\">千葉県</td><td style = \"text-align: left;\">千葉県千葉市稲毛区千草台一丁目</td><td style = \"text-align: left;\">チバケンチバシイナゲクチグサダイイッチョウメ</td><td style = \"text-align: left;\">043-123-4003</td><td style = \"text-align: right;\">140.118</td><td style = \"text-align: right;\">35.63559</td><td style = \"text-align: right;\">1698</td></tr><tr><td class = \"rowNumber\" style = \"font-weight: bold; text-align: right;\">2</td><td style = \"text-align: left;\">S13002</td><td style = \"text-align: left;\">国分寺店</td><td style = \"text-align: left;\">13</td><td style = \"text-align: left;\">東京都</td><td style = \"text-align: left;\">東京都国分寺市本多二丁目</td><td style = \"text-align: left;\">トウキョウトコクブンジシホンダニチョウメ</td><td style = \"text-align: left;\">042-123-4008</td><td style = \"text-align: right;\">139.4802</td><td style = \"text-align: right;\">35.70566</td><td style = \"text-align: right;\">1735</td></tr><tr><td class = \"rowNumber\" style = \"font-weight: bold; text-align: right;\">3</td><td style = \"text-align: left;\">S14010</td><td style = \"text-align: left;\">菊名店</td><td style = \"text-align: left;\">14</td><td style = \"text-align: left;\">神奈川県</td><td style = \"text-align: left;\">神奈川県横浜市港北区菊名一丁目</td><td style = \"text-align: left;\">カナガワケンヨコハマシコウホククキクナイッチョウメ</td><td style = \"text-align: left;\">045-123-4032</td><td style = \"text-align: right;\">139.6326</td><td style = \"text-align: right;\">35.50049</td><td style = \"text-align: right;\">1732</td></tr><tr><td class = \"rowNumber\" style = \"font-weight: bold; text-align: right;\">4</td><td style = \"text-align: left;\">S14033</td><td style = \"text-align: left;\">阿久和店</td><td style = \"text-align: left;\">14</td><td style = \"text-align: left;\">神奈川県</td><td style = \"text-align: left;\">神奈川県横浜市瀬谷区阿久和西一丁目</td><td style = \"text-align: left;\">カナガワケンヨコハマシセヤクアクワニシイッチョウメ</td><td style = \"text-align: left;\">045-123-4043</td><td style = \"text-align: right;\">139.4961</td><td style = \"text-align: right;\">35.45918</td><td style = \"text-align: right;\">1495</td></tr><tr><td class = \"rowNumber\" style = \"font-weight: bold; text-align: right;\">5</td><td style = \"text-align: left;\">S14036</td><td style = \"text-align: left;\">相模原中央店</td><td style = \"text-align: left;\">14</td><td style = \"text-align: left;\">神奈川県</td><td style = \"text-align: left;\">神奈川県相模原市中央二丁目</td><td style = \"text-align: left;\">カナガワケンサガミハラシチュウオウニチョウメ</td><td style = \"text-align: left;\">042-123-4045</td><td style = \"text-align: right;\">139.3716</td><td style = \"text-align: right;\">35.57327</td><td style = \"text-align: right;\">1679</td></tr><tr><td class = \"rowNumber\" style = \"font-weight: bold; text-align: right;\">6</td><td style = \"text-align: left;\">S14040</td><td style = \"text-align: left;\">長津田店</td><td style = \"text-align: left;\">14</td><td style = \"text-align: left;\">神奈川県</td><td style = \"text-align: left;\">神奈川県横浜市緑区長津田みなみ台五丁目</td><td style = \"text-align: left;\">カナガワケンヨコハマシミドリクナガツタミナミダイゴチョウメ</td><td style = \"text-align: left;\">045-123-4046</td><td style = \"text-align: right;\">139.4994</td><td style = \"text-align: right;\">35.52398</td><td style = \"text-align: right;\">1548</td></tr><tr><td class = \"rowNumber\" style = \"font-weight: bold; text-align: right;\">7</td><td style = \"text-align: left;\">S14050</td><td style = \"text-align: left;\">阿久和西店</td><td style = \"text-align: left;\">14</td><td style = \"text-align: left;\">神奈川県</td><td style = \"text-align: left;\">神奈川県横浜市瀬谷区阿久和西一丁目</td><td style = \"text-align: left;\">カナガワケンヨコハマシセヤクアクワニシイッチョウメ</td><td style = \"text-align: left;\">045-123-4053</td><td style = \"text-align: right;\">139.4961</td><td style = \"text-align: right;\">35.45918</td><td style = \"text-align: right;\">1830</td></tr><tr><td class = \"rowNumber\" style = \"font-weight: bold; text-align: right;\">8</td><td style = \"text-align: left;\">S13052</td><td style = \"text-align: left;\">森野店</td><td style = \"text-align: left;\">13</td><td style = \"text-align: left;\">東京都</td><td style = \"text-align: left;\">東京都町田市森野三丁目</td><td style = \"text-align: left;\">トウキョウトマチダシモリノサンチョウメ</td><td style = \"text-align: left;\">042-123-4030</td><td style = \"text-align: right;\">139.4383</td><td style = \"text-align: right;\">35.55293</td><td style = \"text-align: right;\">1087</td></tr><tr><td class = \"rowNumber\" style = \"font-weight: bold; text-align: right;\">9</td><td style = \"text-align: left;\">S14028</td><td style = \"text-align: left;\">二ツ橋店</td><td style = \"text-align: left;\">14</td><td style = \"text-align: left;\">神奈川県</td><td style = \"text-align: left;\">神奈川県横浜市瀬谷区二ツ橋町</td><td style = \"text-align: left;\">カナガワケンヨコハマシセヤクフタツバシチョウ</td><td style = \"text-align: left;\">045-123-4042</td><td style = \"text-align: right;\">139.4963</td><td style = \"text-align: right;\">35.46304</td><td style = \"text-align: right;\">1574</td></tr><tr><td class = \"rowNumber\" style = \"font-weight: bold; text-align: right;\">10</td><td style = \"text-align: left;\">S14012</td><td style = \"text-align: left;\">本牧和田店</td><td style = \"text-align: left;\">14</td><td style = \"text-align: left;\">神奈川県</td><td style = \"text-align: left;\">神奈川県横浜市中区本牧和田</td><td style = \"text-align: left;\">カナガワケンヨコハマシナカクホンモクワダ</td><td style = \"text-align: left;\">045-123-4034</td><td style = \"text-align: right;\">139.6582</td><td style = \"text-align: right;\">35.42156</td><td style = \"text-align: right;\">1341</td></tr><tr><td class = \"rowNumber\" style = \"font-weight: bold; text-align: right;\">11</td><td style = \"text-align: left;\">S14046</td><td style = \"text-align: left;\">北山田店</td><td style = \"text-align: left;\">14</td><td style = \"text-align: left;\">神奈川県</td><td style = \"text-align: left;\">神奈川県横浜市都筑区北山田一丁目</td><td style = \"text-align: left;\">カナガワケンヨコハマシツヅキクキタヤマタイッチョウメ</td><td style = \"text-align: left;\">045-123-4049</td><td style = \"text-align: right;\">139.5916</td><td style = \"text-align: right;\">35.56189</td><td style = \"text-align: right;\">831</td></tr><tr><td class = \"rowNumber\" style = \"font-weight: bold; text-align: right;\">12</td><td style = \"text-align: left;\">S14022</td><td style = \"text-align: left;\">逗子店</td><td style = \"text-align: left;\">14</td><td style = \"text-align: left;\">神奈川県</td><td style = \"text-align: left;\">神奈川県逗子市逗子一丁目</td><td style = \"text-align: left;\">カナガワケンズシシズシイッチョウメ</td><td style = \"text-align: left;\">046-123-4036</td><td style = \"text-align: right;\">139.5789</td><td style = \"text-align: right;\">35.29642</td><td style = \"text-align: right;\">1838</td></tr><tr><td class = \"rowNumber\" style = \"font-weight: bold; text-align: right;\">13</td><td style = \"text-align: left;\">S14011</td><td style = \"text-align: left;\">日吉本町店</td><td style = \"text-align: left;\">14</td><td style = \"text-align: left;\">神奈川県</td><td style = \"text-align: left;\">神奈川県横浜市港北区日吉本町四丁目</td><td style = \"text-align: left;\">カナガワケンヨコハマシコウホククヒヨシホンチョウヨンチョウメ</td><td style = \"text-align: left;\">045-123-4033</td><td style = \"text-align: right;\">139.6316</td><td style = \"text-align: right;\">35.54655</td><td style = \"text-align: right;\">890</td></tr><tr><td style = \"text-align: right;\">&vellip;</td><td style = \"text-align: right;\">&vellip;</td><td style = \"text-align: right;\">&vellip;</td><td style = \"text-align: right;\">&vellip;</td><td style = \"text-align: right;\">&vellip;</td><td style = \"text-align: right;\">&vellip;</td><td style = \"text-align: right;\">&vellip;</td><td style = \"text-align: right;\">&vellip;</td><td style = \"text-align: right;\">&vellip;</td><td style = \"text-align: right;\">&vellip;</td><td style = \"text-align: right;\">&vellip;</td></tr><tr><td class = \"rowNumber\" style = \"font-weight: bold; text-align: right;\">23</td><td style = \"text-align: left;\">S14027</td><td style = \"text-align: left;\">南藤沢店</td><td style = \"text-align: left;\">14</td><td style = \"text-align: left;\">神奈川県</td><td style = \"text-align: left;\">神奈川県藤沢市南藤沢</td><td style = \"text-align: left;\">カナガワケンフジサワシミナミフジサワ</td><td style = \"text-align: left;\">046-123-4041</td><td style = \"text-align: right;\">139.4896</td><td style = \"text-align: right;\">35.33762</td><td style = \"text-align: right;\">1521</td></tr><tr><td class = \"rowNumber\" style = \"font-weight: bold; text-align: right;\">24</td><td style = \"text-align: left;\">S14021</td><td style = \"text-align: left;\">伊勢原店</td><td style = \"text-align: left;\">14</td><td style = \"text-align: left;\">神奈川県</td><td style = \"text-align: left;\">神奈川県伊勢原市伊勢原四丁目</td><td style = \"text-align: left;\">カナガワケンイセハラシイセハラヨンチョウメ</td><td style = \"text-align: left;\">046-123-4035</td><td style = \"text-align: right;\">139.3129</td><td style = \"text-align: right;\">35.40169</td><td style = \"text-align: right;\">962</td></tr><tr><td class = \"rowNumber\" style = \"font-weight: bold; text-align: right;\">25</td><td style = \"text-align: left;\">S14047</td><td style = \"text-align: left;\">相模原店</td><td style = \"text-align: left;\">14</td><td style = \"text-align: left;\">神奈川県</td><td style = \"text-align: left;\">神奈川県相模原市千代田六丁目</td><td style = \"text-align: left;\">カナガワケンサガミハラシチヨダロクチョウメ</td><td style = \"text-align: left;\">042-123-4050</td><td style = \"text-align: right;\">139.3748</td><td style = \"text-align: right;\">35.55959</td><td style = \"text-align: right;\">1047</td></tr><tr><td class = \"rowNumber\" style = \"font-weight: bold; text-align: right;\">26</td><td style = \"text-align: left;\">S12013</td><td style = \"text-align: left;\">習志野店</td><td style = \"text-align: left;\">12</td><td style = \"text-align: left;\">千葉県</td><td style = \"text-align: left;\">千葉県習志野市芝園一丁目</td><td style = \"text-align: left;\">チバケンナラシノシシバゾノイッチョウメ</td><td style = \"text-align: left;\">047-123-4002</td><td style = \"text-align: right;\">140.022</td><td style = \"text-align: right;\">35.66122</td><td style = \"text-align: right;\">808</td></tr><tr><td class = \"rowNumber\" style = \"font-weight: bold; text-align: right;\">27</td><td style = \"text-align: left;\">S14042</td><td style = \"text-align: left;\">新山下店</td><td style = \"text-align: left;\">14</td><td style = \"text-align: left;\">神奈川県</td><td style = \"text-align: left;\">神奈川県横浜市中区新山下二丁目</td><td style = \"text-align: left;\">カナガワケンヨコハマシナカクシンヤマシタニチョウメ</td><td style = \"text-align: left;\">045-123-4047</td><td style = \"text-align: right;\">139.6593</td><td style = \"text-align: right;\">35.43894</td><td style = \"text-align: right;\">1044</td></tr><tr><td class = \"rowNumber\" style = \"font-weight: bold; text-align: right;\">28</td><td style = \"text-align: left;\">S12030</td><td style = \"text-align: left;\">八幡店</td><td style = \"text-align: left;\">12</td><td style = \"text-align: left;\">千葉県</td><td style = \"text-align: left;\">千葉県市川市八幡三丁目</td><td style = \"text-align: left;\">チバケンイチカワシヤワタサンチョウメ</td><td style = \"text-align: left;\">047-123-4005</td><td style = \"text-align: right;\">139.924</td><td style = \"text-align: right;\">35.72318</td><td style = \"text-align: right;\">1162</td></tr><tr><td class = \"rowNumber\" style = \"font-weight: bold; text-align: right;\">29</td><td style = \"text-align: left;\">S14025</td><td style = \"text-align: left;\">大和店</td><td style = \"text-align: left;\">14</td><td style = \"text-align: left;\">神奈川県</td><td style = \"text-align: left;\">神奈川県大和市下和田</td><td style = \"text-align: left;\">カナガワケンヤマトシシモワダ</td><td style = \"text-align: left;\">046-123-4039</td><td style = \"text-align: right;\">139.468</td><td style = \"text-align: right;\">35.43414</td><td style = \"text-align: right;\">1011</td></tr><tr><td class = \"rowNumber\" style = \"font-weight: bold; text-align: right;\">30</td><td style = \"text-align: left;\">S14045</td><td style = \"text-align: left;\">厚木店</td><td style = \"text-align: left;\">14</td><td style = \"text-align: left;\">神奈川県</td><td style = \"text-align: left;\">神奈川県厚木市中町二丁目</td><td style = \"text-align: left;\">カナガワケンアツギシナカチョウニチョウメ</td><td style = \"text-align: left;\">046-123-4048</td><td style = \"text-align: right;\">139.3651</td><td style = \"text-align: right;\">35.44182</td><td style = \"text-align: right;\">980</td></tr><tr><td class = \"rowNumber\" style = \"font-weight: bold; text-align: right;\">31</td><td style = \"text-align: left;\">S12029</td><td style = \"text-align: left;\">東野店</td><td style = \"text-align: left;\">12</td><td style = \"text-align: left;\">千葉県</td><td style = \"text-align: left;\">千葉県浦安市東野一丁目</td><td style = \"text-align: left;\">チバケンウラヤスシヒガシノイッチョウメ</td><td style = \"text-align: left;\">047-123-4004</td><td style = \"text-align: right;\">139.8968</td><td style = \"text-align: right;\">35.65086</td><td style = \"text-align: right;\">1101</td></tr><tr><td class = \"rowNumber\" style = \"font-weight: bold; text-align: right;\">32</td><td style = \"text-align: left;\">S12053</td><td style = \"text-align: left;\">高洲店</td><td style = \"text-align: left;\">12</td><td style = \"text-align: left;\">千葉県</td><td style = \"text-align: left;\">千葉県浦安市高洲五丁目</td><td style = \"text-align: left;\">チバケンウラヤスシタカスゴチョウメ</td><td style = \"text-align: left;\">047-123-4006</td><td style = \"text-align: right;\">139.9176</td><td style = \"text-align: right;\">35.63755</td><td style = \"text-align: right;\">1555</td></tr><tr><td class = \"rowNumber\" style = \"font-weight: bold; text-align: right;\">33</td><td style = \"text-align: left;\">S14024</td><td style = \"text-align: left;\">三田店</td><td style = \"text-align: left;\">14</td><td style = \"text-align: left;\">神奈川県</td><td style = \"text-align: left;\">神奈川県川崎市多摩区三田四丁目</td><td style = \"text-align: left;\">カナガワケンカワサキシタマクミタヨンチョウメ</td><td style = \"text-align: left;\">044-123-4038</td><td style = \"text-align: right;\">139.5424</td><td style = \"text-align: right;\">35.6077</td><td style = \"text-align: right;\">972</td></tr><tr><td class = \"rowNumber\" style = \"font-weight: bold; text-align: right;\">34</td><td style = \"text-align: left;\">S14006</td><td style = \"text-align: left;\">葛が谷店</td><td style = \"text-align: left;\">14</td><td style = \"text-align: left;\">神奈川県</td><td style = \"text-align: left;\">神奈川県横浜市都筑区葛が谷</td><td style = \"text-align: left;\">カナガワケンヨコハマシツヅキククズガヤ</td><td style = \"text-align: left;\">045-123-4031</td><td style = \"text-align: right;\">139.5633</td><td style = \"text-align: right;\">35.53573</td><td style = \"text-align: right;\">1886</td></tr></tbody></table></div>"
      ],
      "text/latex": [
       "\\begin{tabular}{r|cccccc}\n",
       "\t& store\\_cd & store\\_name & prefecture\\_cd & prefecture & address & \\\\\n",
       "\t\\hline\n",
       "\t& String? & String? & String? & String? & String? & \\\\\n",
       "\t\\hline\n",
       "\t1 & S12014 & 千草台店 & 12 & 千葉県 & 千葉県千葉市稲毛区千草台一丁目 & $\\dots$ \\\\\n",
       "\t2 & S13002 & 国分寺店 & 13 & 東京都 & 東京都国分寺市本多二丁目 & $\\dots$ \\\\\n",
       "\t3 & S14010 & 菊名店 & 14 & 神奈川県 & 神奈川県横浜市港北区菊名一丁目 & $\\dots$ \\\\\n",
       "\t4 & S14033 & 阿久和店 & 14 & 神奈川県 & 神奈川県横浜市瀬谷区阿久和西一丁目 & $\\dots$ \\\\\n",
       "\t5 & S14036 & 相模原中央店 & 14 & 神奈川県 & 神奈川県相模原市中央二丁目 & $\\dots$ \\\\\n",
       "\t6 & S14040 & 長津田店 & 14 & 神奈川県 & 神奈川県横浜市緑区長津田みなみ台五丁目 & $\\dots$ \\\\\n",
       "\t7 & S14050 & 阿久和西店 & 14 & 神奈川県 & 神奈川県横浜市瀬谷区阿久和西一丁目 & $\\dots$ \\\\\n",
       "\t8 & S13052 & 森野店 & 13 & 東京都 & 東京都町田市森野三丁目 & $\\dots$ \\\\\n",
       "\t9 & S14028 & 二ツ橋店 & 14 & 神奈川県 & 神奈川県横浜市瀬谷区二ツ橋町 & $\\dots$ \\\\\n",
       "\t10 & S14012 & 本牧和田店 & 14 & 神奈川県 & 神奈川県横浜市中区本牧和田 & $\\dots$ \\\\\n",
       "\t11 & S14046 & 北山田店 & 14 & 神奈川県 & 神奈川県横浜市都筑区北山田一丁目 & $\\dots$ \\\\\n",
       "\t12 & S14022 & 逗子店 & 14 & 神奈川県 & 神奈川県逗子市逗子一丁目 & $\\dots$ \\\\\n",
       "\t13 & S14011 & 日吉本町店 & 14 & 神奈川県 & 神奈川県横浜市港北区日吉本町四丁目 & $\\dots$ \\\\\n",
       "\t14 & S13016 & 小金井店 & 13 & 東京都 & 東京都小金井市本町一丁目 & $\\dots$ \\\\\n",
       "\t15 & S14034 & 川崎野川店 & 14 & 神奈川県 & 神奈川県川崎市宮前区野川 & $\\dots$ \\\\\n",
       "\t16 & S14048 & 中川中央店 & 14 & 神奈川県 & 神奈川県横浜市都筑区中川中央二丁目 & $\\dots$ \\\\\n",
       "\t17 & S12007 & 佐倉店 & 12 & 千葉県 & 千葉県佐倉市上志津 & $\\dots$ \\\\\n",
       "\t18 & S14026 & 辻堂西海岸店 & 14 & 神奈川県 & 神奈川県藤沢市辻堂西海岸二丁目 & $\\dots$ \\\\\n",
       "\t19 & S13041 & 八王子店 & 13 & 東京都 & 東京都八王子市大塚 & $\\dots$ \\\\\n",
       "\t20 & S14049 & 川崎大師店 & 14 & 神奈川県 & 神奈川県川崎市川崎区中瀬三丁目 & $\\dots$ \\\\\n",
       "\t21 & S14023 & 川崎店 & 14 & 神奈川県 & 神奈川県川崎市川崎区本町二丁目 & $\\dots$ \\\\\n",
       "\t22 & S13018 & 清瀬店 & 13 & 東京都 & 東京都清瀬市松山一丁目 & $\\dots$ \\\\\n",
       "\t23 & S14027 & 南藤沢店 & 14 & 神奈川県 & 神奈川県藤沢市南藤沢 & $\\dots$ \\\\\n",
       "\t24 & S14021 & 伊勢原店 & 14 & 神奈川県 & 神奈川県伊勢原市伊勢原四丁目 & $\\dots$ \\\\\n",
       "\t25 & S14047 & 相模原店 & 14 & 神奈川県 & 神奈川県相模原市千代田六丁目 & $\\dots$ \\\\\n",
       "\t26 & S12013 & 習志野店 & 12 & 千葉県 & 千葉県習志野市芝園一丁目 & $\\dots$ \\\\\n",
       "\t27 & S14042 & 新山下店 & 14 & 神奈川県 & 神奈川県横浜市中区新山下二丁目 & $\\dots$ \\\\\n",
       "\t28 & S12030 & 八幡店 & 12 & 千葉県 & 千葉県市川市八幡三丁目 & $\\dots$ \\\\\n",
       "\t29 & S14025 & 大和店 & 14 & 神奈川県 & 神奈川県大和市下和田 & $\\dots$ \\\\\n",
       "\t30 & S14045 & 厚木店 & 14 & 神奈川県 & 神奈川県厚木市中町二丁目 & $\\dots$ \\\\\n",
       "\t$\\dots$ & $\\dots$ & $\\dots$ & $\\dots$ & $\\dots$ & $\\dots$ &  \\\\\n",
       "\\end{tabular}\n"
      ],
      "text/plain": [
       "\u001b[1m34×10 DataFrame\u001b[0m\n",
       "\u001b[1m Row \u001b[0m│\u001b[1m store_cd \u001b[0m\u001b[1m store_name   \u001b[0m\u001b[1m prefecture_cd \u001b[0m\u001b[1m prefecture \u001b[0m\u001b[1m address             \u001b[0m ⋯\n",
       "     │\u001b[90m String?  \u001b[0m\u001b[90m String?      \u001b[0m\u001b[90m String?       \u001b[0m\u001b[90m String?    \u001b[0m\u001b[90m String?             \u001b[0m ⋯\n",
       "─────┼──────────────────────────────────────────────────────────────────────────\n",
       "   1 │ S12014    千草台店      12             千葉県      千葉県千葉市稲毛区千 ⋯\n",
       "   2 │ S13002    国分寺店      13             東京都      東京都国分寺市本多二\n",
       "   3 │ S14010    菊名店        14             神奈川県    神奈川県横浜市港北区\n",
       "   4 │ S14033    阿久和店      14             神奈川県    神奈川県横浜市瀬谷区\n",
       "   5 │ S14036    相模原中央店  14             神奈川県    神奈川県相模原市中央 ⋯\n",
       "   6 │ S14040    長津田店      14             神奈川県    神奈川県横浜市緑区長\n",
       "   7 │ S14050    阿久和西店    14             神奈川県    神奈川県横浜市瀬谷区\n",
       "   8 │ S13052    森野店        13             東京都      東京都町田市森野三丁\n",
       "   9 │ S14028    二ツ橋店      14             神奈川県    神奈川県横浜市瀬谷区 ⋯\n",
       "  10 │ S14012    本牧和田店    14             神奈川県    神奈川県横浜市中区本\n",
       "  11 │ S14046    北山田店      14             神奈川県    神奈川県横浜市都筑区\n",
       "  ⋮  │    ⋮           ⋮              ⋮            ⋮                       ⋮    ⋱\n",
       "  25 │ S14047    相模原店      14             神奈川県    神奈川県相模原市千代\n",
       "  26 │ S12013    習志野店      12             千葉県      千葉県習志野市芝園一 ⋯\n",
       "  27 │ S14042    新山下店      14             神奈川県    神奈川県横浜市中区新\n",
       "  28 │ S12030    八幡店        12             千葉県      千葉県市川市八幡三丁\n",
       "  29 │ S14025    大和店        14             神奈川県    神奈川県大和市下和田\n",
       "  30 │ S14045    厚木店        14             神奈川県    神奈川県厚木市中町二 ⋯\n",
       "  31 │ S12029    東野店        12             千葉県      千葉県浦安市東野一丁\n",
       "  32 │ S12053    高洲店        12             千葉県      千葉県浦安市高洲五丁\n",
       "  33 │ S14024    三田店        14             神奈川県    神奈川県川崎市多摩区\n",
       "  34 │ S14006    葛が谷店      14             神奈川県    神奈川県横浜市都筑区 ⋯\n",
       "\u001b[36m                                                   6 columns and 13 rows omitted\u001b[0m"
      ]
     },
     "execution_count": 19,
     "metadata": {},
     "output_type": "execute_result"
    }
   ],
   "source": [
    "@linq df_store |>\n",
    "    where(occursin.(r\"^[0-9]{3}-[0-9]{3}-[0-9]{4}$\", :tel_no))"
   ]
  },
  {
   "cell_type": "markdown",
   "id": "a0b9dca7-789c-46b0-a887-5eff1aa2983e",
   "metadata": {},
   "source": [
    "---\n",
    "> P-017: 顧客データ（df_customer）を生年月日（birth_day）で高齢順にソートし、先頭から全項目を10件表示せよ。"
   ]
  },
  {
   "cell_type": "code",
   "execution_count": 20,
   "id": "0fefdb09-c85b-47fe-be93-98ea144eb3c8",
   "metadata": {},
   "outputs": [
    {
     "data": {
      "text/html": [
       "<div><div style = \"float: left;\"><span>10×11 DataFrame</span></div><div style = \"clear: both;\"></div></div><div class = \"data-frame\" style = \"overflow-x: scroll;\"><table class = \"data-frame\" style = \"margin-bottom: 6px;\"><thead><tr class = \"header\"><th class = \"rowNumber\" style = \"font-weight: bold; text-align: right;\">Row</th><th style = \"text-align: left;\">customer_id</th><th style = \"text-align: left;\">customer_name</th><th style = \"text-align: left;\">gender_cd</th><th style = \"text-align: left;\">gender</th><th style = \"text-align: left;\">birth_day</th><th style = \"text-align: left;\">age</th><th style = \"text-align: left;\">postal_cd</th><th style = \"text-align: left;\">address</th><th style = \"text-align: left;\">application_store_cd</th><th style = \"text-align: left;\">application_date</th><th style = \"text-align: left;\">status_cd</th></tr><tr class = \"subheader headerLastRow\"><th class = \"rowNumber\" style = \"font-weight: bold; text-align: right;\"></th><th title = \"Union{Missing, String}\" style = \"text-align: left;\">String?</th><th title = \"Union{Missing, String}\" style = \"text-align: left;\">String?</th><th title = \"Union{Missing, String}\" style = \"text-align: left;\">String?</th><th title = \"Union{Missing, String}\" style = \"text-align: left;\">String?</th><th title = \"Union{Missing, Date}\" style = \"text-align: left;\">Date?</th><th title = \"Union{Missing, Int32}\" style = \"text-align: left;\">Int32?</th><th title = \"Union{Missing, String}\" style = \"text-align: left;\">String?</th><th title = \"Union{Missing, String}\" style = \"text-align: left;\">String?</th><th title = \"Union{Missing, String}\" style = \"text-align: left;\">String?</th><th title = \"Union{Missing, String}\" style = \"text-align: left;\">String?</th><th title = \"Union{Missing, String}\" style = \"text-align: left;\">String?</th></tr></thead><tbody><tr><td class = \"rowNumber\" style = \"font-weight: bold; text-align: right;\">1</td><td style = \"text-align: left;\">CS003813000014</td><td style = \"text-align: left;\">村山 菜々美</td><td style = \"text-align: left;\">1</td><td style = \"text-align: left;\">女性</td><td style = \"text-align: left;\">1928-11-26</td><td style = \"text-align: right;\">90</td><td style = \"text-align: left;\">182-0007</td><td style = \"text-align: left;\">東京都調布市菊野台**********</td><td style = \"text-align: left;\">S13003</td><td style = \"text-align: left;\">20160214</td><td style = \"text-align: left;\">0-00000000-0</td></tr><tr><td class = \"rowNumber\" style = \"font-weight: bold; text-align: right;\">2</td><td style = \"text-align: left;\">CS026813000004</td><td style = \"text-align: left;\">吉村 朝陽</td><td style = \"text-align: left;\">1</td><td style = \"text-align: left;\">女性</td><td style = \"text-align: left;\">1928-12-14</td><td style = \"text-align: right;\">90</td><td style = \"text-align: left;\">251-0043</td><td style = \"text-align: left;\">神奈川県藤沢市辻堂元町**********</td><td style = \"text-align: left;\">S14026</td><td style = \"text-align: left;\">20150723</td><td style = \"text-align: left;\">0-00000000-0</td></tr><tr><td class = \"rowNumber\" style = \"font-weight: bold; text-align: right;\">3</td><td style = \"text-align: left;\">CS018811000003</td><td style = \"text-align: left;\">熊沢 美里</td><td style = \"text-align: left;\">1</td><td style = \"text-align: left;\">女性</td><td style = \"text-align: left;\">1929-01-07</td><td style = \"text-align: right;\">90</td><td style = \"text-align: left;\">204-0004</td><td style = \"text-align: left;\">東京都清瀬市野塩**********</td><td style = \"text-align: left;\">S13018</td><td style = \"text-align: left;\">20150403</td><td style = \"text-align: left;\">0-00000000-0</td></tr><tr><td class = \"rowNumber\" style = \"font-weight: bold; text-align: right;\">4</td><td style = \"text-align: left;\">CS027803000004</td><td style = \"text-align: left;\">内村 拓郎</td><td style = \"text-align: left;\">0</td><td style = \"text-align: left;\">男性</td><td style = \"text-align: left;\">1929-01-12</td><td style = \"text-align: right;\">90</td><td style = \"text-align: left;\">251-0031</td><td style = \"text-align: left;\">神奈川県藤沢市鵠沼藤が谷**********</td><td style = \"text-align: left;\">S14027</td><td style = \"text-align: left;\">20151227</td><td style = \"text-align: left;\">0-00000000-0</td></tr><tr><td class = \"rowNumber\" style = \"font-weight: bold; text-align: right;\">5</td><td style = \"text-align: left;\">CS013801000003</td><td style = \"text-align: left;\">天野 拓郎</td><td style = \"text-align: left;\">0</td><td style = \"text-align: left;\">男性</td><td style = \"text-align: left;\">1929-01-15</td><td style = \"text-align: right;\">90</td><td style = \"text-align: left;\">274-0824</td><td style = \"text-align: left;\">千葉県船橋市前原東**********</td><td style = \"text-align: left;\">S12013</td><td style = \"text-align: left;\">20160120</td><td style = \"text-align: left;\">0-00000000-0</td></tr><tr><td class = \"rowNumber\" style = \"font-weight: bold; text-align: right;\">6</td><td style = \"text-align: left;\">CS001814000022</td><td style = \"text-align: left;\">鶴田 里穂</td><td style = \"text-align: left;\">1</td><td style = \"text-align: left;\">女性</td><td style = \"text-align: left;\">1929-01-28</td><td style = \"text-align: right;\">90</td><td style = \"text-align: left;\">144-0045</td><td style = \"text-align: left;\">東京都大田区南六郷**********</td><td style = \"text-align: left;\">S13001</td><td style = \"text-align: left;\">20161012</td><td style = \"text-align: left;\">A-20090415-7</td></tr><tr><td class = \"rowNumber\" style = \"font-weight: bold; text-align: right;\">7</td><td style = \"text-align: left;\">CS016815000002</td><td style = \"text-align: left;\">山元 美紀</td><td style = \"text-align: left;\">1</td><td style = \"text-align: left;\">女性</td><td style = \"text-align: left;\">1929-02-22</td><td style = \"text-align: right;\">90</td><td style = \"text-align: left;\">184-0005</td><td style = \"text-align: left;\">東京都小金井市桜町**********</td><td style = \"text-align: left;\">S13016</td><td style = \"text-align: left;\">20150629</td><td style = \"text-align: left;\">C-20090923-C</td></tr><tr><td class = \"rowNumber\" style = \"font-weight: bold; text-align: right;\">8</td><td style = \"text-align: left;\">CS009815000003</td><td style = \"text-align: left;\">中田 里穂</td><td style = \"text-align: left;\">1</td><td style = \"text-align: left;\">女性</td><td style = \"text-align: left;\">1929-04-08</td><td style = \"text-align: right;\">89</td><td style = \"text-align: left;\">154-0014</td><td style = \"text-align: left;\">東京都世田谷区新町**********</td><td style = \"text-align: left;\">S13009</td><td style = \"text-align: left;\">20150421</td><td style = \"text-align: left;\">D-20091021-E</td></tr><tr><td class = \"rowNumber\" style = \"font-weight: bold; text-align: right;\">9</td><td style = \"text-align: left;\">CS012813000013</td><td style = \"text-align: left;\">宇野 南朋</td><td style = \"text-align: left;\">1</td><td style = \"text-align: left;\">女性</td><td style = \"text-align: left;\">1929-04-09</td><td style = \"text-align: right;\">89</td><td style = \"text-align: left;\">231-0806</td><td style = \"text-align: left;\">神奈川県横浜市中区本牧町**********</td><td style = \"text-align: left;\">S14012</td><td style = \"text-align: left;\">20150712</td><td style = \"text-align: left;\">0-00000000-0</td></tr><tr><td class = \"rowNumber\" style = \"font-weight: bold; text-align: right;\">10</td><td style = \"text-align: left;\">CS005813000015</td><td style = \"text-align: left;\">金谷 恵梨香</td><td style = \"text-align: left;\">1</td><td style = \"text-align: left;\">女性</td><td style = \"text-align: left;\">1929-04-09</td><td style = \"text-align: right;\">89</td><td style = \"text-align: left;\">165-0032</td><td style = \"text-align: left;\">東京都中野区鷺宮**********</td><td style = \"text-align: left;\">S13005</td><td style = \"text-align: left;\">20150506</td><td style = \"text-align: left;\">0-00000000-0</td></tr></tbody></table></div>"
      ],
      "text/latex": [
       "\\begin{tabular}{r|cccccccc}\n",
       "\t& customer\\_id & customer\\_name & gender\\_cd & gender & birth\\_day & age & postal\\_cd & \\\\\n",
       "\t\\hline\n",
       "\t& String? & String? & String? & String? & Date? & Int32? & String? & \\\\\n",
       "\t\\hline\n",
       "\t1 & CS003813000014 & 村山 菜々美 & 1 & 女性 & 1928-11-26 & 90 & 182-0007 & $\\dots$ \\\\\n",
       "\t2 & CS026813000004 & 吉村 朝陽 & 1 & 女性 & 1928-12-14 & 90 & 251-0043 & $\\dots$ \\\\\n",
       "\t3 & CS018811000003 & 熊沢 美里 & 1 & 女性 & 1929-01-07 & 90 & 204-0004 & $\\dots$ \\\\\n",
       "\t4 & CS027803000004 & 内村 拓郎 & 0 & 男性 & 1929-01-12 & 90 & 251-0031 & $\\dots$ \\\\\n",
       "\t5 & CS013801000003 & 天野 拓郎 & 0 & 男性 & 1929-01-15 & 90 & 274-0824 & $\\dots$ \\\\\n",
       "\t6 & CS001814000022 & 鶴田 里穂 & 1 & 女性 & 1929-01-28 & 90 & 144-0045 & $\\dots$ \\\\\n",
       "\t7 & CS016815000002 & 山元 美紀 & 1 & 女性 & 1929-02-22 & 90 & 184-0005 & $\\dots$ \\\\\n",
       "\t8 & CS009815000003 & 中田 里穂 & 1 & 女性 & 1929-04-08 & 89 & 154-0014 & $\\dots$ \\\\\n",
       "\t9 & CS012813000013 & 宇野 南朋 & 1 & 女性 & 1929-04-09 & 89 & 231-0806 & $\\dots$ \\\\\n",
       "\t10 & CS005813000015 & 金谷 恵梨香 & 1 & 女性 & 1929-04-09 & 89 & 165-0032 & $\\dots$ \\\\\n",
       "\\end{tabular}\n"
      ],
      "text/plain": [
       "\u001b[1m10×11 DataFrame\u001b[0m\n",
       "\u001b[1m Row \u001b[0m│\u001b[1m customer_id    \u001b[0m\u001b[1m customer_name \u001b[0m\u001b[1m gender_cd \u001b[0m\u001b[1m gender  \u001b[0m\u001b[1m birth_day  \u001b[0m\u001b[1m age    \u001b[0m\u001b[1m \u001b[0m ⋯\n",
       "     │\u001b[90m String?        \u001b[0m\u001b[90m String?       \u001b[0m\u001b[90m String?   \u001b[0m\u001b[90m String? \u001b[0m\u001b[90m Date?      \u001b[0m\u001b[90m Int32? \u001b[0m\u001b[90m \u001b[0m ⋯\n",
       "─────┼──────────────────────────────────────────────────────────────────────────\n",
       "   1 │ CS003813000014  村山 菜々美    1          女性     1928-11-26      90   ⋯\n",
       "   2 │ CS026813000004  吉村 朝陽      1          女性     1928-12-14      90\n",
       "   3 │ CS018811000003  熊沢 美里      1          女性     1929-01-07      90\n",
       "   4 │ CS027803000004  内村 拓郎      0          男性     1929-01-12      90\n",
       "   5 │ CS013801000003  天野 拓郎      0          男性     1929-01-15      90   ⋯\n",
       "   6 │ CS001814000022  鶴田 里穂      1          女性     1929-01-28      90\n",
       "   7 │ CS016815000002  山元 美紀      1          女性     1929-02-22      90\n",
       "   8 │ CS009815000003  中田 里穂      1          女性     1929-04-08      89\n",
       "   9 │ CS012813000013  宇野 南朋      1          女性     1929-04-09      89   ⋯\n",
       "  10 │ CS005813000015  金谷 恵梨香    1          女性     1929-04-09      89\n",
       "\u001b[36m                                                               5 columns omitted\u001b[0m"
      ]
     },
     "execution_count": 20,
     "metadata": {},
     "output_type": "execute_result"
    }
   ],
   "source": [
    "@linq df_customer |>\n",
    "    sort(:birth_day) |>\n",
    "    first(10)"
   ]
  },
  {
   "cell_type": "markdown",
   "id": "73fc72af-99fa-4db4-a31d-5b9c10ae45e5",
   "metadata": {},
   "source": [
    "---\n",
    "> P-018: 顧客データ（df_customer）を生年月日（birth_day）で若い順にソートし、先頭から全項目を10件表示せよ。"
   ]
  },
  {
   "cell_type": "code",
   "execution_count": 21,
   "id": "c3e0dfe1-a24c-4fa0-ba3d-ada2de4eac97",
   "metadata": {},
   "outputs": [
    {
     "data": {
      "text/html": [
       "<div><div style = \"float: left;\"><span>10×11 DataFrame</span></div><div style = \"clear: both;\"></div></div><div class = \"data-frame\" style = \"overflow-x: scroll;\"><table class = \"data-frame\" style = \"margin-bottom: 6px;\"><thead><tr class = \"header\"><th class = \"rowNumber\" style = \"font-weight: bold; text-align: right;\">Row</th><th style = \"text-align: left;\">customer_id</th><th style = \"text-align: left;\">customer_name</th><th style = \"text-align: left;\">gender_cd</th><th style = \"text-align: left;\">gender</th><th style = \"text-align: left;\">birth_day</th><th style = \"text-align: left;\">age</th><th style = \"text-align: left;\">postal_cd</th><th style = \"text-align: left;\">address</th><th style = \"text-align: left;\">application_store_cd</th><th style = \"text-align: left;\">application_date</th><th style = \"text-align: left;\">status_cd</th></tr><tr class = \"subheader headerLastRow\"><th class = \"rowNumber\" style = \"font-weight: bold; text-align: right;\"></th><th title = \"Union{Missing, String}\" style = \"text-align: left;\">String?</th><th title = \"Union{Missing, String}\" style = \"text-align: left;\">String?</th><th title = \"Union{Missing, String}\" style = \"text-align: left;\">String?</th><th title = \"Union{Missing, String}\" style = \"text-align: left;\">String?</th><th title = \"Union{Missing, Date}\" style = \"text-align: left;\">Date?</th><th title = \"Union{Missing, Int32}\" style = \"text-align: left;\">Int32?</th><th title = \"Union{Missing, String}\" style = \"text-align: left;\">String?</th><th title = \"Union{Missing, String}\" style = \"text-align: left;\">String?</th><th title = \"Union{Missing, String}\" style = \"text-align: left;\">String?</th><th title = \"Union{Missing, String}\" style = \"text-align: left;\">String?</th><th title = \"Union{Missing, String}\" style = \"text-align: left;\">String?</th></tr></thead><tbody><tr><td class = \"rowNumber\" style = \"font-weight: bold; text-align: right;\">1</td><td style = \"text-align: left;\">CS035114000004</td><td style = \"text-align: left;\">大村 美里</td><td style = \"text-align: left;\">1</td><td style = \"text-align: left;\">女性</td><td style = \"text-align: left;\">2007-11-25</td><td style = \"text-align: right;\">11</td><td style = \"text-align: left;\">156-0053</td><td style = \"text-align: left;\">東京都世田谷区桜**********</td><td style = \"text-align: left;\">S13035</td><td style = \"text-align: left;\">20150619</td><td style = \"text-align: left;\">6-20091205-6</td></tr><tr><td class = \"rowNumber\" style = \"font-weight: bold; text-align: right;\">2</td><td style = \"text-align: left;\">CS022103000002</td><td style = \"text-align: left;\">福山 はじめ</td><td style = \"text-align: left;\">9</td><td style = \"text-align: left;\">不明</td><td style = \"text-align: left;\">2007-10-02</td><td style = \"text-align: right;\">11</td><td style = \"text-align: left;\">249-0006</td><td style = \"text-align: left;\">神奈川県逗子市逗子**********</td><td style = \"text-align: left;\">S14022</td><td style = \"text-align: left;\">20160909</td><td style = \"text-align: left;\">0-00000000-0</td></tr><tr><td class = \"rowNumber\" style = \"font-weight: bold; text-align: right;\">3</td><td style = \"text-align: left;\">CS002113000009</td><td style = \"text-align: left;\">柴田 真悠子</td><td style = \"text-align: left;\">1</td><td style = \"text-align: left;\">女性</td><td style = \"text-align: left;\">2007-09-17</td><td style = \"text-align: right;\">11</td><td style = \"text-align: left;\">184-0014</td><td style = \"text-align: left;\">東京都小金井市貫井南町**********</td><td style = \"text-align: left;\">S13002</td><td style = \"text-align: left;\">20160304</td><td style = \"text-align: left;\">0-00000000-0</td></tr><tr><td class = \"rowNumber\" style = \"font-weight: bold; text-align: right;\">4</td><td style = \"text-align: left;\">CS004115000014</td><td style = \"text-align: left;\">松井 京子</td><td style = \"text-align: left;\">1</td><td style = \"text-align: left;\">女性</td><td style = \"text-align: left;\">2007-08-09</td><td style = \"text-align: right;\">11</td><td style = \"text-align: left;\">165-0031</td><td style = \"text-align: left;\">東京都中野区上鷺宮**********</td><td style = \"text-align: left;\">S13004</td><td style = \"text-align: left;\">20161120</td><td style = \"text-align: left;\">1-20081231-1</td></tr><tr><td class = \"rowNumber\" style = \"font-weight: bold; text-align: right;\">5</td><td style = \"text-align: left;\">CS002114000010</td><td style = \"text-align: left;\">山内 遥</td><td style = \"text-align: left;\">1</td><td style = \"text-align: left;\">女性</td><td style = \"text-align: left;\">2007-06-03</td><td style = \"text-align: right;\">11</td><td style = \"text-align: left;\">184-0015</td><td style = \"text-align: left;\">東京都小金井市貫井北町**********</td><td style = \"text-align: left;\">S13002</td><td style = \"text-align: left;\">20160920</td><td style = \"text-align: left;\">6-20100510-1</td></tr><tr><td class = \"rowNumber\" style = \"font-weight: bold; text-align: right;\">6</td><td style = \"text-align: left;\">CS025115000002</td><td style = \"text-align: left;\">小柳 夏希</td><td style = \"text-align: left;\">1</td><td style = \"text-align: left;\">女性</td><td style = \"text-align: left;\">2007-04-18</td><td style = \"text-align: right;\">11</td><td style = \"text-align: left;\">245-0018</td><td style = \"text-align: left;\">神奈川県横浜市泉区上飯田町**********</td><td style = \"text-align: left;\">S14025</td><td style = \"text-align: left;\">20160116</td><td style = \"text-align: left;\">D-20100913-D</td></tr><tr><td class = \"rowNumber\" style = \"font-weight: bold; text-align: right;\">7</td><td style = \"text-align: left;\">CS002113000025</td><td style = \"text-align: left;\">広末 まなみ</td><td style = \"text-align: left;\">1</td><td style = \"text-align: left;\">女性</td><td style = \"text-align: left;\">2007-03-30</td><td style = \"text-align: right;\">12</td><td style = \"text-align: left;\">184-0015</td><td style = \"text-align: left;\">東京都小金井市貫井北町**********</td><td style = \"text-align: left;\">S13002</td><td style = \"text-align: left;\">20171030</td><td style = \"text-align: left;\">0-00000000-0</td></tr><tr><td class = \"rowNumber\" style = \"font-weight: bold; text-align: right;\">8</td><td style = \"text-align: left;\">CS033112000003</td><td style = \"text-align: left;\">長野 美紀</td><td style = \"text-align: left;\">1</td><td style = \"text-align: left;\">女性</td><td style = \"text-align: left;\">2007-03-22</td><td style = \"text-align: right;\">12</td><td style = \"text-align: left;\">245-0051</td><td style = \"text-align: left;\">神奈川県横浜市戸塚区名瀬町**********</td><td style = \"text-align: left;\">S14033</td><td style = \"text-align: left;\">20150606</td><td style = \"text-align: left;\">0-00000000-0</td></tr><tr><td class = \"rowNumber\" style = \"font-weight: bold; text-align: right;\">9</td><td style = \"text-align: left;\">CS007115000006</td><td style = \"text-align: left;\">福岡 瞬</td><td style = \"text-align: left;\">1</td><td style = \"text-align: left;\">女性</td><td style = \"text-align: left;\">2007-03-10</td><td style = \"text-align: right;\">12</td><td style = \"text-align: left;\">285-0845</td><td style = \"text-align: left;\">千葉県佐倉市西志津**********</td><td style = \"text-align: left;\">S12007</td><td style = \"text-align: left;\">20151118</td><td style = \"text-align: left;\">F-20101016-F</td></tr><tr><td class = \"rowNumber\" style = \"font-weight: bold; text-align: right;\">10</td><td style = \"text-align: left;\">CS014113000008</td><td style = \"text-align: left;\">矢口 莉緒</td><td style = \"text-align: left;\">1</td><td style = \"text-align: left;\">女性</td><td style = \"text-align: left;\">2007-03-05</td><td style = \"text-align: right;\">12</td><td style = \"text-align: left;\">260-0041</td><td style = \"text-align: left;\">千葉県千葉市中央区東千葉**********</td><td style = \"text-align: left;\">S12014</td><td style = \"text-align: left;\">20150622</td><td style = \"text-align: left;\">3-20091108-6</td></tr></tbody></table></div>"
      ],
      "text/latex": [
       "\\begin{tabular}{r|cccccccc}\n",
       "\t& customer\\_id & customer\\_name & gender\\_cd & gender & birth\\_day & age & postal\\_cd & \\\\\n",
       "\t\\hline\n",
       "\t& String? & String? & String? & String? & Date? & Int32? & String? & \\\\\n",
       "\t\\hline\n",
       "\t1 & CS035114000004 & 大村 美里 & 1 & 女性 & 2007-11-25 & 11 & 156-0053 & $\\dots$ \\\\\n",
       "\t2 & CS022103000002 & 福山 はじめ & 9 & 不明 & 2007-10-02 & 11 & 249-0006 & $\\dots$ \\\\\n",
       "\t3 & CS002113000009 & 柴田 真悠子 & 1 & 女性 & 2007-09-17 & 11 & 184-0014 & $\\dots$ \\\\\n",
       "\t4 & CS004115000014 & 松井 京子 & 1 & 女性 & 2007-08-09 & 11 & 165-0031 & $\\dots$ \\\\\n",
       "\t5 & CS002114000010 & 山内 遥 & 1 & 女性 & 2007-06-03 & 11 & 184-0015 & $\\dots$ \\\\\n",
       "\t6 & CS025115000002 & 小柳 夏希 & 1 & 女性 & 2007-04-18 & 11 & 245-0018 & $\\dots$ \\\\\n",
       "\t7 & CS002113000025 & 広末 まなみ & 1 & 女性 & 2007-03-30 & 12 & 184-0015 & $\\dots$ \\\\\n",
       "\t8 & CS033112000003 & 長野 美紀 & 1 & 女性 & 2007-03-22 & 12 & 245-0051 & $\\dots$ \\\\\n",
       "\t9 & CS007115000006 & 福岡 瞬 & 1 & 女性 & 2007-03-10 & 12 & 285-0845 & $\\dots$ \\\\\n",
       "\t10 & CS014113000008 & 矢口 莉緒 & 1 & 女性 & 2007-03-05 & 12 & 260-0041 & $\\dots$ \\\\\n",
       "\\end{tabular}\n"
      ],
      "text/plain": [
       "\u001b[1m10×11 DataFrame\u001b[0m\n",
       "\u001b[1m Row \u001b[0m│\u001b[1m customer_id    \u001b[0m\u001b[1m customer_name \u001b[0m\u001b[1m gender_cd \u001b[0m\u001b[1m gender  \u001b[0m\u001b[1m birth_day  \u001b[0m\u001b[1m age    \u001b[0m\u001b[1m \u001b[0m ⋯\n",
       "     │\u001b[90m String?        \u001b[0m\u001b[90m String?       \u001b[0m\u001b[90m String?   \u001b[0m\u001b[90m String? \u001b[0m\u001b[90m Date?      \u001b[0m\u001b[90m Int32? \u001b[0m\u001b[90m \u001b[0m ⋯\n",
       "─────┼──────────────────────────────────────────────────────────────────────────\n",
       "   1 │ CS035114000004  大村 美里      1          女性     2007-11-25      11   ⋯\n",
       "   2 │ CS022103000002  福山 はじめ    9          不明     2007-10-02      11\n",
       "   3 │ CS002113000009  柴田 真悠子    1          女性     2007-09-17      11\n",
       "   4 │ CS004115000014  松井 京子      1          女性     2007-08-09      11\n",
       "   5 │ CS002114000010  山内 遥        1          女性     2007-06-03      11   ⋯\n",
       "   6 │ CS025115000002  小柳 夏希      1          女性     2007-04-18      11\n",
       "   7 │ CS002113000025  広末 まなみ    1          女性     2007-03-30      12\n",
       "   8 │ CS033112000003  長野 美紀      1          女性     2007-03-22      12\n",
       "   9 │ CS007115000006  福岡 瞬        1          女性     2007-03-10      12   ⋯\n",
       "  10 │ CS014113000008  矢口 莉緒      1          女性     2007-03-05      12\n",
       "\u001b[36m                                                               5 columns omitted\u001b[0m"
      ]
     },
     "execution_count": 21,
     "metadata": {},
     "output_type": "execute_result"
    }
   ],
   "source": [
    "@linq df_customer |>\n",
    "    sort(:birth_day, rev=true) |>\n",
    "    first(10)"
   ]
  },
  {
   "cell_type": "markdown",
   "id": "46157ef4-21f7-4a9b-a78d-3dfc97d93bfe",
   "metadata": {},
   "source": [
    "---\n",
    "> P-019: レシート明細データ（df_receipt）に対し、1件あたりの売上金額（amount）が高い順にランクを付与し、先頭から10件表示せよ。項目は顧客ID（customer_id）、売上金額（amount）、付与したランクを表示させること。なお、売上金額（amount）が等しい場合は同一順位を付与するものとする。"
   ]
  },
  {
   "cell_type": "code",
   "execution_count": 22,
   "id": "17f8f628-42b8-41b5-a305-98cc9602650e",
   "metadata": {},
   "outputs": [
    {
     "data": {
      "text/html": [
       "<div><div style = \"float: left;\"><span>10×3 DataFrame</span></div><div style = \"clear: both;\"></div></div><div class = \"data-frame\" style = \"overflow-x: scroll;\"><table class = \"data-frame\" style = \"margin-bottom: 6px;\"><thead><tr class = \"header\"><th class = \"rowNumber\" style = \"font-weight: bold; text-align: right;\">Row</th><th style = \"text-align: left;\">customer_id</th><th style = \"text-align: left;\">amount</th><th style = \"text-align: left;\">rank</th></tr><tr class = \"subheader headerLastRow\"><th class = \"rowNumber\" style = \"font-weight: bold; text-align: right;\"></th><th title = \"Union{Missing, String}\" style = \"text-align: left;\">String?</th><th title = \"Union{Missing, Int32}\" style = \"text-align: left;\">Int32?</th><th title = \"Union{Missing, Int64}\" style = \"text-align: left;\">Int64?</th></tr></thead><tbody><tr><td class = \"rowNumber\" style = \"font-weight: bold; text-align: right;\">1</td><td style = \"text-align: left;\">CS011415000006</td><td style = \"text-align: right;\">10925</td><td style = \"text-align: right;\">1</td></tr><tr><td class = \"rowNumber\" style = \"font-weight: bold; text-align: right;\">2</td><td style = \"text-align: left;\">ZZ000000000000</td><td style = \"text-align: right;\">6800</td><td style = \"text-align: right;\">2</td></tr><tr><td class = \"rowNumber\" style = \"font-weight: bold; text-align: right;\">3</td><td style = \"text-align: left;\">CS028605000002</td><td style = \"text-align: right;\">5780</td><td style = \"text-align: right;\">3</td></tr><tr><td class = \"rowNumber\" style = \"font-weight: bold; text-align: right;\">4</td><td style = \"text-align: left;\">CS015515000034</td><td style = \"text-align: right;\">5480</td><td style = \"text-align: right;\">4</td></tr><tr><td class = \"rowNumber\" style = \"font-weight: bold; text-align: right;\">5</td><td style = \"text-align: left;\">ZZ000000000000</td><td style = \"text-align: right;\">5480</td><td style = \"text-align: right;\">4</td></tr><tr><td class = \"rowNumber\" style = \"font-weight: bold; text-align: right;\">6</td><td style = \"text-align: left;\">ZZ000000000000</td><td style = \"text-align: right;\">5480</td><td style = \"text-align: right;\">4</td></tr><tr><td class = \"rowNumber\" style = \"font-weight: bold; text-align: right;\">7</td><td style = \"text-align: left;\">ZZ000000000000</td><td style = \"text-align: right;\">5440</td><td style = \"text-align: right;\">7</td></tr><tr><td class = \"rowNumber\" style = \"font-weight: bold; text-align: right;\">8</td><td style = \"text-align: left;\">CS021515000089</td><td style = \"text-align: right;\">5440</td><td style = \"text-align: right;\">7</td></tr><tr><td class = \"rowNumber\" style = \"font-weight: bold; text-align: right;\">9</td><td style = \"text-align: left;\">CS015515000083</td><td style = \"text-align: right;\">5280</td><td style = \"text-align: right;\">9</td></tr><tr><td class = \"rowNumber\" style = \"font-weight: bold; text-align: right;\">10</td><td style = \"text-align: left;\">CS017414000114</td><td style = \"text-align: right;\">5280</td><td style = \"text-align: right;\">9</td></tr></tbody></table></div>"
      ],
      "text/latex": [
       "\\begin{tabular}{r|ccc}\n",
       "\t& customer\\_id & amount & rank\\\\\n",
       "\t\\hline\n",
       "\t& String? & Int32? & Int64?\\\\\n",
       "\t\\hline\n",
       "\t1 & CS011415000006 & 10925 & 1 \\\\\n",
       "\t2 & ZZ000000000000 & 6800 & 2 \\\\\n",
       "\t3 & CS028605000002 & 5780 & 3 \\\\\n",
       "\t4 & CS015515000034 & 5480 & 4 \\\\\n",
       "\t5 & ZZ000000000000 & 5480 & 4 \\\\\n",
       "\t6 & ZZ000000000000 & 5480 & 4 \\\\\n",
       "\t7 & ZZ000000000000 & 5440 & 7 \\\\\n",
       "\t8 & CS021515000089 & 5440 & 7 \\\\\n",
       "\t9 & CS015515000083 & 5280 & 9 \\\\\n",
       "\t10 & CS017414000114 & 5280 & 9 \\\\\n",
       "\\end{tabular}\n"
      ],
      "text/plain": [
       "\u001b[1m10×3 DataFrame\u001b[0m\n",
       "\u001b[1m Row \u001b[0m│\u001b[1m customer_id    \u001b[0m\u001b[1m amount \u001b[0m\u001b[1m rank   \u001b[0m\n",
       "     │\u001b[90m String?        \u001b[0m\u001b[90m Int32? \u001b[0m\u001b[90m Int64? \u001b[0m\n",
       "─────┼────────────────────────────────\n",
       "   1 │ CS011415000006   10925       1\n",
       "   2 │ ZZ000000000000    6800       2\n",
       "   3 │ CS028605000002    5780       3\n",
       "   4 │ CS015515000034    5480       4\n",
       "   5 │ ZZ000000000000    5480       4\n",
       "   6 │ ZZ000000000000    5480       4\n",
       "   7 │ ZZ000000000000    5440       7\n",
       "   8 │ CS021515000089    5440       7\n",
       "   9 │ CS015515000083    5280       9\n",
       "  10 │ CS017414000114    5280       9"
      ]
     },
     "execution_count": 22,
     "metadata": {},
     "output_type": "execute_result"
    }
   ],
   "source": [
    "@chain df_receipt begin\n",
    "    @transform(:rank = competerank(:amount, rev=true))\n",
    "    select(:customer_id, :amount, :rank)\n",
    "    sort(:amount, rev=true)\n",
    "    first(10)\n",
    "end"
   ]
  },
  {
   "cell_type": "markdown",
   "id": "2deb2b1e-46a4-45e1-af43-07e4245c8a7d",
   "metadata": {},
   "source": [
    "---\n",
    "> P-020: レシート明細データ（df_receipt）に対し、1件あたりの売上金額（amount）が高い順にランクを付与し、先頭から10件表示せよ。項目は顧客ID（customer_id）、売上金額（amount）、付与したランクを表示させること。なお、売上金額（amount）が等しい場合でも別順位を付与すること。"
   ]
  },
  {
   "cell_type": "code",
   "execution_count": 23,
   "id": "ed67f497-67fa-4a4f-8e96-44b5e07ce2f9",
   "metadata": {},
   "outputs": [
    {
     "data": {
      "text/html": [
       "<div><div style = \"float: left;\"><span>10×3 DataFrame</span></div><div style = \"clear: both;\"></div></div><div class = \"data-frame\" style = \"overflow-x: scroll;\"><table class = \"data-frame\" style = \"margin-bottom: 6px;\"><thead><tr class = \"header\"><th class = \"rowNumber\" style = \"font-weight: bold; text-align: right;\">Row</th><th style = \"text-align: left;\">customer_id</th><th style = \"text-align: left;\">amount</th><th style = \"text-align: left;\">rank</th></tr><tr class = \"subheader headerLastRow\"><th class = \"rowNumber\" style = \"font-weight: bold; text-align: right;\"></th><th title = \"Union{Missing, String}\" style = \"text-align: left;\">String?</th><th title = \"Union{Missing, Int32}\" style = \"text-align: left;\">Int32?</th><th title = \"Union{Missing, Int64}\" style = \"text-align: left;\">Int64?</th></tr></thead><tbody><tr><td class = \"rowNumber\" style = \"font-weight: bold; text-align: right;\">1</td><td style = \"text-align: left;\">CS011415000006</td><td style = \"text-align: right;\">10925</td><td style = \"text-align: right;\">1</td></tr><tr><td class = \"rowNumber\" style = \"font-weight: bold; text-align: right;\">2</td><td style = \"text-align: left;\">ZZ000000000000</td><td style = \"text-align: right;\">6800</td><td style = \"text-align: right;\">2</td></tr><tr><td class = \"rowNumber\" style = \"font-weight: bold; text-align: right;\">3</td><td style = \"text-align: left;\">CS028605000002</td><td style = \"text-align: right;\">5780</td><td style = \"text-align: right;\">3</td></tr><tr><td class = \"rowNumber\" style = \"font-weight: bold; text-align: right;\">4</td><td style = \"text-align: left;\">CS015515000034</td><td style = \"text-align: right;\">5480</td><td style = \"text-align: right;\">4</td></tr><tr><td class = \"rowNumber\" style = \"font-weight: bold; text-align: right;\">5</td><td style = \"text-align: left;\">ZZ000000000000</td><td style = \"text-align: right;\">5480</td><td style = \"text-align: right;\">5</td></tr><tr><td class = \"rowNumber\" style = \"font-weight: bold; text-align: right;\">6</td><td style = \"text-align: left;\">ZZ000000000000</td><td style = \"text-align: right;\">5480</td><td style = \"text-align: right;\">6</td></tr><tr><td class = \"rowNumber\" style = \"font-weight: bold; text-align: right;\">7</td><td style = \"text-align: left;\">ZZ000000000000</td><td style = \"text-align: right;\">5440</td><td style = \"text-align: right;\">7</td></tr><tr><td class = \"rowNumber\" style = \"font-weight: bold; text-align: right;\">8</td><td style = \"text-align: left;\">CS021515000089</td><td style = \"text-align: right;\">5440</td><td style = \"text-align: right;\">8</td></tr><tr><td class = \"rowNumber\" style = \"font-weight: bold; text-align: right;\">9</td><td style = \"text-align: left;\">CS015515000083</td><td style = \"text-align: right;\">5280</td><td style = \"text-align: right;\">9</td></tr><tr><td class = \"rowNumber\" style = \"font-weight: bold; text-align: right;\">10</td><td style = \"text-align: left;\">CS017414000114</td><td style = \"text-align: right;\">5280</td><td style = \"text-align: right;\">10</td></tr></tbody></table></div>"
      ],
      "text/latex": [
       "\\begin{tabular}{r|ccc}\n",
       "\t& customer\\_id & amount & rank\\\\\n",
       "\t\\hline\n",
       "\t& String? & Int32? & Int64?\\\\\n",
       "\t\\hline\n",
       "\t1 & CS011415000006 & 10925 & 1 \\\\\n",
       "\t2 & ZZ000000000000 & 6800 & 2 \\\\\n",
       "\t3 & CS028605000002 & 5780 & 3 \\\\\n",
       "\t4 & CS015515000034 & 5480 & 4 \\\\\n",
       "\t5 & ZZ000000000000 & 5480 & 5 \\\\\n",
       "\t6 & ZZ000000000000 & 5480 & 6 \\\\\n",
       "\t7 & ZZ000000000000 & 5440 & 7 \\\\\n",
       "\t8 & CS021515000089 & 5440 & 8 \\\\\n",
       "\t9 & CS015515000083 & 5280 & 9 \\\\\n",
       "\t10 & CS017414000114 & 5280 & 10 \\\\\n",
       "\\end{tabular}\n"
      ],
      "text/plain": [
       "\u001b[1m10×3 DataFrame\u001b[0m\n",
       "\u001b[1m Row \u001b[0m│\u001b[1m customer_id    \u001b[0m\u001b[1m amount \u001b[0m\u001b[1m rank   \u001b[0m\n",
       "     │\u001b[90m String?        \u001b[0m\u001b[90m Int32? \u001b[0m\u001b[90m Int64? \u001b[0m\n",
       "─────┼────────────────────────────────\n",
       "   1 │ CS011415000006   10925       1\n",
       "   2 │ ZZ000000000000    6800       2\n",
       "   3 │ CS028605000002    5780       3\n",
       "   4 │ CS015515000034    5480       4\n",
       "   5 │ ZZ000000000000    5480       5\n",
       "   6 │ ZZ000000000000    5480       6\n",
       "   7 │ ZZ000000000000    5440       7\n",
       "   8 │ CS021515000089    5440       8\n",
       "   9 │ CS015515000083    5280       9\n",
       "  10 │ CS017414000114    5280      10"
      ]
     },
     "execution_count": 23,
     "metadata": {},
     "output_type": "execute_result"
    }
   ],
   "source": [
    "@chain df_receipt begin\n",
    "    sort(:amount, rev=true)\n",
    "    @transform(:rank = ordinalrank(:amount, rev=true))\n",
    "    select(:customer_id, :amount, :rank)\n",
    "    first(10)\n",
    "end"
   ]
  },
  {
   "cell_type": "markdown",
   "id": "fc2a8cb3-39cb-4a95-b997-aadae677983e",
   "metadata": {},
   "source": [
    "---\n",
    "> P-021: レシート明細データ（df_receipt）に対し、件数をカウントせよ。"
   ]
  },
  {
   "cell_type": "code",
   "execution_count": 24,
   "id": "4996b509-780e-42ed-9fee-2929f6322849",
   "metadata": {},
   "outputs": [
    {
     "data": {
      "text/plain": [
       "104681"
      ]
     },
     "execution_count": 24,
     "metadata": {},
     "output_type": "execute_result"
    }
   ],
   "source": [
    "nrow(df_receipt)"
   ]
  },
  {
   "cell_type": "markdown",
   "id": "2bec7678-7bfd-40b9-b3fc-e5b59fe1e5ea",
   "metadata": {},
   "source": [
    "---\n",
    "> P-022: レシート明細データ（df_receipt）の顧客ID（customer_id）に対し、ユニーク件数をカウントせよ。"
   ]
  },
  {
   "cell_type": "code",
   "execution_count": 25,
   "id": "dff3f84c-80c3-42e0-ab4b-a869d2fa7f0d",
   "metadata": {},
   "outputs": [
    {
     "data": {
      "text/plain": [
       "8307"
      ]
     },
     "execution_count": 25,
     "metadata": {},
     "output_type": "execute_result"
    }
   ],
   "source": [
    "length(unique(df_receipt.customer_id))"
   ]
  },
  {
   "cell_type": "markdown",
   "id": "9999dbea-64a4-4940-92c8-3129285b801c",
   "metadata": {},
   "source": [
    "---\n",
    "> P-023: レシート明細データ（df_receipt）に対し、店舗コード（store_cd）ごとに売上金額（amount）と売上数量（quantity）を合計せよ。"
   ]
  },
  {
   "cell_type": "code",
   "execution_count": 26,
   "id": "7477b1aa-6365-4166-8cac-1e49e6118fc7",
   "metadata": {},
   "outputs": [
    {
     "data": {
      "text/html": [
       "<div><div style = \"float: left;\"><span>52×3 DataFrame</span></div><div style = \"float: right;\"><span style = \"font-style: italic;\">27 rows omitted</span></div><div style = \"clear: both;\"></div></div><div class = \"data-frame\" style = \"overflow-x: scroll;\"><table class = \"data-frame\" style = \"margin-bottom: 6px;\"><thead><tr class = \"header\"><th class = \"rowNumber\" style = \"font-weight: bold; text-align: right;\">Row</th><th style = \"text-align: left;\">store_cd</th><th style = \"text-align: left;\">amount_sum</th><th style = \"text-align: left;\">quantity_sum</th></tr><tr class = \"subheader headerLastRow\"><th class = \"rowNumber\" style = \"font-weight: bold; text-align: right;\"></th><th title = \"Union{Missing, String}\" style = \"text-align: left;\">String?</th><th title = \"Int64\" style = \"text-align: left;\">Int64</th><th title = \"Int64\" style = \"text-align: left;\">Int64</th></tr></thead><tbody><tr><td class = \"rowNumber\" style = \"font-weight: bold; text-align: right;\">1</td><td style = \"text-align: left;\">S12007</td><td style = \"text-align: right;\">638761</td><td style = \"text-align: right;\">2099</td></tr><tr><td class = \"rowNumber\" style = \"font-weight: bold; text-align: right;\">2</td><td style = \"text-align: left;\">S12013</td><td style = \"text-align: right;\">787513</td><td style = \"text-align: right;\">2425</td></tr><tr><td class = \"rowNumber\" style = \"font-weight: bold; text-align: right;\">3</td><td style = \"text-align: left;\">S12014</td><td style = \"text-align: right;\">725167</td><td style = \"text-align: right;\">2358</td></tr><tr><td class = \"rowNumber\" style = \"font-weight: bold; text-align: right;\">4</td><td style = \"text-align: left;\">S12029</td><td style = \"text-align: right;\">794741</td><td style = \"text-align: right;\">2555</td></tr><tr><td class = \"rowNumber\" style = \"font-weight: bold; text-align: right;\">5</td><td style = \"text-align: left;\">S12030</td><td style = \"text-align: right;\">684402</td><td style = \"text-align: right;\">2403</td></tr><tr><td class = \"rowNumber\" style = \"font-weight: bold; text-align: right;\">6</td><td style = \"text-align: left;\">S13001</td><td style = \"text-align: right;\">811936</td><td style = \"text-align: right;\">2347</td></tr><tr><td class = \"rowNumber\" style = \"font-weight: bold; text-align: right;\">7</td><td style = \"text-align: left;\">S13002</td><td style = \"text-align: right;\">727821</td><td style = \"text-align: right;\">2340</td></tr><tr><td class = \"rowNumber\" style = \"font-weight: bold; text-align: right;\">8</td><td style = \"text-align: left;\">S13003</td><td style = \"text-align: right;\">764294</td><td style = \"text-align: right;\">2197</td></tr><tr><td class = \"rowNumber\" style = \"font-weight: bold; text-align: right;\">9</td><td style = \"text-align: left;\">S13004</td><td style = \"text-align: right;\">779373</td><td style = \"text-align: right;\">2390</td></tr><tr><td class = \"rowNumber\" style = \"font-weight: bold; text-align: right;\">10</td><td style = \"text-align: left;\">S13005</td><td style = \"text-align: right;\">629876</td><td style = \"text-align: right;\">2004</td></tr><tr><td class = \"rowNumber\" style = \"font-weight: bold; text-align: right;\">11</td><td style = \"text-align: left;\">S13008</td><td style = \"text-align: right;\">809288</td><td style = \"text-align: right;\">2491</td></tr><tr><td class = \"rowNumber\" style = \"font-weight: bold; text-align: right;\">12</td><td style = \"text-align: left;\">S13009</td><td style = \"text-align: right;\">808870</td><td style = \"text-align: right;\">2486</td></tr><tr><td class = \"rowNumber\" style = \"font-weight: bold; text-align: right;\">13</td><td style = \"text-align: left;\">S13015</td><td style = \"text-align: right;\">780873</td><td style = \"text-align: right;\">2248</td></tr><tr><td style = \"text-align: right;\">&vellip;</td><td style = \"text-align: right;\">&vellip;</td><td style = \"text-align: right;\">&vellip;</td><td style = \"text-align: right;\">&vellip;</td></tr><tr><td class = \"rowNumber\" style = \"font-weight: bold; text-align: right;\">41</td><td style = \"text-align: left;\">S14028</td><td style = \"text-align: right;\">786145</td><td style = \"text-align: right;\">2458</td></tr><tr><td class = \"rowNumber\" style = \"font-weight: bold; text-align: right;\">42</td><td style = \"text-align: left;\">S14033</td><td style = \"text-align: right;\">725318</td><td style = \"text-align: right;\">2282</td></tr><tr><td class = \"rowNumber\" style = \"font-weight: bold; text-align: right;\">43</td><td style = \"text-align: left;\">S14034</td><td style = \"text-align: right;\">653681</td><td style = \"text-align: right;\">2024</td></tr><tr><td class = \"rowNumber\" style = \"font-weight: bold; text-align: right;\">44</td><td style = \"text-align: left;\">S14036</td><td style = \"text-align: right;\">203694</td><td style = \"text-align: right;\">635</td></tr><tr><td class = \"rowNumber\" style = \"font-weight: bold; text-align: right;\">45</td><td style = \"text-align: left;\">S14040</td><td style = \"text-align: right;\">701858</td><td style = \"text-align: right;\">2233</td></tr><tr><td class = \"rowNumber\" style = \"font-weight: bold; text-align: right;\">46</td><td style = \"text-align: left;\">S14042</td><td style = \"text-align: right;\">534689</td><td style = \"text-align: right;\">1935</td></tr><tr><td class = \"rowNumber\" style = \"font-weight: bold; text-align: right;\">47</td><td style = \"text-align: left;\">S14045</td><td style = \"text-align: right;\">458484</td><td style = \"text-align: right;\">1398</td></tr><tr><td class = \"rowNumber\" style = \"font-weight: bold; text-align: right;\">48</td><td style = \"text-align: left;\">S14046</td><td style = \"text-align: right;\">412646</td><td style = \"text-align: right;\">1354</td></tr><tr><td class = \"rowNumber\" style = \"font-weight: bold; text-align: right;\">49</td><td style = \"text-align: left;\">S14047</td><td style = \"text-align: right;\">338329</td><td style = \"text-align: right;\">1041</td></tr><tr><td class = \"rowNumber\" style = \"font-weight: bold; text-align: right;\">50</td><td style = \"text-align: left;\">S14048</td><td style = \"text-align: right;\">234276</td><td style = \"text-align: right;\">769</td></tr><tr><td class = \"rowNumber\" style = \"font-weight: bold; text-align: right;\">51</td><td style = \"text-align: left;\">S14049</td><td style = \"text-align: right;\">230808</td><td style = \"text-align: right;\">788</td></tr><tr><td class = \"rowNumber\" style = \"font-weight: bold; text-align: right;\">52</td><td style = \"text-align: left;\">S14050</td><td style = \"text-align: right;\">167090</td><td style = \"text-align: right;\">580</td></tr></tbody></table></div>"
      ],
      "text/latex": [
       "\\begin{tabular}{r|ccc}\n",
       "\t& store\\_cd & amount\\_sum & quantity\\_sum\\\\\n",
       "\t\\hline\n",
       "\t& String? & Int64 & Int64\\\\\n",
       "\t\\hline\n",
       "\t1 & S12007 & 638761 & 2099 \\\\\n",
       "\t2 & S12013 & 787513 & 2425 \\\\\n",
       "\t3 & S12014 & 725167 & 2358 \\\\\n",
       "\t4 & S12029 & 794741 & 2555 \\\\\n",
       "\t5 & S12030 & 684402 & 2403 \\\\\n",
       "\t6 & S13001 & 811936 & 2347 \\\\\n",
       "\t7 & S13002 & 727821 & 2340 \\\\\n",
       "\t8 & S13003 & 764294 & 2197 \\\\\n",
       "\t9 & S13004 & 779373 & 2390 \\\\\n",
       "\t10 & S13005 & 629876 & 2004 \\\\\n",
       "\t11 & S13008 & 809288 & 2491 \\\\\n",
       "\t12 & S13009 & 808870 & 2486 \\\\\n",
       "\t13 & S13015 & 780873 & 2248 \\\\\n",
       "\t14 & S13016 & 793773 & 2432 \\\\\n",
       "\t15 & S13017 & 748221 & 2376 \\\\\n",
       "\t16 & S13018 & 790535 & 2562 \\\\\n",
       "\t17 & S13019 & 827833 & 2541 \\\\\n",
       "\t18 & S13020 & 796383 & 2383 \\\\\n",
       "\t19 & S13031 & 705968 & 2336 \\\\\n",
       "\t20 & S13032 & 790501 & 2491 \\\\\n",
       "\t21 & S13035 & 715869 & 2219 \\\\\n",
       "\t22 & S13037 & 693087 & 2344 \\\\\n",
       "\t23 & S13038 & 708884 & 2337 \\\\\n",
       "\t24 & S13039 & 611888 & 1981 \\\\\n",
       "\t25 & S13041 & 728266 & 2233 \\\\\n",
       "\t26 & S13043 & 587895 & 1881 \\\\\n",
       "\t27 & S13044 & 520764 & 1729 \\\\\n",
       "\t28 & S13051 & 107452 & 354 \\\\\n",
       "\t29 & S13052 & 100314 & 250 \\\\\n",
       "\t30 & S14006 & 712839 & 2284 \\\\\n",
       "\t$\\dots$ & $\\dots$ & $\\dots$ & $\\dots$ \\\\\n",
       "\\end{tabular}\n"
      ],
      "text/plain": [
       "\u001b[1m52×3 DataFrame\u001b[0m\n",
       "\u001b[1m Row \u001b[0m│\u001b[1m store_cd \u001b[0m\u001b[1m amount_sum \u001b[0m\u001b[1m quantity_sum \u001b[0m\n",
       "     │\u001b[90m String?  \u001b[0m\u001b[90m Int64      \u001b[0m\u001b[90m Int64        \u001b[0m\n",
       "─────┼────────────────────────────────────\n",
       "   1 │ S12007        638761          2099\n",
       "   2 │ S12013        787513          2425\n",
       "   3 │ S12014        725167          2358\n",
       "   4 │ S12029        794741          2555\n",
       "   5 │ S12030        684402          2403\n",
       "   6 │ S13001        811936          2347\n",
       "   7 │ S13002        727821          2340\n",
       "   8 │ S13003        764294          2197\n",
       "   9 │ S13004        779373          2390\n",
       "  10 │ S13005        629876          2004\n",
       "  11 │ S13008        809288          2491\n",
       "  ⋮  │    ⋮          ⋮            ⋮\n",
       "  43 │ S14034        653681          2024\n",
       "  44 │ S14036        203694           635\n",
       "  45 │ S14040        701858          2233\n",
       "  46 │ S14042        534689          1935\n",
       "  47 │ S14045        458484          1398\n",
       "  48 │ S14046        412646          1354\n",
       "  49 │ S14047        338329          1041\n",
       "  50 │ S14048        234276           769\n",
       "  51 │ S14049        230808           788\n",
       "  52 │ S14050        167090           580\n",
       "\u001b[36m                           31 rows omitted\u001b[0m"
      ]
     },
     "execution_count": 26,
     "metadata": {},
     "output_type": "execute_result"
    }
   ],
   "source": [
    "@chain df_receipt begin\n",
    "    sort(:store_cd)\n",
    "    groupby(:store_cd)\n",
    "    combine(:amount => sum, :quantity => sum)\n",
    "end"
   ]
  },
  {
   "cell_type": "markdown",
   "id": "12c71e93-1b15-49dc-903a-2d76d9ec8e1e",
   "metadata": {},
   "source": [
    "---\n",
    "> P-024: レシート明細データ（df_receipt）に対し、顧客ID（customer_id）ごとに最も新しい売上年月日（sales_ymd）を求め、10件表示せよ。"
   ]
  },
  {
   "cell_type": "code",
   "execution_count": 27,
   "id": "61f16c96-a7e5-4bbb-8d8c-6d3c292392fe",
   "metadata": {},
   "outputs": [
    {
     "data": {
      "text/html": [
       "<div><div style = \"float: left;\"><span>10×2 DataFrame</span></div><div style = \"clear: both;\"></div></div><div class = \"data-frame\" style = \"overflow-x: scroll;\"><table class = \"data-frame\" style = \"margin-bottom: 6px;\"><thead><tr class = \"header\"><th class = \"rowNumber\" style = \"font-weight: bold; text-align: right;\">Row</th><th style = \"text-align: left;\">customer_id</th><th style = \"text-align: left;\">sales_ymd_maximum</th></tr><tr class = \"subheader headerLastRow\"><th class = \"rowNumber\" style = \"font-weight: bold; text-align: right;\"></th><th title = \"Union{Missing, String}\" style = \"text-align: left;\">String?</th><th title = \"Int32\" style = \"text-align: left;\">Int32</th></tr></thead><tbody><tr><td class = \"rowNumber\" style = \"font-weight: bold; text-align: right;\">1</td><td style = \"text-align: left;\">CS001113000004</td><td style = \"text-align: right;\">20190308</td></tr><tr><td class = \"rowNumber\" style = \"font-weight: bold; text-align: right;\">2</td><td style = \"text-align: left;\">CS001114000005</td><td style = \"text-align: right;\">20190731</td></tr><tr><td class = \"rowNumber\" style = \"font-weight: bold; text-align: right;\">3</td><td style = \"text-align: left;\">CS001115000010</td><td style = \"text-align: right;\">20190405</td></tr><tr><td class = \"rowNumber\" style = \"font-weight: bold; text-align: right;\">4</td><td style = \"text-align: left;\">CS001205000004</td><td style = \"text-align: right;\">20190625</td></tr><tr><td class = \"rowNumber\" style = \"font-weight: bold; text-align: right;\">5</td><td style = \"text-align: left;\">CS001205000006</td><td style = \"text-align: right;\">20190224</td></tr><tr><td class = \"rowNumber\" style = \"font-weight: bold; text-align: right;\">6</td><td style = \"text-align: left;\">CS001211000025</td><td style = \"text-align: right;\">20190322</td></tr><tr><td class = \"rowNumber\" style = \"font-weight: bold; text-align: right;\">7</td><td style = \"text-align: left;\">CS001212000027</td><td style = \"text-align: right;\">20170127</td></tr><tr><td class = \"rowNumber\" style = \"font-weight: bold; text-align: right;\">8</td><td style = \"text-align: left;\">CS001212000031</td><td style = \"text-align: right;\">20180906</td></tr><tr><td class = \"rowNumber\" style = \"font-weight: bold; text-align: right;\">9</td><td style = \"text-align: left;\">CS001212000046</td><td style = \"text-align: right;\">20170811</td></tr><tr><td class = \"rowNumber\" style = \"font-weight: bold; text-align: right;\">10</td><td style = \"text-align: left;\">CS001212000070</td><td style = \"text-align: right;\">20191018</td></tr></tbody></table></div>"
      ],
      "text/latex": [
       "\\begin{tabular}{r|cc}\n",
       "\t& customer\\_id & sales\\_ymd\\_maximum\\\\\n",
       "\t\\hline\n",
       "\t& String? & Int32\\\\\n",
       "\t\\hline\n",
       "\t1 & CS001113000004 & 20190308 \\\\\n",
       "\t2 & CS001114000005 & 20190731 \\\\\n",
       "\t3 & CS001115000010 & 20190405 \\\\\n",
       "\t4 & CS001205000004 & 20190625 \\\\\n",
       "\t5 & CS001205000006 & 20190224 \\\\\n",
       "\t6 & CS001211000025 & 20190322 \\\\\n",
       "\t7 & CS001212000027 & 20170127 \\\\\n",
       "\t8 & CS001212000031 & 20180906 \\\\\n",
       "\t9 & CS001212000046 & 20170811 \\\\\n",
       "\t10 & CS001212000070 & 20191018 \\\\\n",
       "\\end{tabular}\n"
      ],
      "text/plain": [
       "\u001b[1m10×2 DataFrame\u001b[0m\n",
       "\u001b[1m Row \u001b[0m│\u001b[1m customer_id    \u001b[0m\u001b[1m sales_ymd_maximum \u001b[0m\n",
       "     │\u001b[90m String?        \u001b[0m\u001b[90m Int32             \u001b[0m\n",
       "─────┼───────────────────────────────────\n",
       "   1 │ CS001113000004           20190308\n",
       "   2 │ CS001114000005           20190731\n",
       "   3 │ CS001115000010           20190405\n",
       "   4 │ CS001205000004           20190625\n",
       "   5 │ CS001205000006           20190224\n",
       "   6 │ CS001211000025           20190322\n",
       "   7 │ CS001212000027           20170127\n",
       "   8 │ CS001212000031           20180906\n",
       "   9 │ CS001212000046           20170811\n",
       "  10 │ CS001212000070           20191018"
      ]
     },
     "execution_count": 27,
     "metadata": {},
     "output_type": "execute_result"
    }
   ],
   "source": [
    "@chain df_receipt begin\n",
    "    sort(:customer_id)\n",
    "    groupby(:customer_id)\n",
    "    combine(:sales_ymd => maximum)\n",
    "    first(10)\n",
    "end"
   ]
  },
  {
   "cell_type": "markdown",
   "id": "61860feb-d62a-46e0-911b-6587fdf0502d",
   "metadata": {},
   "source": [
    "---\n",
    "> P-025: レシート明細データ（df_receipt）に対し、顧客ID（customer_id）ごとに最も古い売上年月日（sales_ymd）を求め、10件表示せよ。"
   ]
  },
  {
   "cell_type": "code",
   "execution_count": 28,
   "id": "65449769-909a-41f6-8227-8a770bd82422",
   "metadata": {},
   "outputs": [
    {
     "data": {
      "text/html": [
       "<div><div style = \"float: left;\"><span>10×2 DataFrame</span></div><div style = \"clear: both;\"></div></div><div class = \"data-frame\" style = \"overflow-x: scroll;\"><table class = \"data-frame\" style = \"margin-bottom: 6px;\"><thead><tr class = \"header\"><th class = \"rowNumber\" style = \"font-weight: bold; text-align: right;\">Row</th><th style = \"text-align: left;\">customer_id</th><th style = \"text-align: left;\">sales_ymd_minimum</th></tr><tr class = \"subheader headerLastRow\"><th class = \"rowNumber\" style = \"font-weight: bold; text-align: right;\"></th><th title = \"Union{Missing, String}\" style = \"text-align: left;\">String?</th><th title = \"Int32\" style = \"text-align: left;\">Int32</th></tr></thead><tbody><tr><td class = \"rowNumber\" style = \"font-weight: bold; text-align: right;\">1</td><td style = \"text-align: left;\">CS001113000004</td><td style = \"text-align: right;\">20190308</td></tr><tr><td class = \"rowNumber\" style = \"font-weight: bold; text-align: right;\">2</td><td style = \"text-align: left;\">CS001114000005</td><td style = \"text-align: right;\">20180503</td></tr><tr><td class = \"rowNumber\" style = \"font-weight: bold; text-align: right;\">3</td><td style = \"text-align: left;\">CS001115000010</td><td style = \"text-align: right;\">20171228</td></tr><tr><td class = \"rowNumber\" style = \"font-weight: bold; text-align: right;\">4</td><td style = \"text-align: left;\">CS001205000004</td><td style = \"text-align: right;\">20170914</td></tr><tr><td class = \"rowNumber\" style = \"font-weight: bold; text-align: right;\">5</td><td style = \"text-align: left;\">CS001205000006</td><td style = \"text-align: right;\">20180207</td></tr><tr><td class = \"rowNumber\" style = \"font-weight: bold; text-align: right;\">6</td><td style = \"text-align: left;\">CS001211000025</td><td style = \"text-align: right;\">20190322</td></tr><tr><td class = \"rowNumber\" style = \"font-weight: bold; text-align: right;\">7</td><td style = \"text-align: left;\">CS001212000027</td><td style = \"text-align: right;\">20170127</td></tr><tr><td class = \"rowNumber\" style = \"font-weight: bold; text-align: right;\">8</td><td style = \"text-align: left;\">CS001212000031</td><td style = \"text-align: right;\">20180906</td></tr><tr><td class = \"rowNumber\" style = \"font-weight: bold; text-align: right;\">9</td><td style = \"text-align: left;\">CS001212000046</td><td style = \"text-align: right;\">20170811</td></tr><tr><td class = \"rowNumber\" style = \"font-weight: bold; text-align: right;\">10</td><td style = \"text-align: left;\">CS001212000070</td><td style = \"text-align: right;\">20191018</td></tr></tbody></table></div>"
      ],
      "text/latex": [
       "\\begin{tabular}{r|cc}\n",
       "\t& customer\\_id & sales\\_ymd\\_minimum\\\\\n",
       "\t\\hline\n",
       "\t& String? & Int32\\\\\n",
       "\t\\hline\n",
       "\t1 & CS001113000004 & 20190308 \\\\\n",
       "\t2 & CS001114000005 & 20180503 \\\\\n",
       "\t3 & CS001115000010 & 20171228 \\\\\n",
       "\t4 & CS001205000004 & 20170914 \\\\\n",
       "\t5 & CS001205000006 & 20180207 \\\\\n",
       "\t6 & CS001211000025 & 20190322 \\\\\n",
       "\t7 & CS001212000027 & 20170127 \\\\\n",
       "\t8 & CS001212000031 & 20180906 \\\\\n",
       "\t9 & CS001212000046 & 20170811 \\\\\n",
       "\t10 & CS001212000070 & 20191018 \\\\\n",
       "\\end{tabular}\n"
      ],
      "text/plain": [
       "\u001b[1m10×2 DataFrame\u001b[0m\n",
       "\u001b[1m Row \u001b[0m│\u001b[1m customer_id    \u001b[0m\u001b[1m sales_ymd_minimum \u001b[0m\n",
       "     │\u001b[90m String?        \u001b[0m\u001b[90m Int32             \u001b[0m\n",
       "─────┼───────────────────────────────────\n",
       "   1 │ CS001113000004           20190308\n",
       "   2 │ CS001114000005           20180503\n",
       "   3 │ CS001115000010           20171228\n",
       "   4 │ CS001205000004           20170914\n",
       "   5 │ CS001205000006           20180207\n",
       "   6 │ CS001211000025           20190322\n",
       "   7 │ CS001212000027           20170127\n",
       "   8 │ CS001212000031           20180906\n",
       "   9 │ CS001212000046           20170811\n",
       "  10 │ CS001212000070           20191018"
      ]
     },
     "execution_count": 28,
     "metadata": {},
     "output_type": "execute_result"
    }
   ],
   "source": [
    "@chain df_receipt begin\n",
    "    sort(:customer_id)\n",
    "    groupby(:customer_id)\n",
    "    combine(:sales_ymd => minimum)\n",
    "    first(10)\n",
    "end"
   ]
  },
  {
   "cell_type": "markdown",
   "id": "396ce520-6107-478b-8461-9cb822de21a6",
   "metadata": {},
   "source": [
    "---\n",
    "> P-026: レシート明細データ（df_receipt）に対し、顧客ID（customer_id）ごとに最も新しい売上年月日（sales_ymd）と古い売上年月日を求め、両者が異なるデータを10件表示せよ。"
   ]
  },
  {
   "cell_type": "code",
   "execution_count": 29,
   "id": "2ae8c243-9068-408c-a478-cbe8e1b9689b",
   "metadata": {},
   "outputs": [
    {
     "data": {
      "text/html": [
       "<div><div style = \"float: left;\"><span>10×3 DataFrame</span></div><div style = \"clear: both;\"></div></div><div class = \"data-frame\" style = \"overflow-x: scroll;\"><table class = \"data-frame\" style = \"margin-bottom: 6px;\"><thead><tr class = \"header\"><th class = \"rowNumber\" style = \"font-weight: bold; text-align: right;\">Row</th><th style = \"text-align: left;\">customer_id</th><th style = \"text-align: left;\">sales_ymd_maximum</th><th style = \"text-align: left;\">sales_ymd_minimum</th></tr><tr class = \"subheader headerLastRow\"><th class = \"rowNumber\" style = \"font-weight: bold; text-align: right;\"></th><th title = \"Union{Missing, String}\" style = \"text-align: left;\">String?</th><th title = \"Int32\" style = \"text-align: left;\">Int32</th><th title = \"Int32\" style = \"text-align: left;\">Int32</th></tr></thead><tbody><tr><td class = \"rowNumber\" style = \"font-weight: bold; text-align: right;\">1</td><td style = \"text-align: left;\">CS001114000005</td><td style = \"text-align: right;\">20190731</td><td style = \"text-align: right;\">20180503</td></tr><tr><td class = \"rowNumber\" style = \"font-weight: bold; text-align: right;\">2</td><td style = \"text-align: left;\">CS001115000010</td><td style = \"text-align: right;\">20190405</td><td style = \"text-align: right;\">20171228</td></tr><tr><td class = \"rowNumber\" style = \"font-weight: bold; text-align: right;\">3</td><td style = \"text-align: left;\">CS001205000004</td><td style = \"text-align: right;\">20190625</td><td style = \"text-align: right;\">20170914</td></tr><tr><td class = \"rowNumber\" style = \"font-weight: bold; text-align: right;\">4</td><td style = \"text-align: left;\">CS001205000006</td><td style = \"text-align: right;\">20190224</td><td style = \"text-align: right;\">20180207</td></tr><tr><td class = \"rowNumber\" style = \"font-weight: bold; text-align: right;\">5</td><td style = \"text-align: left;\">CS001214000009</td><td style = \"text-align: right;\">20190902</td><td style = \"text-align: right;\">20170306</td></tr><tr><td class = \"rowNumber\" style = \"font-weight: bold; text-align: right;\">6</td><td style = \"text-align: left;\">CS001214000017</td><td style = \"text-align: right;\">20191006</td><td style = \"text-align: right;\">20180828</td></tr><tr><td class = \"rowNumber\" style = \"font-weight: bold; text-align: right;\">7</td><td style = \"text-align: left;\">CS001214000048</td><td style = \"text-align: right;\">20190929</td><td style = \"text-align: right;\">20171109</td></tr><tr><td class = \"rowNumber\" style = \"font-weight: bold; text-align: right;\">8</td><td style = \"text-align: left;\">CS001214000052</td><td style = \"text-align: right;\">20190617</td><td style = \"text-align: right;\">20180208</td></tr><tr><td class = \"rowNumber\" style = \"font-weight: bold; text-align: right;\">9</td><td style = \"text-align: left;\">CS001215000005</td><td style = \"text-align: right;\">20181021</td><td style = \"text-align: right;\">20170206</td></tr><tr><td class = \"rowNumber\" style = \"font-weight: bold; text-align: right;\">10</td><td style = \"text-align: left;\">CS001215000040</td><td style = \"text-align: right;\">20171022</td><td style = \"text-align: right;\">20170214</td></tr></tbody></table></div>"
      ],
      "text/latex": [
       "\\begin{tabular}{r|ccc}\n",
       "\t& customer\\_id & sales\\_ymd\\_maximum & sales\\_ymd\\_minimum\\\\\n",
       "\t\\hline\n",
       "\t& String? & Int32 & Int32\\\\\n",
       "\t\\hline\n",
       "\t1 & CS001114000005 & 20190731 & 20180503 \\\\\n",
       "\t2 & CS001115000010 & 20190405 & 20171228 \\\\\n",
       "\t3 & CS001205000004 & 20190625 & 20170914 \\\\\n",
       "\t4 & CS001205000006 & 20190224 & 20180207 \\\\\n",
       "\t5 & CS001214000009 & 20190902 & 20170306 \\\\\n",
       "\t6 & CS001214000017 & 20191006 & 20180828 \\\\\n",
       "\t7 & CS001214000048 & 20190929 & 20171109 \\\\\n",
       "\t8 & CS001214000052 & 20190617 & 20180208 \\\\\n",
       "\t9 & CS001215000005 & 20181021 & 20170206 \\\\\n",
       "\t10 & CS001215000040 & 20171022 & 20170214 \\\\\n",
       "\\end{tabular}\n"
      ],
      "text/plain": [
       "\u001b[1m10×3 DataFrame\u001b[0m\n",
       "\u001b[1m Row \u001b[0m│\u001b[1m customer_id    \u001b[0m\u001b[1m sales_ymd_maximum \u001b[0m\u001b[1m sales_ymd_minimum \u001b[0m\n",
       "     │\u001b[90m String?        \u001b[0m\u001b[90m Int32             \u001b[0m\u001b[90m Int32             \u001b[0m\n",
       "─────┼──────────────────────────────────────────────────────\n",
       "   1 │ CS001114000005           20190731           20180503\n",
       "   2 │ CS001115000010           20190405           20171228\n",
       "   3 │ CS001205000004           20190625           20170914\n",
       "   4 │ CS001205000006           20190224           20180207\n",
       "   5 │ CS001214000009           20190902           20170306\n",
       "   6 │ CS001214000017           20191006           20180828\n",
       "   7 │ CS001214000048           20190929           20171109\n",
       "   8 │ CS001214000052           20190617           20180208\n",
       "   9 │ CS001215000005           20181021           20170206\n",
       "  10 │ CS001215000040           20171022           20170214"
      ]
     },
     "execution_count": 29,
     "metadata": {},
     "output_type": "execute_result"
    }
   ],
   "source": [
    "@chain df_receipt begin\n",
    "    sort(:customer_id)\n",
    "    groupby(:customer_id)\n",
    "    combine(:sales_ymd => maximum, :sales_ymd => minimum)\n",
    "    @subset(:sales_ymd_minimum .!= :sales_ymd_maximum)\n",
    "    first(10)\n",
    "end"
   ]
  },
  {
   "cell_type": "markdown",
   "id": "8e553c7c-96ca-4cdb-b596-4f4eb084647f",
   "metadata": {},
   "source": [
    "---\n",
    "> P-027: レシート明細データ（df_receipt）に対し、店舗コード（store_cd）ごとに売上金額（amount）の平均を計算し、降順でTOP5を表示せよ。"
   ]
  },
  {
   "cell_type": "code",
   "execution_count": 30,
   "id": "0b4409c5-189a-4c75-85ed-39e468b74af7",
   "metadata": {},
   "outputs": [
    {
     "data": {
      "text/html": [
       "<div><div style = \"float: left;\"><span>5×2 DataFrame</span></div><div style = \"clear: both;\"></div></div><div class = \"data-frame\" style = \"overflow-x: scroll;\"><table class = \"data-frame\" style = \"margin-bottom: 6px;\"><thead><tr class = \"header\"><th class = \"rowNumber\" style = \"font-weight: bold; text-align: right;\">Row</th><th style = \"text-align: left;\">store_cd</th><th style = \"text-align: left;\">amount_mean</th></tr><tr class = \"subheader headerLastRow\"><th class = \"rowNumber\" style = \"font-weight: bold; text-align: right;\"></th><th title = \"Union{Missing, String}\" style = \"text-align: left;\">String?</th><th title = \"Float64\" style = \"text-align: left;\">Float64</th></tr></thead><tbody><tr><td class = \"rowNumber\" style = \"font-weight: bold; text-align: right;\">1</td><td style = \"text-align: left;\">S13052</td><td style = \"text-align: right;\">402.867</td></tr><tr><td class = \"rowNumber\" style = \"font-weight: bold; text-align: right;\">2</td><td style = \"text-align: left;\">S13015</td><td style = \"text-align: right;\">351.112</td></tr><tr><td class = \"rowNumber\" style = \"font-weight: bold; text-align: right;\">3</td><td style = \"text-align: left;\">S13003</td><td style = \"text-align: right;\">350.916</td></tr><tr><td class = \"rowNumber\" style = \"font-weight: bold; text-align: right;\">4</td><td style = \"text-align: left;\">S14010</td><td style = \"text-align: right;\">348.791</td></tr><tr><td class = \"rowNumber\" style = \"font-weight: bold; text-align: right;\">5</td><td style = \"text-align: left;\">S13001</td><td style = \"text-align: right;\">348.47</td></tr></tbody></table></div>"
      ],
      "text/latex": [
       "\\begin{tabular}{r|cc}\n",
       "\t& store\\_cd & amount\\_mean\\\\\n",
       "\t\\hline\n",
       "\t& String? & Float64\\\\\n",
       "\t\\hline\n",
       "\t1 & S13052 & 402.867 \\\\\n",
       "\t2 & S13015 & 351.112 \\\\\n",
       "\t3 & S13003 & 350.916 \\\\\n",
       "\t4 & S14010 & 348.791 \\\\\n",
       "\t5 & S13001 & 348.47 \\\\\n",
       "\\end{tabular}\n"
      ],
      "text/plain": [
       "\u001b[1m5×2 DataFrame\u001b[0m\n",
       "\u001b[1m Row \u001b[0m│\u001b[1m store_cd \u001b[0m\u001b[1m amount_mean \u001b[0m\n",
       "     │\u001b[90m String?  \u001b[0m\u001b[90m Float64     \u001b[0m\n",
       "─────┼───────────────────────\n",
       "   1 │ S13052        402.867\n",
       "   2 │ S13015        351.112\n",
       "   3 │ S13003        350.916\n",
       "   4 │ S14010        348.791\n",
       "   5 │ S13001        348.47"
      ]
     },
     "execution_count": 30,
     "metadata": {},
     "output_type": "execute_result"
    }
   ],
   "source": [
    "@chain df_receipt begin\n",
    "    select(:store_cd, :amount)\n",
    "    groupby(:store_cd)\n",
    "    combine(:amount => mean)\n",
    "    sort(:amount_mean, rev=true)\n",
    "    first(5)\n",
    "end"
   ]
  },
  {
   "cell_type": "markdown",
   "id": "9ac5ccce-7096-4194-952b-5d752fd8f586",
   "metadata": {},
   "source": [
    "---\n",
    "> P-028: レシート明細データ（df_receipt）に対し、店舗コード（store_cd）ごとに売上金額（amount）の中央値を計算し、降順でTOP5を表示せよ。"
   ]
  },
  {
   "cell_type": "code",
   "execution_count": 31,
   "id": "6376f1ca-081a-472b-aaca-5b1cc27ee75f",
   "metadata": {},
   "outputs": [
    {
     "data": {
      "text/html": [
       "<div><div style = \"float: left;\"><span>5×2 DataFrame</span></div><div style = \"clear: both;\"></div></div><div class = \"data-frame\" style = \"overflow-x: scroll;\"><table class = \"data-frame\" style = \"margin-bottom: 6px;\"><thead><tr class = \"header\"><th class = \"rowNumber\" style = \"font-weight: bold; text-align: right;\">Row</th><th style = \"text-align: left;\">store_cd</th><th style = \"text-align: left;\">amount_median</th></tr><tr class = \"subheader headerLastRow\"><th class = \"rowNumber\" style = \"font-weight: bold; text-align: right;\"></th><th title = \"Union{Missing, String}\" style = \"text-align: left;\">String?</th><th title = \"Float64\" style = \"text-align: left;\">Float64</th></tr></thead><tbody><tr><td class = \"rowNumber\" style = \"font-weight: bold; text-align: right;\">1</td><td style = \"text-align: left;\">S13052</td><td style = \"text-align: right;\">190.0</td></tr><tr><td class = \"rowNumber\" style = \"font-weight: bold; text-align: right;\">2</td><td style = \"text-align: left;\">S14010</td><td style = \"text-align: right;\">188.0</td></tr><tr><td class = \"rowNumber\" style = \"font-weight: bold; text-align: right;\">3</td><td style = \"text-align: left;\">S14050</td><td style = \"text-align: right;\">185.0</td></tr><tr><td class = \"rowNumber\" style = \"font-weight: bold; text-align: right;\">4</td><td style = \"text-align: left;\">S13003</td><td style = \"text-align: right;\">180.0</td></tr><tr><td class = \"rowNumber\" style = \"font-weight: bold; text-align: right;\">5</td><td style = \"text-align: left;\">S14040</td><td style = \"text-align: right;\">180.0</td></tr></tbody></table></div>"
      ],
      "text/latex": [
       "\\begin{tabular}{r|cc}\n",
       "\t& store\\_cd & amount\\_median\\\\\n",
       "\t\\hline\n",
       "\t& String? & Float64\\\\\n",
       "\t\\hline\n",
       "\t1 & S13052 & 190.0 \\\\\n",
       "\t2 & S14010 & 188.0 \\\\\n",
       "\t3 & S14050 & 185.0 \\\\\n",
       "\t4 & S13003 & 180.0 \\\\\n",
       "\t5 & S14040 & 180.0 \\\\\n",
       "\\end{tabular}\n"
      ],
      "text/plain": [
       "\u001b[1m5×2 DataFrame\u001b[0m\n",
       "\u001b[1m Row \u001b[0m│\u001b[1m store_cd \u001b[0m\u001b[1m amount_median \u001b[0m\n",
       "     │\u001b[90m String?  \u001b[0m\u001b[90m Float64       \u001b[0m\n",
       "─────┼─────────────────────────\n",
       "   1 │ S13052            190.0\n",
       "   2 │ S14010            188.0\n",
       "   3 │ S14050            185.0\n",
       "   4 │ S13003            180.0\n",
       "   5 │ S14040            180.0"
      ]
     },
     "execution_count": 31,
     "metadata": {},
     "output_type": "execute_result"
    }
   ],
   "source": [
    "@chain df_receipt begin\n",
    "    select(:store_cd, :amount)\n",
    "    groupby(:store_cd)\n",
    "    combine(:amount => median)\n",
    "    sort(:amount_median, rev=true)\n",
    "    first(5)\n",
    "end"
   ]
  },
  {
   "cell_type": "markdown",
   "id": "fa0d048c-efdc-4c7d-b301-8f9e9e5b386b",
   "metadata": {},
   "source": [
    "---\n",
    "> P-029: レシート明細データ（df_receipt）に対し、店舗コード（store_cd）ごとに商品コード（product_cd）の最頻値を求め、10件表示させよ。"
   ]
  },
  {
   "cell_type": "code",
   "execution_count": 32,
   "id": "b88f743c-1a21-4552-b42a-ae58ace9b98b",
   "metadata": {},
   "outputs": [
    {
     "data": {
      "text/html": [
       "<div><div style = \"float: left;\"><span>10×2 DataFrame</span></div><div style = \"clear: both;\"></div></div><div class = \"data-frame\" style = \"overflow-x: scroll;\"><table class = \"data-frame\" style = \"margin-bottom: 6px;\"><thead><tr class = \"header\"><th class = \"rowNumber\" style = \"font-weight: bold; text-align: right;\">Row</th><th style = \"text-align: left;\">store_cd</th><th style = \"text-align: left;\">product_cd_mode</th></tr><tr class = \"subheader headerLastRow\"><th class = \"rowNumber\" style = \"font-weight: bold; text-align: right;\"></th><th title = \"Union{Missing, String}\" style = \"text-align: left;\">String?</th><th title = \"String\" style = \"text-align: left;\">String</th></tr></thead><tbody><tr><td class = \"rowNumber\" style = \"font-weight: bold; text-align: right;\">1</td><td style = \"text-align: left;\">S12007</td><td style = \"text-align: left;\">P060303001</td></tr><tr><td class = \"rowNumber\" style = \"font-weight: bold; text-align: right;\">2</td><td style = \"text-align: left;\">S12013</td><td style = \"text-align: left;\">P060303001</td></tr><tr><td class = \"rowNumber\" style = \"font-weight: bold; text-align: right;\">3</td><td style = \"text-align: left;\">S12014</td><td style = \"text-align: left;\">P060303001</td></tr><tr><td class = \"rowNumber\" style = \"font-weight: bold; text-align: right;\">4</td><td style = \"text-align: left;\">S12029</td><td style = \"text-align: left;\">P060303001</td></tr><tr><td class = \"rowNumber\" style = \"font-weight: bold; text-align: right;\">5</td><td style = \"text-align: left;\">S12030</td><td style = \"text-align: left;\">P060303001</td></tr><tr><td class = \"rowNumber\" style = \"font-weight: bold; text-align: right;\">6</td><td style = \"text-align: left;\">S13001</td><td style = \"text-align: left;\">P060303001</td></tr><tr><td class = \"rowNumber\" style = \"font-weight: bold; text-align: right;\">7</td><td style = \"text-align: left;\">S13002</td><td style = \"text-align: left;\">P060303001</td></tr><tr><td class = \"rowNumber\" style = \"font-weight: bold; text-align: right;\">8</td><td style = \"text-align: left;\">S13003</td><td style = \"text-align: left;\">P071401001</td></tr><tr><td class = \"rowNumber\" style = \"font-weight: bold; text-align: right;\">9</td><td style = \"text-align: left;\">S13004</td><td style = \"text-align: left;\">P060303001</td></tr><tr><td class = \"rowNumber\" style = \"font-weight: bold; text-align: right;\">10</td><td style = \"text-align: left;\">S13005</td><td style = \"text-align: left;\">P040503001</td></tr></tbody></table></div>"
      ],
      "text/latex": [
       "\\begin{tabular}{r|cc}\n",
       "\t& store\\_cd & product\\_cd\\_mode\\\\\n",
       "\t\\hline\n",
       "\t& String? & String\\\\\n",
       "\t\\hline\n",
       "\t1 & S12007 & P060303001 \\\\\n",
       "\t2 & S12013 & P060303001 \\\\\n",
       "\t3 & S12014 & P060303001 \\\\\n",
       "\t4 & S12029 & P060303001 \\\\\n",
       "\t5 & S12030 & P060303001 \\\\\n",
       "\t6 & S13001 & P060303001 \\\\\n",
       "\t7 & S13002 & P060303001 \\\\\n",
       "\t8 & S13003 & P071401001 \\\\\n",
       "\t9 & S13004 & P060303001 \\\\\n",
       "\t10 & S13005 & P040503001 \\\\\n",
       "\\end{tabular}\n"
      ],
      "text/plain": [
       "\u001b[1m10×2 DataFrame\u001b[0m\n",
       "\u001b[1m Row \u001b[0m│\u001b[1m store_cd \u001b[0m\u001b[1m product_cd_mode \u001b[0m\n",
       "     │\u001b[90m String?  \u001b[0m\u001b[90m String          \u001b[0m\n",
       "─────┼───────────────────────────\n",
       "   1 │ S12007    P060303001\n",
       "   2 │ S12013    P060303001\n",
       "   3 │ S12014    P060303001\n",
       "   4 │ S12029    P060303001\n",
       "   5 │ S12030    P060303001\n",
       "   6 │ S13001    P060303001\n",
       "   7 │ S13002    P060303001\n",
       "   8 │ S13003    P071401001\n",
       "   9 │ S13004    P060303001\n",
       "  10 │ S13005    P040503001"
      ]
     },
     "execution_count": 32,
     "metadata": {},
     "output_type": "execute_result"
    }
   ],
   "source": [
    "@chain df_receipt begin\n",
    "    select(:store_cd, :product_cd)\n",
    "    sort(:store_cd)\n",
    "    groupby(:store_cd)\n",
    "    combine(:product_cd => mode)\n",
    "    first(10)\n",
    "end"
   ]
  },
  {
   "cell_type": "markdown",
   "id": "05ef7b5f-538b-4c82-ba3d-b892626b0655",
   "metadata": {},
   "source": [
    "---\n",
    "> P-030: レシート明細データ（df_receipt）に対し、店舗コード（store_cd）ごとに売上金額（amount）の分散を計算し、降順で5件表示せよ。"
   ]
  },
  {
   "cell_type": "code",
   "execution_count": 33,
   "id": "19780285-d1c1-4ac4-8692-75062445f3ae",
   "metadata": {},
   "outputs": [
    {
     "data": {
      "text/html": [
       "<div><div style = \"float: left;\"><span>5×2 DataFrame</span></div><div style = \"clear: both;\"></div></div><div class = \"data-frame\" style = \"overflow-x: scroll;\"><table class = \"data-frame\" style = \"margin-bottom: 6px;\"><thead><tr class = \"header\"><th class = \"rowNumber\" style = \"font-weight: bold; text-align: right;\">Row</th><th style = \"text-align: left;\">store_cd</th><th style = \"text-align: left;\">amount_var</th></tr><tr class = \"subheader headerLastRow\"><th class = \"rowNumber\" style = \"font-weight: bold; text-align: right;\"></th><th title = \"Union{Missing, String}\" style = \"text-align: left;\">String?</th><th title = \"Float64\" style = \"text-align: left;\">Float64</th></tr></thead><tbody><tr><td class = \"rowNumber\" style = \"font-weight: bold; text-align: right;\">1</td><td style = \"text-align: left;\">S13052</td><td style = \"text-align: right;\">4.41863e5</td></tr><tr><td class = \"rowNumber\" style = \"font-weight: bold; text-align: right;\">2</td><td style = \"text-align: left;\">S14011</td><td style = \"text-align: right;\">3.06442e5</td></tr><tr><td class = \"rowNumber\" style = \"font-weight: bold; text-align: right;\">3</td><td style = \"text-align: left;\">S14034</td><td style = \"text-align: right;\">2.97068e5</td></tr><tr><td class = \"rowNumber\" style = \"font-weight: bold; text-align: right;\">4</td><td style = \"text-align: left;\">S13001</td><td style = \"text-align: right;\">2.95559e5</td></tr><tr><td class = \"rowNumber\" style = \"font-weight: bold; text-align: right;\">5</td><td style = \"text-align: left;\">S13015</td><td style = \"text-align: right;\">2.95427e5</td></tr></tbody></table></div>"
      ],
      "text/latex": [
       "\\begin{tabular}{r|cc}\n",
       "\t& store\\_cd & amount\\_var\\\\\n",
       "\t\\hline\n",
       "\t& String? & Float64\\\\\n",
       "\t\\hline\n",
       "\t1 & S13052 & 4.41863e5 \\\\\n",
       "\t2 & S14011 & 3.06442e5 \\\\\n",
       "\t3 & S14034 & 2.97068e5 \\\\\n",
       "\t4 & S13001 & 2.95559e5 \\\\\n",
       "\t5 & S13015 & 2.95427e5 \\\\\n",
       "\\end{tabular}\n"
      ],
      "text/plain": [
       "\u001b[1m5×2 DataFrame\u001b[0m\n",
       "\u001b[1m Row \u001b[0m│\u001b[1m store_cd \u001b[0m\u001b[1m amount_var \u001b[0m\n",
       "     │\u001b[90m String?  \u001b[0m\u001b[90m Float64    \u001b[0m\n",
       "─────┼──────────────────────\n",
       "   1 │ S13052     4.41863e5\n",
       "   2 │ S14011     3.06442e5\n",
       "   3 │ S14034     2.97068e5\n",
       "   4 │ S13001     2.95559e5\n",
       "   5 │ S13015     2.95427e5"
      ]
     },
     "execution_count": 33,
     "metadata": {},
     "output_type": "execute_result"
    }
   ],
   "source": [
    "@chain df_receipt begin\n",
    "    select(:store_cd, :amount)\n",
    "    groupby(:store_cd)\n",
    "    combine(:amount => var)\n",
    "    sort(:amount_var, rev=true)\n",
    "    first(5)\n",
    "end"
   ]
  },
  {
   "cell_type": "markdown",
   "id": "5596d008-7f3b-493f-816f-87d22ca9ae7d",
   "metadata": {},
   "source": [
    "---\n",
    "> P-031: レシート明細データ（df_receipt）に対し、店舗コード（store_cd）ごとに売上金額（amount）の標準偏差を計算し、降順で5件表示せよ。"
   ]
  },
  {
   "cell_type": "code",
   "execution_count": 34,
   "id": "591267d8-0025-4efa-b874-033f6c00b2d6",
   "metadata": {},
   "outputs": [
    {
     "data": {
      "text/html": [
       "<div><div style = \"float: left;\"><span>5×3 DataFrame</span></div><div style = \"clear: both;\"></div></div><div class = \"data-frame\" style = \"overflow-x: scroll;\"><table class = \"data-frame\" style = \"margin-bottom: 6px;\"><thead><tr class = \"header\"><th class = \"rowNumber\" style = \"font-weight: bold; text-align: right;\">Row</th><th style = \"text-align: left;\">store_cd</th><th style = \"text-align: left;\">amount_stdpop</th><th style = \"text-align: left;\">amount_std</th></tr><tr class = \"subheader headerLastRow\"><th class = \"rowNumber\" style = \"font-weight: bold; text-align: right;\"></th><th title = \"Union{Missing, String}\" style = \"text-align: left;\">String?</th><th title = \"Float64\" style = \"text-align: left;\">Float64</th><th title = \"Float64\" style = \"text-align: left;\">Float64</th></tr></thead><tbody><tr><td class = \"rowNumber\" style = \"font-weight: bold; text-align: right;\">1</td><td style = \"text-align: left;\">S13052</td><td style = \"text-align: right;\">663.392</td><td style = \"text-align: right;\">664.728</td></tr><tr><td class = \"rowNumber\" style = \"font-weight: bold; text-align: right;\">2</td><td style = \"text-align: left;\">S14011</td><td style = \"text-align: right;\">553.457</td><td style = \"text-align: right;\">553.572</td></tr><tr><td class = \"rowNumber\" style = \"font-weight: bold; text-align: right;\">3</td><td style = \"text-align: left;\">S14034</td><td style = \"text-align: right;\">544.904</td><td style = \"text-align: right;\">545.04</td></tr><tr><td class = \"rowNumber\" style = \"font-weight: bold; text-align: right;\">4</td><td style = \"text-align: left;\">S13001</td><td style = \"text-align: right;\">543.537</td><td style = \"text-align: right;\">543.653</td></tr><tr><td class = \"rowNumber\" style = \"font-weight: bold; text-align: right;\">5</td><td style = \"text-align: left;\">S13015</td><td style = \"text-align: right;\">543.41</td><td style = \"text-align: right;\">543.532</td></tr></tbody></table></div>"
      ],
      "text/latex": [
       "\\begin{tabular}{r|ccc}\n",
       "\t& store\\_cd & amount\\_stdpop & amount\\_std\\\\\n",
       "\t\\hline\n",
       "\t& String? & Float64 & Float64\\\\\n",
       "\t\\hline\n",
       "\t1 & S13052 & 663.392 & 664.728 \\\\\n",
       "\t2 & S14011 & 553.457 & 553.572 \\\\\n",
       "\t3 & S14034 & 544.904 & 545.04 \\\\\n",
       "\t4 & S13001 & 543.537 & 543.653 \\\\\n",
       "\t5 & S13015 & 543.41 & 543.532 \\\\\n",
       "\\end{tabular}\n"
      ],
      "text/plain": [
       "\u001b[1m5×3 DataFrame\u001b[0m\n",
       "\u001b[1m Row \u001b[0m│\u001b[1m store_cd \u001b[0m\u001b[1m amount_stdpop \u001b[0m\u001b[1m amount_std \u001b[0m\n",
       "     │\u001b[90m String?  \u001b[0m\u001b[90m Float64       \u001b[0m\u001b[90m Float64    \u001b[0m\n",
       "─────┼─────────────────────────────────────\n",
       "   1 │ S13052          663.392     664.728\n",
       "   2 │ S14011          553.457     553.572\n",
       "   3 │ S14034          544.904     545.04\n",
       "   4 │ S13001          543.537     543.653\n",
       "   5 │ S13015          543.41      543.532"
      ]
     },
     "execution_count": 34,
     "metadata": {},
     "output_type": "execute_result"
    }
   ],
   "source": [
    "stdpop(x) = std(x, corrected=false)\n",
    "@chain df_receipt begin\n",
    "    select(:store_cd, :amount)\n",
    "    groupby(:store_cd)\n",
    "    combine(:amount => stdpop, :amount => std)\n",
    "    sort(:amount_stdpop, rev=true)\n",
    "    first(5)\n",
    "end"
   ]
  },
  {
   "cell_type": "markdown",
   "id": "aa3fb5fa-9f35-4183-a608-abe9c8c9173b",
   "metadata": {},
   "source": [
    "---\n",
    "> P-032: レシート明細データ（df_receipt）の売上金額（amount）について、25％刻みでパーセンタイル値を求めよ。"
   ]
  },
  {
   "cell_type": "code",
   "execution_count": 35,
   "id": "986d3313-be47-4def-9afb-76d6d04eb510",
   "metadata": {},
   "outputs": [
    {
     "data": {
      "text/plain": [
       "5-element Vector{Float64}:\n",
       "    10.0\n",
       "   102.0\n",
       "   170.0\n",
       "   288.0\n",
       " 10925.0"
      ]
     },
     "execution_count": 35,
     "metadata": {},
     "output_type": "execute_result"
    }
   ],
   "source": [
    "quantile(df_receipt.amount, [0, 0.25, 0.5, 0.75, 1])"
   ]
  },
  {
   "cell_type": "markdown",
   "id": "78130490-6d22-477f-a070-33f382d3edf6",
   "metadata": {},
   "source": [
    "---\n",
    "> P-033: レシート明細データ（df_receipt）に対し、店舗コード（store_cd）ごとに売上金額（amount）の平均を計算し、330以上のものを抽出せよ。"
   ]
  },
  {
   "cell_type": "code",
   "execution_count": 36,
   "id": "5de85ac9-b601-420b-a03b-1b89d465189b",
   "metadata": {},
   "outputs": [
    {
     "data": {
      "text/html": [
       "<div><div style = \"float: left;\"><span>13×2 DataFrame</span></div><div style = \"clear: both;\"></div></div><div class = \"data-frame\" style = \"overflow-x: scroll;\"><table class = \"data-frame\" style = \"margin-bottom: 6px;\"><thead><tr class = \"header\"><th class = \"rowNumber\" style = \"font-weight: bold; text-align: right;\">Row</th><th style = \"text-align: left;\">store_cd</th><th style = \"text-align: left;\">amount_mean</th></tr><tr class = \"subheader headerLastRow\"><th class = \"rowNumber\" style = \"font-weight: bold; text-align: right;\"></th><th title = \"Union{Missing, String}\" style = \"text-align: left;\">String?</th><th title = \"Float64\" style = \"text-align: left;\">Float64</th></tr></thead><tbody><tr><td class = \"rowNumber\" style = \"font-weight: bold; text-align: right;\">1</td><td style = \"text-align: left;\">S12013</td><td style = \"text-align: right;\">330.194</td></tr><tr><td class = \"rowNumber\" style = \"font-weight: bold; text-align: right;\">2</td><td style = \"text-align: left;\">S13001</td><td style = \"text-align: right;\">348.47</td></tr><tr><td class = \"rowNumber\" style = \"font-weight: bold; text-align: right;\">3</td><td style = \"text-align: left;\">S13003</td><td style = \"text-align: right;\">350.916</td></tr><tr><td class = \"rowNumber\" style = \"font-weight: bold; text-align: right;\">4</td><td style = \"text-align: left;\">S13004</td><td style = \"text-align: right;\">330.944</td></tr><tr><td class = \"rowNumber\" style = \"font-weight: bold; text-align: right;\">5</td><td style = \"text-align: left;\">S13015</td><td style = \"text-align: right;\">351.112</td></tr><tr><td class = \"rowNumber\" style = \"font-weight: bold; text-align: right;\">6</td><td style = \"text-align: left;\">S13019</td><td style = \"text-align: right;\">330.209</td></tr><tr><td class = \"rowNumber\" style = \"font-weight: bold; text-align: right;\">7</td><td style = \"text-align: left;\">S13020</td><td style = \"text-align: right;\">337.88</td></tr><tr><td class = \"rowNumber\" style = \"font-weight: bold; text-align: right;\">8</td><td style = \"text-align: left;\">S13052</td><td style = \"text-align: right;\">402.867</td></tr><tr><td class = \"rowNumber\" style = \"font-weight: bold; text-align: right;\">9</td><td style = \"text-align: left;\">S14010</td><td style = \"text-align: right;\">348.791</td></tr><tr><td class = \"rowNumber\" style = \"font-weight: bold; text-align: right;\">10</td><td style = \"text-align: left;\">S14011</td><td style = \"text-align: right;\">335.718</td></tr><tr><td class = \"rowNumber\" style = \"font-weight: bold; text-align: right;\">11</td><td style = \"text-align: left;\">S14026</td><td style = \"text-align: right;\">332.341</td></tr><tr><td class = \"rowNumber\" style = \"font-weight: bold; text-align: right;\">12</td><td style = \"text-align: left;\">S14045</td><td style = \"text-align: right;\">330.082</td></tr><tr><td class = \"rowNumber\" style = \"font-weight: bold; text-align: right;\">13</td><td style = \"text-align: left;\">S14047</td><td style = \"text-align: right;\">330.077</td></tr></tbody></table></div>"
      ],
      "text/latex": [
       "\\begin{tabular}{r|cc}\n",
       "\t& store\\_cd & amount\\_mean\\\\\n",
       "\t\\hline\n",
       "\t& String? & Float64\\\\\n",
       "\t\\hline\n",
       "\t1 & S12013 & 330.194 \\\\\n",
       "\t2 & S13001 & 348.47 \\\\\n",
       "\t3 & S13003 & 350.916 \\\\\n",
       "\t4 & S13004 & 330.944 \\\\\n",
       "\t5 & S13015 & 351.112 \\\\\n",
       "\t6 & S13019 & 330.209 \\\\\n",
       "\t7 & S13020 & 337.88 \\\\\n",
       "\t8 & S13052 & 402.867 \\\\\n",
       "\t9 & S14010 & 348.791 \\\\\n",
       "\t10 & S14011 & 335.718 \\\\\n",
       "\t11 & S14026 & 332.341 \\\\\n",
       "\t12 & S14045 & 330.082 \\\\\n",
       "\t13 & S14047 & 330.077 \\\\\n",
       "\\end{tabular}\n"
      ],
      "text/plain": [
       "\u001b[1m13×2 DataFrame\u001b[0m\n",
       "\u001b[1m Row \u001b[0m│\u001b[1m store_cd \u001b[0m\u001b[1m amount_mean \u001b[0m\n",
       "     │\u001b[90m String?  \u001b[0m\u001b[90m Float64     \u001b[0m\n",
       "─────┼───────────────────────\n",
       "   1 │ S12013        330.194\n",
       "   2 │ S13001        348.47\n",
       "   3 │ S13003        350.916\n",
       "   4 │ S13004        330.944\n",
       "   5 │ S13015        351.112\n",
       "   6 │ S13019        330.209\n",
       "   7 │ S13020        337.88\n",
       "   8 │ S13052        402.867\n",
       "   9 │ S14010        348.791\n",
       "  10 │ S14011        335.718\n",
       "  11 │ S14026        332.341\n",
       "  12 │ S14045        330.082\n",
       "  13 │ S14047        330.077"
      ]
     },
     "execution_count": 36,
     "metadata": {},
     "output_type": "execute_result"
    }
   ],
   "source": [
    "@chain df_receipt begin\n",
    "    select(:store_cd, :amount)\n",
    "    sort(:store_cd)\n",
    "    groupby(:store_cd)\n",
    "    combine(:amount => mean)\n",
    "    @subset(:amount_mean .>= 330)\n",
    "end"
   ]
  },
  {
   "cell_type": "markdown",
   "id": "72c364e4-33c5-4172-88a3-513ce39bdfa5",
   "metadata": {},
   "source": [
    "---\n",
    "> P-034: レシート明細データ（df_receipt）に対し、顧客ID（customer_id）ごとに売上金額（amount）を合計して全顧客の平均を求めよ。ただし、顧客IDが\"Z\"から始まるものは非会員を表すため、除外して計算すること。"
   ]
  },
  {
   "cell_type": "code",
   "execution_count": 37,
   "id": "cd1dc9fe-adcc-4567-a9b9-c5b92c7e5387",
   "metadata": {},
   "outputs": [
    {
     "data": {
      "text/plain": [
       "2547.742234529256"
      ]
     },
     "execution_count": 37,
     "metadata": {},
     "output_type": "execute_result"
    }
   ],
   "source": [
    "df_amount_sum_by_customer = @chain df_receipt begin\n",
    "    select(:customer_id, :amount)\n",
    "    @subset(.!startswith.(:customer_id, \"Z\"))\n",
    "    groupby(:customer_id)\n",
    "    combine(:amount => sum)\n",
    "end\n",
    "mean(df_amount_sum_by_customer.amount_sum)"
   ]
  },
  {
   "cell_type": "markdown",
   "id": "d96f2015-3860-40c8-ab70-7d4b5cb89530",
   "metadata": {},
   "source": [
    "---\n",
    "> P-035: レシート明細データ（df_receipt）に対し、顧客ID（customer_id）ごとに売上金額（amount）を合計して全顧客の平均を求め、平均以上に買い物をしている顧客を抽出し、10件表示せよ。ただし、顧客IDが\"Z\"から始まるものは非会員を表すため、除外して計算すること。"
   ]
  },
  {
   "cell_type": "code",
   "execution_count": 38,
   "id": "6abf0e80-0fd6-4076-b280-120f97e6737e",
   "metadata": {},
   "outputs": [
    {
     "data": {
      "text/html": [
       "<div><div style = \"float: left;\"><span>10×2 DataFrame</span></div><div style = \"clear: both;\"></div></div><div class = \"data-frame\" style = \"overflow-x: scroll;\"><table class = \"data-frame\" style = \"margin-bottom: 6px;\"><thead><tr class = \"header\"><th class = \"rowNumber\" style = \"font-weight: bold; text-align: right;\">Row</th><th style = \"text-align: left;\">customer_id</th><th style = \"text-align: left;\">amount_sum</th></tr><tr class = \"subheader headerLastRow\"><th class = \"rowNumber\" style = \"font-weight: bold; text-align: right;\"></th><th title = \"Union{Missing, String}\" style = \"text-align: left;\">String?</th><th title = \"Int64\" style = \"text-align: left;\">Int64</th></tr></thead><tbody><tr><td class = \"rowNumber\" style = \"font-weight: bold; text-align: right;\">1</td><td style = \"text-align: left;\">CS001115000010</td><td style = \"text-align: right;\">3044</td></tr><tr><td class = \"rowNumber\" style = \"font-weight: bold; text-align: right;\">2</td><td style = \"text-align: left;\">CS001205000006</td><td style = \"text-align: right;\">3337</td></tr><tr><td class = \"rowNumber\" style = \"font-weight: bold; text-align: right;\">3</td><td style = \"text-align: left;\">CS001214000009</td><td style = \"text-align: right;\">4685</td></tr><tr><td class = \"rowNumber\" style = \"font-weight: bold; text-align: right;\">4</td><td style = \"text-align: left;\">CS001214000017</td><td style = \"text-align: right;\">4132</td></tr><tr><td class = \"rowNumber\" style = \"font-weight: bold; text-align: right;\">5</td><td style = \"text-align: left;\">CS001214000052</td><td style = \"text-align: right;\">5639</td></tr><tr><td class = \"rowNumber\" style = \"font-weight: bold; text-align: right;\">6</td><td style = \"text-align: left;\">CS001215000040</td><td style = \"text-align: right;\">3496</td></tr><tr><td class = \"rowNumber\" style = \"font-weight: bold; text-align: right;\">7</td><td style = \"text-align: left;\">CS001304000006</td><td style = \"text-align: right;\">3726</td></tr><tr><td class = \"rowNumber\" style = \"font-weight: bold; text-align: right;\">8</td><td style = \"text-align: left;\">CS001305000005</td><td style = \"text-align: right;\">3485</td></tr><tr><td class = \"rowNumber\" style = \"font-weight: bold; text-align: right;\">9</td><td style = \"text-align: left;\">CS001305000011</td><td style = \"text-align: right;\">4370</td></tr><tr><td class = \"rowNumber\" style = \"font-weight: bold; text-align: right;\">10</td><td style = \"text-align: left;\">CS001315000180</td><td style = \"text-align: right;\">3300</td></tr></tbody></table></div>"
      ],
      "text/latex": [
       "\\begin{tabular}{r|cc}\n",
       "\t& customer\\_id & amount\\_sum\\\\\n",
       "\t\\hline\n",
       "\t& String? & Int64\\\\\n",
       "\t\\hline\n",
       "\t1 & CS001115000010 & 3044 \\\\\n",
       "\t2 & CS001205000006 & 3337 \\\\\n",
       "\t3 & CS001214000009 & 4685 \\\\\n",
       "\t4 & CS001214000017 & 4132 \\\\\n",
       "\t5 & CS001214000052 & 5639 \\\\\n",
       "\t6 & CS001215000040 & 3496 \\\\\n",
       "\t7 & CS001304000006 & 3726 \\\\\n",
       "\t8 & CS001305000005 & 3485 \\\\\n",
       "\t9 & CS001305000011 & 4370 \\\\\n",
       "\t10 & CS001315000180 & 3300 \\\\\n",
       "\\end{tabular}\n"
      ],
      "text/plain": [
       "\u001b[1m10×2 DataFrame\u001b[0m\n",
       "\u001b[1m Row \u001b[0m│\u001b[1m customer_id    \u001b[0m\u001b[1m amount_sum \u001b[0m\n",
       "     │\u001b[90m String?        \u001b[0m\u001b[90m Int64      \u001b[0m\n",
       "─────┼────────────────────────────\n",
       "   1 │ CS001115000010        3044\n",
       "   2 │ CS001205000006        3337\n",
       "   3 │ CS001214000009        4685\n",
       "   4 │ CS001214000017        4132\n",
       "   5 │ CS001214000052        5639\n",
       "   6 │ CS001215000040        3496\n",
       "   7 │ CS001304000006        3726\n",
       "   8 │ CS001305000005        3485\n",
       "   9 │ CS001305000011        4370\n",
       "  10 │ CS001315000180        3300"
      ]
     },
     "execution_count": 38,
     "metadata": {},
     "output_type": "execute_result"
    }
   ],
   "source": [
    "df_amount_sum_by_customer = @chain df_receipt begin\n",
    "    select(:customer_id, :amount)\n",
    "    @subset(.!startswith.(:customer_id, \"Z\"))\n",
    "    sort(:customer_id)\n",
    "    groupby(:customer_id)\n",
    "    combine(:amount => sum)\n",
    "end\n",
    "\n",
    "mean_amount = mean(df_amount_sum_by_customer.amount_sum)\n",
    "\n",
    "@chain df_amount_sum_by_customer begin\n",
    "    @subset(:amount_sum .>= mean_amount)\n",
    "    first(10)\n",
    "end"
   ]
  },
  {
   "cell_type": "markdown",
   "id": "f14dc1df-84fc-4414-98e7-255a5298eea3",
   "metadata": {},
   "source": [
    "---\n",
    "> P-036: レシート明細データ（df_receipt）と店舗データ（df_store）を内部結合し、レシート明細データの全項目と店舗データの店舗名（store_name）を10件表示せよ。"
   ]
  },
  {
   "cell_type": "code",
   "execution_count": 39,
   "id": "6a0ac8bd-7f1c-4148-b83b-1f65df4c9ce6",
   "metadata": {},
   "outputs": [
    {
     "data": {
      "text/html": [
       "<div><div style = \"float: left;\"><span>10×10 DataFrame</span></div><div style = \"clear: both;\"></div></div><div class = \"data-frame\" style = \"overflow-x: scroll;\"><table class = \"data-frame\" style = \"margin-bottom: 6px;\"><thead><tr class = \"header\"><th class = \"rowNumber\" style = \"font-weight: bold; text-align: right;\">Row</th><th style = \"text-align: left;\">sales_ymd</th><th style = \"text-align: left;\">sales_epoch</th><th style = \"text-align: left;\">store_cd</th><th style = \"text-align: left;\">receipt_no</th><th style = \"text-align: left;\">receipt_sub_no</th><th style = \"text-align: left;\">customer_id</th><th style = \"text-align: left;\">product_cd</th><th style = \"text-align: left;\">quantity</th><th style = \"text-align: left;\">amount</th><th style = \"text-align: left;\">store_name</th></tr><tr class = \"subheader headerLastRow\"><th class = \"rowNumber\" style = \"font-weight: bold; text-align: right;\"></th><th title = \"Union{Missing, Int32}\" style = \"text-align: left;\">Int32?</th><th title = \"Union{Missing, Int32}\" style = \"text-align: left;\">Int32?</th><th title = \"Union{Missing, String}\" style = \"text-align: left;\">String?</th><th title = \"Union{Missing, Int16}\" style = \"text-align: left;\">Int16?</th><th title = \"Union{Missing, Int16}\" style = \"text-align: left;\">Int16?</th><th title = \"Union{Missing, String}\" style = \"text-align: left;\">String?</th><th title = \"Union{Missing, String}\" style = \"text-align: left;\">String?</th><th title = \"Union{Missing, Int32}\" style = \"text-align: left;\">Int32?</th><th title = \"Union{Missing, Int32}\" style = \"text-align: left;\">Int32?</th><th title = \"Union{Missing, String}\" style = \"text-align: left;\">String?</th></tr></thead><tbody><tr><td class = \"rowNumber\" style = \"font-weight: bold; text-align: right;\">1</td><td style = \"text-align: right;\">20181103</td><td style = \"text-align: right;\">1541203200</td><td style = \"text-align: left;\">S14006</td><td style = \"text-align: right;\">112</td><td style = \"text-align: right;\">1</td><td style = \"text-align: left;\">CS006214000001</td><td style = \"text-align: left;\">P070305012</td><td style = \"text-align: right;\">1</td><td style = \"text-align: right;\">158</td><td style = \"text-align: left;\">葛が谷店</td></tr><tr><td class = \"rowNumber\" style = \"font-weight: bold; text-align: right;\">2</td><td style = \"text-align: right;\">20181118</td><td style = \"text-align: right;\">1542499200</td><td style = \"text-align: left;\">S13008</td><td style = \"text-align: right;\">1132</td><td style = \"text-align: right;\">2</td><td style = \"text-align: left;\">CS008415000097</td><td style = \"text-align: left;\">P070701017</td><td style = \"text-align: right;\">1</td><td style = \"text-align: right;\">81</td><td style = \"text-align: left;\">成城店</td></tr><tr><td class = \"rowNumber\" style = \"font-weight: bold; text-align: right;\">3</td><td style = \"text-align: right;\">20170712</td><td style = \"text-align: right;\">1499817600</td><td style = \"text-align: left;\">S14028</td><td style = \"text-align: right;\">1102</td><td style = \"text-align: right;\">1</td><td style = \"text-align: left;\">CS028414000014</td><td style = \"text-align: left;\">P060101005</td><td style = \"text-align: right;\">1</td><td style = \"text-align: right;\">170</td><td style = \"text-align: left;\">二ツ橋店</td></tr><tr><td class = \"rowNumber\" style = \"font-weight: bold; text-align: right;\">4</td><td style = \"text-align: right;\">20190205</td><td style = \"text-align: right;\">1549324800</td><td style = \"text-align: left;\">S14042</td><td style = \"text-align: right;\">1132</td><td style = \"text-align: right;\">1</td><td style = \"text-align: left;\">ZZ000000000000</td><td style = \"text-align: left;\">P050301001</td><td style = \"text-align: right;\">1</td><td style = \"text-align: right;\">25</td><td style = \"text-align: left;\">新山下店</td></tr><tr><td class = \"rowNumber\" style = \"font-weight: bold; text-align: right;\">5</td><td style = \"text-align: right;\">20180821</td><td style = \"text-align: right;\">1534809600</td><td style = \"text-align: left;\">S14025</td><td style = \"text-align: right;\">1102</td><td style = \"text-align: right;\">2</td><td style = \"text-align: left;\">CS025415000050</td><td style = \"text-align: left;\">P060102007</td><td style = \"text-align: right;\">1</td><td style = \"text-align: right;\">90</td><td style = \"text-align: left;\">大和店</td></tr><tr><td class = \"rowNumber\" style = \"font-weight: bold; text-align: right;\">6</td><td style = \"text-align: right;\">20190605</td><td style = \"text-align: right;\">1559692800</td><td style = \"text-align: left;\">S13003</td><td style = \"text-align: right;\">1112</td><td style = \"text-align: right;\">1</td><td style = \"text-align: left;\">CS003515000195</td><td style = \"text-align: left;\">P050102002</td><td style = \"text-align: right;\">1</td><td style = \"text-align: right;\">138</td><td style = \"text-align: left;\">狛江店</td></tr><tr><td class = \"rowNumber\" style = \"font-weight: bold; text-align: right;\">7</td><td style = \"text-align: right;\">20181205</td><td style = \"text-align: right;\">1543968000</td><td style = \"text-align: left;\">S14024</td><td style = \"text-align: right;\">1102</td><td style = \"text-align: right;\">2</td><td style = \"text-align: left;\">CS024514000042</td><td style = \"text-align: left;\">P080101005</td><td style = \"text-align: right;\">1</td><td style = \"text-align: right;\">30</td><td style = \"text-align: left;\">三田店</td></tr><tr><td class = \"rowNumber\" style = \"font-weight: bold; text-align: right;\">8</td><td style = \"text-align: right;\">20190922</td><td style = \"text-align: right;\">1569110400</td><td style = \"text-align: left;\">S14040</td><td style = \"text-align: right;\">1102</td><td style = \"text-align: right;\">1</td><td style = \"text-align: left;\">CS040415000178</td><td style = \"text-align: left;\">P070501004</td><td style = \"text-align: right;\">1</td><td style = \"text-align: right;\">128</td><td style = \"text-align: left;\">長津田店</td></tr><tr><td class = \"rowNumber\" style = \"font-weight: bold; text-align: right;\">9</td><td style = \"text-align: right;\">20170504</td><td style = \"text-align: right;\">1493856000</td><td style = \"text-align: left;\">S13020</td><td style = \"text-align: right;\">1112</td><td style = \"text-align: right;\">2</td><td style = \"text-align: left;\">ZZ000000000000</td><td style = \"text-align: left;\">P071302010</td><td style = \"text-align: right;\">1</td><td style = \"text-align: right;\">770</td><td style = \"text-align: left;\">十条仲原店</td></tr><tr><td class = \"rowNumber\" style = \"font-weight: bold; text-align: right;\">10</td><td style = \"text-align: right;\">20191010</td><td style = \"text-align: right;\">1570665600</td><td style = \"text-align: left;\">S14027</td><td style = \"text-align: right;\">1102</td><td style = \"text-align: right;\">1</td><td style = \"text-align: left;\">CS027514000015</td><td style = \"text-align: left;\">P071101003</td><td style = \"text-align: right;\">1</td><td style = \"text-align: right;\">680</td><td style = \"text-align: left;\">南藤沢店</td></tr></tbody></table></div>"
      ],
      "text/latex": [
       "\\begin{tabular}{r|cccccccc}\n",
       "\t& sales\\_ymd & sales\\_epoch & store\\_cd & receipt\\_no & receipt\\_sub\\_no & customer\\_id & product\\_cd & \\\\\n",
       "\t\\hline\n",
       "\t& Int32? & Int32? & String? & Int16? & Int16? & String? & String? & \\\\\n",
       "\t\\hline\n",
       "\t1 & 20181103 & 1541203200 & S14006 & 112 & 1 & CS006214000001 & P070305012 & $\\dots$ \\\\\n",
       "\t2 & 20181118 & 1542499200 & S13008 & 1132 & 2 & CS008415000097 & P070701017 & $\\dots$ \\\\\n",
       "\t3 & 20170712 & 1499817600 & S14028 & 1102 & 1 & CS028414000014 & P060101005 & $\\dots$ \\\\\n",
       "\t4 & 20190205 & 1549324800 & S14042 & 1132 & 1 & ZZ000000000000 & P050301001 & $\\dots$ \\\\\n",
       "\t5 & 20180821 & 1534809600 & S14025 & 1102 & 2 & CS025415000050 & P060102007 & $\\dots$ \\\\\n",
       "\t6 & 20190605 & 1559692800 & S13003 & 1112 & 1 & CS003515000195 & P050102002 & $\\dots$ \\\\\n",
       "\t7 & 20181205 & 1543968000 & S14024 & 1102 & 2 & CS024514000042 & P080101005 & $\\dots$ \\\\\n",
       "\t8 & 20190922 & 1569110400 & S14040 & 1102 & 1 & CS040415000178 & P070501004 & $\\dots$ \\\\\n",
       "\t9 & 20170504 & 1493856000 & S13020 & 1112 & 2 & ZZ000000000000 & P071302010 & $\\dots$ \\\\\n",
       "\t10 & 20191010 & 1570665600 & S14027 & 1102 & 1 & CS027514000015 & P071101003 & $\\dots$ \\\\\n",
       "\\end{tabular}\n"
      ],
      "text/plain": [
       "\u001b[1m10×10 DataFrame\u001b[0m\n",
       "\u001b[1m Row \u001b[0m│\u001b[1m sales_ymd \u001b[0m\u001b[1m sales_epoch \u001b[0m\u001b[1m store_cd \u001b[0m\u001b[1m receipt_no \u001b[0m\u001b[1m receipt_sub_no \u001b[0m\u001b[1m customer_\u001b[0m ⋯\n",
       "     │\u001b[90m Int32?    \u001b[0m\u001b[90m Int32?      \u001b[0m\u001b[90m String?  \u001b[0m\u001b[90m Int16?     \u001b[0m\u001b[90m Int16?         \u001b[0m\u001b[90m String?  \u001b[0m ⋯\n",
       "─────┼──────────────────────────────────────────────────────────────────────────\n",
       "   1 │  20181103   1541203200  S14006           112               1  CS0062140 ⋯\n",
       "   2 │  20181118   1542499200  S13008          1132               2  CS0084150\n",
       "   3 │  20170712   1499817600  S14028          1102               1  CS0284140\n",
       "   4 │  20190205   1549324800  S14042          1132               1  ZZ0000000\n",
       "   5 │  20180821   1534809600  S14025          1102               2  CS0254150 ⋯\n",
       "   6 │  20190605   1559692800  S13003          1112               1  CS0035150\n",
       "   7 │  20181205   1543968000  S14024          1102               2  CS0245140\n",
       "   8 │  20190922   1569110400  S14040          1102               1  CS0404150\n",
       "   9 │  20170504   1493856000  S13020          1112               2  ZZ0000000 ⋯\n",
       "  10 │  20191010   1570665600  S14027          1102               1  CS0275140\n",
       "\u001b[36m                                                               5 columns omitted\u001b[0m"
      ]
     },
     "execution_count": 39,
     "metadata": {},
     "output_type": "execute_result"
    }
   ],
   "source": [
    "@chain df_receipt begin\n",
    "    innerjoin(df_store[:, [:store_cd, :store_name]], on=:store_cd)\n",
    "    first(10)\n",
    "end"
   ]
  },
  {
   "cell_type": "markdown",
   "id": "70c489fc-4cee-4503-a567-ce218cbd3723",
   "metadata": {},
   "source": [
    "---\n",
    "> P-037: 商品データ（df_product）とカテゴリデータ（df_category）を内部結合し、商品データの全項目とカテゴリデータのカテゴリ小区分名（category_small_name）を10件表示せよ。"
   ]
  },
  {
   "cell_type": "code",
   "execution_count": 40,
   "id": "85e5ca93-8154-477b-9536-b585ea1e17d3",
   "metadata": {},
   "outputs": [
    {
     "data": {
      "text/html": [
       "<div><div style = \"float: left;\"><span>10×7 DataFrame</span></div><div style = \"clear: both;\"></div></div><div class = \"data-frame\" style = \"overflow-x: scroll;\"><table class = \"data-frame\" style = \"margin-bottom: 6px;\"><thead><tr class = \"header\"><th class = \"rowNumber\" style = \"font-weight: bold; text-align: right;\">Row</th><th style = \"text-align: left;\">product_cd</th><th style = \"text-align: left;\">category_major_cd</th><th style = \"text-align: left;\">category_medium_cd</th><th style = \"text-align: left;\">category_small_cd</th><th style = \"text-align: left;\">unit_price</th><th style = \"text-align: left;\">unit_cost</th><th style = \"text-align: left;\">category_small_name</th></tr><tr class = \"subheader headerLastRow\"><th class = \"rowNumber\" style = \"font-weight: bold; text-align: right;\"></th><th title = \"Union{Missing, String}\" style = \"text-align: left;\">String?</th><th title = \"Union{Missing, String}\" style = \"text-align: left;\">String?</th><th title = \"Union{Missing, String}\" style = \"text-align: left;\">String?</th><th title = \"Union{Missing, String}\" style = \"text-align: left;\">String?</th><th title = \"Union{Missing, Int32}\" style = \"text-align: left;\">Int32?</th><th title = \"Union{Missing, Int32}\" style = \"text-align: left;\">Int32?</th><th title = \"Union{Missing, String}\" style = \"text-align: left;\">String?</th></tr></thead><tbody><tr><td class = \"rowNumber\" style = \"font-weight: bold; text-align: right;\">1</td><td style = \"text-align: left;\">P040101001</td><td style = \"text-align: left;\">04</td><td style = \"text-align: left;\">0401</td><td style = \"text-align: left;\">040101</td><td style = \"text-align: right;\">198</td><td style = \"text-align: right;\">149</td><td style = \"text-align: left;\">弁当類</td></tr><tr><td class = \"rowNumber\" style = \"font-weight: bold; text-align: right;\">2</td><td style = \"text-align: left;\">P040101002</td><td style = \"text-align: left;\">04</td><td style = \"text-align: left;\">0401</td><td style = \"text-align: left;\">040101</td><td style = \"text-align: right;\">218</td><td style = \"text-align: right;\">164</td><td style = \"text-align: left;\">弁当類</td></tr><tr><td class = \"rowNumber\" style = \"font-weight: bold; text-align: right;\">3</td><td style = \"text-align: left;\">P040101003</td><td style = \"text-align: left;\">04</td><td style = \"text-align: left;\">0401</td><td style = \"text-align: left;\">040101</td><td style = \"text-align: right;\">230</td><td style = \"text-align: right;\">173</td><td style = \"text-align: left;\">弁当類</td></tr><tr><td class = \"rowNumber\" style = \"font-weight: bold; text-align: right;\">4</td><td style = \"text-align: left;\">P040101004</td><td style = \"text-align: left;\">04</td><td style = \"text-align: left;\">0401</td><td style = \"text-align: left;\">040101</td><td style = \"text-align: right;\">248</td><td style = \"text-align: right;\">186</td><td style = \"text-align: left;\">弁当類</td></tr><tr><td class = \"rowNumber\" style = \"font-weight: bold; text-align: right;\">5</td><td style = \"text-align: left;\">P040101005</td><td style = \"text-align: left;\">04</td><td style = \"text-align: left;\">0401</td><td style = \"text-align: left;\">040101</td><td style = \"text-align: right;\">268</td><td style = \"text-align: right;\">201</td><td style = \"text-align: left;\">弁当類</td></tr><tr><td class = \"rowNumber\" style = \"font-weight: bold; text-align: right;\">6</td><td style = \"text-align: left;\">P040101006</td><td style = \"text-align: left;\">04</td><td style = \"text-align: left;\">0401</td><td style = \"text-align: left;\">040101</td><td style = \"text-align: right;\">298</td><td style = \"text-align: right;\">224</td><td style = \"text-align: left;\">弁当類</td></tr><tr><td class = \"rowNumber\" style = \"font-weight: bold; text-align: right;\">7</td><td style = \"text-align: left;\">P040101007</td><td style = \"text-align: left;\">04</td><td style = \"text-align: left;\">0401</td><td style = \"text-align: left;\">040101</td><td style = \"text-align: right;\">338</td><td style = \"text-align: right;\">254</td><td style = \"text-align: left;\">弁当類</td></tr><tr><td class = \"rowNumber\" style = \"font-weight: bold; text-align: right;\">8</td><td style = \"text-align: left;\">P040101008</td><td style = \"text-align: left;\">04</td><td style = \"text-align: left;\">0401</td><td style = \"text-align: left;\">040101</td><td style = \"text-align: right;\">420</td><td style = \"text-align: right;\">315</td><td style = \"text-align: left;\">弁当類</td></tr><tr><td class = \"rowNumber\" style = \"font-weight: bold; text-align: right;\">9</td><td style = \"text-align: left;\">P040101009</td><td style = \"text-align: left;\">04</td><td style = \"text-align: left;\">0401</td><td style = \"text-align: left;\">040101</td><td style = \"text-align: right;\">498</td><td style = \"text-align: right;\">374</td><td style = \"text-align: left;\">弁当類</td></tr><tr><td class = \"rowNumber\" style = \"font-weight: bold; text-align: right;\">10</td><td style = \"text-align: left;\">P040101010</td><td style = \"text-align: left;\">04</td><td style = \"text-align: left;\">0401</td><td style = \"text-align: left;\">040101</td><td style = \"text-align: right;\">580</td><td style = \"text-align: right;\">435</td><td style = \"text-align: left;\">弁当類</td></tr></tbody></table></div>"
      ],
      "text/latex": [
       "\\begin{tabular}{r|cccccc}\n",
       "\t& product\\_cd & category\\_major\\_cd & category\\_medium\\_cd & category\\_small\\_cd & unit\\_price & \\\\\n",
       "\t\\hline\n",
       "\t& String? & String? & String? & String? & Int32? & \\\\\n",
       "\t\\hline\n",
       "\t1 & P040101001 & 04 & 0401 & 040101 & 198 & $\\dots$ \\\\\n",
       "\t2 & P040101002 & 04 & 0401 & 040101 & 218 & $\\dots$ \\\\\n",
       "\t3 & P040101003 & 04 & 0401 & 040101 & 230 & $\\dots$ \\\\\n",
       "\t4 & P040101004 & 04 & 0401 & 040101 & 248 & $\\dots$ \\\\\n",
       "\t5 & P040101005 & 04 & 0401 & 040101 & 268 & $\\dots$ \\\\\n",
       "\t6 & P040101006 & 04 & 0401 & 040101 & 298 & $\\dots$ \\\\\n",
       "\t7 & P040101007 & 04 & 0401 & 040101 & 338 & $\\dots$ \\\\\n",
       "\t8 & P040101008 & 04 & 0401 & 040101 & 420 & $\\dots$ \\\\\n",
       "\t9 & P040101009 & 04 & 0401 & 040101 & 498 & $\\dots$ \\\\\n",
       "\t10 & P040101010 & 04 & 0401 & 040101 & 580 & $\\dots$ \\\\\n",
       "\\end{tabular}\n"
      ],
      "text/plain": [
       "\u001b[1m10×7 DataFrame\u001b[0m\n",
       "\u001b[1m Row \u001b[0m│\u001b[1m product_cd \u001b[0m\u001b[1m category_major_cd \u001b[0m\u001b[1m category_medium_cd \u001b[0m\u001b[1m category_small_cd \u001b[0m\u001b[1m u\u001b[0m ⋯\n",
       "     │\u001b[90m String?    \u001b[0m\u001b[90m String?           \u001b[0m\u001b[90m String?            \u001b[0m\u001b[90m String?           \u001b[0m\u001b[90m I\u001b[0m ⋯\n",
       "─────┼──────────────────────────────────────────────────────────────────────────\n",
       "   1 │ P040101001  04                 0401                040101               ⋯\n",
       "   2 │ P040101002  04                 0401                040101\n",
       "   3 │ P040101003  04                 0401                040101\n",
       "   4 │ P040101004  04                 0401                040101\n",
       "   5 │ P040101005  04                 0401                040101               ⋯\n",
       "   6 │ P040101006  04                 0401                040101\n",
       "   7 │ P040101007  04                 0401                040101\n",
       "   8 │ P040101008  04                 0401                040101\n",
       "   9 │ P040101009  04                 0401                040101               ⋯\n",
       "  10 │ P040101010  04                 0401                040101\n",
       "\u001b[36m                                                               3 columns omitted\u001b[0m"
      ]
     },
     "execution_count": 40,
     "metadata": {},
     "output_type": "execute_result"
    }
   ],
   "source": [
    "merge_lst = [:category_major_cd, :category_medium_cd, :category_small_cd]\n",
    "@chain innerjoin(df_product, select(df_category, cat(merge_lst, [:category_small_name], dims=1)), on=merge_lst) begin\n",
    "    first(10)\n",
    "end"
   ]
  },
  {
   "cell_type": "markdown",
   "id": "cfda7798-ff16-417a-b3ad-bc5da54e6d30",
   "metadata": {},
   "source": [
    "---\n",
    "> P-038: 顧客データ（df_customer）とレシート明細データ（df_receipt）から、顧客ごとの売上金額合計を求め、10件表示せよ。ただし、売上実績がない顧客については売上金額を0として表示させること。また、顧客は性別コード（gender_cd）が女性（1）であるものを対象とし、非会員（顧客IDが\"Z\"から始まるもの）は除外すること。"
   ]
  },
  {
   "cell_type": "code",
   "execution_count": 41,
   "id": "7df50e5a-63eb-40c9-9b4a-36a65e076ef0",
   "metadata": {},
   "outputs": [
    {
     "data": {
      "text/html": [
       "<div><div style = \"float: left;\"><span>10×2 DataFrame</span></div><div style = \"clear: both;\"></div></div><div class = \"data-frame\" style = \"overflow-x: scroll;\"><table class = \"data-frame\" style = \"margin-bottom: 6px;\"><thead><tr class = \"header\"><th class = \"rowNumber\" style = \"font-weight: bold; text-align: right;\">Row</th><th style = \"text-align: left;\">customer_id</th><th style = \"text-align: left;\">amount_sum</th></tr><tr class = \"subheader headerLastRow\"><th class = \"rowNumber\" style = \"font-weight: bold; text-align: right;\"></th><th title = \"String\" style = \"text-align: left;\">String</th><th title = \"Int64\" style = \"text-align: left;\">Int64</th></tr></thead><tbody><tr><td class = \"rowNumber\" style = \"font-weight: bold; text-align: right;\">1</td><td style = \"text-align: left;\">CS001112000009</td><td style = \"text-align: right;\">0</td></tr><tr><td class = \"rowNumber\" style = \"font-weight: bold; text-align: right;\">2</td><td style = \"text-align: left;\">CS001112000019</td><td style = \"text-align: right;\">0</td></tr><tr><td class = \"rowNumber\" style = \"font-weight: bold; text-align: right;\">3</td><td style = \"text-align: left;\">CS001112000021</td><td style = \"text-align: right;\">0</td></tr><tr><td class = \"rowNumber\" style = \"font-weight: bold; text-align: right;\">4</td><td style = \"text-align: left;\">CS001112000023</td><td style = \"text-align: right;\">0</td></tr><tr><td class = \"rowNumber\" style = \"font-weight: bold; text-align: right;\">5</td><td style = \"text-align: left;\">CS001112000024</td><td style = \"text-align: right;\">0</td></tr><tr><td class = \"rowNumber\" style = \"font-weight: bold; text-align: right;\">6</td><td style = \"text-align: left;\">CS001112000029</td><td style = \"text-align: right;\">0</td></tr><tr><td class = \"rowNumber\" style = \"font-weight: bold; text-align: right;\">7</td><td style = \"text-align: left;\">CS001112000030</td><td style = \"text-align: right;\">0</td></tr><tr><td class = \"rowNumber\" style = \"font-weight: bold; text-align: right;\">8</td><td style = \"text-align: left;\">CS001113000004</td><td style = \"text-align: right;\">1298</td></tr><tr><td class = \"rowNumber\" style = \"font-weight: bold; text-align: right;\">9</td><td style = \"text-align: left;\">CS001113000010</td><td style = \"text-align: right;\">0</td></tr><tr><td class = \"rowNumber\" style = \"font-weight: bold; text-align: right;\">10</td><td style = \"text-align: left;\">CS001114000005</td><td style = \"text-align: right;\">626</td></tr></tbody></table></div>"
      ],
      "text/latex": [
       "\\begin{tabular}{r|cc}\n",
       "\t& customer\\_id & amount\\_sum\\\\\n",
       "\t\\hline\n",
       "\t& String & Int64\\\\\n",
       "\t\\hline\n",
       "\t1 & CS001112000009 & 0 \\\\\n",
       "\t2 & CS001112000019 & 0 \\\\\n",
       "\t3 & CS001112000021 & 0 \\\\\n",
       "\t4 & CS001112000023 & 0 \\\\\n",
       "\t5 & CS001112000024 & 0 \\\\\n",
       "\t6 & CS001112000029 & 0 \\\\\n",
       "\t7 & CS001112000030 & 0 \\\\\n",
       "\t8 & CS001113000004 & 1298 \\\\\n",
       "\t9 & CS001113000010 & 0 \\\\\n",
       "\t10 & CS001114000005 & 626 \\\\\n",
       "\\end{tabular}\n"
      ],
      "text/plain": [
       "\u001b[1m10×2 DataFrame\u001b[0m\n",
       "\u001b[1m Row \u001b[0m│\u001b[1m customer_id    \u001b[0m\u001b[1m amount_sum \u001b[0m\n",
       "     │\u001b[90m String         \u001b[0m\u001b[90m Int64      \u001b[0m\n",
       "─────┼────────────────────────────\n",
       "   1 │ CS001112000009           0\n",
       "   2 │ CS001112000019           0\n",
       "   3 │ CS001112000021           0\n",
       "   4 │ CS001112000023           0\n",
       "   5 │ CS001112000024           0\n",
       "   6 │ CS001112000029           0\n",
       "   7 │ CS001112000030           0\n",
       "   8 │ CS001113000004        1298\n",
       "   9 │ CS001113000010           0\n",
       "  10 │ CS001114000005         626"
      ]
     },
     "execution_count": 41,
     "metadata": {},
     "output_type": "execute_result"
    }
   ],
   "source": [
    "@chain df_customer begin\n",
    "    @subset(string.(:gender_cd) .== \"1\", .!startswith.(:customer_id, \"Z\"))\n",
    "    leftjoin(df_receipt, on=:customer_id)\n",
    "    select(:customer_id, :amount)\n",
    "    coalesce.(0)\n",
    "    sort(:customer_id)\n",
    "    groupby(:customer_id)\n",
    "    combine(:amount => sum)\n",
    "    first(10)\n",
    "end"
   ]
  },
  {
   "cell_type": "markdown",
   "id": "6024de4b-9264-4d2b-a87e-a5f0130c4c8c",
   "metadata": {},
   "source": [
    "---\n",
    "> P-039: レシート明細データ（df_receipt）から、売上日数の多い顧客の上位20件を抽出したデータと、売上金額合計の多い顧客の上位20件を抽出したデータをそれぞれ作成し、さらにその2つを完全外部結合せよ。ただし、非会員（顧客IDが\"Z\"から始まるもの）は除外すること。"
   ]
  },
  {
   "cell_type": "code",
   "execution_count": 5,
   "id": "cfd466ac-4c4c-49c2-b7ca-76016de7ad02",
   "metadata": {},
   "outputs": [
    {
     "data": {
      "text/html": [
       "<div><div style = \"float: left;\"><span>20×2 DataFrame</span></div><div style = \"clear: both;\"></div></div><div class = \"data-frame\" style = \"overflow-x: scroll;\"><table class = \"data-frame\" style = \"margin-bottom: 6px;\"><thead><tr class = \"header\"><th class = \"rowNumber\" style = \"font-weight: bold; text-align: right;\">Row</th><th style = \"text-align: left;\">customer_id</th><th style = \"text-align: left;\">sales_ymd_length_unique</th></tr><tr class = \"subheader headerLastRow\"><th class = \"rowNumber\" style = \"font-weight: bold; text-align: right;\"></th><th title = \"Union{Missing, String}\" style = \"text-align: left;\">String?</th><th title = \"Int64\" style = \"text-align: left;\">Int64</th></tr></thead><tbody><tr><td class = \"rowNumber\" style = \"font-weight: bold; text-align: right;\">1</td><td style = \"text-align: left;\">CS040214000008</td><td style = \"text-align: right;\">23</td></tr><tr><td class = \"rowNumber\" style = \"font-weight: bold; text-align: right;\">2</td><td style = \"text-align: left;\">CS015415000185</td><td style = \"text-align: right;\">22</td></tr><tr><td class = \"rowNumber\" style = \"font-weight: bold; text-align: right;\">3</td><td style = \"text-align: left;\">CS010214000010</td><td style = \"text-align: right;\">22</td></tr><tr><td class = \"rowNumber\" style = \"font-weight: bold; text-align: right;\">4</td><td style = \"text-align: left;\">CS010214000002</td><td style = \"text-align: right;\">21</td></tr><tr><td class = \"rowNumber\" style = \"font-weight: bold; text-align: right;\">5</td><td style = \"text-align: left;\">CS028415000007</td><td style = \"text-align: right;\">21</td></tr><tr><td class = \"rowNumber\" style = \"font-weight: bold; text-align: right;\">6</td><td style = \"text-align: left;\">CS017415000097</td><td style = \"text-align: right;\">20</td></tr><tr><td class = \"rowNumber\" style = \"font-weight: bold; text-align: right;\">7</td><td style = \"text-align: left;\">CS016415000141</td><td style = \"text-align: right;\">20</td></tr><tr><td class = \"rowNumber\" style = \"font-weight: bold; text-align: right;\">8</td><td style = \"text-align: left;\">CS039414000052</td><td style = \"text-align: right;\">19</td></tr><tr><td class = \"rowNumber\" style = \"font-weight: bold; text-align: right;\">9</td><td style = \"text-align: left;\">CS031414000051</td><td style = \"text-align: right;\">19</td></tr><tr><td class = \"rowNumber\" style = \"font-weight: bold; text-align: right;\">10</td><td style = \"text-align: left;\">CS021514000045</td><td style = \"text-align: right;\">19</td></tr><tr><td class = \"rowNumber\" style = \"font-weight: bold; text-align: right;\">11</td><td style = \"text-align: left;\">CS022515000226</td><td style = \"text-align: right;\">19</td></tr><tr><td class = \"rowNumber\" style = \"font-weight: bold; text-align: right;\">12</td><td style = \"text-align: left;\">CS014214000023</td><td style = \"text-align: right;\">19</td></tr><tr><td class = \"rowNumber\" style = \"font-weight: bold; text-align: right;\">13</td><td style = \"text-align: left;\">CS021515000172</td><td style = \"text-align: right;\">19</td></tr><tr><td class = \"rowNumber\" style = \"font-weight: bold; text-align: right;\">14</td><td style = \"text-align: left;\">CS014415000077</td><td style = \"text-align: right;\">18</td></tr><tr><td class = \"rowNumber\" style = \"font-weight: bold; text-align: right;\">15</td><td style = \"text-align: left;\">CS030214000008</td><td style = \"text-align: right;\">18</td></tr><tr><td class = \"rowNumber\" style = \"font-weight: bold; text-align: right;\">16</td><td style = \"text-align: left;\">CS021515000056</td><td style = \"text-align: right;\">18</td></tr><tr><td class = \"rowNumber\" style = \"font-weight: bold; text-align: right;\">17</td><td style = \"text-align: left;\">CS031414000073</td><td style = \"text-align: right;\">18</td></tr><tr><td class = \"rowNumber\" style = \"font-weight: bold; text-align: right;\">18</td><td style = \"text-align: left;\">CS032415000209</td><td style = \"text-align: right;\">18</td></tr><tr><td class = \"rowNumber\" style = \"font-weight: bold; text-align: right;\">19</td><td style = \"text-align: left;\">CS007515000107</td><td style = \"text-align: right;\">18</td></tr><tr><td class = \"rowNumber\" style = \"font-weight: bold; text-align: right;\">20</td><td style = \"text-align: left;\">CS021515000211</td><td style = \"text-align: right;\">18</td></tr></tbody></table></div>"
      ],
      "text/latex": [
       "\\begin{tabular}{r|cc}\n",
       "\t& customer\\_id & sales\\_ymd\\_length\\_unique\\\\\n",
       "\t\\hline\n",
       "\t& String? & Int64\\\\\n",
       "\t\\hline\n",
       "\t1 & CS040214000008 & 23 \\\\\n",
       "\t2 & CS015415000185 & 22 \\\\\n",
       "\t3 & CS010214000010 & 22 \\\\\n",
       "\t4 & CS010214000002 & 21 \\\\\n",
       "\t5 & CS028415000007 & 21 \\\\\n",
       "\t6 & CS017415000097 & 20 \\\\\n",
       "\t7 & CS016415000141 & 20 \\\\\n",
       "\t8 & CS039414000052 & 19 \\\\\n",
       "\t9 & CS031414000051 & 19 \\\\\n",
       "\t10 & CS021514000045 & 19 \\\\\n",
       "\t11 & CS022515000226 & 19 \\\\\n",
       "\t12 & CS014214000023 & 19 \\\\\n",
       "\t13 & CS021515000172 & 19 \\\\\n",
       "\t14 & CS014415000077 & 18 \\\\\n",
       "\t15 & CS030214000008 & 18 \\\\\n",
       "\t16 & CS021515000056 & 18 \\\\\n",
       "\t17 & CS031414000073 & 18 \\\\\n",
       "\t18 & CS032415000209 & 18 \\\\\n",
       "\t19 & CS007515000107 & 18 \\\\\n",
       "\t20 & CS021515000211 & 18 \\\\\n",
       "\\end{tabular}\n"
      ],
      "text/plain": [
       "\u001b[1m20×2 DataFrame\u001b[0m\n",
       "\u001b[1m Row \u001b[0m│\u001b[1m customer_id    \u001b[0m\u001b[1m sales_ymd_length_unique \u001b[0m\n",
       "     │\u001b[90m String?        \u001b[0m\u001b[90m Int64                   \u001b[0m\n",
       "─────┼─────────────────────────────────────────\n",
       "   1 │ CS040214000008                       23\n",
       "   2 │ CS015415000185                       22\n",
       "   3 │ CS010214000010                       22\n",
       "   4 │ CS010214000002                       21\n",
       "   5 │ CS028415000007                       21\n",
       "   6 │ CS017415000097                       20\n",
       "   7 │ CS016415000141                       20\n",
       "   8 │ CS039414000052                       19\n",
       "   9 │ CS031414000051                       19\n",
       "  10 │ CS021514000045                       19\n",
       "  11 │ CS022515000226                       19\n",
       "  12 │ CS014214000023                       19\n",
       "  13 │ CS021515000172                       19\n",
       "  14 │ CS014415000077                       18\n",
       "  15 │ CS030214000008                       18\n",
       "  16 │ CS021515000056                       18\n",
       "  17 │ CS031414000073                       18\n",
       "  18 │ CS032415000209                       18\n",
       "  19 │ CS007515000107                       18\n",
       "  20 │ CS021515000211                       18"
      ]
     },
     "execution_count": 5,
     "metadata": {},
     "output_type": "execute_result"
    }
   ],
   "source": [
    "df_receipt_top_20_seles_days = @chain df_receipt begin\n",
    "    @subset(.!startswith.(:customer_id, \"Z\"))\n",
    "    groupby(:customer_id)\n",
    "    combine(:sales_ymd => length ∘ unique)\n",
    "    sort(:sales_ymd_length_unique, rev=true)\n",
    "    first(20)\n",
    "end"
   ]
  },
  {
   "cell_type": "code",
   "execution_count": 43,
   "id": "815c44dc",
   "metadata": {},
   "outputs": [
    {
     "data": {
      "text/html": [
       "<div><div style = \"float: left;\"><span>20×2 DataFrame</span></div><div style = \"clear: both;\"></div></div><div class = \"data-frame\" style = \"overflow-x: scroll;\"><table class = \"data-frame\" style = \"margin-bottom: 6px;\"><thead><tr class = \"header\"><th class = \"rowNumber\" style = \"font-weight: bold; text-align: right;\">Row</th><th style = \"text-align: left;\">customer_id</th><th style = \"text-align: left;\">amount_sum</th></tr><tr class = \"subheader headerLastRow\"><th class = \"rowNumber\" style = \"font-weight: bold; text-align: right;\"></th><th title = \"Union{Missing, String}\" style = \"text-align: left;\">String?</th><th title = \"Int64\" style = \"text-align: left;\">Int64</th></tr></thead><tbody><tr><td class = \"rowNumber\" style = \"font-weight: bold; text-align: right;\">1</td><td style = \"text-align: left;\">CS017415000097</td><td style = \"text-align: right;\">23086</td></tr><tr><td class = \"rowNumber\" style = \"font-weight: bold; text-align: right;\">2</td><td style = \"text-align: left;\">CS015415000185</td><td style = \"text-align: right;\">20153</td></tr><tr><td class = \"rowNumber\" style = \"font-weight: bold; text-align: right;\">3</td><td style = \"text-align: left;\">CS031414000051</td><td style = \"text-align: right;\">19202</td></tr><tr><td class = \"rowNumber\" style = \"font-weight: bold; text-align: right;\">4</td><td style = \"text-align: left;\">CS028415000007</td><td style = \"text-align: right;\">19127</td></tr><tr><td class = \"rowNumber\" style = \"font-weight: bold; text-align: right;\">5</td><td style = \"text-align: left;\">CS001605000009</td><td style = \"text-align: right;\">18925</td></tr><tr><td class = \"rowNumber\" style = \"font-weight: bold; text-align: right;\">6</td><td style = \"text-align: left;\">CS010214000010</td><td style = \"text-align: right;\">18585</td></tr><tr><td class = \"rowNumber\" style = \"font-weight: bold; text-align: right;\">7</td><td style = \"text-align: left;\">CS016415000141</td><td style = \"text-align: right;\">18372</td></tr><tr><td class = \"rowNumber\" style = \"font-weight: bold; text-align: right;\">8</td><td style = \"text-align: left;\">CS006515000023</td><td style = \"text-align: right;\">18372</td></tr><tr><td class = \"rowNumber\" style = \"font-weight: bold; text-align: right;\">9</td><td style = \"text-align: left;\">CS011414000106</td><td style = \"text-align: right;\">18338</td></tr><tr><td class = \"rowNumber\" style = \"font-weight: bold; text-align: right;\">10</td><td style = \"text-align: left;\">CS038415000104</td><td style = \"text-align: right;\">17847</td></tr><tr><td class = \"rowNumber\" style = \"font-weight: bold; text-align: right;\">11</td><td style = \"text-align: left;\">CS035414000024</td><td style = \"text-align: right;\">17615</td></tr><tr><td class = \"rowNumber\" style = \"font-weight: bold; text-align: right;\">12</td><td style = \"text-align: left;\">CS021515000089</td><td style = \"text-align: right;\">17580</td></tr><tr><td class = \"rowNumber\" style = \"font-weight: bold; text-align: right;\">13</td><td style = \"text-align: left;\">CS032414000072</td><td style = \"text-align: right;\">16563</td></tr><tr><td class = \"rowNumber\" style = \"font-weight: bold; text-align: right;\">14</td><td style = \"text-align: left;\">CS016415000101</td><td style = \"text-align: right;\">16348</td></tr><tr><td class = \"rowNumber\" style = \"font-weight: bold; text-align: right;\">15</td><td style = \"text-align: left;\">CS011415000006</td><td style = \"text-align: right;\">16094</td></tr><tr><td class = \"rowNumber\" style = \"font-weight: bold; text-align: right;\">16</td><td style = \"text-align: left;\">CS034415000047</td><td style = \"text-align: right;\">16083</td></tr><tr><td class = \"rowNumber\" style = \"font-weight: bold; text-align: right;\">17</td><td style = \"text-align: left;\">CS007514000094</td><td style = \"text-align: right;\">15735</td></tr><tr><td class = \"rowNumber\" style = \"font-weight: bold; text-align: right;\">18</td><td style = \"text-align: left;\">CS009414000059</td><td style = \"text-align: right;\">15492</td></tr><tr><td class = \"rowNumber\" style = \"font-weight: bold; text-align: right;\">19</td><td style = \"text-align: left;\">CS030415000034</td><td style = \"text-align: right;\">15468</td></tr><tr><td class = \"rowNumber\" style = \"font-weight: bold; text-align: right;\">20</td><td style = \"text-align: left;\">CS015515000034</td><td style = \"text-align: right;\">15300</td></tr></tbody></table></div>"
      ],
      "text/latex": [
       "\\begin{tabular}{r|cc}\n",
       "\t& customer\\_id & amount\\_sum\\\\\n",
       "\t\\hline\n",
       "\t& String? & Int64\\\\\n",
       "\t\\hline\n",
       "\t1 & CS017415000097 & 23086 \\\\\n",
       "\t2 & CS015415000185 & 20153 \\\\\n",
       "\t3 & CS031414000051 & 19202 \\\\\n",
       "\t4 & CS028415000007 & 19127 \\\\\n",
       "\t5 & CS001605000009 & 18925 \\\\\n",
       "\t6 & CS010214000010 & 18585 \\\\\n",
       "\t7 & CS016415000141 & 18372 \\\\\n",
       "\t8 & CS006515000023 & 18372 \\\\\n",
       "\t9 & CS011414000106 & 18338 \\\\\n",
       "\t10 & CS038415000104 & 17847 \\\\\n",
       "\t11 & CS035414000024 & 17615 \\\\\n",
       "\t12 & CS021515000089 & 17580 \\\\\n",
       "\t13 & CS032414000072 & 16563 \\\\\n",
       "\t14 & CS016415000101 & 16348 \\\\\n",
       "\t15 & CS011415000006 & 16094 \\\\\n",
       "\t16 & CS034415000047 & 16083 \\\\\n",
       "\t17 & CS007514000094 & 15735 \\\\\n",
       "\t18 & CS009414000059 & 15492 \\\\\n",
       "\t19 & CS030415000034 & 15468 \\\\\n",
       "\t20 & CS015515000034 & 15300 \\\\\n",
       "\\end{tabular}\n"
      ],
      "text/plain": [
       "\u001b[1m20×2 DataFrame\u001b[0m\n",
       "\u001b[1m Row \u001b[0m│\u001b[1m customer_id    \u001b[0m\u001b[1m amount_sum \u001b[0m\n",
       "     │\u001b[90m String?        \u001b[0m\u001b[90m Int64      \u001b[0m\n",
       "─────┼────────────────────────────\n",
       "   1 │ CS017415000097       23086\n",
       "   2 │ CS015415000185       20153\n",
       "   3 │ CS031414000051       19202\n",
       "   4 │ CS028415000007       19127\n",
       "   5 │ CS001605000009       18925\n",
       "   6 │ CS010214000010       18585\n",
       "   7 │ CS016415000141       18372\n",
       "   8 │ CS006515000023       18372\n",
       "   9 │ CS011414000106       18338\n",
       "  10 │ CS038415000104       17847\n",
       "  11 │ CS035414000024       17615\n",
       "  12 │ CS021515000089       17580\n",
       "  13 │ CS032414000072       16563\n",
       "  14 │ CS016415000101       16348\n",
       "  15 │ CS011415000006       16094\n",
       "  16 │ CS034415000047       16083\n",
       "  17 │ CS007514000094       15735\n",
       "  18 │ CS009414000059       15492\n",
       "  19 │ CS030415000034       15468\n",
       "  20 │ CS015515000034       15300"
      ]
     },
     "execution_count": 43,
     "metadata": {},
     "output_type": "execute_result"
    }
   ],
   "source": [
    "df_receipt_top_20_customer = @chain df_receipt begin\n",
    "    @subset(.!startswith.(:customer_id, \"Z\"))\n",
    "    groupby(:customer_id)\n",
    "    combine(:amount => sum)\n",
    "    sort(:amount_sum, rev=true)\n",
    "    first(20)\n",
    "end"
   ]
  },
  {
   "cell_type": "code",
   "execution_count": 44,
   "id": "040642f5",
   "metadata": {},
   "outputs": [
    {
     "data": {
      "text/html": [
       "<div><div style = \"float: left;\"><span>34×3 DataFrame</span></div><div style = \"float: right;\"><span style = \"font-style: italic;\">9 rows omitted</span></div><div style = \"clear: both;\"></div></div><div class = \"data-frame\" style = \"overflow-x: scroll;\"><table class = \"data-frame\" style = \"margin-bottom: 6px;\"><thead><tr class = \"header\"><th class = \"rowNumber\" style = \"font-weight: bold; text-align: right;\">Row</th><th style = \"text-align: left;\">customer_id</th><th style = \"text-align: left;\">sales_ymd_length_unique</th><th style = \"text-align: left;\">amount_sum</th></tr><tr class = \"subheader headerLastRow\"><th class = \"rowNumber\" style = \"font-weight: bold; text-align: right;\"></th><th title = \"Union{Missing, String}\" style = \"text-align: left;\">String?</th><th title = \"Union{Missing, Int64}\" style = \"text-align: left;\">Int64?</th><th title = \"Union{Missing, Int64}\" style = \"text-align: left;\">Int64?</th></tr></thead><tbody><tr><td class = \"rowNumber\" style = \"font-weight: bold; text-align: right;\">1</td><td style = \"text-align: left;\">CS017415000097</td><td style = \"text-align: right;\">20</td><td style = \"text-align: right;\">23086</td></tr><tr><td class = \"rowNumber\" style = \"font-weight: bold; text-align: right;\">2</td><td style = \"text-align: left;\">CS015415000185</td><td style = \"text-align: right;\">22</td><td style = \"text-align: right;\">20153</td></tr><tr><td class = \"rowNumber\" style = \"font-weight: bold; text-align: right;\">3</td><td style = \"text-align: left;\">CS031414000051</td><td style = \"text-align: right;\">19</td><td style = \"text-align: right;\">19202</td></tr><tr><td class = \"rowNumber\" style = \"font-weight: bold; text-align: right;\">4</td><td style = \"text-align: left;\">CS028415000007</td><td style = \"text-align: right;\">21</td><td style = \"text-align: right;\">19127</td></tr><tr><td class = \"rowNumber\" style = \"font-weight: bold; text-align: right;\">5</td><td style = \"text-align: left;\">CS010214000010</td><td style = \"text-align: right;\">22</td><td style = \"text-align: right;\">18585</td></tr><tr><td class = \"rowNumber\" style = \"font-weight: bold; text-align: right;\">6</td><td style = \"text-align: left;\">CS016415000141</td><td style = \"text-align: right;\">20</td><td style = \"text-align: right;\">18372</td></tr><tr><td class = \"rowNumber\" style = \"font-weight: bold; text-align: right;\">7</td><td style = \"text-align: left;\">CS040214000008</td><td style = \"text-align: right;\">23</td><td style = \"font-style: italic; text-align: right;\">missing</td></tr><tr><td class = \"rowNumber\" style = \"font-weight: bold; text-align: right;\">8</td><td style = \"text-align: left;\">CS010214000002</td><td style = \"text-align: right;\">21</td><td style = \"font-style: italic; text-align: right;\">missing</td></tr><tr><td class = \"rowNumber\" style = \"font-weight: bold; text-align: right;\">9</td><td style = \"text-align: left;\">CS039414000052</td><td style = \"text-align: right;\">19</td><td style = \"font-style: italic; text-align: right;\">missing</td></tr><tr><td class = \"rowNumber\" style = \"font-weight: bold; text-align: right;\">10</td><td style = \"text-align: left;\">CS021514000045</td><td style = \"text-align: right;\">19</td><td style = \"font-style: italic; text-align: right;\">missing</td></tr><tr><td class = \"rowNumber\" style = \"font-weight: bold; text-align: right;\">11</td><td style = \"text-align: left;\">CS022515000226</td><td style = \"text-align: right;\">19</td><td style = \"font-style: italic; text-align: right;\">missing</td></tr><tr><td class = \"rowNumber\" style = \"font-weight: bold; text-align: right;\">12</td><td style = \"text-align: left;\">CS014214000023</td><td style = \"text-align: right;\">19</td><td style = \"font-style: italic; text-align: right;\">missing</td></tr><tr><td class = \"rowNumber\" style = \"font-weight: bold; text-align: right;\">13</td><td style = \"text-align: left;\">CS021515000172</td><td style = \"text-align: right;\">19</td><td style = \"font-style: italic; text-align: right;\">missing</td></tr><tr><td style = \"text-align: right;\">&vellip;</td><td style = \"text-align: right;\">&vellip;</td><td style = \"text-align: right;\">&vellip;</td><td style = \"text-align: right;\">&vellip;</td></tr><tr><td class = \"rowNumber\" style = \"font-weight: bold; text-align: right;\">23</td><td style = \"text-align: left;\">CS011414000106</td><td style = \"text-align: right;\">missing</td><td style = \"font-style: italic; text-align: right;\">18338</td></tr><tr><td class = \"rowNumber\" style = \"font-weight: bold; text-align: right;\">24</td><td style = \"text-align: left;\">CS038415000104</td><td style = \"text-align: right;\">missing</td><td style = \"font-style: italic; text-align: right;\">17847</td></tr><tr><td class = \"rowNumber\" style = \"font-weight: bold; text-align: right;\">25</td><td style = \"text-align: left;\">CS035414000024</td><td style = \"text-align: right;\">missing</td><td style = \"font-style: italic; text-align: right;\">17615</td></tr><tr><td class = \"rowNumber\" style = \"font-weight: bold; text-align: right;\">26</td><td style = \"text-align: left;\">CS021515000089</td><td style = \"text-align: right;\">missing</td><td style = \"font-style: italic; text-align: right;\">17580</td></tr><tr><td class = \"rowNumber\" style = \"font-weight: bold; text-align: right;\">27</td><td style = \"text-align: left;\">CS032414000072</td><td style = \"text-align: right;\">missing</td><td style = \"font-style: italic; text-align: right;\">16563</td></tr><tr><td class = \"rowNumber\" style = \"font-weight: bold; text-align: right;\">28</td><td style = \"text-align: left;\">CS016415000101</td><td style = \"text-align: right;\">missing</td><td style = \"font-style: italic; text-align: right;\">16348</td></tr><tr><td class = \"rowNumber\" style = \"font-weight: bold; text-align: right;\">29</td><td style = \"text-align: left;\">CS011415000006</td><td style = \"text-align: right;\">missing</td><td style = \"font-style: italic; text-align: right;\">16094</td></tr><tr><td class = \"rowNumber\" style = \"font-weight: bold; text-align: right;\">30</td><td style = \"text-align: left;\">CS034415000047</td><td style = \"font-style: italic; text-align: right;\">missing</td><td style = \"text-align: right;\">16083</td></tr><tr><td class = \"rowNumber\" style = \"font-weight: bold; text-align: right;\">31</td><td style = \"text-align: left;\">CS007514000094</td><td style = \"font-style: italic; text-align: right;\">missing</td><td style = \"text-align: right;\">15735</td></tr><tr><td class = \"rowNumber\" style = \"font-weight: bold; text-align: right;\">32</td><td style = \"text-align: left;\">CS009414000059</td><td style = \"font-style: italic; text-align: right;\">missing</td><td style = \"text-align: right;\">15492</td></tr><tr><td class = \"rowNumber\" style = \"font-weight: bold; text-align: right;\">33</td><td style = \"text-align: left;\">CS030415000034</td><td style = \"font-style: italic; text-align: right;\">missing</td><td style = \"text-align: right;\">15468</td></tr><tr><td class = \"rowNumber\" style = \"font-weight: bold; text-align: right;\">34</td><td style = \"text-align: left;\">CS015515000034</td><td style = \"font-style: italic; text-align: right;\">missing</td><td style = \"text-align: right;\">15300</td></tr></tbody></table></div>"
      ],
      "text/latex": [
       "\\begin{tabular}{r|ccc}\n",
       "\t& customer\\_id & sales\\_ymd\\_length\\_unique & amount\\_sum\\\\\n",
       "\t\\hline\n",
       "\t& String? & Int64? & Int64?\\\\\n",
       "\t\\hline\n",
       "\t1 & CS017415000097 & 20 & 23086 \\\\\n",
       "\t2 & CS015415000185 & 22 & 20153 \\\\\n",
       "\t3 & CS031414000051 & 19 & 19202 \\\\\n",
       "\t4 & CS028415000007 & 21 & 19127 \\\\\n",
       "\t5 & CS010214000010 & 22 & 18585 \\\\\n",
       "\t6 & CS016415000141 & 20 & 18372 \\\\\n",
       "\t7 & CS040214000008 & 23 & \\emph{missing} \\\\\n",
       "\t8 & CS010214000002 & 21 & \\emph{missing} \\\\\n",
       "\t9 & CS039414000052 & 19 & \\emph{missing} \\\\\n",
       "\t10 & CS021514000045 & 19 & \\emph{missing} \\\\\n",
       "\t11 & CS022515000226 & 19 & \\emph{missing} \\\\\n",
       "\t12 & CS014214000023 & 19 & \\emph{missing} \\\\\n",
       "\t13 & CS021515000172 & 19 & \\emph{missing} \\\\\n",
       "\t14 & CS014415000077 & 18 & \\emph{missing} \\\\\n",
       "\t15 & CS030214000008 & 18 & \\emph{missing} \\\\\n",
       "\t16 & CS021515000056 & 18 & \\emph{missing} \\\\\n",
       "\t17 & CS031414000073 & 18 & \\emph{missing} \\\\\n",
       "\t18 & CS032415000209 & 18 & \\emph{missing} \\\\\n",
       "\t19 & CS007515000107 & 18 & \\emph{missing} \\\\\n",
       "\t20 & CS021515000211 & 18 & \\emph{missing} \\\\\n",
       "\t21 & CS001605000009 & \\emph{missing} & 18925 \\\\\n",
       "\t22 & CS006515000023 & \\emph{missing} & 18372 \\\\\n",
       "\t23 & CS011414000106 & \\emph{missing} & 18338 \\\\\n",
       "\t24 & CS038415000104 & \\emph{missing} & 17847 \\\\\n",
       "\t25 & CS035414000024 & \\emph{missing} & 17615 \\\\\n",
       "\t26 & CS021515000089 & \\emph{missing} & 17580 \\\\\n",
       "\t27 & CS032414000072 & \\emph{missing} & 16563 \\\\\n",
       "\t28 & CS016415000101 & \\emph{missing} & 16348 \\\\\n",
       "\t29 & CS011415000006 & \\emph{missing} & 16094 \\\\\n",
       "\t30 & CS034415000047 & \\emph{missing} & 16083 \\\\\n",
       "\t$\\dots$ & $\\dots$ & $\\dots$ & $\\dots$ \\\\\n",
       "\\end{tabular}\n"
      ],
      "text/plain": [
       "\u001b[1m34×3 DataFrame\u001b[0m\n",
       "\u001b[1m Row \u001b[0m│\u001b[1m customer_id    \u001b[0m\u001b[1m sales_ymd_length_unique \u001b[0m\u001b[1m amount_sum            \u001b[0m\n",
       "     │\u001b[90m String?        \u001b[0m\u001b[90m Union{Missing, Int64}   \u001b[0m\u001b[90m Union{Missing, Int64} \u001b[0m\n",
       "─────┼────────────────────────────────────────────────────────────────\n",
       "   1 │ CS017415000097                       20                  23086\n",
       "   2 │ CS015415000185                       22                  20153\n",
       "   3 │ CS031414000051                       19                  19202\n",
       "   4 │ CS028415000007                       21                  19127\n",
       "   5 │ CS010214000010                       22                  18585\n",
       "   6 │ CS016415000141                       20                  18372\n",
       "   7 │ CS040214000008                       23 \u001b[90m               missing \u001b[0m\n",
       "   8 │ CS010214000002                       21 \u001b[90m               missing \u001b[0m\n",
       "   9 │ CS039414000052                       19 \u001b[90m               missing \u001b[0m\n",
       "  10 │ CS021514000045                       19 \u001b[90m               missing \u001b[0m\n",
       "  11 │ CS022515000226                       19 \u001b[90m               missing \u001b[0m\n",
       "  ⋮  │       ⋮                    ⋮                       ⋮\n",
       "  25 │ CS035414000024 \u001b[90m                 missing \u001b[0m                 17615\n",
       "  26 │ CS021515000089 \u001b[90m                 missing \u001b[0m                 17580\n",
       "  27 │ CS032414000072 \u001b[90m                 missing \u001b[0m                 16563\n",
       "  28 │ CS016415000101 \u001b[90m                 missing \u001b[0m                 16348\n",
       "  29 │ CS011415000006 \u001b[90m                 missing \u001b[0m                 16094\n",
       "  30 │ CS034415000047 \u001b[90m                 missing \u001b[0m                 16083\n",
       "  31 │ CS007514000094 \u001b[90m                 missing \u001b[0m                 15735\n",
       "  32 │ CS009414000059 \u001b[90m                 missing \u001b[0m                 15492\n",
       "  33 │ CS030415000034 \u001b[90m                 missing \u001b[0m                 15468\n",
       "  34 │ CS015515000034 \u001b[90m                 missing \u001b[0m                 15300\n",
       "\u001b[36m                                                       13 rows omitted\u001b[0m"
      ]
     },
     "execution_count": 44,
     "metadata": {},
     "output_type": "execute_result"
    }
   ],
   "source": [
    "outerjoin(df_receipt_top_20_seles_days, df_receipt_top_20_customer, on=:customer_id)"
   ]
  },
  {
   "cell_type": "markdown",
   "id": "098eefdc-64d6-40a1-be92-42faf80b67e8",
   "metadata": {},
   "source": [
    "---\n",
    "> P-040: 全ての店舗と全ての商品を組み合わせたデータを作成したい。店舗データ（df_store）と商品データ（df_product）を直積し、件数を計算せよ。"
   ]
  },
  {
   "cell_type": "code",
   "execution_count": 45,
   "id": "ae7f7ab4-1f38-4e6b-87de-dc2737bb80bb",
   "metadata": {},
   "outputs": [
    {
     "data": {
      "text/plain": [
       "531590"
      ]
     },
     "execution_count": 45,
     "metadata": {},
     "output_type": "execute_result"
    }
   ],
   "source": [
    "nrow(df_store) * nrow(df_product)"
   ]
  },
  {
   "cell_type": "markdown",
   "id": "966dac4f-3448-47b0-917e-de9b376c22db",
   "metadata": {},
   "source": [
    "---\n",
    "> P-041: レシート明細データ（df_receipt）の売上金額（amount）を日付（sales_ymd）ごとに集計し、前回売上があった日からの売上金額増減を計算せよ。そして結果を10件表示せよ。"
   ]
  },
  {
   "cell_type": "code",
   "execution_count": 46,
   "id": "7812a546-af1b-4e55-a39d-3ac2c271df93",
   "metadata": {},
   "outputs": [
    {
     "data": {
      "text/html": [
       "<div><div style = \"float: left;\"><span>10×3 DataFrame</span></div><div style = \"clear: both;\"></div></div><div class = \"data-frame\" style = \"overflow-x: scroll;\"><table class = \"data-frame\" style = \"margin-bottom: 6px;\"><thead><tr class = \"header\"><th class = \"rowNumber\" style = \"font-weight: bold; text-align: right;\">Row</th><th style = \"text-align: left;\">sales_ymd</th><th style = \"text-align: left;\">amount_sum</th><th style = \"text-align: left;\">amount_diff</th></tr><tr class = \"subheader headerLastRow\"><th class = \"rowNumber\" style = \"font-weight: bold; text-align: right;\"></th><th title = \"Union{Missing, Int32}\" style = \"text-align: left;\">Int32?</th><th title = \"Int64\" style = \"text-align: left;\">Int64</th><th title = \"Union{Missing, Int64}\" style = \"text-align: left;\">Int64?</th></tr></thead><tbody><tr><td class = \"rowNumber\" style = \"font-weight: bold; text-align: right;\">1</td><td style = \"text-align: right;\">20170101</td><td style = \"text-align: right;\">33723</td><td style = \"font-style: italic; text-align: right;\">missing</td></tr><tr><td class = \"rowNumber\" style = \"font-weight: bold; text-align: right;\">2</td><td style = \"text-align: right;\">20170102</td><td style = \"text-align: right;\">24165</td><td style = \"text-align: right;\">9558</td></tr><tr><td class = \"rowNumber\" style = \"font-weight: bold; text-align: right;\">3</td><td style = \"text-align: right;\">20170103</td><td style = \"text-align: right;\">27503</td><td style = \"text-align: right;\">-3338</td></tr><tr><td class = \"rowNumber\" style = \"font-weight: bold; text-align: right;\">4</td><td style = \"text-align: right;\">20170104</td><td style = \"text-align: right;\">36165</td><td style = \"text-align: right;\">-8662</td></tr><tr><td class = \"rowNumber\" style = \"font-weight: bold; text-align: right;\">5</td><td style = \"text-align: right;\">20170105</td><td style = \"text-align: right;\">37830</td><td style = \"text-align: right;\">-1665</td></tr><tr><td class = \"rowNumber\" style = \"font-weight: bold; text-align: right;\">6</td><td style = \"text-align: right;\">20170106</td><td style = \"text-align: right;\">32387</td><td style = \"text-align: right;\">5443</td></tr><tr><td class = \"rowNumber\" style = \"font-weight: bold; text-align: right;\">7</td><td style = \"text-align: right;\">20170107</td><td style = \"text-align: right;\">23415</td><td style = \"text-align: right;\">8972</td></tr><tr><td class = \"rowNumber\" style = \"font-weight: bold; text-align: right;\">8</td><td style = \"text-align: right;\">20170108</td><td style = \"text-align: right;\">24737</td><td style = \"text-align: right;\">-1322</td></tr><tr><td class = \"rowNumber\" style = \"font-weight: bold; text-align: right;\">9</td><td style = \"text-align: right;\">20170109</td><td style = \"text-align: right;\">26718</td><td style = \"text-align: right;\">-1981</td></tr><tr><td class = \"rowNumber\" style = \"font-weight: bold; text-align: right;\">10</td><td style = \"text-align: right;\">20170110</td><td style = \"text-align: right;\">20143</td><td style = \"text-align: right;\">6575</td></tr></tbody></table></div>"
      ],
      "text/latex": [
       "\\begin{tabular}{r|ccc}\n",
       "\t& sales\\_ymd & amount\\_sum & amount\\_diff\\\\\n",
       "\t\\hline\n",
       "\t& Int32? & Int64 & Int64?\\\\\n",
       "\t\\hline\n",
       "\t1 & 20170101 & 33723 & \\emph{missing} \\\\\n",
       "\t2 & 20170102 & 24165 & 9558 \\\\\n",
       "\t3 & 20170103 & 27503 & -3338 \\\\\n",
       "\t4 & 20170104 & 36165 & -8662 \\\\\n",
       "\t5 & 20170105 & 37830 & -1665 \\\\\n",
       "\t6 & 20170106 & 32387 & 5443 \\\\\n",
       "\t7 & 20170107 & 23415 & 8972 \\\\\n",
       "\t8 & 20170108 & 24737 & -1322 \\\\\n",
       "\t9 & 20170109 & 26718 & -1981 \\\\\n",
       "\t10 & 20170110 & 20143 & 6575 \\\\\n",
       "\\end{tabular}\n"
      ],
      "text/plain": [
       "\u001b[1m10×3 DataFrame\u001b[0m\n",
       "\u001b[1m Row \u001b[0m│\u001b[1m sales_ymd \u001b[0m\u001b[1m amount_sum \u001b[0m\u001b[1m amount_diff \u001b[0m\n",
       "     │\u001b[90m Int32?    \u001b[0m\u001b[90m Int64      \u001b[0m\u001b[90m Int64?      \u001b[0m\n",
       "─────┼────────────────────────────────────\n",
       "   1 │  20170101       33723 \u001b[90m     missing \u001b[0m\n",
       "   2 │  20170102       24165         9558\n",
       "   3 │  20170103       27503        -3338\n",
       "   4 │  20170104       36165        -8662\n",
       "   5 │  20170105       37830        -1665\n",
       "   6 │  20170106       32387         5443\n",
       "   7 │  20170107       23415         8972\n",
       "   8 │  20170108       24737        -1322\n",
       "   9 │  20170109       26718        -1981\n",
       "  10 │  20170110       20143         6575"
      ]
     },
     "execution_count": 46,
     "metadata": {},
     "output_type": "execute_result"
    }
   ],
   "source": [
    "df_amount_by_date = @chain df_receipt begin\n",
    "    groupby(:sales_ymd)\n",
    "    combine(:amount => sum)\n",
    "    @transform(:amount_diff = lag(:amount_sum) .- :amount_sum)\n",
    "    first(10)\n",
    "end"
   ]
  },
  {
   "cell_type": "markdown",
   "id": "e5d27f3f-502a-4b97-b9c5-7d73217a8a61",
   "metadata": {},
   "source": [
    "---\n",
    "> P-042: レシート明細データ（df_receipt）の売上金額（amount）を日付（sales_ymd）ごとに集計し、各日付のデータに対し、前回、前々回、3回前に売上があった日のデータを結合せよ。そして結果を10件表示せよ。"
   ]
  },
  {
   "cell_type": "code",
   "execution_count": 47,
   "id": "b2ce5767-a9ed-4c75-852b-c69ef32e2a70",
   "metadata": {},
   "outputs": [
    {
     "data": {
      "text/html": [
       "<div><div style = \"float: left;\"><span>10×8 DataFrame</span></div><div style = \"clear: both;\"></div></div><div class = \"data-frame\" style = \"overflow-x: scroll;\"><table class = \"data-frame\" style = \"margin-bottom: 6px;\"><thead><tr class = \"header\"><th class = \"rowNumber\" style = \"font-weight: bold; text-align: right;\">Row</th><th style = \"text-align: left;\">sales_ymd</th><th style = \"text-align: left;\">amount_sum</th><th style = \"text-align: left;\">sales_ymd_pre1</th><th style = \"text-align: left;\">amount_pre1</th><th style = \"text-align: left;\">sales_ymd_pre2</th><th style = \"text-align: left;\">amount_pre2</th><th style = \"text-align: left;\">sales_ymd_pre3</th><th style = \"text-align: left;\">amount_pre3</th></tr><tr class = \"subheader headerLastRow\"><th class = \"rowNumber\" style = \"font-weight: bold; text-align: right;\"></th><th title = \"Int32\" style = \"text-align: left;\">Int32</th><th title = \"Int64\" style = \"text-align: left;\">Int64</th><th title = \"Int32\" style = \"text-align: left;\">Int32</th><th title = \"Int64\" style = \"text-align: left;\">Int64</th><th title = \"Int32\" style = \"text-align: left;\">Int32</th><th title = \"Int64\" style = \"text-align: left;\">Int64</th><th title = \"Int32\" style = \"text-align: left;\">Int32</th><th title = \"Int64\" style = \"text-align: left;\">Int64</th></tr></thead><tbody><tr><td class = \"rowNumber\" style = \"font-weight: bold; text-align: right;\">1</td><td style = \"text-align: right;\">20170104</td><td style = \"text-align: right;\">36165</td><td style = \"text-align: right;\">20170103</td><td style = \"text-align: right;\">27503</td><td style = \"text-align: right;\">20170102</td><td style = \"text-align: right;\">24165</td><td style = \"text-align: right;\">20170101</td><td style = \"text-align: right;\">33723</td></tr><tr><td class = \"rowNumber\" style = \"font-weight: bold; text-align: right;\">2</td><td style = \"text-align: right;\">20170105</td><td style = \"text-align: right;\">37830</td><td style = \"text-align: right;\">20170104</td><td style = \"text-align: right;\">36165</td><td style = \"text-align: right;\">20170103</td><td style = \"text-align: right;\">27503</td><td style = \"text-align: right;\">20170102</td><td style = \"text-align: right;\">24165</td></tr><tr><td class = \"rowNumber\" style = \"font-weight: bold; text-align: right;\">3</td><td style = \"text-align: right;\">20170106</td><td style = \"text-align: right;\">32387</td><td style = \"text-align: right;\">20170105</td><td style = \"text-align: right;\">37830</td><td style = \"text-align: right;\">20170104</td><td style = \"text-align: right;\">36165</td><td style = \"text-align: right;\">20170103</td><td style = \"text-align: right;\">27503</td></tr><tr><td class = \"rowNumber\" style = \"font-weight: bold; text-align: right;\">4</td><td style = \"text-align: right;\">20170107</td><td style = \"text-align: right;\">23415</td><td style = \"text-align: right;\">20170106</td><td style = \"text-align: right;\">32387</td><td style = \"text-align: right;\">20170105</td><td style = \"text-align: right;\">37830</td><td style = \"text-align: right;\">20170104</td><td style = \"text-align: right;\">36165</td></tr><tr><td class = \"rowNumber\" style = \"font-weight: bold; text-align: right;\">5</td><td style = \"text-align: right;\">20170108</td><td style = \"text-align: right;\">24737</td><td style = \"text-align: right;\">20170107</td><td style = \"text-align: right;\">23415</td><td style = \"text-align: right;\">20170106</td><td style = \"text-align: right;\">32387</td><td style = \"text-align: right;\">20170105</td><td style = \"text-align: right;\">37830</td></tr><tr><td class = \"rowNumber\" style = \"font-weight: bold; text-align: right;\">6</td><td style = \"text-align: right;\">20170109</td><td style = \"text-align: right;\">26718</td><td style = \"text-align: right;\">20170108</td><td style = \"text-align: right;\">24737</td><td style = \"text-align: right;\">20170107</td><td style = \"text-align: right;\">23415</td><td style = \"text-align: right;\">20170106</td><td style = \"text-align: right;\">32387</td></tr><tr><td class = \"rowNumber\" style = \"font-weight: bold; text-align: right;\">7</td><td style = \"text-align: right;\">20170110</td><td style = \"text-align: right;\">20143</td><td style = \"text-align: right;\">20170109</td><td style = \"text-align: right;\">26718</td><td style = \"text-align: right;\">20170108</td><td style = \"text-align: right;\">24737</td><td style = \"text-align: right;\">20170107</td><td style = \"text-align: right;\">23415</td></tr><tr><td class = \"rowNumber\" style = \"font-weight: bold; text-align: right;\">8</td><td style = \"text-align: right;\">20170111</td><td style = \"text-align: right;\">24287</td><td style = \"text-align: right;\">20170110</td><td style = \"text-align: right;\">20143</td><td style = \"text-align: right;\">20170109</td><td style = \"text-align: right;\">26718</td><td style = \"text-align: right;\">20170108</td><td style = \"text-align: right;\">24737</td></tr><tr><td class = \"rowNumber\" style = \"font-weight: bold; text-align: right;\">9</td><td style = \"text-align: right;\">20170112</td><td style = \"text-align: right;\">23526</td><td style = \"text-align: right;\">20170111</td><td style = \"text-align: right;\">24287</td><td style = \"text-align: right;\">20170110</td><td style = \"text-align: right;\">20143</td><td style = \"text-align: right;\">20170109</td><td style = \"text-align: right;\">26718</td></tr><tr><td class = \"rowNumber\" style = \"font-weight: bold; text-align: right;\">10</td><td style = \"text-align: right;\">20170113</td><td style = \"text-align: right;\">28004</td><td style = \"text-align: right;\">20170112</td><td style = \"text-align: right;\">23526</td><td style = \"text-align: right;\">20170111</td><td style = \"text-align: right;\">24287</td><td style = \"text-align: right;\">20170110</td><td style = \"text-align: right;\">20143</td></tr></tbody></table></div>"
      ],
      "text/latex": [
       "\\begin{tabular}{r|ccccccc}\n",
       "\t& sales\\_ymd & amount\\_sum & sales\\_ymd\\_pre1 & amount\\_pre1 & sales\\_ymd\\_pre2 & amount\\_pre2 & \\\\\n",
       "\t\\hline\n",
       "\t& Int32 & Int64 & Int32 & Int64 & Int32 & Int64 & \\\\\n",
       "\t\\hline\n",
       "\t1 & 20170104 & 36165 & 20170103 & 27503 & 20170102 & 24165 & $\\dots$ \\\\\n",
       "\t2 & 20170105 & 37830 & 20170104 & 36165 & 20170103 & 27503 & $\\dots$ \\\\\n",
       "\t3 & 20170106 & 32387 & 20170105 & 37830 & 20170104 & 36165 & $\\dots$ \\\\\n",
       "\t4 & 20170107 & 23415 & 20170106 & 32387 & 20170105 & 37830 & $\\dots$ \\\\\n",
       "\t5 & 20170108 & 24737 & 20170107 & 23415 & 20170106 & 32387 & $\\dots$ \\\\\n",
       "\t6 & 20170109 & 26718 & 20170108 & 24737 & 20170107 & 23415 & $\\dots$ \\\\\n",
       "\t7 & 20170110 & 20143 & 20170109 & 26718 & 20170108 & 24737 & $\\dots$ \\\\\n",
       "\t8 & 20170111 & 24287 & 20170110 & 20143 & 20170109 & 26718 & $\\dots$ \\\\\n",
       "\t9 & 20170112 & 23526 & 20170111 & 24287 & 20170110 & 20143 & $\\dots$ \\\\\n",
       "\t10 & 20170113 & 28004 & 20170112 & 23526 & 20170111 & 24287 & $\\dots$ \\\\\n",
       "\\end{tabular}\n"
      ],
      "text/plain": [
       "\u001b[1m10×8 DataFrame\u001b[0m\n",
       "\u001b[1m Row \u001b[0m│\u001b[1m sales_ymd \u001b[0m\u001b[1m amount_sum \u001b[0m\u001b[1m sales_ymd_pre1 \u001b[0m\u001b[1m amount_pre1 \u001b[0m\u001b[1m sales_ymd_pre2 \u001b[0m\u001b[1m amo\u001b[0m ⋯\n",
       "     │\u001b[90m Int32     \u001b[0m\u001b[90m Int64      \u001b[0m\u001b[90m Int32          \u001b[0m\u001b[90m Int64       \u001b[0m\u001b[90m Int32          \u001b[0m\u001b[90m Int\u001b[0m ⋯\n",
       "─────┼──────────────────────────────────────────────────────────────────────────\n",
       "   1 │  20170104       36165        20170103        27503        20170102      ⋯\n",
       "   2 │  20170105       37830        20170104        36165        20170103\n",
       "   3 │  20170106       32387        20170105        37830        20170104\n",
       "   4 │  20170107       23415        20170106        32387        20170105\n",
       "   5 │  20170108       24737        20170107        23415        20170106      ⋯\n",
       "   6 │  20170109       26718        20170108        24737        20170107\n",
       "   7 │  20170110       20143        20170109        26718        20170108\n",
       "   8 │  20170111       24287        20170110        20143        20170109\n",
       "   9 │  20170112       23526        20170111        24287        20170110      ⋯\n",
       "  10 │  20170113       28004        20170112        23526        20170111\n",
       "\u001b[36m                                                               3 columns omitted\u001b[0m"
      ]
     },
     "execution_count": 47,
     "metadata": {},
     "output_type": "execute_result"
    }
   ],
   "source": [
    "@chain df_receipt begin\n",
    "    groupby(:sales_ymd)\n",
    "    combine(:amount => sum)\n",
    "    @transform(:sales_ymd_pre1 = lag(:sales_ymd), :amount_pre1 = lag(:amount_sum))\n",
    "    @transform(:sales_ymd_pre2 = lag(:sales_ymd_pre1), :amount_pre2 = lag(:amount_pre1))\n",
    "    @transform(:sales_ymd_pre3 = lag(:sales_ymd_pre2), :amount_pre3 = lag(:amount_pre2))\n",
    "    dropmissing()\n",
    "    first(10)\n",
    "end"
   ]
  },
  {
   "cell_type": "markdown",
   "id": "7792c70e-6475-4166-b88a-9686204badb3",
   "metadata": {},
   "source": [
    "---\n",
    "> P-043： レシート明細データ（df_receipt）と顧客データ（df_customer）を結合し、性別コード（gender_cd）と年代（ageから計算）ごとに売上金額（amount）を合計した売上サマリデータを作成せよ。性別コードは0が男性、1が女性、9が不明を表すものとする。\n",
    ">\n",
    "> ただし、項目構成は年代、女性の売上金額、男性の売上金額、性別不明の売上金額の4項目とすること（縦に年代、横に性別のクロス集計）。また、年代は10歳ごとの階級とすること。"
   ]
  },
  {
   "cell_type": "code",
   "execution_count": 48,
   "id": "6406a34a-e0de-45ed-afef-29ca2cd13b1f",
   "metadata": {},
   "outputs": [
    {
     "data": {
      "text/html": [
       "<div><div style = \"float: left;\"><span>9×4 DataFrame</span></div><div style = \"clear: both;\"></div></div><div class = \"data-frame\" style = \"overflow-x: scroll;\"><table class = \"data-frame\" style = \"margin-bottom: 6px;\"><thead><tr class = \"header\"><th class = \"rowNumber\" style = \"font-weight: bold; text-align: right;\">Row</th><th style = \"text-align: left;\">period</th><th style = \"text-align: left;\">1</th><th style = \"text-align: left;\">0</th><th style = \"text-align: left;\">9</th></tr><tr class = \"subheader headerLastRow\"><th class = \"rowNumber\" style = \"font-weight: bold; text-align: right;\"></th><th title = \"String\" style = \"text-align: left;\">String</th><th title = \"Union{Missing, Int64}\" style = \"text-align: left;\">Int64?</th><th title = \"Union{Missing, Int64}\" style = \"text-align: left;\">Int64?</th><th title = \"Union{Missing, Int64}\" style = \"text-align: left;\">Int64?</th></tr></thead><tbody><tr><td class = \"rowNumber\" style = \"font-weight: bold; text-align: right;\">1</td><td style = \"text-align: left;\">10代</td><td style = \"text-align: right;\">149836</td><td style = \"text-align: right;\">1591</td><td style = \"text-align: right;\">4317</td></tr><tr><td class = \"rowNumber\" style = \"font-weight: bold; text-align: right;\">2</td><td style = \"text-align: left;\">20代</td><td style = \"text-align: right;\">1363724</td><td style = \"text-align: right;\">72940</td><td style = \"text-align: right;\">44328</td></tr><tr><td class = \"rowNumber\" style = \"font-weight: bold; text-align: right;\">3</td><td style = \"text-align: left;\">30代</td><td style = \"text-align: right;\">693047</td><td style = \"text-align: right;\">177322</td><td style = \"text-align: right;\">50441</td></tr><tr><td class = \"rowNumber\" style = \"font-weight: bold; text-align: right;\">4</td><td style = \"text-align: left;\">40代</td><td style = \"text-align: right;\">9320791</td><td style = \"text-align: right;\">19355</td><td style = \"text-align: right;\">483512</td></tr><tr><td class = \"rowNumber\" style = \"font-weight: bold; text-align: right;\">5</td><td style = \"text-align: left;\">50代</td><td style = \"text-align: right;\">6685192</td><td style = \"text-align: right;\">54320</td><td style = \"text-align: right;\">342923</td></tr><tr><td class = \"rowNumber\" style = \"font-weight: bold; text-align: right;\">6</td><td style = \"text-align: left;\">60代</td><td style = \"text-align: right;\">987741</td><td style = \"text-align: right;\">272469</td><td style = \"text-align: right;\">71418</td></tr><tr><td class = \"rowNumber\" style = \"font-weight: bold; text-align: right;\">7</td><td style = \"text-align: left;\">70代</td><td style = \"text-align: right;\">29764</td><td style = \"text-align: right;\">13435</td><td style = \"text-align: right;\">2427</td></tr><tr><td class = \"rowNumber\" style = \"font-weight: bold; text-align: right;\">8</td><td style = \"text-align: left;\">80代</td><td style = \"text-align: right;\">262923</td><td style = \"text-align: right;\">46360</td><td style = \"text-align: right;\">5111</td></tr><tr><td class = \"rowNumber\" style = \"font-weight: bold; text-align: right;\">9</td><td style = \"text-align: left;\">90代</td><td style = \"text-align: right;\">6260</td><td style = \"font-style: italic; text-align: right;\">missing</td><td style = \"font-style: italic; text-align: right;\">missing</td></tr></tbody></table></div>"
      ],
      "text/latex": [
       "\\begin{tabular}{r|cccc}\n",
       "\t& period & 1 & 0 & 9\\\\\n",
       "\t\\hline\n",
       "\t& String & Int64? & Int64? & Int64?\\\\\n",
       "\t\\hline\n",
       "\t1 & 10代 & 149836 & 1591 & 4317 \\\\\n",
       "\t2 & 20代 & 1363724 & 72940 & 44328 \\\\\n",
       "\t3 & 30代 & 693047 & 177322 & 50441 \\\\\n",
       "\t4 & 40代 & 9320791 & 19355 & 483512 \\\\\n",
       "\t5 & 50代 & 6685192 & 54320 & 342923 \\\\\n",
       "\t6 & 60代 & 987741 & 272469 & 71418 \\\\\n",
       "\t7 & 70代 & 29764 & 13435 & 2427 \\\\\n",
       "\t8 & 80代 & 262923 & 46360 & 5111 \\\\\n",
       "\t9 & 90代 & 6260 & \\emph{missing} & \\emph{missing} \\\\\n",
       "\\end{tabular}\n"
      ],
      "text/plain": [
       "\u001b[1m9×4 DataFrame\u001b[0m\n",
       "\u001b[1m Row \u001b[0m│\u001b[1m period \u001b[0m\u001b[1m 1       \u001b[0m\u001b[1m 0       \u001b[0m\u001b[1m 9       \u001b[0m\n",
       "     │\u001b[90m String \u001b[0m\u001b[90m Int64?  \u001b[0m\u001b[90m Int64?  \u001b[0m\u001b[90m Int64?  \u001b[0m\n",
       "─────┼───────────────────────────────────\n",
       "   1 │ 10代     149836     1591     4317\n",
       "   2 │ 20代    1363724    72940    44328\n",
       "   3 │ 30代     693047   177322    50441\n",
       "   4 │ 40代    9320791    19355   483512\n",
       "   5 │ 50代    6685192    54320   342923\n",
       "   6 │ 60代     987741   272469    71418\n",
       "   7 │ 70代      29764    13435     2427\n",
       "   8 │ 80代     262923    46360     5111\n",
       "   9 │ 90代       6260 \u001b[90m missing \u001b[0m\u001b[90m missing \u001b[0m"
      ]
     },
     "execution_count": 48,
     "metadata": {},
     "output_type": "execute_result"
    }
   ],
   "source": [
    "df_sales_summary = @chain df_customer begin\n",
    "    @transform(:period = string.(:age .÷ 10 .* 10, \"代\"))\n",
    "    innerjoin(df_receipt, on=:customer_id)\n",
    "    select(:gender_cd, :period, :amount)\n",
    "    groupby([:gender_cd, :period])\n",
    "    combine(:amount => sum)\n",
    "    unstack(:gender_cd, :amount_sum)\n",
    "    sort(:period)\n",
    "end"
   ]
  },
  {
   "cell_type": "markdown",
   "id": "700ae6bb-f65e-47a7-894c-1db9c1eacf81",
   "metadata": {},
   "source": [
    "---\n",
    "> P-044： 043で作成した売上サマリデータ（df_sales_summary）は性別の売上を横持ちさせたものであった。このデータから性別を縦持ちさせ、年代、性別コード、売上金額の3項目に変換せよ。ただし、性別コードは男性を\"00\"、女性を\"01\"、不明を\"99\"とする。"
   ]
  },
  {
   "cell_type": "code",
   "execution_count": 49,
   "id": "585d3748-5b45-4bc3-89cb-5b2f927a4c04",
   "metadata": {},
   "outputs": [
    {
     "data": {
      "text/html": [
       "<div><div style = \"float: left;\"><span>25×3 DataFrame</span></div><div style = \"clear: both;\"></div></div><div class = \"data-frame\" style = \"overflow-x: scroll;\"><table class = \"data-frame\" style = \"margin-bottom: 6px;\"><thead><tr class = \"header\"><th class = \"rowNumber\" style = \"font-weight: bold; text-align: right;\">Row</th><th style = \"text-align: left;\">period</th><th style = \"text-align: left;\">gender_cd</th><th style = \"text-align: left;\">amount_sum</th></tr><tr class = \"subheader headerLastRow\"><th class = \"rowNumber\" style = \"font-weight: bold; text-align: right;\"></th><th title = \"String\" style = \"text-align: left;\">String</th><th title = \"String\" style = \"text-align: left;\">String</th><th title = \"Int64\" style = \"text-align: left;\">Int64</th></tr></thead><tbody><tr><td class = \"rowNumber\" style = \"font-weight: bold; text-align: right;\">1</td><td style = \"text-align: left;\">10代</td><td style = \"text-align: left;\">00</td><td style = \"text-align: right;\">1591</td></tr><tr><td class = \"rowNumber\" style = \"font-weight: bold; text-align: right;\">2</td><td style = \"text-align: left;\">10代</td><td style = \"text-align: left;\">01</td><td style = \"text-align: right;\">149836</td></tr><tr><td class = \"rowNumber\" style = \"font-weight: bold; text-align: right;\">3</td><td style = \"text-align: left;\">10代</td><td style = \"text-align: left;\">99</td><td style = \"text-align: right;\">4317</td></tr><tr><td class = \"rowNumber\" style = \"font-weight: bold; text-align: right;\">4</td><td style = \"text-align: left;\">20代</td><td style = \"text-align: left;\">00</td><td style = \"text-align: right;\">72940</td></tr><tr><td class = \"rowNumber\" style = \"font-weight: bold; text-align: right;\">5</td><td style = \"text-align: left;\">20代</td><td style = \"text-align: left;\">01</td><td style = \"text-align: right;\">1363724</td></tr><tr><td class = \"rowNumber\" style = \"font-weight: bold; text-align: right;\">6</td><td style = \"text-align: left;\">20代</td><td style = \"text-align: left;\">99</td><td style = \"text-align: right;\">44328</td></tr><tr><td class = \"rowNumber\" style = \"font-weight: bold; text-align: right;\">7</td><td style = \"text-align: left;\">30代</td><td style = \"text-align: left;\">00</td><td style = \"text-align: right;\">177322</td></tr><tr><td class = \"rowNumber\" style = \"font-weight: bold; text-align: right;\">8</td><td style = \"text-align: left;\">30代</td><td style = \"text-align: left;\">01</td><td style = \"text-align: right;\">693047</td></tr><tr><td class = \"rowNumber\" style = \"font-weight: bold; text-align: right;\">9</td><td style = \"text-align: left;\">30代</td><td style = \"text-align: left;\">99</td><td style = \"text-align: right;\">50441</td></tr><tr><td class = \"rowNumber\" style = \"font-weight: bold; text-align: right;\">10</td><td style = \"text-align: left;\">40代</td><td style = \"text-align: left;\">00</td><td style = \"text-align: right;\">19355</td></tr><tr><td class = \"rowNumber\" style = \"font-weight: bold; text-align: right;\">11</td><td style = \"text-align: left;\">40代</td><td style = \"text-align: left;\">01</td><td style = \"text-align: right;\">9320791</td></tr><tr><td class = \"rowNumber\" style = \"font-weight: bold; text-align: right;\">12</td><td style = \"text-align: left;\">40代</td><td style = \"text-align: left;\">99</td><td style = \"text-align: right;\">483512</td></tr><tr><td class = \"rowNumber\" style = \"font-weight: bold; text-align: right;\">13</td><td style = \"text-align: left;\">50代</td><td style = \"text-align: left;\">00</td><td style = \"text-align: right;\">54320</td></tr><tr><td class = \"rowNumber\" style = \"font-weight: bold; text-align: right;\">14</td><td style = \"text-align: left;\">50代</td><td style = \"text-align: left;\">01</td><td style = \"text-align: right;\">6685192</td></tr><tr><td class = \"rowNumber\" style = \"font-weight: bold; text-align: right;\">15</td><td style = \"text-align: left;\">50代</td><td style = \"text-align: left;\">99</td><td style = \"text-align: right;\">342923</td></tr><tr><td class = \"rowNumber\" style = \"font-weight: bold; text-align: right;\">16</td><td style = \"text-align: left;\">60代</td><td style = \"text-align: left;\">00</td><td style = \"text-align: right;\">272469</td></tr><tr><td class = \"rowNumber\" style = \"font-weight: bold; text-align: right;\">17</td><td style = \"text-align: left;\">60代</td><td style = \"text-align: left;\">01</td><td style = \"text-align: right;\">987741</td></tr><tr><td class = \"rowNumber\" style = \"font-weight: bold; text-align: right;\">18</td><td style = \"text-align: left;\">60代</td><td style = \"text-align: left;\">99</td><td style = \"text-align: right;\">71418</td></tr><tr><td class = \"rowNumber\" style = \"font-weight: bold; text-align: right;\">19</td><td style = \"text-align: left;\">70代</td><td style = \"text-align: left;\">00</td><td style = \"text-align: right;\">13435</td></tr><tr><td class = \"rowNumber\" style = \"font-weight: bold; text-align: right;\">20</td><td style = \"text-align: left;\">70代</td><td style = \"text-align: left;\">01</td><td style = \"text-align: right;\">29764</td></tr><tr><td class = \"rowNumber\" style = \"font-weight: bold; text-align: right;\">21</td><td style = \"text-align: left;\">70代</td><td style = \"text-align: left;\">99</td><td style = \"text-align: right;\">2427</td></tr><tr><td class = \"rowNumber\" style = \"font-weight: bold; text-align: right;\">22</td><td style = \"text-align: left;\">80代</td><td style = \"text-align: left;\">00</td><td style = \"text-align: right;\">46360</td></tr><tr><td class = \"rowNumber\" style = \"font-weight: bold; text-align: right;\">23</td><td style = \"text-align: left;\">80代</td><td style = \"text-align: left;\">01</td><td style = \"text-align: right;\">262923</td></tr><tr><td class = \"rowNumber\" style = \"font-weight: bold; text-align: right;\">24</td><td style = \"text-align: left;\">80代</td><td style = \"text-align: left;\">99</td><td style = \"text-align: right;\">5111</td></tr><tr><td class = \"rowNumber\" style = \"font-weight: bold; text-align: right;\">25</td><td style = \"text-align: left;\">90代</td><td style = \"text-align: left;\">01</td><td style = \"text-align: right;\">6260</td></tr></tbody></table></div>"
      ],
      "text/latex": [
       "\\begin{tabular}{r|ccc}\n",
       "\t& period & gender\\_cd & amount\\_sum\\\\\n",
       "\t\\hline\n",
       "\t& String & String & Int64\\\\\n",
       "\t\\hline\n",
       "\t1 & 10代 & 00 & 1591 \\\\\n",
       "\t2 & 10代 & 01 & 149836 \\\\\n",
       "\t3 & 10代 & 99 & 4317 \\\\\n",
       "\t4 & 20代 & 00 & 72940 \\\\\n",
       "\t5 & 20代 & 01 & 1363724 \\\\\n",
       "\t6 & 20代 & 99 & 44328 \\\\\n",
       "\t7 & 30代 & 00 & 177322 \\\\\n",
       "\t8 & 30代 & 01 & 693047 \\\\\n",
       "\t9 & 30代 & 99 & 50441 \\\\\n",
       "\t10 & 40代 & 00 & 19355 \\\\\n",
       "\t11 & 40代 & 01 & 9320791 \\\\\n",
       "\t12 & 40代 & 99 & 483512 \\\\\n",
       "\t13 & 50代 & 00 & 54320 \\\\\n",
       "\t14 & 50代 & 01 & 6685192 \\\\\n",
       "\t15 & 50代 & 99 & 342923 \\\\\n",
       "\t16 & 60代 & 00 & 272469 \\\\\n",
       "\t17 & 60代 & 01 & 987741 \\\\\n",
       "\t18 & 60代 & 99 & 71418 \\\\\n",
       "\t19 & 70代 & 00 & 13435 \\\\\n",
       "\t20 & 70代 & 01 & 29764 \\\\\n",
       "\t21 & 70代 & 99 & 2427 \\\\\n",
       "\t22 & 80代 & 00 & 46360 \\\\\n",
       "\t23 & 80代 & 01 & 262923 \\\\\n",
       "\t24 & 80代 & 99 & 5111 \\\\\n",
       "\t25 & 90代 & 01 & 6260 \\\\\n",
       "\\end{tabular}\n"
      ],
      "text/plain": [
       "\u001b[1m25×3 DataFrame\u001b[0m\n",
       "\u001b[1m Row \u001b[0m│\u001b[1m period \u001b[0m\u001b[1m gender_cd \u001b[0m\u001b[1m amount_sum \u001b[0m\n",
       "     │\u001b[90m String \u001b[0m\u001b[90m String    \u001b[0m\u001b[90m Int64      \u001b[0m\n",
       "─────┼───────────────────────────────\n",
       "   1 │ 10代    00               1591\n",
       "   2 │ 10代    01             149836\n",
       "   3 │ 10代    99               4317\n",
       "   4 │ 20代    00              72940\n",
       "   5 │ 20代    01            1363724\n",
       "   6 │ 20代    99              44328\n",
       "   7 │ 30代    00             177322\n",
       "   8 │ 30代    01             693047\n",
       "   9 │ 30代    99              50441\n",
       "  10 │ 40代    00              19355\n",
       "  11 │ 40代    01            9320791\n",
       "  ⋮  │   ⋮         ⋮          ⋮\n",
       "  16 │ 60代    00             272469\n",
       "  17 │ 60代    01             987741\n",
       "  18 │ 60代    99              71418\n",
       "  19 │ 70代    00              13435\n",
       "  20 │ 70代    01              29764\n",
       "  21 │ 70代    99               2427\n",
       "  22 │ 80代    00              46360\n",
       "  23 │ 80代    01             262923\n",
       "  24 │ 80代    99               5111\n",
       "  25 │ 90代    01               6260\n",
       "\u001b[36m                       4 rows omitted\u001b[0m"
      ]
     },
     "execution_count": 49,
     "metadata": {},
     "output_type": "execute_result"
    }
   ],
   "source": [
    "function change_gender_cd(x::String)\n",
    "    if x == \"1\"\n",
    "        return \"01\"\n",
    "    elseif x == \"0\"\n",
    "        return \"00\"\n",
    "    end\n",
    "    return \"99\"\n",
    "end\n",
    "\n",
    "@chain df_sales_summary begin\n",
    "    stack(names(df_sales_summary)[2:end], variable_name=:gender_cd, value_name=:amount_sum)\n",
    "    dropmissing()\n",
    "    @transform(:gender_cd = change_gender_cd.(:gender_cd))\n",
    "    sort([:period, :gender_cd])\n",
    "end"
   ]
  },
  {
   "cell_type": "markdown",
   "id": "20a08d5b-f680-458a-a9c0-df425c2aea31",
   "metadata": {},
   "source": [
    "---\n",
    "> P-045: 顧客データ（df_customer）の生年月日（birth_day）は日付型でデータを保有している。これをYYYYMMDD形式の文字列に変換し、顧客ID（customer_id）とともに10件表示せよ。"
   ]
  },
  {
   "cell_type": "code",
   "execution_count": 50,
   "id": "2c636af3-2bd3-4779-b870-76f20edd14ac",
   "metadata": {},
   "outputs": [
    {
     "data": {
      "text/html": [
       "<div><div style = \"float: left;\"><span>10×2 DataFrame</span></div><div style = \"clear: both;\"></div></div><div class = \"data-frame\" style = \"overflow-x: scroll;\"><table class = \"data-frame\" style = \"margin-bottom: 6px;\"><thead><tr class = \"header\"><th class = \"rowNumber\" style = \"font-weight: bold; text-align: right;\">Row</th><th style = \"text-align: left;\">customer_id</th><th style = \"text-align: left;\">birthday_ymd</th></tr><tr class = \"subheader headerLastRow\"><th class = \"rowNumber\" style = \"font-weight: bold; text-align: right;\"></th><th title = \"Union{Missing, String}\" style = \"text-align: left;\">String?</th><th title = \"String\" style = \"text-align: left;\">String</th></tr></thead><tbody><tr><td class = \"rowNumber\" style = \"font-weight: bold; text-align: right;\">1</td><td style = \"text-align: left;\">CS021313000114</td><td style = \"text-align: left;\">19810429</td></tr><tr><td class = \"rowNumber\" style = \"font-weight: bold; text-align: right;\">2</td><td style = \"text-align: left;\">CS037613000071</td><td style = \"text-align: left;\">19520401</td></tr><tr><td class = \"rowNumber\" style = \"font-weight: bold; text-align: right;\">3</td><td style = \"text-align: left;\">CS031415000172</td><td style = \"text-align: left;\">19761004</td></tr><tr><td class = \"rowNumber\" style = \"font-weight: bold; text-align: right;\">4</td><td style = \"text-align: left;\">CS028811000001</td><td style = \"text-align: left;\">19330327</td></tr><tr><td class = \"rowNumber\" style = \"font-weight: bold; text-align: right;\">5</td><td style = \"text-align: left;\">CS001215000145</td><td style = \"text-align: left;\">19950329</td></tr><tr><td class = \"rowNumber\" style = \"font-weight: bold; text-align: right;\">6</td><td style = \"text-align: left;\">CS020401000016</td><td style = \"text-align: left;\">19740915</td></tr><tr><td class = \"rowNumber\" style = \"font-weight: bold; text-align: right;\">7</td><td style = \"text-align: left;\">CS015414000103</td><td style = \"text-align: left;\">19770809</td></tr><tr><td class = \"rowNumber\" style = \"font-weight: bold; text-align: right;\">8</td><td style = \"text-align: left;\">CS029403000008</td><td style = \"text-align: left;\">19730817</td></tr><tr><td class = \"rowNumber\" style = \"font-weight: bold; text-align: right;\">9</td><td style = \"text-align: left;\">CS015804000004</td><td style = \"text-align: left;\">19310502</td></tr><tr><td class = \"rowNumber\" style = \"font-weight: bold; text-align: right;\">10</td><td style = \"text-align: left;\">CS033513000180</td><td style = \"text-align: left;\">19620711</td></tr></tbody></table></div>"
      ],
      "text/latex": [
       "\\begin{tabular}{r|cc}\n",
       "\t& customer\\_id & birthday\\_ymd\\\\\n",
       "\t\\hline\n",
       "\t& String? & String\\\\\n",
       "\t\\hline\n",
       "\t1 & CS021313000114 & 19810429 \\\\\n",
       "\t2 & CS037613000071 & 19520401 \\\\\n",
       "\t3 & CS031415000172 & 19761004 \\\\\n",
       "\t4 & CS028811000001 & 19330327 \\\\\n",
       "\t5 & CS001215000145 & 19950329 \\\\\n",
       "\t6 & CS020401000016 & 19740915 \\\\\n",
       "\t7 & CS015414000103 & 19770809 \\\\\n",
       "\t8 & CS029403000008 & 19730817 \\\\\n",
       "\t9 & CS015804000004 & 19310502 \\\\\n",
       "\t10 & CS033513000180 & 19620711 \\\\\n",
       "\\end{tabular}\n"
      ],
      "text/plain": [
       "\u001b[1m10×2 DataFrame\u001b[0m\n",
       "\u001b[1m Row \u001b[0m│\u001b[1m customer_id    \u001b[0m\u001b[1m birthday_ymd \u001b[0m\n",
       "     │\u001b[90m String?        \u001b[0m\u001b[90m String       \u001b[0m\n",
       "─────┼──────────────────────────────\n",
       "   1 │ CS021313000114  19810429\n",
       "   2 │ CS037613000071  19520401\n",
       "   3 │ CS031415000172  19761004\n",
       "   4 │ CS028811000001  19330327\n",
       "   5 │ CS001215000145  19950329\n",
       "   6 │ CS020401000016  19740915\n",
       "   7 │ CS015414000103  19770809\n",
       "   8 │ CS029403000008  19730817\n",
       "   9 │ CS015804000004  19310502\n",
       "  10 │ CS033513000180  19620711"
      ]
     },
     "execution_count": 50,
     "metadata": {},
     "output_type": "execute_result"
    }
   ],
   "source": [
    "@chain df_customer begin\n",
    "    @transform(:birthday_ymd = Dates.format.(:birth_day, \"YYYYmmdd\"))\n",
    "    select(:customer_id, :birthday_ymd)\n",
    "    first(10)\n",
    "end"
   ]
  },
  {
   "cell_type": "markdown",
   "id": "64d7869c-1676-4b6f-a57a-6fcb8b83f857",
   "metadata": {},
   "source": [
    "---\n",
    "> P-046: 顧客データ（df_customer）の申し込み日（application_date）はYYYYMMDD形式の文字列型でデータを保有している。これを日付型に変換し、顧客ID（customer_id）とともに10件表示せよ。"
   ]
  },
  {
   "cell_type": "code",
   "execution_count": 51,
   "id": "3f783387-e716-48d2-91eb-a438edbe3941",
   "metadata": {},
   "outputs": [
    {
     "data": {
      "text/html": [
       "<div><div style = \"float: left;\"><span>10×2 DataFrame</span></div><div style = \"clear: both;\"></div></div><div class = \"data-frame\" style = \"overflow-x: scroll;\"><table class = \"data-frame\" style = \"margin-bottom: 6px;\"><thead><tr class = \"header\"><th class = \"rowNumber\" style = \"font-weight: bold; text-align: right;\">Row</th><th style = \"text-align: left;\">customer_id</th><th style = \"text-align: left;\">application_date</th></tr><tr class = \"subheader headerLastRow\"><th class = \"rowNumber\" style = \"font-weight: bold; text-align: right;\"></th><th title = \"Union{Missing, String}\" style = \"text-align: left;\">String?</th><th title = \"Date\" style = \"text-align: left;\">Date</th></tr></thead><tbody><tr><td class = \"rowNumber\" style = \"font-weight: bold; text-align: right;\">1</td><td style = \"text-align: left;\">CS021313000114</td><td style = \"text-align: left;\">2015-09-05</td></tr><tr><td class = \"rowNumber\" style = \"font-weight: bold; text-align: right;\">2</td><td style = \"text-align: left;\">CS037613000071</td><td style = \"text-align: left;\">2015-04-14</td></tr><tr><td class = \"rowNumber\" style = \"font-weight: bold; text-align: right;\">3</td><td style = \"text-align: left;\">CS031415000172</td><td style = \"text-align: left;\">2015-05-29</td></tr><tr><td class = \"rowNumber\" style = \"font-weight: bold; text-align: right;\">4</td><td style = \"text-align: left;\">CS028811000001</td><td style = \"text-align: left;\">2016-01-15</td></tr><tr><td class = \"rowNumber\" style = \"font-weight: bold; text-align: right;\">5</td><td style = \"text-align: left;\">CS001215000145</td><td style = \"text-align: left;\">2017-06-05</td></tr><tr><td class = \"rowNumber\" style = \"font-weight: bold; text-align: right;\">6</td><td style = \"text-align: left;\">CS020401000016</td><td style = \"text-align: left;\">2015-02-25</td></tr><tr><td class = \"rowNumber\" style = \"font-weight: bold; text-align: right;\">7</td><td style = \"text-align: left;\">CS015414000103</td><td style = \"text-align: left;\">2015-07-22</td></tr><tr><td class = \"rowNumber\" style = \"font-weight: bold; text-align: right;\">8</td><td style = \"text-align: left;\">CS029403000008</td><td style = \"text-align: left;\">2015-05-15</td></tr><tr><td class = \"rowNumber\" style = \"font-weight: bold; text-align: right;\">9</td><td style = \"text-align: left;\">CS015804000004</td><td style = \"text-align: left;\">2015-06-07</td></tr><tr><td class = \"rowNumber\" style = \"font-weight: bold; text-align: right;\">10</td><td style = \"text-align: left;\">CS033513000180</td><td style = \"text-align: left;\">2015-07-28</td></tr></tbody></table></div>"
      ],
      "text/latex": [
       "\\begin{tabular}{r|cc}\n",
       "\t& customer\\_id & application\\_date\\\\\n",
       "\t\\hline\n",
       "\t& String? & Date\\\\\n",
       "\t\\hline\n",
       "\t1 & CS021313000114 & 2015-09-05 \\\\\n",
       "\t2 & CS037613000071 & 2015-04-14 \\\\\n",
       "\t3 & CS031415000172 & 2015-05-29 \\\\\n",
       "\t4 & CS028811000001 & 2016-01-15 \\\\\n",
       "\t5 & CS001215000145 & 2017-06-05 \\\\\n",
       "\t6 & CS020401000016 & 2015-02-25 \\\\\n",
       "\t7 & CS015414000103 & 2015-07-22 \\\\\n",
       "\t8 & CS029403000008 & 2015-05-15 \\\\\n",
       "\t9 & CS015804000004 & 2015-06-07 \\\\\n",
       "\t10 & CS033513000180 & 2015-07-28 \\\\\n",
       "\\end{tabular}\n"
      ],
      "text/plain": [
       "\u001b[1m10×2 DataFrame\u001b[0m\n",
       "\u001b[1m Row \u001b[0m│\u001b[1m customer_id    \u001b[0m\u001b[1m application_date \u001b[0m\n",
       "     │\u001b[90m String?        \u001b[0m\u001b[90m Date             \u001b[0m\n",
       "─────┼──────────────────────────────────\n",
       "   1 │ CS021313000114  2015-09-05\n",
       "   2 │ CS037613000071  2015-04-14\n",
       "   3 │ CS031415000172  2015-05-29\n",
       "   4 │ CS028811000001  2016-01-15\n",
       "   5 │ CS001215000145  2017-06-05\n",
       "   6 │ CS020401000016  2015-02-25\n",
       "   7 │ CS015414000103  2015-07-22\n",
       "   8 │ CS029403000008  2015-05-15\n",
       "   9 │ CS015804000004  2015-06-07\n",
       "  10 │ CS033513000180  2015-07-28"
      ]
     },
     "execution_count": 51,
     "metadata": {},
     "output_type": "execute_result"
    }
   ],
   "source": [
    "@chain df_customer begin\n",
    "    @transform(:application_date = Date.(string.(:application_date), \"YYYYmmdd\"))\n",
    "    select(:customer_id, :application_date)\n",
    "    first(10)\n",
    "end"
   ]
  },
  {
   "cell_type": "markdown",
   "id": "9a6a7d5d-ac44-4707-a9af-148941869ea6",
   "metadata": {},
   "source": [
    "---\n",
    "> P-047: レシート明細データ（df_receipt）の売上日（sales_ymd）はYYYYMMDD形式の数値型でデータを保有している。これを日付型に変換し、レシート番号（receipt_no）、レシートサブ番号（receipt_sub_no）とともに10件表示せよ。"
   ]
  },
  {
   "cell_type": "code",
   "execution_count": 52,
   "id": "28e09eac-e118-448f-be09-43e71c041bde",
   "metadata": {},
   "outputs": [
    {
     "data": {
      "text/html": [
       "<div><div style = \"float: left;\"><span>10×3 DataFrame</span></div><div style = \"clear: both;\"></div></div><div class = \"data-frame\" style = \"overflow-x: scroll;\"><table class = \"data-frame\" style = \"margin-bottom: 6px;\"><thead><tr class = \"header\"><th class = \"rowNumber\" style = \"font-weight: bold; text-align: right;\">Row</th><th style = \"text-align: left;\">receipt_no</th><th style = \"text-align: left;\">receipt_sub_no</th><th style = \"text-align: left;\">sales_ymd</th></tr><tr class = \"subheader headerLastRow\"><th class = \"rowNumber\" style = \"font-weight: bold; text-align: right;\"></th><th title = \"Union{Missing, Int16}\" style = \"text-align: left;\">Int16?</th><th title = \"Union{Missing, Int16}\" style = \"text-align: left;\">Int16?</th><th title = \"Date\" style = \"text-align: left;\">Date</th></tr></thead><tbody><tr><td class = \"rowNumber\" style = \"font-weight: bold; text-align: right;\">1</td><td style = \"text-align: right;\">112</td><td style = \"text-align: right;\">1</td><td style = \"text-align: left;\">2018-11-03</td></tr><tr><td class = \"rowNumber\" style = \"font-weight: bold; text-align: right;\">2</td><td style = \"text-align: right;\">1132</td><td style = \"text-align: right;\">2</td><td style = \"text-align: left;\">2018-11-18</td></tr><tr><td class = \"rowNumber\" style = \"font-weight: bold; text-align: right;\">3</td><td style = \"text-align: right;\">1102</td><td style = \"text-align: right;\">1</td><td style = \"text-align: left;\">2017-07-12</td></tr><tr><td class = \"rowNumber\" style = \"font-weight: bold; text-align: right;\">4</td><td style = \"text-align: right;\">1132</td><td style = \"text-align: right;\">1</td><td style = \"text-align: left;\">2019-02-05</td></tr><tr><td class = \"rowNumber\" style = \"font-weight: bold; text-align: right;\">5</td><td style = \"text-align: right;\">1102</td><td style = \"text-align: right;\">2</td><td style = \"text-align: left;\">2018-08-21</td></tr><tr><td class = \"rowNumber\" style = \"font-weight: bold; text-align: right;\">6</td><td style = \"text-align: right;\">1112</td><td style = \"text-align: right;\">1</td><td style = \"text-align: left;\">2019-06-05</td></tr><tr><td class = \"rowNumber\" style = \"font-weight: bold; text-align: right;\">7</td><td style = \"text-align: right;\">1102</td><td style = \"text-align: right;\">2</td><td style = \"text-align: left;\">2018-12-05</td></tr><tr><td class = \"rowNumber\" style = \"font-weight: bold; text-align: right;\">8</td><td style = \"text-align: right;\">1102</td><td style = \"text-align: right;\">1</td><td style = \"text-align: left;\">2019-09-22</td></tr><tr><td class = \"rowNumber\" style = \"font-weight: bold; text-align: right;\">9</td><td style = \"text-align: right;\">1112</td><td style = \"text-align: right;\">2</td><td style = \"text-align: left;\">2017-05-04</td></tr><tr><td class = \"rowNumber\" style = \"font-weight: bold; text-align: right;\">10</td><td style = \"text-align: right;\">1102</td><td style = \"text-align: right;\">1</td><td style = \"text-align: left;\">2019-10-10</td></tr></tbody></table></div>"
      ],
      "text/latex": [
       "\\begin{tabular}{r|ccc}\n",
       "\t& receipt\\_no & receipt\\_sub\\_no & sales\\_ymd\\\\\n",
       "\t\\hline\n",
       "\t& Int16? & Int16? & Date\\\\\n",
       "\t\\hline\n",
       "\t1 & 112 & 1 & 2018-11-03 \\\\\n",
       "\t2 & 1132 & 2 & 2018-11-18 \\\\\n",
       "\t3 & 1102 & 1 & 2017-07-12 \\\\\n",
       "\t4 & 1132 & 1 & 2019-02-05 \\\\\n",
       "\t5 & 1102 & 2 & 2018-08-21 \\\\\n",
       "\t6 & 1112 & 1 & 2019-06-05 \\\\\n",
       "\t7 & 1102 & 2 & 2018-12-05 \\\\\n",
       "\t8 & 1102 & 1 & 2019-09-22 \\\\\n",
       "\t9 & 1112 & 2 & 2017-05-04 \\\\\n",
       "\t10 & 1102 & 1 & 2019-10-10 \\\\\n",
       "\\end{tabular}\n"
      ],
      "text/plain": [
       "\u001b[1m10×3 DataFrame\u001b[0m\n",
       "\u001b[1m Row \u001b[0m│\u001b[1m receipt_no \u001b[0m\u001b[1m receipt_sub_no \u001b[0m\u001b[1m sales_ymd  \u001b[0m\n",
       "     │\u001b[90m Int16?     \u001b[0m\u001b[90m Int16?         \u001b[0m\u001b[90m Date       \u001b[0m\n",
       "─────┼────────────────────────────────────────\n",
       "   1 │        112               1  2018-11-03\n",
       "   2 │       1132               2  2018-11-18\n",
       "   3 │       1102               1  2017-07-12\n",
       "   4 │       1132               1  2019-02-05\n",
       "   5 │       1102               2  2018-08-21\n",
       "   6 │       1112               1  2019-06-05\n",
       "   7 │       1102               2  2018-12-05\n",
       "   8 │       1102               1  2019-09-22\n",
       "   9 │       1112               2  2017-05-04\n",
       "  10 │       1102               1  2019-10-10"
      ]
     },
     "execution_count": 52,
     "metadata": {},
     "output_type": "execute_result"
    }
   ],
   "source": [
    "@chain df_receipt begin\n",
    "    @transform(:sales_ymd = Date.(string.(:sales_ymd), \"YYYYmmdd\"))\n",
    "    select(:receipt_no, :receipt_sub_no, :sales_ymd)\n",
    "    first(10)\n",
    "end"
   ]
  },
  {
   "cell_type": "markdown",
   "id": "534ab7b3-41cf-412b-989e-47418ff65fc0",
   "metadata": {},
   "source": [
    "---\n",
    "> P-048: レシート明細データ（df_receipt）の売上エポック秒（sales_epoch）は数値型のUNIX秒でデータを保有している。これを日付型に変換し、レシート番号(receipt_no)、レシートサブ番号（receipt_sub_no）とともに10件表示せよ。"
   ]
  },
  {
   "cell_type": "code",
   "execution_count": 53,
   "id": "bb9e4e82-dd7f-442b-9df9-3fc1da5cf58e",
   "metadata": {},
   "outputs": [
    {
     "data": {
      "text/html": [
       "<div><div style = \"float: left;\"><span>10×3 DataFrame</span></div><div style = \"clear: both;\"></div></div><div class = \"data-frame\" style = \"overflow-x: scroll;\"><table class = \"data-frame\" style = \"margin-bottom: 6px;\"><thead><tr class = \"header\"><th class = \"rowNumber\" style = \"font-weight: bold; text-align: right;\">Row</th><th style = \"text-align: left;\">receipt_no</th><th style = \"text-align: left;\">receipt_sub_no</th><th style = \"text-align: left;\">sales_ymd_from_unix</th></tr><tr class = \"subheader headerLastRow\"><th class = \"rowNumber\" style = \"font-weight: bold; text-align: right;\"></th><th title = \"Union{Missing, Int16}\" style = \"text-align: left;\">Int16?</th><th title = \"Union{Missing, Int16}\" style = \"text-align: left;\">Int16?</th><th title = \"Date\" style = \"text-align: left;\">Date</th></tr></thead><tbody><tr><td class = \"rowNumber\" style = \"font-weight: bold; text-align: right;\">1</td><td style = \"text-align: right;\">112</td><td style = \"text-align: right;\">1</td><td style = \"text-align: left;\">2018-11-03</td></tr><tr><td class = \"rowNumber\" style = \"font-weight: bold; text-align: right;\">2</td><td style = \"text-align: right;\">1132</td><td style = \"text-align: right;\">2</td><td style = \"text-align: left;\">2018-11-18</td></tr><tr><td class = \"rowNumber\" style = \"font-weight: bold; text-align: right;\">3</td><td style = \"text-align: right;\">1102</td><td style = \"text-align: right;\">1</td><td style = \"text-align: left;\">2017-07-12</td></tr><tr><td class = \"rowNumber\" style = \"font-weight: bold; text-align: right;\">4</td><td style = \"text-align: right;\">1132</td><td style = \"text-align: right;\">1</td><td style = \"text-align: left;\">2019-02-05</td></tr><tr><td class = \"rowNumber\" style = \"font-weight: bold; text-align: right;\">5</td><td style = \"text-align: right;\">1102</td><td style = \"text-align: right;\">2</td><td style = \"text-align: left;\">2018-08-21</td></tr><tr><td class = \"rowNumber\" style = \"font-weight: bold; text-align: right;\">6</td><td style = \"text-align: right;\">1112</td><td style = \"text-align: right;\">1</td><td style = \"text-align: left;\">2019-06-05</td></tr><tr><td class = \"rowNumber\" style = \"font-weight: bold; text-align: right;\">7</td><td style = \"text-align: right;\">1102</td><td style = \"text-align: right;\">2</td><td style = \"text-align: left;\">2018-12-05</td></tr><tr><td class = \"rowNumber\" style = \"font-weight: bold; text-align: right;\">8</td><td style = \"text-align: right;\">1102</td><td style = \"text-align: right;\">1</td><td style = \"text-align: left;\">2019-09-22</td></tr><tr><td class = \"rowNumber\" style = \"font-weight: bold; text-align: right;\">9</td><td style = \"text-align: right;\">1112</td><td style = \"text-align: right;\">2</td><td style = \"text-align: left;\">2017-05-04</td></tr><tr><td class = \"rowNumber\" style = \"font-weight: bold; text-align: right;\">10</td><td style = \"text-align: right;\">1102</td><td style = \"text-align: right;\">1</td><td style = \"text-align: left;\">2019-10-10</td></tr></tbody></table></div>"
      ],
      "text/latex": [
       "\\begin{tabular}{r|ccc}\n",
       "\t& receipt\\_no & receipt\\_sub\\_no & sales\\_ymd\\_from\\_unix\\\\\n",
       "\t\\hline\n",
       "\t& Int16? & Int16? & Date\\\\\n",
       "\t\\hline\n",
       "\t1 & 112 & 1 & 2018-11-03 \\\\\n",
       "\t2 & 1132 & 2 & 2018-11-18 \\\\\n",
       "\t3 & 1102 & 1 & 2017-07-12 \\\\\n",
       "\t4 & 1132 & 1 & 2019-02-05 \\\\\n",
       "\t5 & 1102 & 2 & 2018-08-21 \\\\\n",
       "\t6 & 1112 & 1 & 2019-06-05 \\\\\n",
       "\t7 & 1102 & 2 & 2018-12-05 \\\\\n",
       "\t8 & 1102 & 1 & 2019-09-22 \\\\\n",
       "\t9 & 1112 & 2 & 2017-05-04 \\\\\n",
       "\t10 & 1102 & 1 & 2019-10-10 \\\\\n",
       "\\end{tabular}\n"
      ],
      "text/plain": [
       "\u001b[1m10×3 DataFrame\u001b[0m\n",
       "\u001b[1m Row \u001b[0m│\u001b[1m receipt_no \u001b[0m\u001b[1m receipt_sub_no \u001b[0m\u001b[1m sales_ymd_from_unix \u001b[0m\n",
       "     │\u001b[90m Int16?     \u001b[0m\u001b[90m Int16?         \u001b[0m\u001b[90m Date                \u001b[0m\n",
       "─────┼─────────────────────────────────────────────────\n",
       "   1 │        112               1  2018-11-03\n",
       "   2 │       1132               2  2018-11-18\n",
       "   3 │       1102               1  2017-07-12\n",
       "   4 │       1132               1  2019-02-05\n",
       "   5 │       1102               2  2018-08-21\n",
       "   6 │       1112               1  2019-06-05\n",
       "   7 │       1102               2  2018-12-05\n",
       "   8 │       1102               1  2019-09-22\n",
       "   9 │       1112               2  2017-05-04\n",
       "  10 │       1102               1  2019-10-10"
      ]
     },
     "execution_count": 53,
     "metadata": {},
     "output_type": "execute_result"
    }
   ],
   "source": [
    "@chain df_receipt begin\n",
    "    @transform(:sales_ymd_from_unix = Date.(unix2datetime.(:sales_epoch)))\n",
    "    select(:receipt_no, :receipt_sub_no, :sales_ymd_from_unix)\n",
    "    first(10)\n",
    "end"
   ]
  },
  {
   "cell_type": "markdown",
   "id": "eb748634-e6f7-4d75-9d0a-f3482c79df62",
   "metadata": {},
   "source": [
    "---\n",
    "> P-049: レシート明細データ（df_receipt）の売上エポック秒（sales_epoch）を日付型に変換し、「年」だけ取り出してレシート番号(receipt_no)、レシートサブ番号（receipt_sub_no）とともに10件表示せよ。"
   ]
  },
  {
   "cell_type": "code",
   "execution_count": 54,
   "id": "7da53b26-98d0-4dd8-bffb-684ee87b52c9",
   "metadata": {},
   "outputs": [
    {
     "data": {
      "text/html": [
       "<div><div style = \"float: left;\"><span>10×3 DataFrame</span></div><div style = \"clear: both;\"></div></div><div class = \"data-frame\" style = \"overflow-x: scroll;\"><table class = \"data-frame\" style = \"margin-bottom: 6px;\"><thead><tr class = \"header\"><th class = \"rowNumber\" style = \"font-weight: bold; text-align: right;\">Row</th><th style = \"text-align: left;\">receipt_no</th><th style = \"text-align: left;\">receipt_sub_no</th><th style = \"text-align: left;\">sales_year</th></tr><tr class = \"subheader headerLastRow\"><th class = \"rowNumber\" style = \"font-weight: bold; text-align: right;\"></th><th title = \"Union{Missing, Int16}\" style = \"text-align: left;\">Int16?</th><th title = \"Union{Missing, Int16}\" style = \"text-align: left;\">Int16?</th><th title = \"Int64\" style = \"text-align: left;\">Int64</th></tr></thead><tbody><tr><td class = \"rowNumber\" style = \"font-weight: bold; text-align: right;\">1</td><td style = \"text-align: right;\">112</td><td style = \"text-align: right;\">1</td><td style = \"text-align: right;\">2018</td></tr><tr><td class = \"rowNumber\" style = \"font-weight: bold; text-align: right;\">2</td><td style = \"text-align: right;\">1132</td><td style = \"text-align: right;\">2</td><td style = \"text-align: right;\">2018</td></tr><tr><td class = \"rowNumber\" style = \"font-weight: bold; text-align: right;\">3</td><td style = \"text-align: right;\">1102</td><td style = \"text-align: right;\">1</td><td style = \"text-align: right;\">2017</td></tr><tr><td class = \"rowNumber\" style = \"font-weight: bold; text-align: right;\">4</td><td style = \"text-align: right;\">1132</td><td style = \"text-align: right;\">1</td><td style = \"text-align: right;\">2019</td></tr><tr><td class = \"rowNumber\" style = \"font-weight: bold; text-align: right;\">5</td><td style = \"text-align: right;\">1102</td><td style = \"text-align: right;\">2</td><td style = \"text-align: right;\">2018</td></tr><tr><td class = \"rowNumber\" style = \"font-weight: bold; text-align: right;\">6</td><td style = \"text-align: right;\">1112</td><td style = \"text-align: right;\">1</td><td style = \"text-align: right;\">2019</td></tr><tr><td class = \"rowNumber\" style = \"font-weight: bold; text-align: right;\">7</td><td style = \"text-align: right;\">1102</td><td style = \"text-align: right;\">2</td><td style = \"text-align: right;\">2018</td></tr><tr><td class = \"rowNumber\" style = \"font-weight: bold; text-align: right;\">8</td><td style = \"text-align: right;\">1102</td><td style = \"text-align: right;\">1</td><td style = \"text-align: right;\">2019</td></tr><tr><td class = \"rowNumber\" style = \"font-weight: bold; text-align: right;\">9</td><td style = \"text-align: right;\">1112</td><td style = \"text-align: right;\">2</td><td style = \"text-align: right;\">2017</td></tr><tr><td class = \"rowNumber\" style = \"font-weight: bold; text-align: right;\">10</td><td style = \"text-align: right;\">1102</td><td style = \"text-align: right;\">1</td><td style = \"text-align: right;\">2019</td></tr></tbody></table></div>"
      ],
      "text/latex": [
       "\\begin{tabular}{r|ccc}\n",
       "\t& receipt\\_no & receipt\\_sub\\_no & sales\\_year\\\\\n",
       "\t\\hline\n",
       "\t& Int16? & Int16? & Int64\\\\\n",
       "\t\\hline\n",
       "\t1 & 112 & 1 & 2018 \\\\\n",
       "\t2 & 1132 & 2 & 2018 \\\\\n",
       "\t3 & 1102 & 1 & 2017 \\\\\n",
       "\t4 & 1132 & 1 & 2019 \\\\\n",
       "\t5 & 1102 & 2 & 2018 \\\\\n",
       "\t6 & 1112 & 1 & 2019 \\\\\n",
       "\t7 & 1102 & 2 & 2018 \\\\\n",
       "\t8 & 1102 & 1 & 2019 \\\\\n",
       "\t9 & 1112 & 2 & 2017 \\\\\n",
       "\t10 & 1102 & 1 & 2019 \\\\\n",
       "\\end{tabular}\n"
      ],
      "text/plain": [
       "\u001b[1m10×3 DataFrame\u001b[0m\n",
       "\u001b[1m Row \u001b[0m│\u001b[1m receipt_no \u001b[0m\u001b[1m receipt_sub_no \u001b[0m\u001b[1m sales_year \u001b[0m\n",
       "     │\u001b[90m Int16?     \u001b[0m\u001b[90m Int16?         \u001b[0m\u001b[90m Int64      \u001b[0m\n",
       "─────┼────────────────────────────────────────\n",
       "   1 │        112               1        2018\n",
       "   2 │       1132               2        2018\n",
       "   3 │       1102               1        2017\n",
       "   4 │       1132               1        2019\n",
       "   5 │       1102               2        2018\n",
       "   6 │       1112               1        2019\n",
       "   7 │       1102               2        2018\n",
       "   8 │       1102               1        2019\n",
       "   9 │       1112               2        2017\n",
       "  10 │       1102               1        2019"
      ]
     },
     "execution_count": 54,
     "metadata": {},
     "output_type": "execute_result"
    }
   ],
   "source": [
    "@chain df_receipt begin\n",
    "    @transform(:sales_year = year.(unix2datetime.(:sales_epoch)))\n",
    "    select(:receipt_no, :receipt_sub_no, :sales_year)\n",
    "    first(10)\n",
    "end"
   ]
  },
  {
   "cell_type": "markdown",
   "id": "e824e745-56b4-46c1-b471-c822d55c94e7",
   "metadata": {},
   "source": [
    "---\n",
    "> P-050: レシート明細データ（df_receipt）の売上エポック秒（sales_epoch）を日付型に変換し、「月」だけ取り出してレシート番号(receipt_no)、レシートサブ番号（receipt_sub_no）とともに10件表示せよ。なお、「月」は0埋め2桁で取り出すこと。"
   ]
  },
  {
   "cell_type": "code",
   "execution_count": 55,
   "id": "7b0d9b13-6243-432b-9e6a-f6f96213d884",
   "metadata": {},
   "outputs": [
    {
     "data": {
      "text/html": [
       "<div><div style = \"float: left;\"><span>10×3 DataFrame</span></div><div style = \"clear: both;\"></div></div><div class = \"data-frame\" style = \"overflow-x: scroll;\"><table class = \"data-frame\" style = \"margin-bottom: 6px;\"><thead><tr class = \"header\"><th class = \"rowNumber\" style = \"font-weight: bold; text-align: right;\">Row</th><th style = \"text-align: left;\">receipt_no</th><th style = \"text-align: left;\">receipt_sub_no</th><th style = \"text-align: left;\">sales_month</th></tr><tr class = \"subheader headerLastRow\"><th class = \"rowNumber\" style = \"font-weight: bold; text-align: right;\"></th><th title = \"Union{Missing, Int16}\" style = \"text-align: left;\">Int16?</th><th title = \"Union{Missing, Int16}\" style = \"text-align: left;\">Int16?</th><th title = \"String\" style = \"text-align: left;\">String</th></tr></thead><tbody><tr><td class = \"rowNumber\" style = \"font-weight: bold; text-align: right;\">1</td><td style = \"text-align: right;\">112</td><td style = \"text-align: right;\">1</td><td style = \"text-align: left;\">11</td></tr><tr><td class = \"rowNumber\" style = \"font-weight: bold; text-align: right;\">2</td><td style = \"text-align: right;\">1132</td><td style = \"text-align: right;\">2</td><td style = \"text-align: left;\">11</td></tr><tr><td class = \"rowNumber\" style = \"font-weight: bold; text-align: right;\">3</td><td style = \"text-align: right;\">1102</td><td style = \"text-align: right;\">1</td><td style = \"text-align: left;\">07</td></tr><tr><td class = \"rowNumber\" style = \"font-weight: bold; text-align: right;\">4</td><td style = \"text-align: right;\">1132</td><td style = \"text-align: right;\">1</td><td style = \"text-align: left;\">02</td></tr><tr><td class = \"rowNumber\" style = \"font-weight: bold; text-align: right;\">5</td><td style = \"text-align: right;\">1102</td><td style = \"text-align: right;\">2</td><td style = \"text-align: left;\">08</td></tr><tr><td class = \"rowNumber\" style = \"font-weight: bold; text-align: right;\">6</td><td style = \"text-align: right;\">1112</td><td style = \"text-align: right;\">1</td><td style = \"text-align: left;\">06</td></tr><tr><td class = \"rowNumber\" style = \"font-weight: bold; text-align: right;\">7</td><td style = \"text-align: right;\">1102</td><td style = \"text-align: right;\">2</td><td style = \"text-align: left;\">12</td></tr><tr><td class = \"rowNumber\" style = \"font-weight: bold; text-align: right;\">8</td><td style = \"text-align: right;\">1102</td><td style = \"text-align: right;\">1</td><td style = \"text-align: left;\">09</td></tr><tr><td class = \"rowNumber\" style = \"font-weight: bold; text-align: right;\">9</td><td style = \"text-align: right;\">1112</td><td style = \"text-align: right;\">2</td><td style = \"text-align: left;\">05</td></tr><tr><td class = \"rowNumber\" style = \"font-weight: bold; text-align: right;\">10</td><td style = \"text-align: right;\">1102</td><td style = \"text-align: right;\">1</td><td style = \"text-align: left;\">10</td></tr></tbody></table></div>"
      ],
      "text/latex": [
       "\\begin{tabular}{r|ccc}\n",
       "\t& receipt\\_no & receipt\\_sub\\_no & sales\\_month\\\\\n",
       "\t\\hline\n",
       "\t& Int16? & Int16? & String\\\\\n",
       "\t\\hline\n",
       "\t1 & 112 & 1 & 11 \\\\\n",
       "\t2 & 1132 & 2 & 11 \\\\\n",
       "\t3 & 1102 & 1 & 07 \\\\\n",
       "\t4 & 1132 & 1 & 02 \\\\\n",
       "\t5 & 1102 & 2 & 08 \\\\\n",
       "\t6 & 1112 & 1 & 06 \\\\\n",
       "\t7 & 1102 & 2 & 12 \\\\\n",
       "\t8 & 1102 & 1 & 09 \\\\\n",
       "\t9 & 1112 & 2 & 05 \\\\\n",
       "\t10 & 1102 & 1 & 10 \\\\\n",
       "\\end{tabular}\n"
      ],
      "text/plain": [
       "\u001b[1m10×3 DataFrame\u001b[0m\n",
       "\u001b[1m Row \u001b[0m│\u001b[1m receipt_no \u001b[0m\u001b[1m receipt_sub_no \u001b[0m\u001b[1m sales_month \u001b[0m\n",
       "     │\u001b[90m Int16?     \u001b[0m\u001b[90m Int16?         \u001b[0m\u001b[90m String      \u001b[0m\n",
       "─────┼─────────────────────────────────────────\n",
       "   1 │        112               1  11\n",
       "   2 │       1132               2  11\n",
       "   3 │       1102               1  07\n",
       "   4 │       1132               1  02\n",
       "   5 │       1102               2  08\n",
       "   6 │       1112               1  06\n",
       "   7 │       1102               2  12\n",
       "   8 │       1102               1  09\n",
       "   9 │       1112               2  05\n",
       "  10 │       1102               1  10"
      ]
     },
     "execution_count": 55,
     "metadata": {},
     "output_type": "execute_result"
    }
   ],
   "source": [
    "@chain df_receipt begin\n",
    "    @transform(:sales_month = lpad.(string.(month.(unix2datetime.(:sales_epoch))), 2, \"0\"))\n",
    "    select(:receipt_no, :receipt_sub_no, :sales_month)\n",
    "    first(10)\n",
    "end"
   ]
  },
  {
   "cell_type": "markdown",
   "id": "0a6fd7c0-965c-41c3-a0e2-5e3154031029",
   "metadata": {},
   "source": [
    "---\n",
    "> P-051: レシート明細データ（df_receipt）の売上エポック秒を日付型に変換し、「日」だけ取り出してレシート番号(receipt_no)、レシートサブ番号（receipt_sub_no）とともに10件表示せよ。なお、「日」は0埋め2桁で取り出すこと。"
   ]
  },
  {
   "cell_type": "code",
   "execution_count": 56,
   "id": "e3e04831-5fd5-468a-8b4a-210ab62523e9",
   "metadata": {},
   "outputs": [
    {
     "data": {
      "text/html": [
       "<div><div style = \"float: left;\"><span>10×3 DataFrame</span></div><div style = \"clear: both;\"></div></div><div class = \"data-frame\" style = \"overflow-x: scroll;\"><table class = \"data-frame\" style = \"margin-bottom: 6px;\"><thead><tr class = \"header\"><th class = \"rowNumber\" style = \"font-weight: bold; text-align: right;\">Row</th><th style = \"text-align: left;\">receipt_no</th><th style = \"text-align: left;\">receipt_sub_no</th><th style = \"text-align: left;\">sales_day</th></tr><tr class = \"subheader headerLastRow\"><th class = \"rowNumber\" style = \"font-weight: bold; text-align: right;\"></th><th title = \"Union{Missing, Int16}\" style = \"text-align: left;\">Int16?</th><th title = \"Union{Missing, Int16}\" style = \"text-align: left;\">Int16?</th><th title = \"String\" style = \"text-align: left;\">String</th></tr></thead><tbody><tr><td class = \"rowNumber\" style = \"font-weight: bold; text-align: right;\">1</td><td style = \"text-align: right;\">112</td><td style = \"text-align: right;\">1</td><td style = \"text-align: left;\">03</td></tr><tr><td class = \"rowNumber\" style = \"font-weight: bold; text-align: right;\">2</td><td style = \"text-align: right;\">1132</td><td style = \"text-align: right;\">2</td><td style = \"text-align: left;\">18</td></tr><tr><td class = \"rowNumber\" style = \"font-weight: bold; text-align: right;\">3</td><td style = \"text-align: right;\">1102</td><td style = \"text-align: right;\">1</td><td style = \"text-align: left;\">12</td></tr><tr><td class = \"rowNumber\" style = \"font-weight: bold; text-align: right;\">4</td><td style = \"text-align: right;\">1132</td><td style = \"text-align: right;\">1</td><td style = \"text-align: left;\">05</td></tr><tr><td class = \"rowNumber\" style = \"font-weight: bold; text-align: right;\">5</td><td style = \"text-align: right;\">1102</td><td style = \"text-align: right;\">2</td><td style = \"text-align: left;\">21</td></tr><tr><td class = \"rowNumber\" style = \"font-weight: bold; text-align: right;\">6</td><td style = \"text-align: right;\">1112</td><td style = \"text-align: right;\">1</td><td style = \"text-align: left;\">05</td></tr><tr><td class = \"rowNumber\" style = \"font-weight: bold; text-align: right;\">7</td><td style = \"text-align: right;\">1102</td><td style = \"text-align: right;\">2</td><td style = \"text-align: left;\">05</td></tr><tr><td class = \"rowNumber\" style = \"font-weight: bold; text-align: right;\">8</td><td style = \"text-align: right;\">1102</td><td style = \"text-align: right;\">1</td><td style = \"text-align: left;\">22</td></tr><tr><td class = \"rowNumber\" style = \"font-weight: bold; text-align: right;\">9</td><td style = \"text-align: right;\">1112</td><td style = \"text-align: right;\">2</td><td style = \"text-align: left;\">04</td></tr><tr><td class = \"rowNumber\" style = \"font-weight: bold; text-align: right;\">10</td><td style = \"text-align: right;\">1102</td><td style = \"text-align: right;\">1</td><td style = \"text-align: left;\">10</td></tr></tbody></table></div>"
      ],
      "text/latex": [
       "\\begin{tabular}{r|ccc}\n",
       "\t& receipt\\_no & receipt\\_sub\\_no & sales\\_day\\\\\n",
       "\t\\hline\n",
       "\t& Int16? & Int16? & String\\\\\n",
       "\t\\hline\n",
       "\t1 & 112 & 1 & 03 \\\\\n",
       "\t2 & 1132 & 2 & 18 \\\\\n",
       "\t3 & 1102 & 1 & 12 \\\\\n",
       "\t4 & 1132 & 1 & 05 \\\\\n",
       "\t5 & 1102 & 2 & 21 \\\\\n",
       "\t6 & 1112 & 1 & 05 \\\\\n",
       "\t7 & 1102 & 2 & 05 \\\\\n",
       "\t8 & 1102 & 1 & 22 \\\\\n",
       "\t9 & 1112 & 2 & 04 \\\\\n",
       "\t10 & 1102 & 1 & 10 \\\\\n",
       "\\end{tabular}\n"
      ],
      "text/plain": [
       "\u001b[1m10×3 DataFrame\u001b[0m\n",
       "\u001b[1m Row \u001b[0m│\u001b[1m receipt_no \u001b[0m\u001b[1m receipt_sub_no \u001b[0m\u001b[1m sales_day \u001b[0m\n",
       "     │\u001b[90m Int16?     \u001b[0m\u001b[90m Int16?         \u001b[0m\u001b[90m String    \u001b[0m\n",
       "─────┼───────────────────────────────────────\n",
       "   1 │        112               1  03\n",
       "   2 │       1132               2  18\n",
       "   3 │       1102               1  12\n",
       "   4 │       1132               1  05\n",
       "   5 │       1102               2  21\n",
       "   6 │       1112               1  05\n",
       "   7 │       1102               2  05\n",
       "   8 │       1102               1  22\n",
       "   9 │       1112               2  04\n",
       "  10 │       1102               1  10"
      ]
     },
     "execution_count": 56,
     "metadata": {},
     "output_type": "execute_result"
    }
   ],
   "source": [
    "@chain df_receipt begin\n",
    "    @transform(:sales_day = lpad.(string.(day.(unix2datetime.(:sales_epoch))), 2, \"0\"))\n",
    "    select(:receipt_no, :receipt_sub_no, :sales_day)\n",
    "    first(10)\n",
    "end"
   ]
  },
  {
   "cell_type": "markdown",
   "id": "ce425285-534e-48d1-9ecd-ae7b26a06d5e",
   "metadata": {},
   "source": [
    "---\n",
    "> P-052: レシート明細データ（df_receipt）の売上金額（amount）を顧客ID（customer_id）ごとに合計の上、売上金額合計に対して2,000円以下を0、2,000円より大きい金額を1に二値化し、顧客ID、売上金額合計とともに10件表示せよ。ただし、顧客IDが\"Z\"から始まるのものは非会員を表すため、除外して計算すること。"
   ]
  },
  {
   "cell_type": "code",
   "execution_count": 57,
   "id": "43b2ccc6-eeaa-4bbe-bf8f-0b6944a0e36d",
   "metadata": {},
   "outputs": [
    {
     "data": {
      "text/html": [
       "<div><div style = \"float: left;\"><span>10×3 DataFrame</span></div><div style = \"clear: both;\"></div></div><div class = \"data-frame\" style = \"overflow-x: scroll;\"><table class = \"data-frame\" style = \"margin-bottom: 6px;\"><thead><tr class = \"header\"><th class = \"rowNumber\" style = \"font-weight: bold; text-align: right;\">Row</th><th style = \"text-align: left;\">customer_id</th><th style = \"text-align: left;\">amount_sum</th><th style = \"text-align: left;\">amount_is_over_2000</th></tr><tr class = \"subheader headerLastRow\"><th class = \"rowNumber\" style = \"font-weight: bold; text-align: right;\"></th><th title = \"Union{Missing, String}\" style = \"text-align: left;\">String?</th><th title = \"Int64\" style = \"text-align: left;\">Int64</th><th title = \"Int64\" style = \"text-align: left;\">Int64</th></tr></thead><tbody><tr><td class = \"rowNumber\" style = \"font-weight: bold; text-align: right;\">1</td><td style = \"text-align: left;\">CS001113000004</td><td style = \"text-align: right;\">1298</td><td style = \"text-align: right;\">0</td></tr><tr><td class = \"rowNumber\" style = \"font-weight: bold; text-align: right;\">2</td><td style = \"text-align: left;\">CS001114000005</td><td style = \"text-align: right;\">626</td><td style = \"text-align: right;\">0</td></tr><tr><td class = \"rowNumber\" style = \"font-weight: bold; text-align: right;\">3</td><td style = \"text-align: left;\">CS001115000010</td><td style = \"text-align: right;\">3044</td><td style = \"text-align: right;\">1</td></tr><tr><td class = \"rowNumber\" style = \"font-weight: bold; text-align: right;\">4</td><td style = \"text-align: left;\">CS001205000004</td><td style = \"text-align: right;\">1988</td><td style = \"text-align: right;\">0</td></tr><tr><td class = \"rowNumber\" style = \"font-weight: bold; text-align: right;\">5</td><td style = \"text-align: left;\">CS001205000006</td><td style = \"text-align: right;\">3337</td><td style = \"text-align: right;\">1</td></tr><tr><td class = \"rowNumber\" style = \"font-weight: bold; text-align: right;\">6</td><td style = \"text-align: left;\">CS001211000025</td><td style = \"text-align: right;\">456</td><td style = \"text-align: right;\">0</td></tr><tr><td class = \"rowNumber\" style = \"font-weight: bold; text-align: right;\">7</td><td style = \"text-align: left;\">CS001212000027</td><td style = \"text-align: right;\">448</td><td style = \"text-align: right;\">0</td></tr><tr><td class = \"rowNumber\" style = \"font-weight: bold; text-align: right;\">8</td><td style = \"text-align: left;\">CS001212000031</td><td style = \"text-align: right;\">296</td><td style = \"text-align: right;\">0</td></tr><tr><td class = \"rowNumber\" style = \"font-weight: bold; text-align: right;\">9</td><td style = \"text-align: left;\">CS001212000046</td><td style = \"text-align: right;\">228</td><td style = \"text-align: right;\">0</td></tr><tr><td class = \"rowNumber\" style = \"font-weight: bold; text-align: right;\">10</td><td style = \"text-align: left;\">CS001212000070</td><td style = \"text-align: right;\">456</td><td style = \"text-align: right;\">0</td></tr></tbody></table></div>"
      ],
      "text/latex": [
       "\\begin{tabular}{r|ccc}\n",
       "\t& customer\\_id & amount\\_sum & amount\\_is\\_over\\_2000\\\\\n",
       "\t\\hline\n",
       "\t& String? & Int64 & Int64\\\\\n",
       "\t\\hline\n",
       "\t1 & CS001113000004 & 1298 & 0 \\\\\n",
       "\t2 & CS001114000005 & 626 & 0 \\\\\n",
       "\t3 & CS001115000010 & 3044 & 1 \\\\\n",
       "\t4 & CS001205000004 & 1988 & 0 \\\\\n",
       "\t5 & CS001205000006 & 3337 & 1 \\\\\n",
       "\t6 & CS001211000025 & 456 & 0 \\\\\n",
       "\t7 & CS001212000027 & 448 & 0 \\\\\n",
       "\t8 & CS001212000031 & 296 & 0 \\\\\n",
       "\t9 & CS001212000046 & 228 & 0 \\\\\n",
       "\t10 & CS001212000070 & 456 & 0 \\\\\n",
       "\\end{tabular}\n"
      ],
      "text/plain": [
       "\u001b[1m10×3 DataFrame\u001b[0m\n",
       "\u001b[1m Row \u001b[0m│\u001b[1m customer_id    \u001b[0m\u001b[1m amount_sum \u001b[0m\u001b[1m amount_is_over_2000 \u001b[0m\n",
       "     │\u001b[90m String?        \u001b[0m\u001b[90m Int64      \u001b[0m\u001b[90m Int64               \u001b[0m\n",
       "─────┼─────────────────────────────────────────────────\n",
       "   1 │ CS001113000004        1298                    0\n",
       "   2 │ CS001114000005         626                    0\n",
       "   3 │ CS001115000010        3044                    1\n",
       "   4 │ CS001205000004        1988                    0\n",
       "   5 │ CS001205000006        3337                    1\n",
       "   6 │ CS001211000025         456                    0\n",
       "   7 │ CS001212000027         448                    0\n",
       "   8 │ CS001212000031         296                    0\n",
       "   9 │ CS001212000046         228                    0\n",
       "  10 │ CS001212000070         456                    0"
      ]
     },
     "execution_count": 57,
     "metadata": {},
     "output_type": "execute_result"
    }
   ],
   "source": [
    "@chain df_receipt begin\n",
    "    @subset(.!startswith.(:customer_id, \"Z\"))\n",
    "    groupby(:customer_id)\n",
    "    combine(:amount => sum)\n",
    "    @transform(:amount_is_over_2000 = ifelse.(:amount_sum .> 2000, 1, 0))\n",
    "    sort(:customer_id)\n",
    "    first(10)\n",
    "end"
   ]
  },
  {
   "cell_type": "markdown",
   "id": "dd730d3f-a992-4f46-a990-e03167caaf7f",
   "metadata": {},
   "source": [
    "---\n",
    "> P-053: 顧客データ（df_customer）の郵便番号（postal_cd）に対し、東京（先頭3桁が100〜209のもの）を1、それ以外のものを0に二値化せよ。さらにレシート明細データ（df_receipt）と結合し、全期間において売上実績のある顧客数を、作成した二値ごとにカウントせよ。"
   ]
  },
  {
   "cell_type": "code",
   "execution_count": 58,
   "id": "f1da28e3-6c3c-49ce-bc2a-82f0dcc87701",
   "metadata": {},
   "outputs": [
    {
     "data": {
      "text/html": [
       "<div><div style = \"float: left;\"><span>21971×13 DataFrame</span></div><div style = \"float: right;\"><span style = \"font-style: italic;\">21946 rows omitted</span></div><div style = \"clear: both;\"></div></div><div class = \"data-frame\" style = \"overflow-x: scroll;\"><table class = \"data-frame\" style = \"margin-bottom: 6px;\"><thead><tr class = \"header\"><th class = \"rowNumber\" style = \"font-weight: bold; text-align: right;\">Row</th><th style = \"text-align: left;\">customer_id</th><th style = \"text-align: left;\">customer_name</th><th style = \"text-align: left;\">gender_cd</th><th style = \"text-align: left;\">gender</th><th style = \"text-align: left;\">birth_day</th><th style = \"text-align: left;\">age</th><th style = \"text-align: left;\">postal_cd</th><th style = \"text-align: left;\">address</th><th style = \"text-align: left;\">application_store_cd</th><th style = \"text-align: left;\">application_date</th><th style = \"text-align: left;\">status_cd</th><th style = \"text-align: left;\">postal_three</th><th style = \"text-align: left;\">is_in_tokyo</th></tr><tr class = \"subheader headerLastRow\"><th class = \"rowNumber\" style = \"font-weight: bold; text-align: right;\"></th><th title = \"Union{Missing, String}\" style = \"text-align: left;\">String?</th><th title = \"Union{Missing, String}\" style = \"text-align: left;\">String?</th><th title = \"Union{Missing, String}\" style = \"text-align: left;\">String?</th><th title = \"Union{Missing, String}\" style = \"text-align: left;\">String?</th><th title = \"Union{Missing, Date}\" style = \"text-align: left;\">Date?</th><th title = \"Union{Missing, Int32}\" style = \"text-align: left;\">Int32?</th><th title = \"Union{Missing, String}\" style = \"text-align: left;\">String?</th><th title = \"Union{Missing, String}\" style = \"text-align: left;\">String?</th><th title = \"Union{Missing, String}\" style = \"text-align: left;\">String?</th><th title = \"Union{Missing, String}\" style = \"text-align: left;\">String?</th><th title = \"Union{Missing, String}\" style = \"text-align: left;\">String?</th><th title = \"Int64\" style = \"text-align: left;\">Int64</th><th title = \"Int64\" style = \"text-align: left;\">Int64</th></tr></thead><tbody><tr><td class = \"rowNumber\" style = \"font-weight: bold; text-align: right;\">1</td><td style = \"text-align: left;\">CS021313000114</td><td style = \"text-align: left;\">大野 あや子</td><td style = \"text-align: left;\">1</td><td style = \"text-align: left;\">女性</td><td style = \"text-align: left;\">1981-04-29</td><td style = \"text-align: right;\">37</td><td style = \"text-align: left;\">259-1113</td><td style = \"text-align: left;\">神奈川県伊勢原市粟窪**********</td><td style = \"text-align: left;\">S14021</td><td style = \"text-align: left;\">20150905</td><td style = \"text-align: left;\">0-00000000-0</td><td style = \"text-align: right;\">259</td><td style = \"text-align: right;\">0</td></tr><tr><td class = \"rowNumber\" style = \"font-weight: bold; text-align: right;\">2</td><td style = \"text-align: left;\">CS037613000071</td><td style = \"text-align: left;\">六角 雅彦</td><td style = \"text-align: left;\">9</td><td style = \"text-align: left;\">不明</td><td style = \"text-align: left;\">1952-04-01</td><td style = \"text-align: right;\">66</td><td style = \"text-align: left;\">136-0076</td><td style = \"text-align: left;\">東京都江東区南砂**********</td><td style = \"text-align: left;\">S13037</td><td style = \"text-align: left;\">20150414</td><td style = \"text-align: left;\">0-00000000-0</td><td style = \"text-align: right;\">136</td><td style = \"text-align: right;\">1</td></tr><tr><td class = \"rowNumber\" style = \"font-weight: bold; text-align: right;\">3</td><td style = \"text-align: left;\">CS031415000172</td><td style = \"text-align: left;\">宇多田 貴美子</td><td style = \"text-align: left;\">1</td><td style = \"text-align: left;\">女性</td><td style = \"text-align: left;\">1976-10-04</td><td style = \"text-align: right;\">42</td><td style = \"text-align: left;\">151-0053</td><td style = \"text-align: left;\">東京都渋谷区代々木**********</td><td style = \"text-align: left;\">S13031</td><td style = \"text-align: left;\">20150529</td><td style = \"text-align: left;\">D-20100325-C</td><td style = \"text-align: right;\">151</td><td style = \"text-align: right;\">1</td></tr><tr><td class = \"rowNumber\" style = \"font-weight: bold; text-align: right;\">4</td><td style = \"text-align: left;\">CS028811000001</td><td style = \"text-align: left;\">堀井 かおり</td><td style = \"text-align: left;\">1</td><td style = \"text-align: left;\">女性</td><td style = \"text-align: left;\">1933-03-27</td><td style = \"text-align: right;\">86</td><td style = \"text-align: left;\">245-0016</td><td style = \"text-align: left;\">神奈川県横浜市泉区和泉町**********</td><td style = \"text-align: left;\">S14028</td><td style = \"text-align: left;\">20160115</td><td style = \"text-align: left;\">0-00000000-0</td><td style = \"text-align: right;\">245</td><td style = \"text-align: right;\">0</td></tr><tr><td class = \"rowNumber\" style = \"font-weight: bold; text-align: right;\">5</td><td style = \"text-align: left;\">CS001215000145</td><td style = \"text-align: left;\">田崎 美紀</td><td style = \"text-align: left;\">1</td><td style = \"text-align: left;\">女性</td><td style = \"text-align: left;\">1995-03-29</td><td style = \"text-align: right;\">24</td><td style = \"text-align: left;\">144-0055</td><td style = \"text-align: left;\">東京都大田区仲六郷**********</td><td style = \"text-align: left;\">S13001</td><td style = \"text-align: left;\">20170605</td><td style = \"text-align: left;\">6-20090929-2</td><td style = \"text-align: right;\">144</td><td style = \"text-align: right;\">1</td></tr><tr><td class = \"rowNumber\" style = \"font-weight: bold; text-align: right;\">6</td><td style = \"text-align: left;\">CS020401000016</td><td style = \"text-align: left;\">宮下 達士</td><td style = \"text-align: left;\">0</td><td style = \"text-align: left;\">男性</td><td style = \"text-align: left;\">1974-09-15</td><td style = \"text-align: right;\">44</td><td style = \"text-align: left;\">174-0065</td><td style = \"text-align: left;\">東京都板橋区若木**********</td><td style = \"text-align: left;\">S13020</td><td style = \"text-align: left;\">20150225</td><td style = \"text-align: left;\">0-00000000-0</td><td style = \"text-align: right;\">174</td><td style = \"text-align: right;\">1</td></tr><tr><td class = \"rowNumber\" style = \"font-weight: bold; text-align: right;\">7</td><td style = \"text-align: left;\">CS015414000103</td><td style = \"text-align: left;\">奥野 陽子</td><td style = \"text-align: left;\">1</td><td style = \"text-align: left;\">女性</td><td style = \"text-align: left;\">1977-08-09</td><td style = \"text-align: right;\">41</td><td style = \"text-align: left;\">136-0073</td><td style = \"text-align: left;\">東京都江東区北砂**********</td><td style = \"text-align: left;\">S13015</td><td style = \"text-align: left;\">20150722</td><td style = \"text-align: left;\">B-20100609-B</td><td style = \"text-align: right;\">136</td><td style = \"text-align: right;\">1</td></tr><tr><td class = \"rowNumber\" style = \"font-weight: bold; text-align: right;\">8</td><td style = \"text-align: left;\">CS029403000008</td><td style = \"text-align: left;\">釈 人志</td><td style = \"text-align: left;\">0</td><td style = \"text-align: left;\">男性</td><td style = \"text-align: left;\">1973-08-17</td><td style = \"text-align: right;\">45</td><td style = \"text-align: left;\">279-0003</td><td style = \"text-align: left;\">千葉県浦安市海楽**********</td><td style = \"text-align: left;\">S12029</td><td style = \"text-align: left;\">20150515</td><td style = \"text-align: left;\">0-00000000-0</td><td style = \"text-align: right;\">279</td><td style = \"text-align: right;\">0</td></tr><tr><td class = \"rowNumber\" style = \"font-weight: bold; text-align: right;\">9</td><td style = \"text-align: left;\">CS015804000004</td><td style = \"text-align: left;\">松谷 米蔵</td><td style = \"text-align: left;\">0</td><td style = \"text-align: left;\">男性</td><td style = \"text-align: left;\">1931-05-02</td><td style = \"text-align: right;\">87</td><td style = \"text-align: left;\">136-0073</td><td style = \"text-align: left;\">東京都江東区北砂**********</td><td style = \"text-align: left;\">S13015</td><td style = \"text-align: left;\">20150607</td><td style = \"text-align: left;\">0-00000000-0</td><td style = \"text-align: right;\">136</td><td style = \"text-align: right;\">1</td></tr><tr><td class = \"rowNumber\" style = \"font-weight: bold; text-align: right;\">10</td><td style = \"text-align: left;\">CS033513000180</td><td style = \"text-align: left;\">安斎 遥</td><td style = \"text-align: left;\">1</td><td style = \"text-align: left;\">女性</td><td style = \"text-align: left;\">1962-07-11</td><td style = \"text-align: right;\">56</td><td style = \"text-align: left;\">241-0823</td><td style = \"text-align: left;\">神奈川県横浜市旭区善部町**********</td><td style = \"text-align: left;\">S14033</td><td style = \"text-align: left;\">20150728</td><td style = \"text-align: left;\">6-20080506-5</td><td style = \"text-align: right;\">241</td><td style = \"text-align: right;\">0</td></tr><tr><td class = \"rowNumber\" style = \"font-weight: bold; text-align: right;\">11</td><td style = \"text-align: left;\">CS007403000016</td><td style = \"text-align: left;\">依田 満</td><td style = \"text-align: left;\">0</td><td style = \"text-align: left;\">男性</td><td style = \"text-align: left;\">1975-08-18</td><td style = \"text-align: right;\">43</td><td style = \"text-align: left;\">276-0022</td><td style = \"text-align: left;\">千葉県八千代市上高野**********</td><td style = \"text-align: left;\">S12007</td><td style = \"text-align: left;\">20150914</td><td style = \"text-align: left;\">0-00000000-0</td><td style = \"text-align: right;\">276</td><td style = \"text-align: right;\">0</td></tr><tr><td class = \"rowNumber\" style = \"font-weight: bold; text-align: right;\">12</td><td style = \"text-align: left;\">CS035614000014</td><td style = \"text-align: left;\">板倉 菜々美</td><td style = \"text-align: left;\">1</td><td style = \"text-align: left;\">女性</td><td style = \"text-align: left;\">1954-07-16</td><td style = \"text-align: right;\">64</td><td style = \"text-align: left;\">154-0015</td><td style = \"text-align: left;\">東京都世田谷区桜新町**********</td><td style = \"text-align: left;\">S13035</td><td style = \"text-align: left;\">20150804</td><td style = \"text-align: left;\">0-00000000-0</td><td style = \"text-align: right;\">154</td><td style = \"text-align: right;\">1</td></tr><tr><td class = \"rowNumber\" style = \"font-weight: bold; text-align: right;\">13</td><td style = \"text-align: left;\">CS011215000048</td><td style = \"text-align: left;\">芦田 沙耶</td><td style = \"text-align: left;\">1</td><td style = \"text-align: left;\">女性</td><td style = \"text-align: left;\">1992-02-01</td><td style = \"text-align: right;\">27</td><td style = \"text-align: left;\">223-0062</td><td style = \"text-align: left;\">神奈川県横浜市港北区日吉本町**********</td><td style = \"text-align: left;\">S14011</td><td style = \"text-align: left;\">20150228</td><td style = \"text-align: left;\">C-20100421-9</td><td style = \"text-align: right;\">223</td><td style = \"text-align: right;\">0</td></tr><tr><td style = \"text-align: right;\">&vellip;</td><td style = \"text-align: right;\">&vellip;</td><td style = \"text-align: right;\">&vellip;</td><td style = \"text-align: right;\">&vellip;</td><td style = \"text-align: right;\">&vellip;</td><td style = \"text-align: right;\">&vellip;</td><td style = \"text-align: right;\">&vellip;</td><td style = \"text-align: right;\">&vellip;</td><td style = \"text-align: right;\">&vellip;</td><td style = \"text-align: right;\">&vellip;</td><td style = \"text-align: right;\">&vellip;</td><td style = \"text-align: right;\">&vellip;</td><td style = \"text-align: right;\">&vellip;</td><td style = \"text-align: right;\">&vellip;</td></tr><tr><td class = \"rowNumber\" style = \"font-weight: bold; text-align: right;\">21960</td><td style = \"text-align: left;\">CS008513000185</td><td style = \"text-align: left;\">長沢 路子</td><td style = \"text-align: left;\">1</td><td style = \"text-align: left;\">女性</td><td style = \"text-align: left;\">1960-02-06</td><td style = \"text-align: right;\">59</td><td style = \"text-align: left;\">157-0073</td><td style = \"text-align: left;\">東京都世田谷区砧**********</td><td style = \"text-align: left;\">S13008</td><td style = \"text-align: left;\">20150228</td><td style = \"text-align: left;\">0-00000000-0</td><td style = \"text-align: right;\">157</td><td style = \"text-align: right;\">1</td></tr><tr><td class = \"rowNumber\" style = \"font-weight: bold; text-align: right;\">21961</td><td style = \"text-align: left;\">CS004502000002</td><td style = \"text-align: left;\">高倉 優</td><td style = \"text-align: left;\">0</td><td style = \"text-align: left;\">男性</td><td style = \"text-align: left;\">1961-07-23</td><td style = \"text-align: right;\">57</td><td style = \"text-align: left;\">167-0021</td><td style = \"text-align: left;\">東京都杉並区井草**********</td><td style = \"text-align: left;\">S13004</td><td style = \"text-align: left;\">20150418</td><td style = \"text-align: left;\">0-00000000-0</td><td style = \"text-align: right;\">167</td><td style = \"text-align: right;\">1</td></tr><tr><td class = \"rowNumber\" style = \"font-weight: bold; text-align: right;\">21962</td><td style = \"text-align: left;\">CS012415000309</td><td style = \"text-align: left;\">高田 ひろ子</td><td style = \"text-align: left;\">1</td><td style = \"text-align: left;\">女性</td><td style = \"text-align: left;\">1976-02-03</td><td style = \"text-align: right;\">43</td><td style = \"text-align: left;\">231-0831</td><td style = \"text-align: left;\">神奈川県横浜市中区矢口台**********</td><td style = \"text-align: left;\">S14012</td><td style = \"text-align: left;\">20180131</td><td style = \"text-align: left;\">0-00000000-0</td><td style = \"text-align: right;\">231</td><td style = \"text-align: right;\">0</td></tr><tr><td class = \"rowNumber\" style = \"font-weight: bold; text-align: right;\">21963</td><td style = \"text-align: left;\">CS040213000013</td><td style = \"text-align: left;\">関 瞬</td><td style = \"text-align: left;\">1</td><td style = \"text-align: left;\">女性</td><td style = \"text-align: left;\">1997-01-26</td><td style = \"text-align: right;\">22</td><td style = \"text-align: left;\">194-0001</td><td style = \"text-align: left;\">東京都町田市つくし野**********</td><td style = \"text-align: left;\">S14040</td><td style = \"text-align: left;\">20151005</td><td style = \"text-align: left;\">0-00000000-0</td><td style = \"text-align: right;\">194</td><td style = \"text-align: right;\">1</td></tr><tr><td class = \"rowNumber\" style = \"font-weight: bold; text-align: right;\">21964</td><td style = \"text-align: left;\">CS001315000402</td><td style = \"text-align: left;\">豊島 路子</td><td style = \"text-align: left;\">1</td><td style = \"text-align: left;\">女性</td><td style = \"text-align: left;\">1987-01-16</td><td style = \"text-align: right;\">32</td><td style = \"text-align: left;\">144-0052</td><td style = \"text-align: left;\">東京都大田区蒲田**********</td><td style = \"text-align: left;\">S13001</td><td style = \"text-align: left;\">20171103</td><td style = \"text-align: left;\">0-00000000-0</td><td style = \"text-align: right;\">144</td><td style = \"text-align: right;\">1</td></tr><tr><td class = \"rowNumber\" style = \"font-weight: bold; text-align: right;\">21965</td><td style = \"text-align: left;\">CS039313000173</td><td style = \"text-align: left;\">ともさか 花</td><td style = \"text-align: left;\">1</td><td style = \"text-align: left;\">女性</td><td style = \"text-align: left;\">1983-02-11</td><td style = \"text-align: right;\">36</td><td style = \"text-align: left;\">167-0032</td><td style = \"text-align: left;\">東京都杉並区天沼**********</td><td style = \"text-align: left;\">S13039</td><td style = \"text-align: left;\">20170901</td><td style = \"text-align: left;\">0-00000000-0</td><td style = \"text-align: right;\">167</td><td style = \"text-align: right;\">1</td></tr><tr><td class = \"rowNumber\" style = \"font-weight: bold; text-align: right;\">21966</td><td style = \"text-align: left;\">CS042513000030</td><td style = \"text-align: left;\">三宅 ヒカル</td><td style = \"text-align: left;\">1</td><td style = \"text-align: left;\">女性</td><td style = \"text-align: left;\">1959-01-19</td><td style = \"text-align: right;\">60</td><td style = \"text-align: left;\">231-0865</td><td style = \"text-align: left;\">神奈川県横浜市中区北方町**********</td><td style = \"text-align: left;\">S14042</td><td style = \"text-align: left;\">20181114</td><td style = \"text-align: left;\">0-00000000-0</td><td style = \"text-align: right;\">231</td><td style = \"text-align: right;\">0</td></tr><tr><td class = \"rowNumber\" style = \"font-weight: bold; text-align: right;\">21967</td><td style = \"text-align: left;\">CS002512000474</td><td style = \"text-align: left;\">市村 夏希</td><td style = \"text-align: left;\">1</td><td style = \"text-align: left;\">女性</td><td style = \"text-align: left;\">1959-10-12</td><td style = \"text-align: right;\">59</td><td style = \"text-align: left;\">185-0034</td><td style = \"text-align: left;\">東京都国分寺市光町**********</td><td style = \"text-align: left;\">S13002</td><td style = \"text-align: left;\">20171110</td><td style = \"text-align: left;\">0-00000000-0</td><td style = \"text-align: right;\">185</td><td style = \"text-align: right;\">1</td></tr><tr><td class = \"rowNumber\" style = \"font-weight: bold; text-align: right;\">21968</td><td style = \"text-align: left;\">CS029414000065</td><td style = \"text-align: left;\">上村 怜奈</td><td style = \"text-align: left;\">1</td><td style = \"text-align: left;\">女性</td><td style = \"text-align: left;\">1970-10-19</td><td style = \"text-align: right;\">48</td><td style = \"text-align: left;\">279-0043</td><td style = \"text-align: left;\">千葉県浦安市富士見**********</td><td style = \"text-align: left;\">S12029</td><td style = \"text-align: left;\">20150313</td><td style = \"text-align: left;\">F-20101028-F</td><td style = \"text-align: right;\">279</td><td style = \"text-align: right;\">0</td></tr><tr><td class = \"rowNumber\" style = \"font-weight: bold; text-align: right;\">21969</td><td style = \"text-align: left;\">CS012403000043</td><td style = \"text-align: left;\">堀越 明</td><td style = \"text-align: left;\">0</td><td style = \"text-align: left;\">男性</td><td style = \"text-align: left;\">1972-12-16</td><td style = \"text-align: right;\">46</td><td style = \"text-align: left;\">231-0825</td><td style = \"text-align: left;\">神奈川県横浜市中区本牧間門**********</td><td style = \"text-align: left;\">S14012</td><td style = \"text-align: left;\">20150406</td><td style = \"text-align: left;\">0-00000000-0</td><td style = \"text-align: right;\">231</td><td style = \"text-align: right;\">0</td></tr><tr><td class = \"rowNumber\" style = \"font-weight: bold; text-align: right;\">21970</td><td style = \"text-align: left;\">CS033512000184</td><td style = \"text-align: left;\">池谷 華子</td><td style = \"text-align: left;\">1</td><td style = \"text-align: left;\">女性</td><td style = \"text-align: left;\">1964-06-05</td><td style = \"text-align: right;\">54</td><td style = \"text-align: left;\">245-0016</td><td style = \"text-align: left;\">神奈川県横浜市泉区和泉町**********</td><td style = \"text-align: left;\">S14033</td><td style = \"text-align: left;\">20160206</td><td style = \"text-align: left;\">0-00000000-0</td><td style = \"text-align: right;\">245</td><td style = \"text-align: right;\">0</td></tr><tr><td class = \"rowNumber\" style = \"font-weight: bold; text-align: right;\">21971</td><td style = \"text-align: left;\">CS009213000022</td><td style = \"text-align: left;\">稲垣 咲</td><td style = \"text-align: left;\">1</td><td style = \"text-align: left;\">女性</td><td style = \"text-align: left;\">1996-08-16</td><td style = \"text-align: right;\">22</td><td style = \"text-align: left;\">154-0012</td><td style = \"text-align: left;\">東京都世田谷区駒沢**********</td><td style = \"text-align: left;\">S13009</td><td style = \"text-align: left;\">20150424</td><td style = \"text-align: left;\">0-00000000-0</td><td style = \"text-align: right;\">154</td><td style = \"text-align: right;\">1</td></tr></tbody></table></div>"
      ],
      "text/latex": [
       "\\begin{tabular}{r|cccccccc}\n",
       "\t& customer\\_id & customer\\_name & gender\\_cd & gender & birth\\_day & age & postal\\_cd & \\\\\n",
       "\t\\hline\n",
       "\t& String? & String? & String? & String? & Date? & Int32? & String? & \\\\\n",
       "\t\\hline\n",
       "\t1 & CS021313000114 & 大野 あや子 & 1 & 女性 & 1981-04-29 & 37 & 259-1113 & $\\dots$ \\\\\n",
       "\t2 & CS037613000071 & 六角 雅彦 & 9 & 不明 & 1952-04-01 & 66 & 136-0076 & $\\dots$ \\\\\n",
       "\t3 & CS031415000172 & 宇多田 貴美子 & 1 & 女性 & 1976-10-04 & 42 & 151-0053 & $\\dots$ \\\\\n",
       "\t4 & CS028811000001 & 堀井 かおり & 1 & 女性 & 1933-03-27 & 86 & 245-0016 & $\\dots$ \\\\\n",
       "\t5 & CS001215000145 & 田崎 美紀 & 1 & 女性 & 1995-03-29 & 24 & 144-0055 & $\\dots$ \\\\\n",
       "\t6 & CS020401000016 & 宮下 達士 & 0 & 男性 & 1974-09-15 & 44 & 174-0065 & $\\dots$ \\\\\n",
       "\t7 & CS015414000103 & 奥野 陽子 & 1 & 女性 & 1977-08-09 & 41 & 136-0073 & $\\dots$ \\\\\n",
       "\t8 & CS029403000008 & 釈 人志 & 0 & 男性 & 1973-08-17 & 45 & 279-0003 & $\\dots$ \\\\\n",
       "\t9 & CS015804000004 & 松谷 米蔵 & 0 & 男性 & 1931-05-02 & 87 & 136-0073 & $\\dots$ \\\\\n",
       "\t10 & CS033513000180 & 安斎 遥 & 1 & 女性 & 1962-07-11 & 56 & 241-0823 & $\\dots$ \\\\\n",
       "\t11 & CS007403000016 & 依田 満 & 0 & 男性 & 1975-08-18 & 43 & 276-0022 & $\\dots$ \\\\\n",
       "\t12 & CS035614000014 & 板倉 菜々美 & 1 & 女性 & 1954-07-16 & 64 & 154-0015 & $\\dots$ \\\\\n",
       "\t13 & CS011215000048 & 芦田 沙耶 & 1 & 女性 & 1992-02-01 & 27 & 223-0062 & $\\dots$ \\\\\n",
       "\t14 & CS009413000079 & 市川 コウ & 1 & 女性 & 1975-12-28 & 43 & 158-0093 & $\\dots$ \\\\\n",
       "\t15 & CS040412000191 & 川井 郁恵 & 1 & 女性 & 1977-01-05 & 42 & 226-0021 & $\\dots$ \\\\\n",
       "\t16 & CS029415000023 & 梅田 里穂 & 1 & 女性 & 1976-01-17 & 43 & 279-0043 & $\\dots$ \\\\\n",
       "\t17 & CS009315000023 & 皆川 文世 & 1 & 女性 & 1980-04-15 & 38 & 154-0012 & $\\dots$ \\\\\n",
       "\t18 & CS040702000012 & 根本 六郎 & 0 & 男性 & 1939-07-02 & 79 & 226-0018 & $\\dots$ \\\\\n",
       "\t19 & CS046615000013 & 河野 花 & 1 & 女性 & 1953-04-06 & 65 & 224-0026 & $\\dots$ \\\\\n",
       "\t20 & CS025412000147 & 堀口 陽子 & 1 & 女性 & 1974-10-22 & 44 & 242-0015 & $\\dots$ \\\\\n",
       "\t21 & CS002613000047 & 竹村 優 & 1 & 女性 & 1953-08-30 & 65 & 185-0011 & $\\dots$ \\\\\n",
       "\t22 & CS035415000029 & 寺沢 真希 & 9 & 不明 & 1977-09-27 & 41 & 158-0096 & $\\dots$ \\\\\n",
       "\t23 & CS015315000033 & 福士 璃奈子 & 1 & 女性 & 1983-03-17 & 36 & 135-0043 & $\\dots$ \\\\\n",
       "\t24 & CS023513000066 & 神戸 そら & 1 & 女性 & 1961-12-17 & 57 & 210-0005 & $\\dots$ \\\\\n",
       "\t25 & CS035513000134 & 市川 美帆 & 1 & 女性 & 1960-03-27 & 59 & 156-0053 & $\\dots$ \\\\\n",
       "\t26 & CS011312000159 & 薬師丸 早紀 & 1 & 女性 & 1980-04-09 & 38 & 211-0034 & $\\dots$ \\\\\n",
       "\t27 & CS004613000404 & 堀越 サンタマリア & 1 & 女性 & 1951-04-11 & 67 & 165-0035 & $\\dots$ \\\\\n",
       "\t28 & CS001515000263 & 高松 夏空 & 1 & 女性 & 1962-11-09 & 56 & 144-0051 & $\\dots$ \\\\\n",
       "\t29 & CS040314000027 & 鶴田 きみまろ & 9 & 不明 & 1986-03-26 & 33 & 226-0027 & $\\dots$ \\\\\n",
       "\t30 & CS028413000087 & 浅野 薫 & 1 & 女性 & 1974-12-27 & 44 & 246-0013 & $\\dots$ \\\\\n",
       "\t$\\dots$ & $\\dots$ & $\\dots$ & $\\dots$ & $\\dots$ & $\\dots$ & $\\dots$ & $\\dots$ &  \\\\\n",
       "\\end{tabular}\n"
      ],
      "text/plain": [
       "\u001b[1m21971×13 DataFrame\u001b[0m\n",
       "\u001b[1m   Row \u001b[0m│\u001b[1m customer_id    \u001b[0m\u001b[1m customer_name \u001b[0m\u001b[1m gender_cd \u001b[0m\u001b[1m gender  \u001b[0m\u001b[1m birth_day  \u001b[0m\u001b[1m age   \u001b[0m ⋯\n",
       "       │\u001b[90m String?        \u001b[0m\u001b[90m String?       \u001b[0m\u001b[90m String?   \u001b[0m\u001b[90m String? \u001b[0m\u001b[90m Date?      \u001b[0m\u001b[90m Int32?\u001b[0m ⋯\n",
       "───────┼────────────────────────────────────────────────────────────────────────\n",
       "     1 │ CS021313000114  大野 あや子    1          女性     1981-04-29      37 ⋯\n",
       "     2 │ CS037613000071  六角 雅彦      9          不明     1952-04-01      66\n",
       "     3 │ CS031415000172  宇多田 貴美子  1          女性     1976-10-04      42\n",
       "     4 │ CS028811000001  堀井 かおり    1          女性     1933-03-27      86\n",
       "     5 │ CS001215000145  田崎 美紀      1          女性     1995-03-29      24 ⋯\n",
       "     6 │ CS020401000016  宮下 達士      0          男性     1974-09-15      44\n",
       "     7 │ CS015414000103  奥野 陽子      1          女性     1977-08-09      41\n",
       "     8 │ CS029403000008  釈 人志        0          男性     1973-08-17      45\n",
       "     9 │ CS015804000004  松谷 米蔵      0          男性     1931-05-02      87 ⋯\n",
       "    10 │ CS033513000180  安斎 遥        1          女性     1962-07-11      56\n",
       "    11 │ CS007403000016  依田 満        0          男性     1975-08-18      43\n",
       "   ⋮   │       ⋮               ⋮            ⋮         ⋮         ⋮         ⋮    ⋱\n",
       " 21962 │ CS012415000309  高田 ひろ子    1          女性     1976-02-03      43\n",
       " 21963 │ CS040213000013  関 瞬          1          女性     1997-01-26      22 ⋯\n",
       " 21964 │ CS001315000402  豊島 路子      1          女性     1987-01-16      32\n",
       " 21965 │ CS039313000173  ともさか 花    1          女性     1983-02-11      36\n",
       " 21966 │ CS042513000030  三宅 ヒカル    1          女性     1959-01-19      60\n",
       " 21967 │ CS002512000474  市村 夏希      1          女性     1959-10-12      59 ⋯\n",
       " 21968 │ CS029414000065  上村 怜奈      1          女性     1970-10-19      48\n",
       " 21969 │ CS012403000043  堀越 明        0          男性     1972-12-16      46\n",
       " 21970 │ CS033512000184  池谷 華子      1          女性     1964-06-05      54\n",
       " 21971 │ CS009213000022  稲垣 咲        1          女性     1996-08-16      22 ⋯\n",
       "\u001b[36m                                                7 columns and 21950 rows omitted\u001b[0m"
      ]
     },
     "execution_count": 58,
     "metadata": {},
     "output_type": "execute_result"
    }
   ],
   "source": [
    "function extract_three_from_postal(x::AbstractString)::Int\n",
    "    m = match(r\"([0-9]{3})-[0-9]{4}\", x)\n",
    "    return parse(Int, m.captures[1])\n",
    "end\n",
    "\n",
    "df_customer_in_tokyo = @chain df_customer begin\n",
    "    @transform(:postal_three = extract_three_from_postal.(:postal_cd))\n",
    "    @transform(:is_in_tokyo = Int.(100 .<= :postal_three .<= 209))\n",
    "end"
   ]
  },
  {
   "cell_type": "code",
   "execution_count": 59,
   "id": "00c611fb",
   "metadata": {},
   "outputs": [
    {
     "data": {
      "text/html": [
       "<div><div style = \"float: left;\"><span>2×2 DataFrame</span></div><div style = \"clear: both;\"></div></div><div class = \"data-frame\" style = \"overflow-x: scroll;\"><table class = \"data-frame\" style = \"margin-bottom: 6px;\"><thead><tr class = \"header\"><th class = \"rowNumber\" style = \"font-weight: bold; text-align: right;\">Row</th><th style = \"text-align: left;\">is_in_tokyo</th><th style = \"text-align: left;\">customer_num</th></tr><tr class = \"subheader headerLastRow\"><th class = \"rowNumber\" style = \"font-weight: bold; text-align: right;\"></th><th title = \"Int64\" style = \"text-align: left;\">Int64</th><th title = \"Int64\" style = \"text-align: left;\">Int64</th></tr></thead><tbody><tr><td class = \"rowNumber\" style = \"font-weight: bold; text-align: right;\">1</td><td style = \"text-align: right;\">0</td><td style = \"text-align: right;\">3906</td></tr><tr><td class = \"rowNumber\" style = \"font-weight: bold; text-align: right;\">2</td><td style = \"text-align: right;\">1</td><td style = \"text-align: right;\">4400</td></tr></tbody></table></div>"
      ],
      "text/latex": [
       "\\begin{tabular}{r|cc}\n",
       "\t& is\\_in\\_tokyo & customer\\_num\\\\\n",
       "\t\\hline\n",
       "\t& Int64 & Int64\\\\\n",
       "\t\\hline\n",
       "\t1 & 0 & 3906 \\\\\n",
       "\t2 & 1 & 4400 \\\\\n",
       "\\end{tabular}\n"
      ],
      "text/plain": [
       "\u001b[1m2×2 DataFrame\u001b[0m\n",
       "\u001b[1m Row \u001b[0m│\u001b[1m is_in_tokyo \u001b[0m\u001b[1m customer_num \u001b[0m\n",
       "     │\u001b[90m Int64       \u001b[0m\u001b[90m Int64        \u001b[0m\n",
       "─────┼───────────────────────────\n",
       "   1 │           0          3906\n",
       "   2 │           1          4400"
      ]
     },
     "execution_count": 59,
     "metadata": {},
     "output_type": "execute_result"
    }
   ],
   "source": [
    "@chain df_customer_in_tokyo begin\n",
    "    innerjoin(df_receipt, on=:customer_id)\n",
    "    unique([:is_in_tokyo, :customer_id])\n",
    "    groupby(:is_in_tokyo)\n",
    "    combine(nrow => :customer_num)\n",
    "end"
   ]
  },
  {
   "cell_type": "markdown",
   "id": "28fa7e76-3402-475a-8ec1-a131b95935f2",
   "metadata": {},
   "source": [
    "---\n",
    "> P-054: 顧客データ（df_customer）の住所（address）は、埼玉県、千葉県、東京都、神奈川県のいずれかとなっている。都道府県毎にコード値を作成し、顧客ID、住所とともに10件表示せよ。値は埼玉県を11、千葉県を12、東京都を13、神奈川県を14とすること。"
   ]
  },
  {
   "cell_type": "code",
   "execution_count": 60,
   "id": "895e4905-1fde-42e9-bcee-6e0cbe16320e",
   "metadata": {},
   "outputs": [
    {
     "data": {
      "text/html": [
       "<div><div style = \"float: left;\"><span>10×3 DataFrame</span></div><div style = \"clear: both;\"></div></div><div class = \"data-frame\" style = \"overflow-x: scroll;\"><table class = \"data-frame\" style = \"margin-bottom: 6px;\"><thead><tr class = \"header\"><th class = \"rowNumber\" style = \"font-weight: bold; text-align: right;\">Row</th><th style = \"text-align: left;\">customer_id</th><th style = \"text-align: left;\">address</th><th style = \"text-align: left;\">address_cd</th></tr><tr class = \"subheader headerLastRow\"><th class = \"rowNumber\" style = \"font-weight: bold; text-align: right;\"></th><th title = \"Union{Missing, String}\" style = \"text-align: left;\">String?</th><th title = \"Union{Missing, String}\" style = \"text-align: left;\">String?</th><th title = \"Int64\" style = \"text-align: left;\">Int64</th></tr></thead><tbody><tr><td class = \"rowNumber\" style = \"font-weight: bold; text-align: right;\">1</td><td style = \"text-align: left;\">CS021313000114</td><td style = \"text-align: left;\">神奈川県伊勢原市粟窪**********</td><td style = \"text-align: right;\">14</td></tr><tr><td class = \"rowNumber\" style = \"font-weight: bold; text-align: right;\">2</td><td style = \"text-align: left;\">CS037613000071</td><td style = \"text-align: left;\">東京都江東区南砂**********</td><td style = \"text-align: right;\">13</td></tr><tr><td class = \"rowNumber\" style = \"font-weight: bold; text-align: right;\">3</td><td style = \"text-align: left;\">CS031415000172</td><td style = \"text-align: left;\">東京都渋谷区代々木**********</td><td style = \"text-align: right;\">13</td></tr><tr><td class = \"rowNumber\" style = \"font-weight: bold; text-align: right;\">4</td><td style = \"text-align: left;\">CS028811000001</td><td style = \"text-align: left;\">神奈川県横浜市泉区和泉町**********</td><td style = \"text-align: right;\">14</td></tr><tr><td class = \"rowNumber\" style = \"font-weight: bold; text-align: right;\">5</td><td style = \"text-align: left;\">CS001215000145</td><td style = \"text-align: left;\">東京都大田区仲六郷**********</td><td style = \"text-align: right;\">13</td></tr><tr><td class = \"rowNumber\" style = \"font-weight: bold; text-align: right;\">6</td><td style = \"text-align: left;\">CS020401000016</td><td style = \"text-align: left;\">東京都板橋区若木**********</td><td style = \"text-align: right;\">13</td></tr><tr><td class = \"rowNumber\" style = \"font-weight: bold; text-align: right;\">7</td><td style = \"text-align: left;\">CS015414000103</td><td style = \"text-align: left;\">東京都江東区北砂**********</td><td style = \"text-align: right;\">13</td></tr><tr><td class = \"rowNumber\" style = \"font-weight: bold; text-align: right;\">8</td><td style = \"text-align: left;\">CS029403000008</td><td style = \"text-align: left;\">千葉県浦安市海楽**********</td><td style = \"text-align: right;\">12</td></tr><tr><td class = \"rowNumber\" style = \"font-weight: bold; text-align: right;\">9</td><td style = \"text-align: left;\">CS015804000004</td><td style = \"text-align: left;\">東京都江東区北砂**********</td><td style = \"text-align: right;\">13</td></tr><tr><td class = \"rowNumber\" style = \"font-weight: bold; text-align: right;\">10</td><td style = \"text-align: left;\">CS033513000180</td><td style = \"text-align: left;\">神奈川県横浜市旭区善部町**********</td><td style = \"text-align: right;\">14</td></tr></tbody></table></div>"
      ],
      "text/latex": [
       "\\begin{tabular}{r|ccc}\n",
       "\t& customer\\_id & address & address\\_cd\\\\\n",
       "\t\\hline\n",
       "\t& String? & String? & Int64\\\\\n",
       "\t\\hline\n",
       "\t1 & CS021313000114 & 神奈川県伊勢原市粟窪********** & 14 \\\\\n",
       "\t2 & CS037613000071 & 東京都江東区南砂********** & 13 \\\\\n",
       "\t3 & CS031415000172 & 東京都渋谷区代々木********** & 13 \\\\\n",
       "\t4 & CS028811000001 & 神奈川県横浜市泉区和泉町********** & 14 \\\\\n",
       "\t5 & CS001215000145 & 東京都大田区仲六郷********** & 13 \\\\\n",
       "\t6 & CS020401000016 & 東京都板橋区若木********** & 13 \\\\\n",
       "\t7 & CS015414000103 & 東京都江東区北砂********** & 13 \\\\\n",
       "\t8 & CS029403000008 & 千葉県浦安市海楽********** & 12 \\\\\n",
       "\t9 & CS015804000004 & 東京都江東区北砂********** & 13 \\\\\n",
       "\t10 & CS033513000180 & 神奈川県横浜市旭区善部町********** & 14 \\\\\n",
       "\\end{tabular}\n"
      ],
      "text/plain": [
       "\u001b[1m10×3 DataFrame\u001b[0m\n",
       "\u001b[1m Row \u001b[0m│\u001b[1m customer_id    \u001b[0m\u001b[1m address                           \u001b[0m\u001b[1m address_cd \u001b[0m\n",
       "     │\u001b[90m String?        \u001b[0m\u001b[90m String?                           \u001b[0m\u001b[90m Int64      \u001b[0m\n",
       "─────┼───────────────────────────────────────────────────────────────\n",
       "   1 │ CS021313000114  神奈川県伊勢原市粟窪**********             14\n",
       "   2 │ CS037613000071  東京都江東区南砂**********                 13\n",
       "   3 │ CS031415000172  東京都渋谷区代々木**********               13\n",
       "   4 │ CS028811000001  神奈川県横浜市泉区和泉町********…          14\n",
       "   5 │ CS001215000145  東京都大田区仲六郷**********               13\n",
       "   6 │ CS020401000016  東京都板橋区若木**********                 13\n",
       "   7 │ CS015414000103  東京都江東区北砂**********                 13\n",
       "   8 │ CS029403000008  千葉県浦安市海楽**********                 12\n",
       "   9 │ CS015804000004  東京都江東区北砂**********                 13\n",
       "  10 │ CS033513000180  神奈川県横浜市旭区善部町********…          14"
      ]
     },
     "execution_count": 60,
     "metadata": {},
     "output_type": "execute_result"
    }
   ],
   "source": [
    "function make_address_cd(x::String)::Int\n",
    "    m = match(r\"(.+)[県都]\", x)\n",
    "    prefecture = m.captures[1]\n",
    "\n",
    "    if prefecture == \"埼玉\"\n",
    "        return 11\n",
    "    elseif prefecture == \"千葉\"\n",
    "        return 12\n",
    "    elseif prefecture == \"東京\"\n",
    "        return 13\n",
    "    else\n",
    "        return 14\n",
    "    end\n",
    "end\n",
    "\n",
    "@chain df_customer begin\n",
    "    @transform(:address_cd = make_address_cd.(:address))\n",
    "    select(:customer_id, :address, :address_cd)\n",
    "    first(10)\n",
    "end"
   ]
  },
  {
   "cell_type": "markdown",
   "id": "19faf827-7371-4b51-9087-097509843394",
   "metadata": {},
   "source": [
    "---\n",
    "> P-055: レシート明細（df_receipt）データの売上金額（amount）を顧客ID（customer_id）ごとに合計し、その合計金額の四分位点を求めよ。その上で、顧客ごとの売上金額合計に対して以下の基準でカテゴリ値を作成し、顧客ID、売上金額合計とともに10件表示せよ。カテゴリ値は順に1〜4とする。\n",
    ">\n",
    "> - 最小値以上第1四分位未満 ・・・ 1を付与\n",
    "> - 第1四分位以上第2四分位未満 ・・・ 2を付与\n",
    "> - 第2四分位以上第3四分位未満 ・・・ 3を付与\n",
    "> - 第3四分位以上 ・・・ 4を付与"
   ]
  },
  {
   "cell_type": "code",
   "execution_count": 61,
   "id": "c8fd7b80-e638-4682-a1ae-231844ce0491",
   "metadata": {},
   "outputs": [
    {
     "data": {
      "text/plain": [
       "3-element Vector{Float64}:\n",
       "  548.5\n",
       " 1478.0\n",
       " 3651.0"
      ]
     },
     "execution_count": 61,
     "metadata": {},
     "output_type": "execute_result"
    }
   ],
   "source": [
    "df_amount = @chain df_receipt begin\n",
    "    groupby(:customer_id)\n",
    "    combine(:amount => sum)\n",
    "end\n",
    "\n",
    "quantiles = quantile(df_amount.amount_sum, [1/4, 1/2, 3/4])"
   ]
  },
  {
   "cell_type": "code",
   "execution_count": 62,
   "id": "e87a3294",
   "metadata": {},
   "outputs": [
    {
     "data": {
      "text/html": [
       "<div><div style = \"float: left;\"><span>10×3 DataFrame</span></div><div style = \"clear: both;\"></div></div><div class = \"data-frame\" style = \"overflow-x: scroll;\"><table class = \"data-frame\" style = \"margin-bottom: 6px;\"><thead><tr class = \"header\"><th class = \"rowNumber\" style = \"font-weight: bold; text-align: right;\">Row</th><th style = \"text-align: left;\">customer_id</th><th style = \"text-align: left;\">amount_sum</th><th style = \"text-align: left;\">amount_category</th></tr><tr class = \"subheader headerLastRow\"><th class = \"rowNumber\" style = \"font-weight: bold; text-align: right;\"></th><th title = \"Union{Missing, String}\" style = \"text-align: left;\">String?</th><th title = \"Int64\" style = \"text-align: left;\">Int64</th><th title = \"Int8\" style = \"text-align: left;\">Int8</th></tr></thead><tbody><tr><td class = \"rowNumber\" style = \"font-weight: bold; text-align: right;\">1</td><td style = \"text-align: left;\">CS001113000004</td><td style = \"text-align: right;\">1298</td><td style = \"text-align: right;\">2</td></tr><tr><td class = \"rowNumber\" style = \"font-weight: bold; text-align: right;\">2</td><td style = \"text-align: left;\">CS001114000005</td><td style = \"text-align: right;\">626</td><td style = \"text-align: right;\">2</td></tr><tr><td class = \"rowNumber\" style = \"font-weight: bold; text-align: right;\">3</td><td style = \"text-align: left;\">CS001115000010</td><td style = \"text-align: right;\">3044</td><td style = \"text-align: right;\">3</td></tr><tr><td class = \"rowNumber\" style = \"font-weight: bold; text-align: right;\">4</td><td style = \"text-align: left;\">CS001205000004</td><td style = \"text-align: right;\">1988</td><td style = \"text-align: right;\">3</td></tr><tr><td class = \"rowNumber\" style = \"font-weight: bold; text-align: right;\">5</td><td style = \"text-align: left;\">CS001205000006</td><td style = \"text-align: right;\">3337</td><td style = \"text-align: right;\">3</td></tr><tr><td class = \"rowNumber\" style = \"font-weight: bold; text-align: right;\">6</td><td style = \"text-align: left;\">CS001211000025</td><td style = \"text-align: right;\">456</td><td style = \"text-align: right;\">1</td></tr><tr><td class = \"rowNumber\" style = \"font-weight: bold; text-align: right;\">7</td><td style = \"text-align: left;\">CS001212000027</td><td style = \"text-align: right;\">448</td><td style = \"text-align: right;\">1</td></tr><tr><td class = \"rowNumber\" style = \"font-weight: bold; text-align: right;\">8</td><td style = \"text-align: left;\">CS001212000031</td><td style = \"text-align: right;\">296</td><td style = \"text-align: right;\">1</td></tr><tr><td class = \"rowNumber\" style = \"font-weight: bold; text-align: right;\">9</td><td style = \"text-align: left;\">CS001212000046</td><td style = \"text-align: right;\">228</td><td style = \"text-align: right;\">1</td></tr><tr><td class = \"rowNumber\" style = \"font-weight: bold; text-align: right;\">10</td><td style = \"text-align: left;\">CS001212000070</td><td style = \"text-align: right;\">456</td><td style = \"text-align: right;\">1</td></tr></tbody></table></div>"
      ],
      "text/latex": [
       "\\begin{tabular}{r|ccc}\n",
       "\t& customer\\_id & amount\\_sum & amount\\_category\\\\\n",
       "\t\\hline\n",
       "\t& String? & Int64 & Int8\\\\\n",
       "\t\\hline\n",
       "\t1 & CS001113000004 & 1298 & 2 \\\\\n",
       "\t2 & CS001114000005 & 626 & 2 \\\\\n",
       "\t3 & CS001115000010 & 3044 & 3 \\\\\n",
       "\t4 & CS001205000004 & 1988 & 3 \\\\\n",
       "\t5 & CS001205000006 & 3337 & 3 \\\\\n",
       "\t6 & CS001211000025 & 456 & 1 \\\\\n",
       "\t7 & CS001212000027 & 448 & 1 \\\\\n",
       "\t8 & CS001212000031 & 296 & 1 \\\\\n",
       "\t9 & CS001212000046 & 228 & 1 \\\\\n",
       "\t10 & CS001212000070 & 456 & 1 \\\\\n",
       "\\end{tabular}\n"
      ],
      "text/plain": [
       "\u001b[1m10×3 DataFrame\u001b[0m\n",
       "\u001b[1m Row \u001b[0m│\u001b[1m customer_id    \u001b[0m\u001b[1m amount_sum \u001b[0m\u001b[1m amount_category \u001b[0m\n",
       "     │\u001b[90m String?        \u001b[0m\u001b[90m Int64      \u001b[0m\u001b[90m Int8            \u001b[0m\n",
       "─────┼─────────────────────────────────────────────\n",
       "   1 │ CS001113000004        1298                2\n",
       "   2 │ CS001114000005         626                2\n",
       "   3 │ CS001115000010        3044                3\n",
       "   4 │ CS001205000004        1988                3\n",
       "   5 │ CS001205000006        3337                3\n",
       "   6 │ CS001211000025         456                1\n",
       "   7 │ CS001212000027         448                1\n",
       "   8 │ CS001212000031         296                1\n",
       "   9 │ CS001212000046         228                1\n",
       "  10 │ CS001212000070         456                1"
      ]
     },
     "execution_count": 62,
     "metadata": {},
     "output_type": "execute_result"
    }
   ],
   "source": [
    "function categorize_quantile(x::Int, quantiles::Array)::Int8\n",
    "    for (idx, q) in enumerate(quantiles)\n",
    "        x < q && return idx\n",
    "    end\n",
    "\n",
    "    return length(quantiles) + 1\n",
    "end\n",
    "\n",
    "categorize_quantile(x::Int) = categorize_quantile(x, quantiles)\n",
    "\n",
    "@chain df_amount begin\n",
    "    @transform(:amount_category = categorize_quantile.(:amount_sum))\n",
    "    select(:customer_id, :amount_sum, :amount_category)\n",
    "    sort(:customer_id)\n",
    "    first(10)\n",
    "end"
   ]
  },
  {
   "cell_type": "markdown",
   "id": "12226a8c-08b6-4e80-aba4-55478c700bde",
   "metadata": {},
   "source": [
    "---\n",
    "> P-056: 顧客データ（df_customer）の年齢（age）をもとに10歳刻みで年代を算出し、顧客ID（customer_id）、生年月日（birth_day）とともに10件表示せよ。ただし、60歳以上は全て60歳代とすること。年代を表すカテゴリ名は任意とする。"
   ]
  },
  {
   "cell_type": "code",
   "execution_count": 73,
   "id": "2e40b10c-b566-4d52-aa77-1695e097d67e",
   "metadata": {},
   "outputs": [
    {
     "data": {
      "text/plain": [
       "categorize_age (generic function with 2 methods)"
      ]
     },
     "execution_count": 73,
     "metadata": {},
     "output_type": "execute_result"
    }
   ],
   "source": [
    "function categorize_age(x)::Int\n",
    "    if x >= 60\n",
    "        return 6\n",
    "    end\n",
    "    return x ÷ 10\n",
    "end"
   ]
  },
  {
   "cell_type": "code",
   "execution_count": 74,
   "id": "4939bad1-c9b9-4961-95b9-672034d43cb7",
   "metadata": {},
   "outputs": [
    {
     "data": {
      "text/html": [
       "<div><div style = \"float: left;\"><span>10×4 DataFrame</span></div><div style = \"clear: both;\"></div></div><div class = \"data-frame\" style = \"overflow-x: scroll;\"><table class = \"data-frame\" style = \"margin-bottom: 6px;\"><thead><tr class = \"header\"><th class = \"rowNumber\" style = \"font-weight: bold; text-align: right;\">Row</th><th style = \"text-align: left;\">customer_id</th><th style = \"text-align: left;\">birth_day</th><th style = \"text-align: left;\">category_era</th><th style = \"text-align: left;\">gender_cd</th></tr><tr class = \"subheader headerLastRow\"><th class = \"rowNumber\" style = \"font-weight: bold; text-align: right;\"></th><th title = \"Union{Missing, String}\" style = \"text-align: left;\">String?</th><th title = \"Union{Missing, Date}\" style = \"text-align: left;\">Date?</th><th title = \"Int64\" style = \"text-align: left;\">Int64</th><th title = \"Union{Missing, String}\" style = \"text-align: left;\">String?</th></tr></thead><tbody><tr><td class = \"rowNumber\" style = \"font-weight: bold; text-align: right;\">1</td><td style = \"text-align: left;\">CS021313000114</td><td style = \"text-align: left;\">1981-04-29</td><td style = \"text-align: right;\">3</td><td style = \"text-align: left;\">1</td></tr><tr><td class = \"rowNumber\" style = \"font-weight: bold; text-align: right;\">2</td><td style = \"text-align: left;\">CS037613000071</td><td style = \"text-align: left;\">1952-04-01</td><td style = \"text-align: right;\">6</td><td style = \"text-align: left;\">9</td></tr><tr><td class = \"rowNumber\" style = \"font-weight: bold; text-align: right;\">3</td><td style = \"text-align: left;\">CS031415000172</td><td style = \"text-align: left;\">1976-10-04</td><td style = \"text-align: right;\">4</td><td style = \"text-align: left;\">1</td></tr><tr><td class = \"rowNumber\" style = \"font-weight: bold; text-align: right;\">4</td><td style = \"text-align: left;\">CS028811000001</td><td style = \"text-align: left;\">1933-03-27</td><td style = \"text-align: right;\">6</td><td style = \"text-align: left;\">1</td></tr><tr><td class = \"rowNumber\" style = \"font-weight: bold; text-align: right;\">5</td><td style = \"text-align: left;\">CS001215000145</td><td style = \"text-align: left;\">1995-03-29</td><td style = \"text-align: right;\">2</td><td style = \"text-align: left;\">1</td></tr><tr><td class = \"rowNumber\" style = \"font-weight: bold; text-align: right;\">6</td><td style = \"text-align: left;\">CS020401000016</td><td style = \"text-align: left;\">1974-09-15</td><td style = \"text-align: right;\">4</td><td style = \"text-align: left;\">0</td></tr><tr><td class = \"rowNumber\" style = \"font-weight: bold; text-align: right;\">7</td><td style = \"text-align: left;\">CS015414000103</td><td style = \"text-align: left;\">1977-08-09</td><td style = \"text-align: right;\">4</td><td style = \"text-align: left;\">1</td></tr><tr><td class = \"rowNumber\" style = \"font-weight: bold; text-align: right;\">8</td><td style = \"text-align: left;\">CS029403000008</td><td style = \"text-align: left;\">1973-08-17</td><td style = \"text-align: right;\">4</td><td style = \"text-align: left;\">0</td></tr><tr><td class = \"rowNumber\" style = \"font-weight: bold; text-align: right;\">9</td><td style = \"text-align: left;\">CS015804000004</td><td style = \"text-align: left;\">1931-05-02</td><td style = \"text-align: right;\">6</td><td style = \"text-align: left;\">0</td></tr><tr><td class = \"rowNumber\" style = \"font-weight: bold; text-align: right;\">10</td><td style = \"text-align: left;\">CS033513000180</td><td style = \"text-align: left;\">1962-07-11</td><td style = \"text-align: right;\">5</td><td style = \"text-align: left;\">1</td></tr></tbody></table></div>"
      ],
      "text/latex": [
       "\\begin{tabular}{r|cccc}\n",
       "\t& customer\\_id & birth\\_day & category\\_era & gender\\_cd\\\\\n",
       "\t\\hline\n",
       "\t& String? & Date? & Int64 & String?\\\\\n",
       "\t\\hline\n",
       "\t1 & CS021313000114 & 1981-04-29 & 3 & 1 \\\\\n",
       "\t2 & CS037613000071 & 1952-04-01 & 6 & 9 \\\\\n",
       "\t3 & CS031415000172 & 1976-10-04 & 4 & 1 \\\\\n",
       "\t4 & CS028811000001 & 1933-03-27 & 6 & 1 \\\\\n",
       "\t5 & CS001215000145 & 1995-03-29 & 2 & 1 \\\\\n",
       "\t6 & CS020401000016 & 1974-09-15 & 4 & 0 \\\\\n",
       "\t7 & CS015414000103 & 1977-08-09 & 4 & 1 \\\\\n",
       "\t8 & CS029403000008 & 1973-08-17 & 4 & 0 \\\\\n",
       "\t9 & CS015804000004 & 1931-05-02 & 6 & 0 \\\\\n",
       "\t10 & CS033513000180 & 1962-07-11 & 5 & 1 \\\\\n",
       "\\end{tabular}\n"
      ],
      "text/plain": [
       "\u001b[1m10×4 DataFrame\u001b[0m\n",
       "\u001b[1m Row \u001b[0m│\u001b[1m customer_id    \u001b[0m\u001b[1m birth_day  \u001b[0m\u001b[1m category_era \u001b[0m\u001b[1m gender_cd \u001b[0m\n",
       "     │\u001b[90m String?        \u001b[0m\u001b[90m Date?      \u001b[0m\u001b[90m Int64        \u001b[0m\u001b[90m String?   \u001b[0m\n",
       "─────┼─────────────────────────────────────────────────────\n",
       "   1 │ CS021313000114  1981-04-29             3  1\n",
       "   2 │ CS037613000071  1952-04-01             6  9\n",
       "   3 │ CS031415000172  1976-10-04             4  1\n",
       "   4 │ CS028811000001  1933-03-27             6  1\n",
       "   5 │ CS001215000145  1995-03-29             2  1\n",
       "   6 │ CS020401000016  1974-09-15             4  0\n",
       "   7 │ CS015414000103  1977-08-09             4  1\n",
       "   8 │ CS029403000008  1973-08-17             4  0\n",
       "   9 │ CS015804000004  1931-05-02             6  0\n",
       "  10 │ CS033513000180  1962-07-11             5  1"
      ]
     },
     "execution_count": 74,
     "metadata": {},
     "output_type": "execute_result"
    }
   ],
   "source": [
    "df_customer_era = @chain df_customer begin\n",
    "    @transform(:category_era = categorize_age.(:age))\n",
    "    select(:customer_id, :birth_day, :category_era, :gender_cd)\n",
    "    first(10)\n",
    "end"
   ]
  },
  {
   "cell_type": "markdown",
   "id": "587e743b-1098-48e4-8236-8e988439aed5",
   "metadata": {},
   "source": [
    "---\n",
    "> P-057: 056の抽出結果と性別コード（gender_cd）により、新たに性別×年代の組み合わせを表すカテゴリデータを作成し、10件表示せよ。組み合わせを表すカテゴリの値は任意とする。"
   ]
  },
  {
   "cell_type": "code",
   "execution_count": 75,
   "id": "3b568da3-3edc-4d01-860f-026e8c0c3888",
   "metadata": {},
   "outputs": [
    {
     "data": {
      "text/html": [
       "<div><div style = \"float: left;\"><span>10×5 DataFrame</span></div><div style = \"clear: both;\"></div></div><div class = \"data-frame\" style = \"overflow-x: scroll;\"><table class = \"data-frame\" style = \"margin-bottom: 6px;\"><thead><tr class = \"header\"><th class = \"rowNumber\" style = \"font-weight: bold; text-align: right;\">Row</th><th style = \"text-align: left;\">customer_id</th><th style = \"text-align: left;\">birth_day</th><th style = \"text-align: left;\">category_era</th><th style = \"text-align: left;\">gender_cd</th><th style = \"text-align: left;\">category_era_gender</th></tr><tr class = \"subheader headerLastRow\"><th class = \"rowNumber\" style = \"font-weight: bold; text-align: right;\"></th><th title = \"Union{Missing, String}\" style = \"text-align: left;\">String?</th><th title = \"Union{Missing, Date}\" style = \"text-align: left;\">Date?</th><th title = \"Int64\" style = \"text-align: left;\">Int64</th><th title = \"Union{Missing, String}\" style = \"text-align: left;\">String?</th><th title = \"String\" style = \"text-align: left;\">String</th></tr></thead><tbody><tr><td class = \"rowNumber\" style = \"font-weight: bold; text-align: right;\">1</td><td style = \"text-align: left;\">CS021313000114</td><td style = \"text-align: left;\">1981-04-29</td><td style = \"text-align: right;\">3</td><td style = \"text-align: left;\">1</td><td style = \"text-align: left;\">3_1</td></tr><tr><td class = \"rowNumber\" style = \"font-weight: bold; text-align: right;\">2</td><td style = \"text-align: left;\">CS037613000071</td><td style = \"text-align: left;\">1952-04-01</td><td style = \"text-align: right;\">6</td><td style = \"text-align: left;\">9</td><td style = \"text-align: left;\">6_9</td></tr><tr><td class = \"rowNumber\" style = \"font-weight: bold; text-align: right;\">3</td><td style = \"text-align: left;\">CS031415000172</td><td style = \"text-align: left;\">1976-10-04</td><td style = \"text-align: right;\">4</td><td style = \"text-align: left;\">1</td><td style = \"text-align: left;\">4_1</td></tr><tr><td class = \"rowNumber\" style = \"font-weight: bold; text-align: right;\">4</td><td style = \"text-align: left;\">CS028811000001</td><td style = \"text-align: left;\">1933-03-27</td><td style = \"text-align: right;\">6</td><td style = \"text-align: left;\">1</td><td style = \"text-align: left;\">6_1</td></tr><tr><td class = \"rowNumber\" style = \"font-weight: bold; text-align: right;\">5</td><td style = \"text-align: left;\">CS001215000145</td><td style = \"text-align: left;\">1995-03-29</td><td style = \"text-align: right;\">2</td><td style = \"text-align: left;\">1</td><td style = \"text-align: left;\">2_1</td></tr><tr><td class = \"rowNumber\" style = \"font-weight: bold; text-align: right;\">6</td><td style = \"text-align: left;\">CS020401000016</td><td style = \"text-align: left;\">1974-09-15</td><td style = \"text-align: right;\">4</td><td style = \"text-align: left;\">0</td><td style = \"text-align: left;\">4_0</td></tr><tr><td class = \"rowNumber\" style = \"font-weight: bold; text-align: right;\">7</td><td style = \"text-align: left;\">CS015414000103</td><td style = \"text-align: left;\">1977-08-09</td><td style = \"text-align: right;\">4</td><td style = \"text-align: left;\">1</td><td style = \"text-align: left;\">4_1</td></tr><tr><td class = \"rowNumber\" style = \"font-weight: bold; text-align: right;\">8</td><td style = \"text-align: left;\">CS029403000008</td><td style = \"text-align: left;\">1973-08-17</td><td style = \"text-align: right;\">4</td><td style = \"text-align: left;\">0</td><td style = \"text-align: left;\">4_0</td></tr><tr><td class = \"rowNumber\" style = \"font-weight: bold; text-align: right;\">9</td><td style = \"text-align: left;\">CS015804000004</td><td style = \"text-align: left;\">1931-05-02</td><td style = \"text-align: right;\">6</td><td style = \"text-align: left;\">0</td><td style = \"text-align: left;\">6_0</td></tr><tr><td class = \"rowNumber\" style = \"font-weight: bold; text-align: right;\">10</td><td style = \"text-align: left;\">CS033513000180</td><td style = \"text-align: left;\">1962-07-11</td><td style = \"text-align: right;\">5</td><td style = \"text-align: left;\">1</td><td style = \"text-align: left;\">5_1</td></tr></tbody></table></div>"
      ],
      "text/latex": [
       "\\begin{tabular}{r|ccccc}\n",
       "\t& customer\\_id & birth\\_day & category\\_era & gender\\_cd & category\\_era\\_gender\\\\\n",
       "\t\\hline\n",
       "\t& String? & Date? & Int64 & String? & String\\\\\n",
       "\t\\hline\n",
       "\t1 & CS021313000114 & 1981-04-29 & 3 & 1 & 3\\_1 \\\\\n",
       "\t2 & CS037613000071 & 1952-04-01 & 6 & 9 & 6\\_9 \\\\\n",
       "\t3 & CS031415000172 & 1976-10-04 & 4 & 1 & 4\\_1 \\\\\n",
       "\t4 & CS028811000001 & 1933-03-27 & 6 & 1 & 6\\_1 \\\\\n",
       "\t5 & CS001215000145 & 1995-03-29 & 2 & 1 & 2\\_1 \\\\\n",
       "\t6 & CS020401000016 & 1974-09-15 & 4 & 0 & 4\\_0 \\\\\n",
       "\t7 & CS015414000103 & 1977-08-09 & 4 & 1 & 4\\_1 \\\\\n",
       "\t8 & CS029403000008 & 1973-08-17 & 4 & 0 & 4\\_0 \\\\\n",
       "\t9 & CS015804000004 & 1931-05-02 & 6 & 0 & 6\\_0 \\\\\n",
       "\t10 & CS033513000180 & 1962-07-11 & 5 & 1 & 5\\_1 \\\\\n",
       "\\end{tabular}\n"
      ],
      "text/plain": [
       "\u001b[1m10×5 DataFrame\u001b[0m\n",
       "\u001b[1m Row \u001b[0m│\u001b[1m customer_id    \u001b[0m\u001b[1m birth_day  \u001b[0m\u001b[1m category_era \u001b[0m\u001b[1m gender_cd \u001b[0m\u001b[1m category_era_gende\u001b[0m ⋯\n",
       "     │\u001b[90m String?        \u001b[0m\u001b[90m Date?      \u001b[0m\u001b[90m Int64        \u001b[0m\u001b[90m String?   \u001b[0m\u001b[90m String            \u001b[0m ⋯\n",
       "─────┼──────────────────────────────────────────────────────────────────────────\n",
       "   1 │ CS021313000114  1981-04-29             3  1          3_1                ⋯\n",
       "   2 │ CS037613000071  1952-04-01             6  9          6_9\n",
       "   3 │ CS031415000172  1976-10-04             4  1          4_1\n",
       "   4 │ CS028811000001  1933-03-27             6  1          6_1\n",
       "   5 │ CS001215000145  1995-03-29             2  1          2_1                ⋯\n",
       "   6 │ CS020401000016  1974-09-15             4  0          4_0\n",
       "   7 │ CS015414000103  1977-08-09             4  1          4_1\n",
       "   8 │ CS029403000008  1973-08-17             4  0          4_0\n",
       "   9 │ CS015804000004  1931-05-02             6  0          6_0                ⋯\n",
       "  10 │ CS033513000180  1962-07-11             5  1          5_1\n",
       "\u001b[36m                                                                1 column omitted\u001b[0m"
      ]
     },
     "execution_count": 75,
     "metadata": {},
     "output_type": "execute_result"
    }
   ],
   "source": [
    "@chain df_customer_era begin\n",
    "    @transform(:category_era_gender = string.(:category_era, \"_\", :gender_cd))\n",
    "    first(10)\n",
    "end"
   ]
  },
  {
   "cell_type": "markdown",
   "id": "056176a8-5b2f-4c16-ba38-ee04c1aacbc8",
   "metadata": {},
   "source": [
    "---\n",
    "> P-058: 顧客データ（df_customer）の性別コード（gender_cd）をダミー変数化し、顧客ID（customer_id）とともに10件表示せよ。"
   ]
  },
  {
   "cell_type": "code",
   "execution_count": 76,
   "id": "a41f181f-7620-4fb9-abdc-3fd5e6797930",
   "metadata": {},
   "outputs": [
    {
     "data": {
      "text/html": [
       "<div><div style = \"float: left;\"><span>10×5 DataFrame</span></div><div style = \"clear: both;\"></div></div><div class = \"data-frame\" style = \"overflow-x: scroll;\"><table class = \"data-frame\" style = \"margin-bottom: 6px;\"><thead><tr class = \"header\"><th class = \"rowNumber\" style = \"font-weight: bold; text-align: right;\">Row</th><th style = \"text-align: left;\">customer_id</th><th style = \"text-align: left;\">gender_cd</th><th style = \"text-align: left;\">gender_cd_dummy_1</th><th style = \"text-align: left;\">gender_cd_dummy_9</th><th style = \"text-align: left;\">gender_cd_dummy_0</th></tr><tr class = \"subheader headerLastRow\"><th class = \"rowNumber\" style = \"font-weight: bold; text-align: right;\"></th><th title = \"Union{Missing, String}\" style = \"text-align: left;\">String?</th><th title = \"Union{Missing, String}\" style = \"text-align: left;\">String?</th><th title = \"Int64\" style = \"text-align: left;\">Int64</th><th title = \"Int64\" style = \"text-align: left;\">Int64</th><th title = \"Int64\" style = \"text-align: left;\">Int64</th></tr></thead><tbody><tr><td class = \"rowNumber\" style = \"font-weight: bold; text-align: right;\">1</td><td style = \"text-align: left;\">CS001105000001</td><td style = \"text-align: left;\">0</td><td style = \"text-align: right;\">0</td><td style = \"text-align: right;\">0</td><td style = \"text-align: right;\">1</td></tr><tr><td class = \"rowNumber\" style = \"font-weight: bold; text-align: right;\">2</td><td style = \"text-align: left;\">CS001112000009</td><td style = \"text-align: left;\">1</td><td style = \"text-align: right;\">1</td><td style = \"text-align: right;\">0</td><td style = \"text-align: right;\">0</td></tr><tr><td class = \"rowNumber\" style = \"font-weight: bold; text-align: right;\">3</td><td style = \"text-align: left;\">CS001112000019</td><td style = \"text-align: left;\">1</td><td style = \"text-align: right;\">1</td><td style = \"text-align: right;\">0</td><td style = \"text-align: right;\">0</td></tr><tr><td class = \"rowNumber\" style = \"font-weight: bold; text-align: right;\">4</td><td style = \"text-align: left;\">CS001112000021</td><td style = \"text-align: left;\">1</td><td style = \"text-align: right;\">1</td><td style = \"text-align: right;\">0</td><td style = \"text-align: right;\">0</td></tr><tr><td class = \"rowNumber\" style = \"font-weight: bold; text-align: right;\">5</td><td style = \"text-align: left;\">CS001112000023</td><td style = \"text-align: left;\">1</td><td style = \"text-align: right;\">1</td><td style = \"text-align: right;\">0</td><td style = \"text-align: right;\">0</td></tr><tr><td class = \"rowNumber\" style = \"font-weight: bold; text-align: right;\">6</td><td style = \"text-align: left;\">CS001112000024</td><td style = \"text-align: left;\">1</td><td style = \"text-align: right;\">1</td><td style = \"text-align: right;\">0</td><td style = \"text-align: right;\">0</td></tr><tr><td class = \"rowNumber\" style = \"font-weight: bold; text-align: right;\">7</td><td style = \"text-align: left;\">CS001112000029</td><td style = \"text-align: left;\">1</td><td style = \"text-align: right;\">1</td><td style = \"text-align: right;\">0</td><td style = \"text-align: right;\">0</td></tr><tr><td class = \"rowNumber\" style = \"font-weight: bold; text-align: right;\">8</td><td style = \"text-align: left;\">CS001112000030</td><td style = \"text-align: left;\">1</td><td style = \"text-align: right;\">1</td><td style = \"text-align: right;\">0</td><td style = \"text-align: right;\">0</td></tr><tr><td class = \"rowNumber\" style = \"font-weight: bold; text-align: right;\">9</td><td style = \"text-align: left;\">CS001113000004</td><td style = \"text-align: left;\">1</td><td style = \"text-align: right;\">1</td><td style = \"text-align: right;\">0</td><td style = \"text-align: right;\">0</td></tr><tr><td class = \"rowNumber\" style = \"font-weight: bold; text-align: right;\">10</td><td style = \"text-align: left;\">CS001113000010</td><td style = \"text-align: left;\">1</td><td style = \"text-align: right;\">1</td><td style = \"text-align: right;\">0</td><td style = \"text-align: right;\">0</td></tr></tbody></table></div>"
      ],
      "text/latex": [
       "\\begin{tabular}{r|ccccc}\n",
       "\t& customer\\_id & gender\\_cd & gender\\_cd\\_dummy\\_1 & gender\\_cd\\_dummy\\_9 & gender\\_cd\\_dummy\\_0\\\\\n",
       "\t\\hline\n",
       "\t& String? & String? & Int64 & Int64 & Int64\\\\\n",
       "\t\\hline\n",
       "\t1 & CS001105000001 & 0 & 0 & 0 & 1 \\\\\n",
       "\t2 & CS001112000009 & 1 & 1 & 0 & 0 \\\\\n",
       "\t3 & CS001112000019 & 1 & 1 & 0 & 0 \\\\\n",
       "\t4 & CS001112000021 & 1 & 1 & 0 & 0 \\\\\n",
       "\t5 & CS001112000023 & 1 & 1 & 0 & 0 \\\\\n",
       "\t6 & CS001112000024 & 1 & 1 & 0 & 0 \\\\\n",
       "\t7 & CS001112000029 & 1 & 1 & 0 & 0 \\\\\n",
       "\t8 & CS001112000030 & 1 & 1 & 0 & 0 \\\\\n",
       "\t9 & CS001113000004 & 1 & 1 & 0 & 0 \\\\\n",
       "\t10 & CS001113000010 & 1 & 1 & 0 & 0 \\\\\n",
       "\\end{tabular}\n"
      ],
      "text/plain": [
       "\u001b[1m10×5 DataFrame\u001b[0m\n",
       "\u001b[1m Row \u001b[0m│\u001b[1m customer_id    \u001b[0m\u001b[1m gender_cd \u001b[0m\u001b[1m gender_cd_dummy_1 \u001b[0m\u001b[1m gender_cd_dummy_9 \u001b[0m\u001b[1m gender\u001b[0m ⋯\n",
       "     │\u001b[90m String?        \u001b[0m\u001b[90m String?   \u001b[0m\u001b[90m Int64             \u001b[0m\u001b[90m Int64             \u001b[0m\u001b[90m Int64 \u001b[0m ⋯\n",
       "─────┼──────────────────────────────────────────────────────────────────────────\n",
       "   1 │ CS001105000001  0                          0                  0         ⋯\n",
       "   2 │ CS001112000009  1                          1                  0\n",
       "   3 │ CS001112000019  1                          1                  0\n",
       "   4 │ CS001112000021  1                          1                  0\n",
       "   5 │ CS001112000023  1                          1                  0         ⋯\n",
       "   6 │ CS001112000024  1                          1                  0\n",
       "   7 │ CS001112000029  1                          1                  0\n",
       "   8 │ CS001112000030  1                          1                  0\n",
       "   9 │ CS001113000004  1                          1                  0         ⋯\n",
       "  10 │ CS001113000010  1                          1                  0\n",
       "\u001b[36m                                                                1 column omitted\u001b[0m"
      ]
     },
     "execution_count": 76,
     "metadata": {},
     "output_type": "execute_result"
    }
   ],
   "source": [
    "lst_gender_cd = unique(df_customer.gender_cd)\n",
    "\n",
    "df_customer_with_gender_dummy = @chain df_customer begin\n",
    "    select(:customer_id, :gender_cd)\n",
    "    sort(:customer_id)\n",
    "end\n",
    "\n",
    "for g_c in lst_gender_cd\n",
    "    df_customer_with_gender_dummy[!, string(\"gender_cd_dummy_\", g_c)] = Int.(df_customer_with_gender_dummy.gender_cd .== g_c)\n",
    "end\n",
    "\n",
    "first(df_customer_with_gender_dummy, 10)"
   ]
  },
  {
   "cell_type": "markdown",
   "id": "6bbf353d-8963-447c-8b6f-b4483cd692e9",
   "metadata": {},
   "source": [
    "---\n",
    "> P-059: レシート明細データ（df_receipt）の売上金額（amount）を顧客ID（customer_id）ごとに合計し、売上金額合計を平均0、標準偏差1に標準化して顧客ID、売上金額合計とともに10件表示せよ。標準化に使用する標準偏差は、分散の平方根、もしくは不偏分散の平方根のどちらでも良いものとする。ただし、顧客IDが\"Z\"から始まるのものは非会員を表すため、除外して計算すること。"
   ]
  },
  {
   "cell_type": "code",
   "execution_count": 77,
   "id": "ce059a2b-0619-4096-9de9-d0b17e060030",
   "metadata": {},
   "outputs": [
    {
     "data": {
      "text/html": [
       "<div><div style = \"float: left;\"><span>10×3 DataFrame</span></div><div style = \"clear: both;\"></div></div><div class = \"data-frame\" style = \"overflow-x: scroll;\"><table class = \"data-frame\" style = \"margin-bottom: 6px;\"><thead><tr class = \"header\"><th class = \"rowNumber\" style = \"font-weight: bold; text-align: right;\">Row</th><th style = \"text-align: left;\">customer_id</th><th style = \"text-align: left;\">amount_sum</th><th style = \"text-align: left;\">amount_normalized</th></tr><tr class = \"subheader headerLastRow\"><th class = \"rowNumber\" style = \"font-weight: bold; text-align: right;\"></th><th title = \"Union{Missing, String}\" style = \"text-align: left;\">String?</th><th title = \"Int64\" style = \"text-align: left;\">Int64</th><th title = \"Float64\" style = \"text-align: left;\">Float64</th></tr></thead><tbody><tr><td class = \"rowNumber\" style = \"font-weight: bold; text-align: right;\">1</td><td style = \"text-align: left;\">CS001113000004</td><td style = \"text-align: right;\">1298</td><td style = \"text-align: right;\">-0.45935</td></tr><tr><td class = \"rowNumber\" style = \"font-weight: bold; text-align: right;\">2</td><td style = \"text-align: left;\">CS001114000005</td><td style = \"text-align: right;\">626</td><td style = \"text-align: right;\">-0.706348</td></tr><tr><td class = \"rowNumber\" style = \"font-weight: bold; text-align: right;\">3</td><td style = \"text-align: left;\">CS001115000010</td><td style = \"text-align: right;\">3044</td><td style = \"text-align: right;\">0.182403</td></tr><tr><td class = \"rowNumber\" style = \"font-weight: bold; text-align: right;\">4</td><td style = \"text-align: left;\">CS001205000004</td><td style = \"text-align: right;\">1988</td><td style = \"text-align: right;\">-0.205737</td></tr><tr><td class = \"rowNumber\" style = \"font-weight: bold; text-align: right;\">5</td><td style = \"text-align: left;\">CS001205000006</td><td style = \"text-align: right;\">3337</td><td style = \"text-align: right;\">0.290096</td></tr><tr><td class = \"rowNumber\" style = \"font-weight: bold; text-align: right;\">6</td><td style = \"text-align: left;\">CS001211000025</td><td style = \"text-align: right;\">456</td><td style = \"text-align: right;\">-0.768832</td></tr><tr><td class = \"rowNumber\" style = \"font-weight: bold; text-align: right;\">7</td><td style = \"text-align: left;\">CS001212000027</td><td style = \"text-align: right;\">448</td><td style = \"text-align: right;\">-0.771773</td></tr><tr><td class = \"rowNumber\" style = \"font-weight: bold; text-align: right;\">8</td><td style = \"text-align: left;\">CS001212000031</td><td style = \"text-align: right;\">296</td><td style = \"text-align: right;\">-0.827641</td></tr><tr><td class = \"rowNumber\" style = \"font-weight: bold; text-align: right;\">9</td><td style = \"text-align: left;\">CS001212000046</td><td style = \"text-align: right;\">228</td><td style = \"text-align: right;\">-0.852635</td></tr><tr><td class = \"rowNumber\" style = \"font-weight: bold; text-align: right;\">10</td><td style = \"text-align: left;\">CS001212000070</td><td style = \"text-align: right;\">456</td><td style = \"text-align: right;\">-0.768832</td></tr></tbody></table></div>"
      ],
      "text/latex": [
       "\\begin{tabular}{r|ccc}\n",
       "\t& customer\\_id & amount\\_sum & amount\\_normalized\\\\\n",
       "\t\\hline\n",
       "\t& String? & Int64 & Float64\\\\\n",
       "\t\\hline\n",
       "\t1 & CS001113000004 & 1298 & -0.45935 \\\\\n",
       "\t2 & CS001114000005 & 626 & -0.706348 \\\\\n",
       "\t3 & CS001115000010 & 3044 & 0.182403 \\\\\n",
       "\t4 & CS001205000004 & 1988 & -0.205737 \\\\\n",
       "\t5 & CS001205000006 & 3337 & 0.290096 \\\\\n",
       "\t6 & CS001211000025 & 456 & -0.768832 \\\\\n",
       "\t7 & CS001212000027 & 448 & -0.771773 \\\\\n",
       "\t8 & CS001212000031 & 296 & -0.827641 \\\\\n",
       "\t9 & CS001212000046 & 228 & -0.852635 \\\\\n",
       "\t10 & CS001212000070 & 456 & -0.768832 \\\\\n",
       "\\end{tabular}\n"
      ],
      "text/plain": [
       "\u001b[1m10×3 DataFrame\u001b[0m\n",
       "\u001b[1m Row \u001b[0m│\u001b[1m customer_id    \u001b[0m\u001b[1m amount_sum \u001b[0m\u001b[1m amount_normalized \u001b[0m\n",
       "     │\u001b[90m String?        \u001b[0m\u001b[90m Int64      \u001b[0m\u001b[90m Float64           \u001b[0m\n",
       "─────┼───────────────────────────────────────────────\n",
       "   1 │ CS001113000004        1298          -0.45935\n",
       "   2 │ CS001114000005         626          -0.706348\n",
       "   3 │ CS001115000010        3044           0.182403\n",
       "   4 │ CS001205000004        1988          -0.205737\n",
       "   5 │ CS001205000006        3337           0.290096\n",
       "   6 │ CS001211000025         456          -0.768832\n",
       "   7 │ CS001212000027         448          -0.771773\n",
       "   8 │ CS001212000031         296          -0.827641\n",
       "   9 │ CS001212000046         228          -0.852635\n",
       "  10 │ CS001212000070         456          -0.768832"
      ]
     },
     "execution_count": 77,
     "metadata": {},
     "output_type": "execute_result"
    }
   ],
   "source": [
    "@chain df_receipt begin\n",
    "    @subset(.!startswith.(:customer_id, \"Z\"))\n",
    "    groupby(:customer_id)\n",
    "    combine(:amount => sum)\n",
    "    @transform(:amount_normalized = (:amount_sum .- mean(:amount_sum)) ./ std(:amount_sum))\n",
    "    # @transform(:amount_normalized = zscore(:amount_sum)) # 別解\n",
    "    sort(:customer_id)\n",
    "    first(10)\n",
    "end"
   ]
  },
  {
   "cell_type": "markdown",
   "id": "d325d620-6fcb-4e9a-95f0-561fb69f8eaf",
   "metadata": {},
   "source": [
    "---\n",
    "> P-060: レシート明細データ（df_receipt）の売上金額（amount）を顧客ID（customer_id）ごとに合計し、売上金額合計を最小値0、最大値1に正規化して顧客ID、売上金額合計とともに10件表示せよ。ただし、顧客IDが\"Z\"から始まるのものは非会員を表すため、除外して計算すること。"
   ]
  },
  {
   "cell_type": "code",
   "execution_count": 78,
   "id": "96c68b37-0e21-488c-a5bc-71e47c5a9179",
   "metadata": {},
   "outputs": [
    {
     "data": {
      "text/html": [
       "<div><div style = \"float: left;\"><span>10×3 DataFrame</span></div><div style = \"clear: both;\"></div></div><div class = \"data-frame\" style = \"overflow-x: scroll;\"><table class = \"data-frame\" style = \"margin-bottom: 6px;\"><thead><tr class = \"header\"><th class = \"rowNumber\" style = \"font-weight: bold; text-align: right;\">Row</th><th style = \"text-align: left;\">customer_id</th><th style = \"text-align: left;\">amount_sum</th><th style = \"text-align: left;\">amount_spaned</th></tr><tr class = \"subheader headerLastRow\"><th class = \"rowNumber\" style = \"font-weight: bold; text-align: right;\"></th><th title = \"Union{Missing, String}\" style = \"text-align: left;\">String?</th><th title = \"Int64\" style = \"text-align: left;\">Int64</th><th title = \"Float64\" style = \"text-align: left;\">Float64</th></tr></thead><tbody><tr><td class = \"rowNumber\" style = \"font-weight: bold; text-align: right;\">1</td><td style = \"text-align: left;\">CS001113000004</td><td style = \"text-align: right;\">1298</td><td style = \"text-align: right;\">0.0533542</td></tr><tr><td class = \"rowNumber\" style = \"font-weight: bold; text-align: right;\">2</td><td style = \"text-align: left;\">CS001114000005</td><td style = \"text-align: right;\">626</td><td style = \"text-align: right;\">0.0241571</td></tr><tr><td class = \"rowNumber\" style = \"font-weight: bold; text-align: right;\">3</td><td style = \"text-align: left;\">CS001115000010</td><td style = \"text-align: right;\">3044</td><td style = \"text-align: right;\">0.129214</td></tr><tr><td class = \"rowNumber\" style = \"font-weight: bold; text-align: right;\">4</td><td style = \"text-align: left;\">CS001205000004</td><td style = \"text-align: right;\">1988</td><td style = \"text-align: right;\">0.0833333</td></tr><tr><td class = \"rowNumber\" style = \"font-weight: bold; text-align: right;\">5</td><td style = \"text-align: left;\">CS001205000006</td><td style = \"text-align: right;\">3337</td><td style = \"text-align: right;\">0.141945</td></tr><tr><td class = \"rowNumber\" style = \"font-weight: bold; text-align: right;\">6</td><td style = \"text-align: left;\">CS001211000025</td><td style = \"text-align: right;\">456</td><td style = \"text-align: right;\">0.0167709</td></tr><tr><td class = \"rowNumber\" style = \"font-weight: bold; text-align: right;\">7</td><td style = \"text-align: left;\">CS001212000027</td><td style = \"text-align: right;\">448</td><td style = \"text-align: right;\">0.0164234</td></tr><tr><td class = \"rowNumber\" style = \"font-weight: bold; text-align: right;\">8</td><td style = \"text-align: left;\">CS001212000031</td><td style = \"text-align: right;\">296</td><td style = \"text-align: right;\">0.00981926</td></tr><tr><td class = \"rowNumber\" style = \"font-weight: bold; text-align: right;\">9</td><td style = \"text-align: left;\">CS001212000046</td><td style = \"text-align: right;\">228</td><td style = \"text-align: right;\">0.00686479</td></tr><tr><td class = \"rowNumber\" style = \"font-weight: bold; text-align: right;\">10</td><td style = \"text-align: left;\">CS001212000070</td><td style = \"text-align: right;\">456</td><td style = \"text-align: right;\">0.0167709</td></tr></tbody></table></div>"
      ],
      "text/latex": [
       "\\begin{tabular}{r|ccc}\n",
       "\t& customer\\_id & amount\\_sum & amount\\_spaned\\\\\n",
       "\t\\hline\n",
       "\t& String? & Int64 & Float64\\\\\n",
       "\t\\hline\n",
       "\t1 & CS001113000004 & 1298 & 0.0533542 \\\\\n",
       "\t2 & CS001114000005 & 626 & 0.0241571 \\\\\n",
       "\t3 & CS001115000010 & 3044 & 0.129214 \\\\\n",
       "\t4 & CS001205000004 & 1988 & 0.0833333 \\\\\n",
       "\t5 & CS001205000006 & 3337 & 0.141945 \\\\\n",
       "\t6 & CS001211000025 & 456 & 0.0167709 \\\\\n",
       "\t7 & CS001212000027 & 448 & 0.0164234 \\\\\n",
       "\t8 & CS001212000031 & 296 & 0.00981926 \\\\\n",
       "\t9 & CS001212000046 & 228 & 0.00686479 \\\\\n",
       "\t10 & CS001212000070 & 456 & 0.0167709 \\\\\n",
       "\\end{tabular}\n"
      ],
      "text/plain": [
       "\u001b[1m10×3 DataFrame\u001b[0m\n",
       "\u001b[1m Row \u001b[0m│\u001b[1m customer_id    \u001b[0m\u001b[1m amount_sum \u001b[0m\u001b[1m amount_spaned \u001b[0m\n",
       "     │\u001b[90m String?        \u001b[0m\u001b[90m Int64      \u001b[0m\u001b[90m Float64       \u001b[0m\n",
       "─────┼───────────────────────────────────────────\n",
       "   1 │ CS001113000004        1298     0.0533542\n",
       "   2 │ CS001114000005         626     0.0241571\n",
       "   3 │ CS001115000010        3044     0.129214\n",
       "   4 │ CS001205000004        1988     0.0833333\n",
       "   5 │ CS001205000006        3337     0.141945\n",
       "   6 │ CS001211000025         456     0.0167709\n",
       "   7 │ CS001212000027         448     0.0164234\n",
       "   8 │ CS001212000031         296     0.00981926\n",
       "   9 │ CS001212000046         228     0.00686479\n",
       "  10 │ CS001212000070         456     0.0167709"
      ]
     },
     "execution_count": 78,
     "metadata": {},
     "output_type": "execute_result"
    }
   ],
   "source": [
    "@chain df_receipt begin\n",
    "    @subset(.!startswith.(:customer_id, \"Z\"))\n",
    "    groupby(:customer_id)\n",
    "    combine(:amount => sum)\n",
    "    @transform(:amount_spaned = (:amount_sum .- minimum(:amount_sum)) ./ (maximum(:amount_sum) - minimum(:amount_sum)))\n",
    "    sort(:customer_id)\n",
    "    first(10)\n",
    "end"
   ]
  },
  {
   "cell_type": "markdown",
   "id": "6c1b5a3e-6508-4322-8a02-9beff69e10e9",
   "metadata": {},
   "source": [
    "---\n",
    "> P-061: レシート明細データ（df_receipt）の売上金額（amount）を顧客ID（customer_id）ごとに合計し、売上金額合計を常用対数化（底10）して顧客ID、売上金額合計とともに10件表示せよ。ただし、顧客IDが\"Z\"から始まるのものは非会員を表すため、除外して計算すること。"
   ]
  },
  {
   "cell_type": "code",
   "execution_count": 79,
   "id": "465371d3-3caf-487c-b747-52541c3edc6d",
   "metadata": {},
   "outputs": [
    {
     "data": {
      "text/html": [
       "<div><div style = \"float: left;\"><span>10×3 DataFrame</span></div><div style = \"clear: both;\"></div></div><div class = \"data-frame\" style = \"overflow-x: scroll;\"><table class = \"data-frame\" style = \"margin-bottom: 6px;\"><thead><tr class = \"header\"><th class = \"rowNumber\" style = \"font-weight: bold; text-align: right;\">Row</th><th style = \"text-align: left;\">customer_id</th><th style = \"text-align: left;\">amount_sum</th><th style = \"text-align: left;\">amount_sum_log</th></tr><tr class = \"subheader headerLastRow\"><th class = \"rowNumber\" style = \"font-weight: bold; text-align: right;\"></th><th title = \"Union{Missing, String}\" style = \"text-align: left;\">String?</th><th title = \"Int64\" style = \"text-align: left;\">Int64</th><th title = \"Float64\" style = \"text-align: left;\">Float64</th></tr></thead><tbody><tr><td class = \"rowNumber\" style = \"font-weight: bold; text-align: right;\">1</td><td style = \"text-align: left;\">CS001113000004</td><td style = \"text-align: right;\">1298</td><td style = \"text-align: right;\">3.11327</td></tr><tr><td class = \"rowNumber\" style = \"font-weight: bold; text-align: right;\">2</td><td style = \"text-align: left;\">CS001114000005</td><td style = \"text-align: right;\">626</td><td style = \"text-align: right;\">2.79657</td></tr><tr><td class = \"rowNumber\" style = \"font-weight: bold; text-align: right;\">3</td><td style = \"text-align: left;\">CS001115000010</td><td style = \"text-align: right;\">3044</td><td style = \"text-align: right;\">3.48344</td></tr><tr><td class = \"rowNumber\" style = \"font-weight: bold; text-align: right;\">4</td><td style = \"text-align: left;\">CS001205000004</td><td style = \"text-align: right;\">1988</td><td style = \"text-align: right;\">3.29842</td></tr><tr><td class = \"rowNumber\" style = \"font-weight: bold; text-align: right;\">5</td><td style = \"text-align: left;\">CS001205000006</td><td style = \"text-align: right;\">3337</td><td style = \"text-align: right;\">3.52336</td></tr><tr><td class = \"rowNumber\" style = \"font-weight: bold; text-align: right;\">6</td><td style = \"text-align: left;\">CS001211000025</td><td style = \"text-align: right;\">456</td><td style = \"text-align: right;\">2.65896</td></tr><tr><td class = \"rowNumber\" style = \"font-weight: bold; text-align: right;\">7</td><td style = \"text-align: left;\">CS001212000027</td><td style = \"text-align: right;\">448</td><td style = \"text-align: right;\">2.65128</td></tr><tr><td class = \"rowNumber\" style = \"font-weight: bold; text-align: right;\">8</td><td style = \"text-align: left;\">CS001212000031</td><td style = \"text-align: right;\">296</td><td style = \"text-align: right;\">2.47129</td></tr><tr><td class = \"rowNumber\" style = \"font-weight: bold; text-align: right;\">9</td><td style = \"text-align: left;\">CS001212000046</td><td style = \"text-align: right;\">228</td><td style = \"text-align: right;\">2.35793</td></tr><tr><td class = \"rowNumber\" style = \"font-weight: bold; text-align: right;\">10</td><td style = \"text-align: left;\">CS001212000070</td><td style = \"text-align: right;\">456</td><td style = \"text-align: right;\">2.65896</td></tr></tbody></table></div>"
      ],
      "text/latex": [
       "\\begin{tabular}{r|ccc}\n",
       "\t& customer\\_id & amount\\_sum & amount\\_sum\\_log\\\\\n",
       "\t\\hline\n",
       "\t& String? & Int64 & Float64\\\\\n",
       "\t\\hline\n",
       "\t1 & CS001113000004 & 1298 & 3.11327 \\\\\n",
       "\t2 & CS001114000005 & 626 & 2.79657 \\\\\n",
       "\t3 & CS001115000010 & 3044 & 3.48344 \\\\\n",
       "\t4 & CS001205000004 & 1988 & 3.29842 \\\\\n",
       "\t5 & CS001205000006 & 3337 & 3.52336 \\\\\n",
       "\t6 & CS001211000025 & 456 & 2.65896 \\\\\n",
       "\t7 & CS001212000027 & 448 & 2.65128 \\\\\n",
       "\t8 & CS001212000031 & 296 & 2.47129 \\\\\n",
       "\t9 & CS001212000046 & 228 & 2.35793 \\\\\n",
       "\t10 & CS001212000070 & 456 & 2.65896 \\\\\n",
       "\\end{tabular}\n"
      ],
      "text/plain": [
       "\u001b[1m10×3 DataFrame\u001b[0m\n",
       "\u001b[1m Row \u001b[0m│\u001b[1m customer_id    \u001b[0m\u001b[1m amount_sum \u001b[0m\u001b[1m amount_sum_log \u001b[0m\n",
       "     │\u001b[90m String?        \u001b[0m\u001b[90m Int64      \u001b[0m\u001b[90m Float64        \u001b[0m\n",
       "─────┼────────────────────────────────────────────\n",
       "   1 │ CS001113000004        1298         3.11327\n",
       "   2 │ CS001114000005         626         2.79657\n",
       "   3 │ CS001115000010        3044         3.48344\n",
       "   4 │ CS001205000004        1988         3.29842\n",
       "   5 │ CS001205000006        3337         3.52336\n",
       "   6 │ CS001211000025         456         2.65896\n",
       "   7 │ CS001212000027         448         2.65128\n",
       "   8 │ CS001212000031         296         2.47129\n",
       "   9 │ CS001212000046         228         2.35793\n",
       "  10 │ CS001212000070         456         2.65896"
      ]
     },
     "execution_count": 79,
     "metadata": {},
     "output_type": "execute_result"
    }
   ],
   "source": [
    "@chain df_receipt begin\n",
    "    @subset(.!startswith.(:customer_id, \"Z\"))\n",
    "    groupby(:customer_id)\n",
    "    combine(:amount => sum)\n",
    "    @transform(:amount_sum_log = log10.(:amount_sum))\n",
    "    sort(:customer_id)\n",
    "    first(10)\n",
    "end"
   ]
  },
  {
   "cell_type": "markdown",
   "id": "55fcb967-3ce9-4e22-a534-f948a7d36d50",
   "metadata": {},
   "source": [
    "---\n",
    "> P-062: レシート明細データ（df_receipt）の売上金額（amount）を顧客ID（customer_id）ごとに合計し、売上金額合計を自然対数化（底e）して顧客ID、売上金額合計とともに10件表示せよ。ただし、顧客IDが\"Z\"から始まるのものは非会員を表すため、除外して計算すること。"
   ]
  },
  {
   "cell_type": "code",
   "execution_count": 80,
   "id": "5a083574-29c5-4166-bc10-7bb1ea65680e",
   "metadata": {},
   "outputs": [
    {
     "data": {
      "text/html": [
       "<div><div style = \"float: left;\"><span>10×3 DataFrame</span></div><div style = \"clear: both;\"></div></div><div class = \"data-frame\" style = \"overflow-x: scroll;\"><table class = \"data-frame\" style = \"margin-bottom: 6px;\"><thead><tr class = \"header\"><th class = \"rowNumber\" style = \"font-weight: bold; text-align: right;\">Row</th><th style = \"text-align: left;\">customer_id</th><th style = \"text-align: left;\">amount_sum</th><th style = \"text-align: left;\">amount_sum_log</th></tr><tr class = \"subheader headerLastRow\"><th class = \"rowNumber\" style = \"font-weight: bold; text-align: right;\"></th><th title = \"Union{Missing, String}\" style = \"text-align: left;\">String?</th><th title = \"Int64\" style = \"text-align: left;\">Int64</th><th title = \"Float64\" style = \"text-align: left;\">Float64</th></tr></thead><tbody><tr><td class = \"rowNumber\" style = \"font-weight: bold; text-align: right;\">1</td><td style = \"text-align: left;\">CS001113000004</td><td style = \"text-align: right;\">1298</td><td style = \"text-align: right;\">7.16858</td></tr><tr><td class = \"rowNumber\" style = \"font-weight: bold; text-align: right;\">2</td><td style = \"text-align: left;\">CS001114000005</td><td style = \"text-align: right;\">626</td><td style = \"text-align: right;\">6.43935</td></tr><tr><td class = \"rowNumber\" style = \"font-weight: bold; text-align: right;\">3</td><td style = \"text-align: left;\">CS001115000010</td><td style = \"text-align: right;\">3044</td><td style = \"text-align: right;\">8.02093</td></tr><tr><td class = \"rowNumber\" style = \"font-weight: bold; text-align: right;\">4</td><td style = \"text-align: left;\">CS001205000004</td><td style = \"text-align: right;\">1988</td><td style = \"text-align: right;\">7.59488</td></tr><tr><td class = \"rowNumber\" style = \"font-weight: bold; text-align: right;\">5</td><td style = \"text-align: left;\">CS001205000006</td><td style = \"text-align: right;\">3337</td><td style = \"text-align: right;\">8.11283</td></tr><tr><td class = \"rowNumber\" style = \"font-weight: bold; text-align: right;\">6</td><td style = \"text-align: left;\">CS001211000025</td><td style = \"text-align: right;\">456</td><td style = \"text-align: right;\">6.12249</td></tr><tr><td class = \"rowNumber\" style = \"font-weight: bold; text-align: right;\">7</td><td style = \"text-align: left;\">CS001212000027</td><td style = \"text-align: right;\">448</td><td style = \"text-align: right;\">6.10479</td></tr><tr><td class = \"rowNumber\" style = \"font-weight: bold; text-align: right;\">8</td><td style = \"text-align: left;\">CS001212000031</td><td style = \"text-align: right;\">296</td><td style = \"text-align: right;\">5.69036</td></tr><tr><td class = \"rowNumber\" style = \"font-weight: bold; text-align: right;\">9</td><td style = \"text-align: left;\">CS001212000046</td><td style = \"text-align: right;\">228</td><td style = \"text-align: right;\">5.42935</td></tr><tr><td class = \"rowNumber\" style = \"font-weight: bold; text-align: right;\">10</td><td style = \"text-align: left;\">CS001212000070</td><td style = \"text-align: right;\">456</td><td style = \"text-align: right;\">6.12249</td></tr></tbody></table></div>"
      ],
      "text/latex": [
       "\\begin{tabular}{r|ccc}\n",
       "\t& customer\\_id & amount\\_sum & amount\\_sum\\_log\\\\\n",
       "\t\\hline\n",
       "\t& String? & Int64 & Float64\\\\\n",
       "\t\\hline\n",
       "\t1 & CS001113000004 & 1298 & 7.16858 \\\\\n",
       "\t2 & CS001114000005 & 626 & 6.43935 \\\\\n",
       "\t3 & CS001115000010 & 3044 & 8.02093 \\\\\n",
       "\t4 & CS001205000004 & 1988 & 7.59488 \\\\\n",
       "\t5 & CS001205000006 & 3337 & 8.11283 \\\\\n",
       "\t6 & CS001211000025 & 456 & 6.12249 \\\\\n",
       "\t7 & CS001212000027 & 448 & 6.10479 \\\\\n",
       "\t8 & CS001212000031 & 296 & 5.69036 \\\\\n",
       "\t9 & CS001212000046 & 228 & 5.42935 \\\\\n",
       "\t10 & CS001212000070 & 456 & 6.12249 \\\\\n",
       "\\end{tabular}\n"
      ],
      "text/plain": [
       "\u001b[1m10×3 DataFrame\u001b[0m\n",
       "\u001b[1m Row \u001b[0m│\u001b[1m customer_id    \u001b[0m\u001b[1m amount_sum \u001b[0m\u001b[1m amount_sum_log \u001b[0m\n",
       "     │\u001b[90m String?        \u001b[0m\u001b[90m Int64      \u001b[0m\u001b[90m Float64        \u001b[0m\n",
       "─────┼────────────────────────────────────────────\n",
       "   1 │ CS001113000004        1298         7.16858\n",
       "   2 │ CS001114000005         626         6.43935\n",
       "   3 │ CS001115000010        3044         8.02093\n",
       "   4 │ CS001205000004        1988         7.59488\n",
       "   5 │ CS001205000006        3337         8.11283\n",
       "   6 │ CS001211000025         456         6.12249\n",
       "   7 │ CS001212000027         448         6.10479\n",
       "   8 │ CS001212000031         296         5.69036\n",
       "   9 │ CS001212000046         228         5.42935\n",
       "  10 │ CS001212000070         456         6.12249"
      ]
     },
     "execution_count": 80,
     "metadata": {},
     "output_type": "execute_result"
    }
   ],
   "source": [
    "@chain df_receipt begin\n",
    "    @subset(.!startswith.(:customer_id, \"Z\"))\n",
    "    groupby(:customer_id)\n",
    "    combine(:amount => sum)\n",
    "    @transform(:amount_sum_log = log.(:amount_sum))\n",
    "    sort(:customer_id)\n",
    "    first(10)\n",
    "end"
   ]
  },
  {
   "cell_type": "markdown",
   "id": "1451bf0c-86cc-49a0-bb61-d49cb50eed16",
   "metadata": {},
   "source": [
    "---\n",
    "> P-063: 商品データ（df_product）の単価（unit_price）と原価（unit_cost）から各商品の利益額を算出し、結果を10件表示せよ。"
   ]
  },
  {
   "cell_type": "code",
   "execution_count": 81,
   "id": "4156678f-8635-4399-b4f0-9e55a7d6a88b",
   "metadata": {},
   "outputs": [
    {
     "data": {
      "text/html": [
       "<div><div style = \"float: left;\"><span>10×7 DataFrame</span></div><div style = \"clear: both;\"></div></div><div class = \"data-frame\" style = \"overflow-x: scroll;\"><table class = \"data-frame\" style = \"margin-bottom: 6px;\"><thead><tr class = \"header\"><th class = \"rowNumber\" style = \"font-weight: bold; text-align: right;\">Row</th><th style = \"text-align: left;\">product_cd</th><th style = \"text-align: left;\">category_major_cd</th><th style = \"text-align: left;\">category_medium_cd</th><th style = \"text-align: left;\">category_small_cd</th><th style = \"text-align: left;\">unit_price</th><th style = \"text-align: left;\">unit_cost</th><th style = \"text-align: left;\">unit_benefit</th></tr><tr class = \"subheader headerLastRow\"><th class = \"rowNumber\" style = \"font-weight: bold; text-align: right;\"></th><th title = \"Union{Missing, String}\" style = \"text-align: left;\">String?</th><th title = \"Union{Missing, String}\" style = \"text-align: left;\">String?</th><th title = \"Union{Missing, String}\" style = \"text-align: left;\">String?</th><th title = \"Union{Missing, String}\" style = \"text-align: left;\">String?</th><th title = \"Union{Missing, Int32}\" style = \"text-align: left;\">Int32?</th><th title = \"Union{Missing, Int32}\" style = \"text-align: left;\">Int32?</th><th title = \"Union{Missing, Int32}\" style = \"text-align: left;\">Int32?</th></tr></thead><tbody><tr><td class = \"rowNumber\" style = \"font-weight: bold; text-align: right;\">1</td><td style = \"text-align: left;\">P040101001</td><td style = \"text-align: left;\">04</td><td style = \"text-align: left;\">0401</td><td style = \"text-align: left;\">040101</td><td style = \"text-align: right;\">198</td><td style = \"text-align: right;\">149</td><td style = \"text-align: right;\">49</td></tr><tr><td class = \"rowNumber\" style = \"font-weight: bold; text-align: right;\">2</td><td style = \"text-align: left;\">P040101002</td><td style = \"text-align: left;\">04</td><td style = \"text-align: left;\">0401</td><td style = \"text-align: left;\">040101</td><td style = \"text-align: right;\">218</td><td style = \"text-align: right;\">164</td><td style = \"text-align: right;\">54</td></tr><tr><td class = \"rowNumber\" style = \"font-weight: bold; text-align: right;\">3</td><td style = \"text-align: left;\">P040101003</td><td style = \"text-align: left;\">04</td><td style = \"text-align: left;\">0401</td><td style = \"text-align: left;\">040101</td><td style = \"text-align: right;\">230</td><td style = \"text-align: right;\">173</td><td style = \"text-align: right;\">57</td></tr><tr><td class = \"rowNumber\" style = \"font-weight: bold; text-align: right;\">4</td><td style = \"text-align: left;\">P040101004</td><td style = \"text-align: left;\">04</td><td style = \"text-align: left;\">0401</td><td style = \"text-align: left;\">040101</td><td style = \"text-align: right;\">248</td><td style = \"text-align: right;\">186</td><td style = \"text-align: right;\">62</td></tr><tr><td class = \"rowNumber\" style = \"font-weight: bold; text-align: right;\">5</td><td style = \"text-align: left;\">P040101005</td><td style = \"text-align: left;\">04</td><td style = \"text-align: left;\">0401</td><td style = \"text-align: left;\">040101</td><td style = \"text-align: right;\">268</td><td style = \"text-align: right;\">201</td><td style = \"text-align: right;\">67</td></tr><tr><td class = \"rowNumber\" style = \"font-weight: bold; text-align: right;\">6</td><td style = \"text-align: left;\">P040101006</td><td style = \"text-align: left;\">04</td><td style = \"text-align: left;\">0401</td><td style = \"text-align: left;\">040101</td><td style = \"text-align: right;\">298</td><td style = \"text-align: right;\">224</td><td style = \"text-align: right;\">74</td></tr><tr><td class = \"rowNumber\" style = \"font-weight: bold; text-align: right;\">7</td><td style = \"text-align: left;\">P040101007</td><td style = \"text-align: left;\">04</td><td style = \"text-align: left;\">0401</td><td style = \"text-align: left;\">040101</td><td style = \"text-align: right;\">338</td><td style = \"text-align: right;\">254</td><td style = \"text-align: right;\">84</td></tr><tr><td class = \"rowNumber\" style = \"font-weight: bold; text-align: right;\">8</td><td style = \"text-align: left;\">P040101008</td><td style = \"text-align: left;\">04</td><td style = \"text-align: left;\">0401</td><td style = \"text-align: left;\">040101</td><td style = \"text-align: right;\">420</td><td style = \"text-align: right;\">315</td><td style = \"text-align: right;\">105</td></tr><tr><td class = \"rowNumber\" style = \"font-weight: bold; text-align: right;\">9</td><td style = \"text-align: left;\">P040101009</td><td style = \"text-align: left;\">04</td><td style = \"text-align: left;\">0401</td><td style = \"text-align: left;\">040101</td><td style = \"text-align: right;\">498</td><td style = \"text-align: right;\">374</td><td style = \"text-align: right;\">124</td></tr><tr><td class = \"rowNumber\" style = \"font-weight: bold; text-align: right;\">10</td><td style = \"text-align: left;\">P040101010</td><td style = \"text-align: left;\">04</td><td style = \"text-align: left;\">0401</td><td style = \"text-align: left;\">040101</td><td style = \"text-align: right;\">580</td><td style = \"text-align: right;\">435</td><td style = \"text-align: right;\">145</td></tr></tbody></table></div>"
      ],
      "text/latex": [
       "\\begin{tabular}{r|cccccc}\n",
       "\t& product\\_cd & category\\_major\\_cd & category\\_medium\\_cd & category\\_small\\_cd & unit\\_price & \\\\\n",
       "\t\\hline\n",
       "\t& String? & String? & String? & String? & Int32? & \\\\\n",
       "\t\\hline\n",
       "\t1 & P040101001 & 04 & 0401 & 040101 & 198 & $\\dots$ \\\\\n",
       "\t2 & P040101002 & 04 & 0401 & 040101 & 218 & $\\dots$ \\\\\n",
       "\t3 & P040101003 & 04 & 0401 & 040101 & 230 & $\\dots$ \\\\\n",
       "\t4 & P040101004 & 04 & 0401 & 040101 & 248 & $\\dots$ \\\\\n",
       "\t5 & P040101005 & 04 & 0401 & 040101 & 268 & $\\dots$ \\\\\n",
       "\t6 & P040101006 & 04 & 0401 & 040101 & 298 & $\\dots$ \\\\\n",
       "\t7 & P040101007 & 04 & 0401 & 040101 & 338 & $\\dots$ \\\\\n",
       "\t8 & P040101008 & 04 & 0401 & 040101 & 420 & $\\dots$ \\\\\n",
       "\t9 & P040101009 & 04 & 0401 & 040101 & 498 & $\\dots$ \\\\\n",
       "\t10 & P040101010 & 04 & 0401 & 040101 & 580 & $\\dots$ \\\\\n",
       "\\end{tabular}\n"
      ],
      "text/plain": [
       "\u001b[1m10×7 DataFrame\u001b[0m\n",
       "\u001b[1m Row \u001b[0m│\u001b[1m product_cd \u001b[0m\u001b[1m category_major_cd \u001b[0m\u001b[1m category_medium_cd \u001b[0m\u001b[1m category_small_cd \u001b[0m\u001b[1m u\u001b[0m ⋯\n",
       "     │\u001b[90m String?    \u001b[0m\u001b[90m String?           \u001b[0m\u001b[90m String?            \u001b[0m\u001b[90m String?           \u001b[0m\u001b[90m I\u001b[0m ⋯\n",
       "─────┼──────────────────────────────────────────────────────────────────────────\n",
       "   1 │ P040101001  04                 0401                040101               ⋯\n",
       "   2 │ P040101002  04                 0401                040101\n",
       "   3 │ P040101003  04                 0401                040101\n",
       "   4 │ P040101004  04                 0401                040101\n",
       "   5 │ P040101005  04                 0401                040101               ⋯\n",
       "   6 │ P040101006  04                 0401                040101\n",
       "   7 │ P040101007  04                 0401                040101\n",
       "   8 │ P040101008  04                 0401                040101\n",
       "   9 │ P040101009  04                 0401                040101               ⋯\n",
       "  10 │ P040101010  04                 0401                040101\n",
       "\u001b[36m                                                               3 columns omitted\u001b[0m"
      ]
     },
     "execution_count": 81,
     "metadata": {},
     "output_type": "execute_result"
    }
   ],
   "source": [
    "@chain df_product begin\n",
    "    @transform(:unit_benefit = :unit_price .- :unit_cost)\n",
    "    first(10)\n",
    "end"
   ]
  },
  {
   "cell_type": "markdown",
   "id": "8a037ba9-c567-41d1-8e54-31426624ff5c",
   "metadata": {},
   "source": [
    "---\n",
    "> P-064: 商品データ（df_product）の単価（unit_price）と原価（unit_cost）から、各商品の利益率の全体平均を算出せよ。ただし、単価と原価には欠損が生じていることに注意せよ。"
   ]
  },
  {
   "cell_type": "code",
   "execution_count": 82,
   "id": "90727999-6861-4497-9638-a844bb9424c8",
   "metadata": {},
   "outputs": [
    {
     "data": {
      "text/plain": [
       "0.24911389885176904"
      ]
     },
     "execution_count": 82,
     "metadata": {},
     "output_type": "execute_result"
    }
   ],
   "source": [
    "mean(skipmissing((df_product.unit_price .- df_product.unit_cost) ./ df_product.unit_price))"
   ]
  },
  {
   "cell_type": "markdown",
   "id": "dded99e6-0cf1-4517-bec4-67b1624f14db",
   "metadata": {},
   "source": [
    "---\n",
    "> P-065: 商品データ（df_product）の各商品について、利益率が30%となる新たな単価を求めよ。ただし、1円未満は切り捨てること。そして結果を10件表示させ、利益率がおよそ30％付近であることを確認せよ。ただし、単価（unit_price）と原価（unit_cost）には欠損が生じていることに注意せよ。"
   ]
  },
  {
   "cell_type": "code",
   "execution_count": 83,
   "id": "84191378-364f-4fa3-8151-95d7d100b0d3",
   "metadata": {},
   "outputs": [
    {
     "data": {
      "text/html": [
       "<div><div style = \"float: left;\"><span>10×8 DataFrame</span></div><div style = \"clear: both;\"></div></div><div class = \"data-frame\" style = \"overflow-x: scroll;\"><table class = \"data-frame\" style = \"margin-bottom: 6px;\"><thead><tr class = \"header\"><th class = \"rowNumber\" style = \"font-weight: bold; text-align: right;\">Row</th><th style = \"text-align: left;\">product_cd</th><th style = \"text-align: left;\">category_major_cd</th><th style = \"text-align: left;\">category_medium_cd</th><th style = \"text-align: left;\">category_small_cd</th><th style = \"text-align: left;\">unit_price</th><th style = \"text-align: left;\">unit_cost</th><th style = \"text-align: left;\">unit_price_benefit_30</th><th style = \"text-align: left;\">unit_benefit</th></tr><tr class = \"subheader headerLastRow\"><th class = \"rowNumber\" style = \"font-weight: bold; text-align: right;\"></th><th title = \"Union{Missing, String}\" style = \"text-align: left;\">String?</th><th title = \"Union{Missing, String}\" style = \"text-align: left;\">String?</th><th title = \"Union{Missing, String}\" style = \"text-align: left;\">String?</th><th title = \"Union{Missing, String}\" style = \"text-align: left;\">String?</th><th title = \"Union{Missing, Int32}\" style = \"text-align: left;\">Int32?</th><th title = \"Union{Missing, Int32}\" style = \"text-align: left;\">Int32?</th><th title = \"Union{Missing, Float64}\" style = \"text-align: left;\">Float64?</th><th title = \"Union{Missing, Float64}\" style = \"text-align: left;\">Float64?</th></tr></thead><tbody><tr><td class = \"rowNumber\" style = \"font-weight: bold; text-align: right;\">1</td><td style = \"text-align: left;\">P040101001</td><td style = \"text-align: left;\">04</td><td style = \"text-align: left;\">0401</td><td style = \"text-align: left;\">040101</td><td style = \"text-align: right;\">198</td><td style = \"text-align: right;\">149</td><td style = \"text-align: right;\">212.0</td><td style = \"text-align: right;\">0.29717</td></tr><tr><td class = \"rowNumber\" style = \"font-weight: bold; text-align: right;\">2</td><td style = \"text-align: left;\">P040101002</td><td style = \"text-align: left;\">04</td><td style = \"text-align: left;\">0401</td><td style = \"text-align: left;\">040101</td><td style = \"text-align: right;\">218</td><td style = \"text-align: right;\">164</td><td style = \"text-align: right;\">234.0</td><td style = \"text-align: right;\">0.299145</td></tr><tr><td class = \"rowNumber\" style = \"font-weight: bold; text-align: right;\">3</td><td style = \"text-align: left;\">P040101003</td><td style = \"text-align: left;\">04</td><td style = \"text-align: left;\">0401</td><td style = \"text-align: left;\">040101</td><td style = \"text-align: right;\">230</td><td style = \"text-align: right;\">173</td><td style = \"text-align: right;\">247.0</td><td style = \"text-align: right;\">0.299595</td></tr><tr><td class = \"rowNumber\" style = \"font-weight: bold; text-align: right;\">4</td><td style = \"text-align: left;\">P040101004</td><td style = \"text-align: left;\">04</td><td style = \"text-align: left;\">0401</td><td style = \"text-align: left;\">040101</td><td style = \"text-align: right;\">248</td><td style = \"text-align: right;\">186</td><td style = \"text-align: right;\">265.0</td><td style = \"text-align: right;\">0.298113</td></tr><tr><td class = \"rowNumber\" style = \"font-weight: bold; text-align: right;\">5</td><td style = \"text-align: left;\">P040101005</td><td style = \"text-align: left;\">04</td><td style = \"text-align: left;\">0401</td><td style = \"text-align: left;\">040101</td><td style = \"text-align: right;\">268</td><td style = \"text-align: right;\">201</td><td style = \"text-align: right;\">287.0</td><td style = \"text-align: right;\">0.299652</td></tr><tr><td class = \"rowNumber\" style = \"font-weight: bold; text-align: right;\">6</td><td style = \"text-align: left;\">P040101006</td><td style = \"text-align: left;\">04</td><td style = \"text-align: left;\">0401</td><td style = \"text-align: left;\">040101</td><td style = \"text-align: right;\">298</td><td style = \"text-align: right;\">224</td><td style = \"text-align: right;\">320.0</td><td style = \"text-align: right;\">0.3</td></tr><tr><td class = \"rowNumber\" style = \"font-weight: bold; text-align: right;\">7</td><td style = \"text-align: left;\">P040101007</td><td style = \"text-align: left;\">04</td><td style = \"text-align: left;\">0401</td><td style = \"text-align: left;\">040101</td><td style = \"text-align: right;\">338</td><td style = \"text-align: right;\">254</td><td style = \"text-align: right;\">362.0</td><td style = \"text-align: right;\">0.298343</td></tr><tr><td class = \"rowNumber\" style = \"font-weight: bold; text-align: right;\">8</td><td style = \"text-align: left;\">P040101008</td><td style = \"text-align: left;\">04</td><td style = \"text-align: left;\">0401</td><td style = \"text-align: left;\">040101</td><td style = \"text-align: right;\">420</td><td style = \"text-align: right;\">315</td><td style = \"text-align: right;\">450.0</td><td style = \"text-align: right;\">0.3</td></tr><tr><td class = \"rowNumber\" style = \"font-weight: bold; text-align: right;\">9</td><td style = \"text-align: left;\">P040101009</td><td style = \"text-align: left;\">04</td><td style = \"text-align: left;\">0401</td><td style = \"text-align: left;\">040101</td><td style = \"text-align: right;\">498</td><td style = \"text-align: right;\">374</td><td style = \"text-align: right;\">534.0</td><td style = \"text-align: right;\">0.299625</td></tr><tr><td class = \"rowNumber\" style = \"font-weight: bold; text-align: right;\">10</td><td style = \"text-align: left;\">P040101010</td><td style = \"text-align: left;\">04</td><td style = \"text-align: left;\">0401</td><td style = \"text-align: left;\">040101</td><td style = \"text-align: right;\">580</td><td style = \"text-align: right;\">435</td><td style = \"text-align: right;\">621.0</td><td style = \"text-align: right;\">0.299517</td></tr></tbody></table></div>"
      ],
      "text/latex": [
       "\\begin{tabular}{r|cccccc}\n",
       "\t& product\\_cd & category\\_major\\_cd & category\\_medium\\_cd & category\\_small\\_cd & unit\\_price & \\\\\n",
       "\t\\hline\n",
       "\t& String? & String? & String? & String? & Int32? & \\\\\n",
       "\t\\hline\n",
       "\t1 & P040101001 & 04 & 0401 & 040101 & 198 & $\\dots$ \\\\\n",
       "\t2 & P040101002 & 04 & 0401 & 040101 & 218 & $\\dots$ \\\\\n",
       "\t3 & P040101003 & 04 & 0401 & 040101 & 230 & $\\dots$ \\\\\n",
       "\t4 & P040101004 & 04 & 0401 & 040101 & 248 & $\\dots$ \\\\\n",
       "\t5 & P040101005 & 04 & 0401 & 040101 & 268 & $\\dots$ \\\\\n",
       "\t6 & P040101006 & 04 & 0401 & 040101 & 298 & $\\dots$ \\\\\n",
       "\t7 & P040101007 & 04 & 0401 & 040101 & 338 & $\\dots$ \\\\\n",
       "\t8 & P040101008 & 04 & 0401 & 040101 & 420 & $\\dots$ \\\\\n",
       "\t9 & P040101009 & 04 & 0401 & 040101 & 498 & $\\dots$ \\\\\n",
       "\t10 & P040101010 & 04 & 0401 & 040101 & 580 & $\\dots$ \\\\\n",
       "\\end{tabular}\n"
      ],
      "text/plain": [
       "\u001b[1m10×8 DataFrame\u001b[0m\n",
       "\u001b[1m Row \u001b[0m│\u001b[1m product_cd \u001b[0m\u001b[1m category_major_cd \u001b[0m\u001b[1m category_medium_cd \u001b[0m\u001b[1m category_small_cd \u001b[0m\u001b[1m u\u001b[0m ⋯\n",
       "     │\u001b[90m String?    \u001b[0m\u001b[90m String?           \u001b[0m\u001b[90m String?            \u001b[0m\u001b[90m String?           \u001b[0m\u001b[90m I\u001b[0m ⋯\n",
       "─────┼──────────────────────────────────────────────────────────────────────────\n",
       "   1 │ P040101001  04                 0401                040101               ⋯\n",
       "   2 │ P040101002  04                 0401                040101\n",
       "   3 │ P040101003  04                 0401                040101\n",
       "   4 │ P040101004  04                 0401                040101\n",
       "   5 │ P040101005  04                 0401                040101               ⋯\n",
       "   6 │ P040101006  04                 0401                040101\n",
       "   7 │ P040101007  04                 0401                040101\n",
       "   8 │ P040101008  04                 0401                040101\n",
       "   9 │ P040101009  04                 0401                040101               ⋯\n",
       "  10 │ P040101010  04                 0401                040101\n",
       "\u001b[36m                                                               4 columns omitted\u001b[0m"
      ]
     },
     "execution_count": 83,
     "metadata": {},
     "output_type": "execute_result"
    }
   ],
   "source": [
    "@chain df_product begin\n",
    "    @transform(:unit_price_benefit_30 = floor.(:unit_cost * 10 / 7))\n",
    "    @transform(:unit_benefit = (:unit_price_benefit_30 .- :unit_cost) ./ :unit_price_benefit_30)\n",
    "    first(10)\n",
    "end"
   ]
  },
  {
   "cell_type": "markdown",
   "id": "6f82bdbd-c7b5-4f4f-86b6-e73b8d77b938",
   "metadata": {},
   "source": [
    "---\n",
    "> P-066: 商品データ（df_product）の各商品について、利益率が30%となる新たな単価を求めよ。今回は、1円未満を丸めること（四捨五入または偶数への丸めで良い）。そして結果を10件表示させ、利益率がおよそ30％付近であることを確認せよ。ただし、単価（unit_price）と原価（unit_cost）には欠損が生じていることに注意せよ。"
   ]
  },
  {
   "cell_type": "code",
   "execution_count": 84,
   "id": "3b427d8e-e347-4575-99bc-0d832b627768",
   "metadata": {},
   "outputs": [
    {
     "data": {
      "text/html": [
       "<div><div style = \"float: left;\"><span>10×8 DataFrame</span></div><div style = \"clear: both;\"></div></div><div class = \"data-frame\" style = \"overflow-x: scroll;\"><table class = \"data-frame\" style = \"margin-bottom: 6px;\"><thead><tr class = \"header\"><th class = \"rowNumber\" style = \"font-weight: bold; text-align: right;\">Row</th><th style = \"text-align: left;\">product_cd</th><th style = \"text-align: left;\">category_major_cd</th><th style = \"text-align: left;\">category_medium_cd</th><th style = \"text-align: left;\">category_small_cd</th><th style = \"text-align: left;\">unit_price</th><th style = \"text-align: left;\">unit_cost</th><th style = \"text-align: left;\">unit_price_benefit_30_rounding</th><th style = \"text-align: left;\">unit_benefit</th></tr><tr class = \"subheader headerLastRow\"><th class = \"rowNumber\" style = \"font-weight: bold; text-align: right;\"></th><th title = \"Union{Missing, String}\" style = \"text-align: left;\">String?</th><th title = \"Union{Missing, String}\" style = \"text-align: left;\">String?</th><th title = \"Union{Missing, String}\" style = \"text-align: left;\">String?</th><th title = \"Union{Missing, String}\" style = \"text-align: left;\">String?</th><th title = \"Union{Missing, Int32}\" style = \"text-align: left;\">Int32?</th><th title = \"Union{Missing, Int32}\" style = \"text-align: left;\">Int32?</th><th title = \"Union{Missing, Float64}\" style = \"text-align: left;\">Float64?</th><th title = \"Union{Missing, Float64}\" style = \"text-align: left;\">Float64?</th></tr></thead><tbody><tr><td class = \"rowNumber\" style = \"font-weight: bold; text-align: right;\">1</td><td style = \"text-align: left;\">P040101001</td><td style = \"text-align: left;\">04</td><td style = \"text-align: left;\">0401</td><td style = \"text-align: left;\">040101</td><td style = \"text-align: right;\">198</td><td style = \"text-align: right;\">149</td><td style = \"text-align: right;\">213.0</td><td style = \"text-align: right;\">0.300469</td></tr><tr><td class = \"rowNumber\" style = \"font-weight: bold; text-align: right;\">2</td><td style = \"text-align: left;\">P040101002</td><td style = \"text-align: left;\">04</td><td style = \"text-align: left;\">0401</td><td style = \"text-align: left;\">040101</td><td style = \"text-align: right;\">218</td><td style = \"text-align: right;\">164</td><td style = \"text-align: right;\">234.0</td><td style = \"text-align: right;\">0.299145</td></tr><tr><td class = \"rowNumber\" style = \"font-weight: bold; text-align: right;\">3</td><td style = \"text-align: left;\">P040101003</td><td style = \"text-align: left;\">04</td><td style = \"text-align: left;\">0401</td><td style = \"text-align: left;\">040101</td><td style = \"text-align: right;\">230</td><td style = \"text-align: right;\">173</td><td style = \"text-align: right;\">247.0</td><td style = \"text-align: right;\">0.299595</td></tr><tr><td class = \"rowNumber\" style = \"font-weight: bold; text-align: right;\">4</td><td style = \"text-align: left;\">P040101004</td><td style = \"text-align: left;\">04</td><td style = \"text-align: left;\">0401</td><td style = \"text-align: left;\">040101</td><td style = \"text-align: right;\">248</td><td style = \"text-align: right;\">186</td><td style = \"text-align: right;\">266.0</td><td style = \"text-align: right;\">0.300752</td></tr><tr><td class = \"rowNumber\" style = \"font-weight: bold; text-align: right;\">5</td><td style = \"text-align: left;\">P040101005</td><td style = \"text-align: left;\">04</td><td style = \"text-align: left;\">0401</td><td style = \"text-align: left;\">040101</td><td style = \"text-align: right;\">268</td><td style = \"text-align: right;\">201</td><td style = \"text-align: right;\">287.0</td><td style = \"text-align: right;\">0.299652</td></tr><tr><td class = \"rowNumber\" style = \"font-weight: bold; text-align: right;\">6</td><td style = \"text-align: left;\">P040101006</td><td style = \"text-align: left;\">04</td><td style = \"text-align: left;\">0401</td><td style = \"text-align: left;\">040101</td><td style = \"text-align: right;\">298</td><td style = \"text-align: right;\">224</td><td style = \"text-align: right;\">320.0</td><td style = \"text-align: right;\">0.3</td></tr><tr><td class = \"rowNumber\" style = \"font-weight: bold; text-align: right;\">7</td><td style = \"text-align: left;\">P040101007</td><td style = \"text-align: left;\">04</td><td style = \"text-align: left;\">0401</td><td style = \"text-align: left;\">040101</td><td style = \"text-align: right;\">338</td><td style = \"text-align: right;\">254</td><td style = \"text-align: right;\">363.0</td><td style = \"text-align: right;\">0.300275</td></tr><tr><td class = \"rowNumber\" style = \"font-weight: bold; text-align: right;\">8</td><td style = \"text-align: left;\">P040101008</td><td style = \"text-align: left;\">04</td><td style = \"text-align: left;\">0401</td><td style = \"text-align: left;\">040101</td><td style = \"text-align: right;\">420</td><td style = \"text-align: right;\">315</td><td style = \"text-align: right;\">450.0</td><td style = \"text-align: right;\">0.3</td></tr><tr><td class = \"rowNumber\" style = \"font-weight: bold; text-align: right;\">9</td><td style = \"text-align: left;\">P040101009</td><td style = \"text-align: left;\">04</td><td style = \"text-align: left;\">0401</td><td style = \"text-align: left;\">040101</td><td style = \"text-align: right;\">498</td><td style = \"text-align: right;\">374</td><td style = \"text-align: right;\">534.0</td><td style = \"text-align: right;\">0.299625</td></tr><tr><td class = \"rowNumber\" style = \"font-weight: bold; text-align: right;\">10</td><td style = \"text-align: left;\">P040101010</td><td style = \"text-align: left;\">04</td><td style = \"text-align: left;\">0401</td><td style = \"text-align: left;\">040101</td><td style = \"text-align: right;\">580</td><td style = \"text-align: right;\">435</td><td style = \"text-align: right;\">621.0</td><td style = \"text-align: right;\">0.299517</td></tr></tbody></table></div>"
      ],
      "text/latex": [
       "\\begin{tabular}{r|cccccc}\n",
       "\t& product\\_cd & category\\_major\\_cd & category\\_medium\\_cd & category\\_small\\_cd & unit\\_price & \\\\\n",
       "\t\\hline\n",
       "\t& String? & String? & String? & String? & Int32? & \\\\\n",
       "\t\\hline\n",
       "\t1 & P040101001 & 04 & 0401 & 040101 & 198 & $\\dots$ \\\\\n",
       "\t2 & P040101002 & 04 & 0401 & 040101 & 218 & $\\dots$ \\\\\n",
       "\t3 & P040101003 & 04 & 0401 & 040101 & 230 & $\\dots$ \\\\\n",
       "\t4 & P040101004 & 04 & 0401 & 040101 & 248 & $\\dots$ \\\\\n",
       "\t5 & P040101005 & 04 & 0401 & 040101 & 268 & $\\dots$ \\\\\n",
       "\t6 & P040101006 & 04 & 0401 & 040101 & 298 & $\\dots$ \\\\\n",
       "\t7 & P040101007 & 04 & 0401 & 040101 & 338 & $\\dots$ \\\\\n",
       "\t8 & P040101008 & 04 & 0401 & 040101 & 420 & $\\dots$ \\\\\n",
       "\t9 & P040101009 & 04 & 0401 & 040101 & 498 & $\\dots$ \\\\\n",
       "\t10 & P040101010 & 04 & 0401 & 040101 & 580 & $\\dots$ \\\\\n",
       "\\end{tabular}\n"
      ],
      "text/plain": [
       "\u001b[1m10×8 DataFrame\u001b[0m\n",
       "\u001b[1m Row \u001b[0m│\u001b[1m product_cd \u001b[0m\u001b[1m category_major_cd \u001b[0m\u001b[1m category_medium_cd \u001b[0m\u001b[1m category_small_cd \u001b[0m\u001b[1m u\u001b[0m ⋯\n",
       "     │\u001b[90m String?    \u001b[0m\u001b[90m String?           \u001b[0m\u001b[90m String?            \u001b[0m\u001b[90m String?           \u001b[0m\u001b[90m I\u001b[0m ⋯\n",
       "─────┼──────────────────────────────────────────────────────────────────────────\n",
       "   1 │ P040101001  04                 0401                040101               ⋯\n",
       "   2 │ P040101002  04                 0401                040101\n",
       "   3 │ P040101003  04                 0401                040101\n",
       "   4 │ P040101004  04                 0401                040101\n",
       "   5 │ P040101005  04                 0401                040101               ⋯\n",
       "   6 │ P040101006  04                 0401                040101\n",
       "   7 │ P040101007  04                 0401                040101\n",
       "   8 │ P040101008  04                 0401                040101\n",
       "   9 │ P040101009  04                 0401                040101               ⋯\n",
       "  10 │ P040101010  04                 0401                040101\n",
       "\u001b[36m                                                               4 columns omitted\u001b[0m"
      ]
     },
     "execution_count": 84,
     "metadata": {},
     "output_type": "execute_result"
    }
   ],
   "source": [
    "@chain df_product begin\n",
    "    @transform(:unit_price_benefit_30_rounding = round.(:unit_cost * 10 / 7))\n",
    "    @transform(:unit_benefit = (:unit_price_benefit_30_rounding .- :unit_cost) ./ :unit_price_benefit_30_rounding)\n",
    "    first(10)\n",
    "end"
   ]
  },
  {
   "cell_type": "markdown",
   "id": "c4f6735b-49a1-444e-b59f-56c36ac67e9b",
   "metadata": {},
   "source": [
    "---\n",
    "> P-067: 商品データ（df_product）の各商品について、利益率が30%となる新たな単価を求めよ。今回は、1円未満を切り上げること。そして結果を10件表示させ、利益率がおよそ30％付近であることを確認せよ。ただし、単価（unit_price）と原価（unit_cost）には欠損が生じていることに注意せよ。"
   ]
  },
  {
   "cell_type": "code",
   "execution_count": 85,
   "id": "336d2bfc-c54a-49fb-b146-2b7064c45491",
   "metadata": {},
   "outputs": [
    {
     "data": {
      "text/html": [
       "<div><div style = \"float: left;\"><span>10×8 DataFrame</span></div><div style = \"clear: both;\"></div></div><div class = \"data-frame\" style = \"overflow-x: scroll;\"><table class = \"data-frame\" style = \"margin-bottom: 6px;\"><thead><tr class = \"header\"><th class = \"rowNumber\" style = \"font-weight: bold; text-align: right;\">Row</th><th style = \"text-align: left;\">product_cd</th><th style = \"text-align: left;\">category_major_cd</th><th style = \"text-align: left;\">category_medium_cd</th><th style = \"text-align: left;\">category_small_cd</th><th style = \"text-align: left;\">unit_price</th><th style = \"text-align: left;\">unit_cost</th><th style = \"text-align: left;\">unit_price_benefit_30_ceil</th><th style = \"text-align: left;\">unit_benefit</th></tr><tr class = \"subheader headerLastRow\"><th class = \"rowNumber\" style = \"font-weight: bold; text-align: right;\"></th><th title = \"Union{Missing, String}\" style = \"text-align: left;\">String?</th><th title = \"Union{Missing, String}\" style = \"text-align: left;\">String?</th><th title = \"Union{Missing, String}\" style = \"text-align: left;\">String?</th><th title = \"Union{Missing, String}\" style = \"text-align: left;\">String?</th><th title = \"Union{Missing, Int32}\" style = \"text-align: left;\">Int32?</th><th title = \"Union{Missing, Int32}\" style = \"text-align: left;\">Int32?</th><th title = \"Union{Missing, Float64}\" style = \"text-align: left;\">Float64?</th><th title = \"Union{Missing, Float64}\" style = \"text-align: left;\">Float64?</th></tr></thead><tbody><tr><td class = \"rowNumber\" style = \"font-weight: bold; text-align: right;\">1</td><td style = \"text-align: left;\">P040101001</td><td style = \"text-align: left;\">04</td><td style = \"text-align: left;\">0401</td><td style = \"text-align: left;\">040101</td><td style = \"text-align: right;\">198</td><td style = \"text-align: right;\">149</td><td style = \"text-align: right;\">213.0</td><td style = \"text-align: right;\">0.300469</td></tr><tr><td class = \"rowNumber\" style = \"font-weight: bold; text-align: right;\">2</td><td style = \"text-align: left;\">P040101002</td><td style = \"text-align: left;\">04</td><td style = \"text-align: left;\">0401</td><td style = \"text-align: left;\">040101</td><td style = \"text-align: right;\">218</td><td style = \"text-align: right;\">164</td><td style = \"text-align: right;\">235.0</td><td style = \"text-align: right;\">0.302128</td></tr><tr><td class = \"rowNumber\" style = \"font-weight: bold; text-align: right;\">3</td><td style = \"text-align: left;\">P040101003</td><td style = \"text-align: left;\">04</td><td style = \"text-align: left;\">0401</td><td style = \"text-align: left;\">040101</td><td style = \"text-align: right;\">230</td><td style = \"text-align: right;\">173</td><td style = \"text-align: right;\">248.0</td><td style = \"text-align: right;\">0.302419</td></tr><tr><td class = \"rowNumber\" style = \"font-weight: bold; text-align: right;\">4</td><td style = \"text-align: left;\">P040101004</td><td style = \"text-align: left;\">04</td><td style = \"text-align: left;\">0401</td><td style = \"text-align: left;\">040101</td><td style = \"text-align: right;\">248</td><td style = \"text-align: right;\">186</td><td style = \"text-align: right;\">266.0</td><td style = \"text-align: right;\">0.300752</td></tr><tr><td class = \"rowNumber\" style = \"font-weight: bold; text-align: right;\">5</td><td style = \"text-align: left;\">P040101005</td><td style = \"text-align: left;\">04</td><td style = \"text-align: left;\">0401</td><td style = \"text-align: left;\">040101</td><td style = \"text-align: right;\">268</td><td style = \"text-align: right;\">201</td><td style = \"text-align: right;\">288.0</td><td style = \"text-align: right;\">0.302083</td></tr><tr><td class = \"rowNumber\" style = \"font-weight: bold; text-align: right;\">6</td><td style = \"text-align: left;\">P040101006</td><td style = \"text-align: left;\">04</td><td style = \"text-align: left;\">0401</td><td style = \"text-align: left;\">040101</td><td style = \"text-align: right;\">298</td><td style = \"text-align: right;\">224</td><td style = \"text-align: right;\">320.0</td><td style = \"text-align: right;\">0.3</td></tr><tr><td class = \"rowNumber\" style = \"font-weight: bold; text-align: right;\">7</td><td style = \"text-align: left;\">P040101007</td><td style = \"text-align: left;\">04</td><td style = \"text-align: left;\">0401</td><td style = \"text-align: left;\">040101</td><td style = \"text-align: right;\">338</td><td style = \"text-align: right;\">254</td><td style = \"text-align: right;\">363.0</td><td style = \"text-align: right;\">0.300275</td></tr><tr><td class = \"rowNumber\" style = \"font-weight: bold; text-align: right;\">8</td><td style = \"text-align: left;\">P040101008</td><td style = \"text-align: left;\">04</td><td style = \"text-align: left;\">0401</td><td style = \"text-align: left;\">040101</td><td style = \"text-align: right;\">420</td><td style = \"text-align: right;\">315</td><td style = \"text-align: right;\">450.0</td><td style = \"text-align: right;\">0.3</td></tr><tr><td class = \"rowNumber\" style = \"font-weight: bold; text-align: right;\">9</td><td style = \"text-align: left;\">P040101009</td><td style = \"text-align: left;\">04</td><td style = \"text-align: left;\">0401</td><td style = \"text-align: left;\">040101</td><td style = \"text-align: right;\">498</td><td style = \"text-align: right;\">374</td><td style = \"text-align: right;\">535.0</td><td style = \"text-align: right;\">0.300935</td></tr><tr><td class = \"rowNumber\" style = \"font-weight: bold; text-align: right;\">10</td><td style = \"text-align: left;\">P040101010</td><td style = \"text-align: left;\">04</td><td style = \"text-align: left;\">0401</td><td style = \"text-align: left;\">040101</td><td style = \"text-align: right;\">580</td><td style = \"text-align: right;\">435</td><td style = \"text-align: right;\">622.0</td><td style = \"text-align: right;\">0.300643</td></tr></tbody></table></div>"
      ],
      "text/latex": [
       "\\begin{tabular}{r|cccccc}\n",
       "\t& product\\_cd & category\\_major\\_cd & category\\_medium\\_cd & category\\_small\\_cd & unit\\_price & \\\\\n",
       "\t\\hline\n",
       "\t& String? & String? & String? & String? & Int32? & \\\\\n",
       "\t\\hline\n",
       "\t1 & P040101001 & 04 & 0401 & 040101 & 198 & $\\dots$ \\\\\n",
       "\t2 & P040101002 & 04 & 0401 & 040101 & 218 & $\\dots$ \\\\\n",
       "\t3 & P040101003 & 04 & 0401 & 040101 & 230 & $\\dots$ \\\\\n",
       "\t4 & P040101004 & 04 & 0401 & 040101 & 248 & $\\dots$ \\\\\n",
       "\t5 & P040101005 & 04 & 0401 & 040101 & 268 & $\\dots$ \\\\\n",
       "\t6 & P040101006 & 04 & 0401 & 040101 & 298 & $\\dots$ \\\\\n",
       "\t7 & P040101007 & 04 & 0401 & 040101 & 338 & $\\dots$ \\\\\n",
       "\t8 & P040101008 & 04 & 0401 & 040101 & 420 & $\\dots$ \\\\\n",
       "\t9 & P040101009 & 04 & 0401 & 040101 & 498 & $\\dots$ \\\\\n",
       "\t10 & P040101010 & 04 & 0401 & 040101 & 580 & $\\dots$ \\\\\n",
       "\\end{tabular}\n"
      ],
      "text/plain": [
       "\u001b[1m10×8 DataFrame\u001b[0m\n",
       "\u001b[1m Row \u001b[0m│\u001b[1m product_cd \u001b[0m\u001b[1m category_major_cd \u001b[0m\u001b[1m category_medium_cd \u001b[0m\u001b[1m category_small_cd \u001b[0m\u001b[1m u\u001b[0m ⋯\n",
       "     │\u001b[90m String?    \u001b[0m\u001b[90m String?           \u001b[0m\u001b[90m String?            \u001b[0m\u001b[90m String?           \u001b[0m\u001b[90m I\u001b[0m ⋯\n",
       "─────┼──────────────────────────────────────────────────────────────────────────\n",
       "   1 │ P040101001  04                 0401                040101               ⋯\n",
       "   2 │ P040101002  04                 0401                040101\n",
       "   3 │ P040101003  04                 0401                040101\n",
       "   4 │ P040101004  04                 0401                040101\n",
       "   5 │ P040101005  04                 0401                040101               ⋯\n",
       "   6 │ P040101006  04                 0401                040101\n",
       "   7 │ P040101007  04                 0401                040101\n",
       "   8 │ P040101008  04                 0401                040101\n",
       "   9 │ P040101009  04                 0401                040101               ⋯\n",
       "  10 │ P040101010  04                 0401                040101\n",
       "\u001b[36m                                                               4 columns omitted\u001b[0m"
      ]
     },
     "execution_count": 85,
     "metadata": {},
     "output_type": "execute_result"
    }
   ],
   "source": [
    "@chain df_product begin\n",
    "    @transform(:unit_price_benefit_30_ceil = ceil.(:unit_cost * 10 / 7))\n",
    "    @transform(:unit_benefit = (:unit_price_benefit_30_ceil .- :unit_cost) ./ :unit_price_benefit_30_ceil)\n",
    "    first(10)\n",
    "end"
   ]
  },
  {
   "cell_type": "markdown",
   "id": "8e894aa2-7078-403f-b0f2-33beb09df5eb",
   "metadata": {},
   "source": [
    "---\n",
    "> P-068: 商品データ（df_product）の各商品について、消費税率10％の税込み金額を求めよ。1円未満の端数は切り捨てとし、結果を10件表示せよ。ただし、単価（unit_price）には欠損が生じていることに注意せよ。"
   ]
  },
  {
   "cell_type": "code",
   "execution_count": 86,
   "id": "6f3295d6-6038-4853-b9c9-28871ae00d4b",
   "metadata": {},
   "outputs": [
    {
     "data": {
      "text/html": [
       "<div><div style = \"float: left;\"><span>10×7 DataFrame</span></div><div style = \"clear: both;\"></div></div><div class = \"data-frame\" style = \"overflow-x: scroll;\"><table class = \"data-frame\" style = \"margin-bottom: 6px;\"><thead><tr class = \"header\"><th class = \"rowNumber\" style = \"font-weight: bold; text-align: right;\">Row</th><th style = \"text-align: left;\">product_cd</th><th style = \"text-align: left;\">category_major_cd</th><th style = \"text-align: left;\">category_medium_cd</th><th style = \"text-align: left;\">category_small_cd</th><th style = \"text-align: left;\">unit_price</th><th style = \"text-align: left;\">unit_cost</th><th style = \"text-align: left;\">unit_price_with_tax</th></tr><tr class = \"subheader headerLastRow\"><th class = \"rowNumber\" style = \"font-weight: bold; text-align: right;\"></th><th title = \"Union{Missing, String}\" style = \"text-align: left;\">String?</th><th title = \"Union{Missing, String}\" style = \"text-align: left;\">String?</th><th title = \"Union{Missing, String}\" style = \"text-align: left;\">String?</th><th title = \"Union{Missing, String}\" style = \"text-align: left;\">String?</th><th title = \"Union{Missing, Int32}\" style = \"text-align: left;\">Int32?</th><th title = \"Union{Missing, Int32}\" style = \"text-align: left;\">Int32?</th><th title = \"Union{Missing, Float64}\" style = \"text-align: left;\">Float64?</th></tr></thead><tbody><tr><td class = \"rowNumber\" style = \"font-weight: bold; text-align: right;\">1</td><td style = \"text-align: left;\">P040101001</td><td style = \"text-align: left;\">04</td><td style = \"text-align: left;\">0401</td><td style = \"text-align: left;\">040101</td><td style = \"text-align: right;\">198</td><td style = \"text-align: right;\">149</td><td style = \"text-align: right;\">217.0</td></tr><tr><td class = \"rowNumber\" style = \"font-weight: bold; text-align: right;\">2</td><td style = \"text-align: left;\">P040101002</td><td style = \"text-align: left;\">04</td><td style = \"text-align: left;\">0401</td><td style = \"text-align: left;\">040101</td><td style = \"text-align: right;\">218</td><td style = \"text-align: right;\">164</td><td style = \"text-align: right;\">239.0</td></tr><tr><td class = \"rowNumber\" style = \"font-weight: bold; text-align: right;\">3</td><td style = \"text-align: left;\">P040101003</td><td style = \"text-align: left;\">04</td><td style = \"text-align: left;\">0401</td><td style = \"text-align: left;\">040101</td><td style = \"text-align: right;\">230</td><td style = \"text-align: right;\">173</td><td style = \"text-align: right;\">253.0</td></tr><tr><td class = \"rowNumber\" style = \"font-weight: bold; text-align: right;\">4</td><td style = \"text-align: left;\">P040101004</td><td style = \"text-align: left;\">04</td><td style = \"text-align: left;\">0401</td><td style = \"text-align: left;\">040101</td><td style = \"text-align: right;\">248</td><td style = \"text-align: right;\">186</td><td style = \"text-align: right;\">272.0</td></tr><tr><td class = \"rowNumber\" style = \"font-weight: bold; text-align: right;\">5</td><td style = \"text-align: left;\">P040101005</td><td style = \"text-align: left;\">04</td><td style = \"text-align: left;\">0401</td><td style = \"text-align: left;\">040101</td><td style = \"text-align: right;\">268</td><td style = \"text-align: right;\">201</td><td style = \"text-align: right;\">294.0</td></tr><tr><td class = \"rowNumber\" style = \"font-weight: bold; text-align: right;\">6</td><td style = \"text-align: left;\">P040101006</td><td style = \"text-align: left;\">04</td><td style = \"text-align: left;\">0401</td><td style = \"text-align: left;\">040101</td><td style = \"text-align: right;\">298</td><td style = \"text-align: right;\">224</td><td style = \"text-align: right;\">327.0</td></tr><tr><td class = \"rowNumber\" style = \"font-weight: bold; text-align: right;\">7</td><td style = \"text-align: left;\">P040101007</td><td style = \"text-align: left;\">04</td><td style = \"text-align: left;\">0401</td><td style = \"text-align: left;\">040101</td><td style = \"text-align: right;\">338</td><td style = \"text-align: right;\">254</td><td style = \"text-align: right;\">371.0</td></tr><tr><td class = \"rowNumber\" style = \"font-weight: bold; text-align: right;\">8</td><td style = \"text-align: left;\">P040101008</td><td style = \"text-align: left;\">04</td><td style = \"text-align: left;\">0401</td><td style = \"text-align: left;\">040101</td><td style = \"text-align: right;\">420</td><td style = \"text-align: right;\">315</td><td style = \"text-align: right;\">462.0</td></tr><tr><td class = \"rowNumber\" style = \"font-weight: bold; text-align: right;\">9</td><td style = \"text-align: left;\">P040101009</td><td style = \"text-align: left;\">04</td><td style = \"text-align: left;\">0401</td><td style = \"text-align: left;\">040101</td><td style = \"text-align: right;\">498</td><td style = \"text-align: right;\">374</td><td style = \"text-align: right;\">547.0</td></tr><tr><td class = \"rowNumber\" style = \"font-weight: bold; text-align: right;\">10</td><td style = \"text-align: left;\">P040101010</td><td style = \"text-align: left;\">04</td><td style = \"text-align: left;\">0401</td><td style = \"text-align: left;\">040101</td><td style = \"text-align: right;\">580</td><td style = \"text-align: right;\">435</td><td style = \"text-align: right;\">638.0</td></tr></tbody></table></div>"
      ],
      "text/latex": [
       "\\begin{tabular}{r|cccccc}\n",
       "\t& product\\_cd & category\\_major\\_cd & category\\_medium\\_cd & category\\_small\\_cd & unit\\_price & \\\\\n",
       "\t\\hline\n",
       "\t& String? & String? & String? & String? & Int32? & \\\\\n",
       "\t\\hline\n",
       "\t1 & P040101001 & 04 & 0401 & 040101 & 198 & $\\dots$ \\\\\n",
       "\t2 & P040101002 & 04 & 0401 & 040101 & 218 & $\\dots$ \\\\\n",
       "\t3 & P040101003 & 04 & 0401 & 040101 & 230 & $\\dots$ \\\\\n",
       "\t4 & P040101004 & 04 & 0401 & 040101 & 248 & $\\dots$ \\\\\n",
       "\t5 & P040101005 & 04 & 0401 & 040101 & 268 & $\\dots$ \\\\\n",
       "\t6 & P040101006 & 04 & 0401 & 040101 & 298 & $\\dots$ \\\\\n",
       "\t7 & P040101007 & 04 & 0401 & 040101 & 338 & $\\dots$ \\\\\n",
       "\t8 & P040101008 & 04 & 0401 & 040101 & 420 & $\\dots$ \\\\\n",
       "\t9 & P040101009 & 04 & 0401 & 040101 & 498 & $\\dots$ \\\\\n",
       "\t10 & P040101010 & 04 & 0401 & 040101 & 580 & $\\dots$ \\\\\n",
       "\\end{tabular}\n"
      ],
      "text/plain": [
       "\u001b[1m10×7 DataFrame\u001b[0m\n",
       "\u001b[1m Row \u001b[0m│\u001b[1m product_cd \u001b[0m\u001b[1m category_major_cd \u001b[0m\u001b[1m category_medium_cd \u001b[0m\u001b[1m category_small_cd \u001b[0m\u001b[1m u\u001b[0m ⋯\n",
       "     │\u001b[90m String?    \u001b[0m\u001b[90m String?           \u001b[0m\u001b[90m String?            \u001b[0m\u001b[90m String?           \u001b[0m\u001b[90m I\u001b[0m ⋯\n",
       "─────┼──────────────────────────────────────────────────────────────────────────\n",
       "   1 │ P040101001  04                 0401                040101               ⋯\n",
       "   2 │ P040101002  04                 0401                040101\n",
       "   3 │ P040101003  04                 0401                040101\n",
       "   4 │ P040101004  04                 0401                040101\n",
       "   5 │ P040101005  04                 0401                040101               ⋯\n",
       "   6 │ P040101006  04                 0401                040101\n",
       "   7 │ P040101007  04                 0401                040101\n",
       "   8 │ P040101008  04                 0401                040101\n",
       "   9 │ P040101009  04                 0401                040101               ⋯\n",
       "  10 │ P040101010  04                 0401                040101\n",
       "\u001b[36m                                                               3 columns omitted\u001b[0m"
      ]
     },
     "execution_count": 86,
     "metadata": {},
     "output_type": "execute_result"
    }
   ],
   "source": [
    "@chain df_product begin\n",
    "    @transform(:unit_price_with_tax = floor.(:unit_price * 1.1))\n",
    "    first(10)\n",
    "end"
   ]
  },
  {
   "cell_type": "markdown",
   "id": "fab853b0-1093-4ee0-a8f8-94d06f34a202",
   "metadata": {},
   "source": [
    "---\n",
    "> P-069: レシート明細データ（df_receipt）と商品データ（df_product）を結合し、顧客毎に全商品の売上金額合計と、カテゴリ大区分コード（category_major_cd）が\"07\"（瓶詰缶詰）の売上金額合計を計算の上、両者の比率を求めよ。抽出対象はカテゴリ大区分コード\"07\"（瓶詰缶詰）の売上実績がある顧客のみとし、結果を10件表示せよ。"
   ]
  },
  {
   "cell_type": "code",
   "execution_count": 94,
   "id": "d262aaa8-4329-43be-bb3c-8f97d6317eaa",
   "metadata": {},
   "outputs": [
    {
     "data": {
      "text/html": [
       "<div><div style = \"float: left;\"><span>10×4 DataFrame</span></div><div style = \"clear: both;\"></div></div><div class = \"data-frame\" style = \"overflow-x: scroll;\"><table class = \"data-frame\" style = \"margin-bottom: 6px;\"><thead><tr class = \"header\"><th class = \"rowNumber\" style = \"font-weight: bold; text-align: right;\">Row</th><th style = \"text-align: left;\">customer_id</th><th style = \"text-align: left;\">amount_sum_07</th><th style = \"text-align: left;\">amount_sum_all</th><th style = \"text-align: left;\">amount_07_ratio</th></tr><tr class = \"subheader headerLastRow\"><th class = \"rowNumber\" style = \"font-weight: bold; text-align: right;\"></th><th title = \"Union{Missing, String}\" style = \"text-align: left;\">String?</th><th title = \"Int64\" style = \"text-align: left;\">Int64</th><th title = \"Union{Missing, Int64}\" style = \"text-align: left;\">Int64?</th><th title = \"Float64\" style = \"text-align: left;\">Float64</th></tr></thead><tbody><tr><td class = \"rowNumber\" style = \"font-weight: bold; text-align: right;\">1</td><td style = \"text-align: left;\">CS001113000004</td><td style = \"text-align: right;\">1298</td><td style = \"text-align: right;\">1298</td><td style = \"text-align: right;\">1.0</td></tr><tr><td class = \"rowNumber\" style = \"font-weight: bold; text-align: right;\">2</td><td style = \"text-align: left;\">CS001114000005</td><td style = \"text-align: right;\">486</td><td style = \"text-align: right;\">626</td><td style = \"text-align: right;\">0.776358</td></tr><tr><td class = \"rowNumber\" style = \"font-weight: bold; text-align: right;\">3</td><td style = \"text-align: left;\">CS001115000010</td><td style = \"text-align: right;\">2694</td><td style = \"text-align: right;\">3044</td><td style = \"text-align: right;\">0.88502</td></tr><tr><td class = \"rowNumber\" style = \"font-weight: bold; text-align: right;\">4</td><td style = \"text-align: left;\">CS001205000004</td><td style = \"text-align: right;\">346</td><td style = \"text-align: right;\">1988</td><td style = \"text-align: right;\">0.174044</td></tr><tr><td class = \"rowNumber\" style = \"font-weight: bold; text-align: right;\">5</td><td style = \"text-align: left;\">CS001205000006</td><td style = \"text-align: right;\">2004</td><td style = \"text-align: right;\">3337</td><td style = \"text-align: right;\">0.600539</td></tr><tr><td class = \"rowNumber\" style = \"font-weight: bold; text-align: right;\">6</td><td style = \"text-align: left;\">CS001212000027</td><td style = \"text-align: right;\">200</td><td style = \"text-align: right;\">448</td><td style = \"text-align: right;\">0.446429</td></tr><tr><td class = \"rowNumber\" style = \"font-weight: bold; text-align: right;\">7</td><td style = \"text-align: left;\">CS001212000031</td><td style = \"text-align: right;\">296</td><td style = \"text-align: right;\">296</td><td style = \"text-align: right;\">1.0</td></tr><tr><td class = \"rowNumber\" style = \"font-weight: bold; text-align: right;\">8</td><td style = \"text-align: left;\">CS001212000046</td><td style = \"text-align: right;\">108</td><td style = \"text-align: right;\">228</td><td style = \"text-align: right;\">0.473684</td></tr><tr><td class = \"rowNumber\" style = \"font-weight: bold; text-align: right;\">9</td><td style = \"text-align: left;\">CS001212000070</td><td style = \"text-align: right;\">308</td><td style = \"text-align: right;\">456</td><td style = \"text-align: right;\">0.675439</td></tr><tr><td class = \"rowNumber\" style = \"font-weight: bold; text-align: right;\">10</td><td style = \"text-align: left;\">CS001213000018</td><td style = \"text-align: right;\">145</td><td style = \"text-align: right;\">243</td><td style = \"text-align: right;\">0.596708</td></tr></tbody></table></div>"
      ],
      "text/latex": [
       "\\begin{tabular}{r|cccc}\n",
       "\t& customer\\_id & amount\\_sum\\_07 & amount\\_sum\\_all & amount\\_07\\_ratio\\\\\n",
       "\t\\hline\n",
       "\t& String? & Int64 & Int64? & Float64\\\\\n",
       "\t\\hline\n",
       "\t1 & CS001113000004 & 1298 & 1298 & 1.0 \\\\\n",
       "\t2 & CS001114000005 & 486 & 626 & 0.776358 \\\\\n",
       "\t3 & CS001115000010 & 2694 & 3044 & 0.88502 \\\\\n",
       "\t4 & CS001205000004 & 346 & 1988 & 0.174044 \\\\\n",
       "\t5 & CS001205000006 & 2004 & 3337 & 0.600539 \\\\\n",
       "\t6 & CS001212000027 & 200 & 448 & 0.446429 \\\\\n",
       "\t7 & CS001212000031 & 296 & 296 & 1.0 \\\\\n",
       "\t8 & CS001212000046 & 108 & 228 & 0.473684 \\\\\n",
       "\t9 & CS001212000070 & 308 & 456 & 0.675439 \\\\\n",
       "\t10 & CS001213000018 & 145 & 243 & 0.596708 \\\\\n",
       "\\end{tabular}\n"
      ],
      "text/plain": [
       "\u001b[1m10×4 DataFrame\u001b[0m\n",
       "\u001b[1m Row \u001b[0m│\u001b[1m customer_id    \u001b[0m\u001b[1m amount_sum_07 \u001b[0m\u001b[1m amount_sum_all \u001b[0m\u001b[1m amount_07_ratio \u001b[0m\n",
       "     │\u001b[90m String?        \u001b[0m\u001b[90m Int64         \u001b[0m\u001b[90m Int64?         \u001b[0m\u001b[90m Float64         \u001b[0m\n",
       "─────┼────────────────────────────────────────────────────────────────\n",
       "   1 │ CS001113000004           1298            1298         1.0\n",
       "   2 │ CS001114000005            486             626         0.776358\n",
       "   3 │ CS001115000010           2694            3044         0.88502\n",
       "   4 │ CS001205000004            346            1988         0.174044\n",
       "   5 │ CS001205000006           2004            3337         0.600539\n",
       "   6 │ CS001212000027            200             448         0.446429\n",
       "   7 │ CS001212000031            296             296         1.0\n",
       "   8 │ CS001212000046            108             228         0.473684\n",
       "   9 │ CS001212000070            308             456         0.675439\n",
       "  10 │ CS001213000018            145             243         0.596708"
      ]
     },
     "execution_count": 94,
     "metadata": {},
     "output_type": "execute_result"
    }
   ],
   "source": [
    "df_receipt_with_product = innerjoin(df_receipt, df_product, on=:product_cd)\n",
    "\n",
    "df_sum_amount_all = @chain df_receipt_with_product begin\n",
    "    groupby(:customer_id)\n",
    "    combine(:amount => sum)\n",
    "    select(:customer_id, :amount_sum => :amount_sum_all)\n",
    "end\n",
    "\n",
    "df_sum_amount_07 = @chain df_receipt_with_product begin\n",
    "    @subset(:category_major_cd .== \"07\")\n",
    "    groupby(:customer_id)\n",
    "    combine(:amount => sum)\n",
    "    select(:customer_id, :amount_sum => :amount_sum_07)\n",
    "end\n",
    "\n",
    "@chain leftjoin(df_sum_amount_07, df_sum_amount_all, on=:customer_id) begin\n",
    "    @transform(:amount_07_ratio = :amount_sum_07 ./ :amount_sum_all)\n",
    "    sort(:customer_id)\n",
    "    first(10)\n",
    "end"
   ]
  },
  {
   "cell_type": "markdown",
   "id": "e13b8cad-29e7-4ee3-b53e-6eb212fdf812",
   "metadata": {},
   "source": [
    "---\n",
    "> P-070: レシート明細データ（df_receipt）の売上日（sales_ymd）に対し、顧客データ（df_customer）の会員申込日（application_date）からの経過日数を計算し、顧客ID（customer_id）、売上日、会員申込日とともに10件表示せよ（sales_ymdは数値、application_dateは文字列でデータを保持している点に注意）。"
   ]
  },
  {
   "cell_type": "code",
   "execution_count": 111,
   "id": "f087a085-5ada-45eb-a36a-67cdef1a0d32",
   "metadata": {},
   "outputs": [
    {
     "data": {
      "text/html": [
       "<div><div style = \"float: left;\"><span>10×4 DataFrame</span></div><div style = \"clear: both;\"></div></div><div class = \"data-frame\" style = \"overflow-x: scroll;\"><table class = \"data-frame\" style = \"margin-bottom: 6px;\"><thead><tr class = \"header\"><th class = \"rowNumber\" style = \"font-weight: bold; text-align: right;\">Row</th><th style = \"text-align: left;\">customer_id</th><th style = \"text-align: left;\">sales_ymd</th><th style = \"text-align: left;\">application_date</th><th style = \"text-align: left;\">elapsed_days</th></tr><tr class = \"subheader headerLastRow\"><th class = \"rowNumber\" style = \"font-weight: bold; text-align: right;\"></th><th title = \"Union{Missing, String}\" style = \"text-align: left;\">String?</th><th title = \"Union{Missing, Int32}\" style = \"text-align: left;\">Int32?</th><th title = \"Union{Missing, String}\" style = \"text-align: left;\">String?</th><th title = \"Day\" style = \"text-align: left;\">Day</th></tr></thead><tbody><tr><td class = \"rowNumber\" style = \"font-weight: bold; text-align: right;\">1</td><td style = \"text-align: left;\">CS006214000001</td><td style = \"text-align: right;\">20181103</td><td style = \"text-align: left;\">20150201</td><td style = \"text-align: left;\">1371 days</td></tr><tr><td class = \"rowNumber\" style = \"font-weight: bold; text-align: right;\">2</td><td style = \"text-align: left;\">CS008415000097</td><td style = \"text-align: right;\">20181118</td><td style = \"text-align: left;\">20150322</td><td style = \"text-align: left;\">1337 days</td></tr><tr><td class = \"rowNumber\" style = \"font-weight: bold; text-align: right;\">3</td><td style = \"text-align: left;\">CS028414000014</td><td style = \"text-align: right;\">20170712</td><td style = \"text-align: left;\">20150711</td><td style = \"text-align: left;\">732 days</td></tr><tr><td class = \"rowNumber\" style = \"font-weight: bold; text-align: right;\">4</td><td style = \"text-align: left;\">CS025415000050</td><td style = \"text-align: right;\">20180821</td><td style = \"text-align: left;\">20160131</td><td style = \"text-align: left;\">933 days</td></tr><tr><td class = \"rowNumber\" style = \"font-weight: bold; text-align: right;\">5</td><td style = \"text-align: left;\">CS003515000195</td><td style = \"text-align: right;\">20190605</td><td style = \"text-align: left;\">20150306</td><td style = \"text-align: left;\">1552 days</td></tr><tr><td class = \"rowNumber\" style = \"font-weight: bold; text-align: right;\">6</td><td style = \"text-align: left;\">CS024514000042</td><td style = \"text-align: right;\">20181205</td><td style = \"text-align: left;\">20151010</td><td style = \"text-align: left;\">1152 days</td></tr><tr><td class = \"rowNumber\" style = \"font-weight: bold; text-align: right;\">7</td><td style = \"text-align: left;\">CS040415000178</td><td style = \"text-align: right;\">20190922</td><td style = \"text-align: left;\">20150627</td><td style = \"text-align: left;\">1548 days</td></tr><tr><td class = \"rowNumber\" style = \"font-weight: bold; text-align: right;\">8</td><td style = \"text-align: left;\">CS027514000015</td><td style = \"text-align: right;\">20191010</td><td style = \"text-align: left;\">20151101</td><td style = \"text-align: left;\">1439 days</td></tr><tr><td class = \"rowNumber\" style = \"font-weight: bold; text-align: right;\">9</td><td style = \"text-align: left;\">CS025415000134</td><td style = \"text-align: right;\">20190918</td><td style = \"text-align: left;\">20150720</td><td style = \"text-align: left;\">1521 days</td></tr><tr><td class = \"rowNumber\" style = \"font-weight: bold; text-align: right;\">10</td><td style = \"text-align: left;\">CS021515000126</td><td style = \"text-align: right;\">20171010</td><td style = \"text-align: left;\">20150508</td><td style = \"text-align: left;\">886 days</td></tr></tbody></table></div>"
      ],
      "text/latex": [
       "\\begin{tabular}{r|cccc}\n",
       "\t& customer\\_id & sales\\_ymd & application\\_date & elapsed\\_days\\\\\n",
       "\t\\hline\n",
       "\t& String? & Int32? & String? & Day\\\\\n",
       "\t\\hline\n",
       "\t1 & CS006214000001 & 20181103 & 20150201 & 1371 days \\\\\n",
       "\t2 & CS008415000097 & 20181118 & 20150322 & 1337 days \\\\\n",
       "\t3 & CS028414000014 & 20170712 & 20150711 & 732 days \\\\\n",
       "\t4 & CS025415000050 & 20180821 & 20160131 & 933 days \\\\\n",
       "\t5 & CS003515000195 & 20190605 & 20150306 & 1552 days \\\\\n",
       "\t6 & CS024514000042 & 20181205 & 20151010 & 1152 days \\\\\n",
       "\t7 & CS040415000178 & 20190922 & 20150627 & 1548 days \\\\\n",
       "\t8 & CS027514000015 & 20191010 & 20151101 & 1439 days \\\\\n",
       "\t9 & CS025415000134 & 20190918 & 20150720 & 1521 days \\\\\n",
       "\t10 & CS021515000126 & 20171010 & 20150508 & 886 days \\\\\n",
       "\\end{tabular}\n"
      ],
      "text/plain": [
       "\u001b[1m10×4 DataFrame\u001b[0m\n",
       "\u001b[1m Row \u001b[0m│\u001b[1m customer_id    \u001b[0m\u001b[1m sales_ymd \u001b[0m\u001b[1m application_date \u001b[0m\u001b[1m elapsed_days \u001b[0m\n",
       "     │\u001b[90m String?        \u001b[0m\u001b[90m Int32?    \u001b[0m\u001b[90m String?          \u001b[0m\u001b[90m Day          \u001b[0m\n",
       "─────┼───────────────────────────────────────────────────────────\n",
       "   1 │ CS006214000001   20181103  20150201          1371 days\n",
       "   2 │ CS008415000097   20181118  20150322          1337 days\n",
       "   3 │ CS028414000014   20170712  20150711          732 days\n",
       "   4 │ CS025415000050   20180821  20160131          933 days\n",
       "   5 │ CS003515000195   20190605  20150306          1552 days\n",
       "   6 │ CS024514000042   20181205  20151010          1152 days\n",
       "   7 │ CS040415000178   20190922  20150627          1548 days\n",
       "   8 │ CS027514000015   20191010  20151101          1439 days\n",
       "   9 │ CS025415000134   20190918  20150720          1521 days\n",
       "  10 │ CS021515000126   20171010  20150508          886 days"
      ]
     },
     "execution_count": 111,
     "metadata": {},
     "output_type": "execute_result"
    }
   ],
   "source": [
    "@chain df_receipt begin\n",
    "    innerjoin(df_customer, on=:customer_id)\n",
    "    select(:customer_id, :sales_ymd, :application_date)\n",
    "    @transform(:elapsed_days = Date.(string.(:sales_ymd), dateformat\"yyyymmdd\") .- Date.(:application_date, dateformat\"yyyymmdd\"))\n",
    "    first(10)\n",
    "end"
   ]
  },
  {
   "cell_type": "markdown",
   "id": "81fc3eb7-70f0-4af1-a06a-d8f9ce6275ae",
   "metadata": {},
   "source": [
    "---\n",
    "> P-071: レシート明細データ（df_receipt）の売上日（sales_ymd）に対し、顧客データ（df_customer）の会員申込日（application_date）からの経過月数を計算し、顧客ID（customer_id）、売上日、会員申込日とともに10件表示せよ（sales_ymdは数値、application_dateは文字列でデータを保持している点に注意）。1ヶ月未満は切り捨てること。"
   ]
  },
  {
   "cell_type": "code",
   "execution_count": 129,
   "id": "1a47871e-7080-4b2d-a749-c7ad45e44b14",
   "metadata": {},
   "outputs": [
    {
     "data": {
      "text/html": [
       "<div><div style = \"float: left;\"><span>10×5 DataFrame</span></div><div style = \"clear: both;\"></div></div><div class = \"data-frame\" style = \"overflow-x: scroll;\"><table class = \"data-frame\" style = \"margin-bottom: 6px;\"><thead><tr class = \"header\"><th class = \"rowNumber\" style = \"font-weight: bold; text-align: right;\">Row</th><th style = \"text-align: left;\">customer_id</th><th style = \"text-align: left;\">sales_ymd_date</th><th style = \"text-align: left;\">application_ymd_date</th><th style = \"text-align: left;\">elapsed_years</th><th style = \"text-align: left;\">elapsed_months</th></tr><tr class = \"subheader headerLastRow\"><th class = \"rowNumber\" style = \"font-weight: bold; text-align: right;\"></th><th title = \"Union{Missing, String}\" style = \"text-align: left;\">String?</th><th title = \"Date\" style = \"text-align: left;\">Date</th><th title = \"Date\" style = \"text-align: left;\">Date</th><th title = \"Int64\" style = \"text-align: left;\">Int64</th><th title = \"Int64\" style = \"text-align: left;\">Int64</th></tr></thead><tbody><tr><td class = \"rowNumber\" style = \"font-weight: bold; text-align: right;\">1</td><td style = \"text-align: left;\">CS006214000001</td><td style = \"text-align: left;\">2018-11-03</td><td style = \"text-align: left;\">2015-02-01</td><td style = \"text-align: right;\">3</td><td style = \"text-align: right;\">45</td></tr><tr><td class = \"rowNumber\" style = \"font-weight: bold; text-align: right;\">2</td><td style = \"text-align: left;\">CS008415000097</td><td style = \"text-align: left;\">2018-11-18</td><td style = \"text-align: left;\">2015-03-22</td><td style = \"text-align: right;\">3</td><td style = \"text-align: right;\">43</td></tr><tr><td class = \"rowNumber\" style = \"font-weight: bold; text-align: right;\">3</td><td style = \"text-align: left;\">CS028414000014</td><td style = \"text-align: left;\">2017-07-12</td><td style = \"text-align: left;\">2015-07-11</td><td style = \"text-align: right;\">2</td><td style = \"text-align: right;\">24</td></tr><tr><td class = \"rowNumber\" style = \"font-weight: bold; text-align: right;\">4</td><td style = \"text-align: left;\">CS025415000050</td><td style = \"text-align: left;\">2018-08-21</td><td style = \"text-align: left;\">2016-01-31</td><td style = \"text-align: right;\">2</td><td style = \"text-align: right;\">30</td></tr><tr><td class = \"rowNumber\" style = \"font-weight: bold; text-align: right;\">5</td><td style = \"text-align: left;\">CS003515000195</td><td style = \"text-align: left;\">2019-06-05</td><td style = \"text-align: left;\">2015-03-06</td><td style = \"text-align: right;\">4</td><td style = \"text-align: right;\">50</td></tr><tr><td class = \"rowNumber\" style = \"font-weight: bold; text-align: right;\">6</td><td style = \"text-align: left;\">CS024514000042</td><td style = \"text-align: left;\">2018-12-05</td><td style = \"text-align: left;\">2015-10-10</td><td style = \"text-align: right;\">3</td><td style = \"text-align: right;\">37</td></tr><tr><td class = \"rowNumber\" style = \"font-weight: bold; text-align: right;\">7</td><td style = \"text-align: left;\">CS040415000178</td><td style = \"text-align: left;\">2019-09-22</td><td style = \"text-align: left;\">2015-06-27</td><td style = \"text-align: right;\">4</td><td style = \"text-align: right;\">50</td></tr><tr><td class = \"rowNumber\" style = \"font-weight: bold; text-align: right;\">8</td><td style = \"text-align: left;\">CS027514000015</td><td style = \"text-align: left;\">2019-10-10</td><td style = \"text-align: left;\">2015-11-01</td><td style = \"text-align: right;\">4</td><td style = \"text-align: right;\">47</td></tr><tr><td class = \"rowNumber\" style = \"font-weight: bold; text-align: right;\">9</td><td style = \"text-align: left;\">CS025415000134</td><td style = \"text-align: left;\">2019-09-18</td><td style = \"text-align: left;\">2015-07-20</td><td style = \"text-align: right;\">4</td><td style = \"text-align: right;\">49</td></tr><tr><td class = \"rowNumber\" style = \"font-weight: bold; text-align: right;\">10</td><td style = \"text-align: left;\">CS021515000126</td><td style = \"text-align: left;\">2017-10-10</td><td style = \"text-align: left;\">2015-05-08</td><td style = \"text-align: right;\">2</td><td style = \"text-align: right;\">29</td></tr></tbody></table></div>"
      ],
      "text/latex": [
       "\\begin{tabular}{r|ccccc}\n",
       "\t& customer\\_id & sales\\_ymd\\_date & application\\_ymd\\_date & elapsed\\_years & elapsed\\_months\\\\\n",
       "\t\\hline\n",
       "\t& String? & Date & Date & Int64 & Int64\\\\\n",
       "\t\\hline\n",
       "\t1 & CS006214000001 & 2018-11-03 & 2015-02-01 & 3 & 45 \\\\\n",
       "\t2 & CS008415000097 & 2018-11-18 & 2015-03-22 & 3 & 43 \\\\\n",
       "\t3 & CS028414000014 & 2017-07-12 & 2015-07-11 & 2 & 24 \\\\\n",
       "\t4 & CS025415000050 & 2018-08-21 & 2016-01-31 & 2 & 30 \\\\\n",
       "\t5 & CS003515000195 & 2019-06-05 & 2015-03-06 & 4 & 50 \\\\\n",
       "\t6 & CS024514000042 & 2018-12-05 & 2015-10-10 & 3 & 37 \\\\\n",
       "\t7 & CS040415000178 & 2019-09-22 & 2015-06-27 & 4 & 50 \\\\\n",
       "\t8 & CS027514000015 & 2019-10-10 & 2015-11-01 & 4 & 47 \\\\\n",
       "\t9 & CS025415000134 & 2019-09-18 & 2015-07-20 & 4 & 49 \\\\\n",
       "\t10 & CS021515000126 & 2017-10-10 & 2015-05-08 & 2 & 29 \\\\\n",
       "\\end{tabular}\n"
      ],
      "text/plain": [
       "\u001b[1m10×5 DataFrame\u001b[0m\n",
       "\u001b[1m Row \u001b[0m│\u001b[1m customer_id    \u001b[0m\u001b[1m sales_ymd_date \u001b[0m\u001b[1m application_ymd_date \u001b[0m\u001b[1m elapsed_years \u001b[0m\u001b[1m el\u001b[0m ⋯\n",
       "     │\u001b[90m String?        \u001b[0m\u001b[90m Date           \u001b[0m\u001b[90m Date                 \u001b[0m\u001b[90m Int64         \u001b[0m\u001b[90m In\u001b[0m ⋯\n",
       "─────┼──────────────────────────────────────────────────────────────────────────\n",
       "   1 │ CS006214000001  2018-11-03      2015-02-01                        3     ⋯\n",
       "   2 │ CS008415000097  2018-11-18      2015-03-22                        3\n",
       "   3 │ CS028414000014  2017-07-12      2015-07-11                        2\n",
       "   4 │ CS025415000050  2018-08-21      2016-01-31                        2\n",
       "   5 │ CS003515000195  2019-06-05      2015-03-06                        4     ⋯\n",
       "   6 │ CS024514000042  2018-12-05      2015-10-10                        3\n",
       "   7 │ CS040415000178  2019-09-22      2015-06-27                        4\n",
       "   8 │ CS027514000015  2019-10-10      2015-11-01                        4\n",
       "   9 │ CS025415000134  2019-09-18      2015-07-20                        4     ⋯\n",
       "  10 │ CS021515000126  2017-10-10      2015-05-08                        2\n",
       "\u001b[36m                                                                1 column omitted\u001b[0m"
      ]
     },
     "execution_count": 129,
     "metadata": {},
     "output_type": "execute_result"
    }
   ],
   "source": [
    "@chain df_receipt begin\n",
    "    innerjoin(df_customer, on=:customer_id)\n",
    "    @transform(:sales_ymd_date = Date.(string.(:sales_ymd), dateformat\"yyyymmdd\"))\n",
    "    @transform(:application_ymd_date = Date.(:application_date, dateformat\"yyyymmdd\"))\n",
    "    select(:customer_id, :sales_ymd_date, :application_ymd_date)\n",
    "    @transform(:elapsed_years = Dates.value.(Year.(:sales_ymd_date)) - Dates.value.(Year.(:application_ymd_date)))\n",
    "    @transform(:elapsed_months = :elapsed_years * 12 .+ Dates.value.(Month.(:sales_ymd_date)) .- Dates.value.(Month.(:application_ymd_date)) .- (Day.(:sales_ymd_date) .< Day.(:application_ymd_date)))\n",
    "    @subset(:elapsed_months .>= 1)\n",
    "    first(10)\n",
    "end"
   ]
  },
  {
   "cell_type": "markdown",
   "id": "c2621153-a4ef-4f1a-8a27-952675139117",
   "metadata": {},
   "source": [
    "---\n",
    "> P-072: レシート明細データ（df_receipt）の売上日（df_customer）に対し、顧客データ（df_customer）の会員申込日（application_date）からの経過年数を計算し、顧客ID（customer_id）、売上日、会員申込日とともに10件表示せよ（sales_ymdは数値、application_dateは文字列でデータを保持している点に注意）。1年未満は切り捨てること。"
   ]
  },
  {
   "cell_type": "code",
   "execution_count": 153,
   "id": "517a6ba1-09a2-4ded-9a32-5b39ff281b02",
   "metadata": {},
   "outputs": [
    {
     "data": {
      "text/html": [
       "<div><div style = \"float: left;\"><span>10×4 DataFrame</span></div><div style = \"clear: both;\"></div></div><div class = \"data-frame\" style = \"overflow-x: scroll;\"><table class = \"data-frame\" style = \"margin-bottom: 6px;\"><thead><tr class = \"header\"><th class = \"rowNumber\" style = \"font-weight: bold; text-align: right;\">Row</th><th style = \"text-align: left;\">customer_id</th><th style = \"text-align: left;\">sales_ymd</th><th style = \"text-align: left;\">application_date</th><th style = \"text-align: left;\">elapsed_years</th></tr><tr class = \"subheader headerLastRow\"><th class = \"rowNumber\" style = \"font-weight: bold; text-align: right;\"></th><th title = \"Union{Missing, String}\" style = \"text-align: left;\">String?</th><th title = \"Union{Missing, Int32}\" style = \"text-align: left;\">Int32?</th><th title = \"Union{Missing, String}\" style = \"text-align: left;\">String?</th><th title = \"Int64\" style = \"text-align: left;\">Int64</th></tr></thead><tbody><tr><td class = \"rowNumber\" style = \"font-weight: bold; text-align: right;\">1</td><td style = \"text-align: left;\">CS006214000001</td><td style = \"text-align: right;\">20181103</td><td style = \"text-align: left;\">20150201</td><td style = \"text-align: right;\">3</td></tr><tr><td class = \"rowNumber\" style = \"font-weight: bold; text-align: right;\">2</td><td style = \"text-align: left;\">CS008415000097</td><td style = \"text-align: right;\">20181118</td><td style = \"text-align: left;\">20150322</td><td style = \"text-align: right;\">3</td></tr><tr><td class = \"rowNumber\" style = \"font-weight: bold; text-align: right;\">3</td><td style = \"text-align: left;\">CS028414000014</td><td style = \"text-align: right;\">20170712</td><td style = \"text-align: left;\">20150711</td><td style = \"text-align: right;\">2</td></tr><tr><td class = \"rowNumber\" style = \"font-weight: bold; text-align: right;\">4</td><td style = \"text-align: left;\">CS025415000050</td><td style = \"text-align: right;\">20180821</td><td style = \"text-align: left;\">20160131</td><td style = \"text-align: right;\">2</td></tr><tr><td class = \"rowNumber\" style = \"font-weight: bold; text-align: right;\">5</td><td style = \"text-align: left;\">CS003515000195</td><td style = \"text-align: right;\">20190605</td><td style = \"text-align: left;\">20150306</td><td style = \"text-align: right;\">4</td></tr><tr><td class = \"rowNumber\" style = \"font-weight: bold; text-align: right;\">6</td><td style = \"text-align: left;\">CS024514000042</td><td style = \"text-align: right;\">20181205</td><td style = \"text-align: left;\">20151010</td><td style = \"text-align: right;\">3</td></tr><tr><td class = \"rowNumber\" style = \"font-weight: bold; text-align: right;\">7</td><td style = \"text-align: left;\">CS040415000178</td><td style = \"text-align: right;\">20190922</td><td style = \"text-align: left;\">20150627</td><td style = \"text-align: right;\">4</td></tr><tr><td class = \"rowNumber\" style = \"font-weight: bold; text-align: right;\">8</td><td style = \"text-align: left;\">CS027514000015</td><td style = \"text-align: right;\">20191010</td><td style = \"text-align: left;\">20151101</td><td style = \"text-align: right;\">3</td></tr><tr><td class = \"rowNumber\" style = \"font-weight: bold; text-align: right;\">9</td><td style = \"text-align: left;\">CS025415000134</td><td style = \"text-align: right;\">20190918</td><td style = \"text-align: left;\">20150720</td><td style = \"text-align: right;\">4</td></tr><tr><td class = \"rowNumber\" style = \"font-weight: bold; text-align: right;\">10</td><td style = \"text-align: left;\">CS021515000126</td><td style = \"text-align: right;\">20171010</td><td style = \"text-align: left;\">20150508</td><td style = \"text-align: right;\">2</td></tr></tbody></table></div>"
      ],
      "text/latex": [
       "\\begin{tabular}{r|cccc}\n",
       "\t& customer\\_id & sales\\_ymd & application\\_date & elapsed\\_years\\\\\n",
       "\t\\hline\n",
       "\t& String? & Int32? & String? & Int64\\\\\n",
       "\t\\hline\n",
       "\t1 & CS006214000001 & 20181103 & 20150201 & 3 \\\\\n",
       "\t2 & CS008415000097 & 20181118 & 20150322 & 3 \\\\\n",
       "\t3 & CS028414000014 & 20170712 & 20150711 & 2 \\\\\n",
       "\t4 & CS025415000050 & 20180821 & 20160131 & 2 \\\\\n",
       "\t5 & CS003515000195 & 20190605 & 20150306 & 4 \\\\\n",
       "\t6 & CS024514000042 & 20181205 & 20151010 & 3 \\\\\n",
       "\t7 & CS040415000178 & 20190922 & 20150627 & 4 \\\\\n",
       "\t8 & CS027514000015 & 20191010 & 20151101 & 3 \\\\\n",
       "\t9 & CS025415000134 & 20190918 & 20150720 & 4 \\\\\n",
       "\t10 & CS021515000126 & 20171010 & 20150508 & 2 \\\\\n",
       "\\end{tabular}\n"
      ],
      "text/plain": [
       "\u001b[1m10×4 DataFrame\u001b[0m\n",
       "\u001b[1m Row \u001b[0m│\u001b[1m customer_id    \u001b[0m\u001b[1m sales_ymd \u001b[0m\u001b[1m application_date \u001b[0m\u001b[1m elapsed_years \u001b[0m\n",
       "     │\u001b[90m String?        \u001b[0m\u001b[90m Int32?    \u001b[0m\u001b[90m String?          \u001b[0m\u001b[90m Int64         \u001b[0m\n",
       "─────┼────────────────────────────────────────────────────────────\n",
       "   1 │ CS006214000001   20181103  20150201                      3\n",
       "   2 │ CS008415000097   20181118  20150322                      3\n",
       "   3 │ CS028414000014   20170712  20150711                      2\n",
       "   4 │ CS025415000050   20180821  20160131                      2\n",
       "   5 │ CS003515000195   20190605  20150306                      4\n",
       "   6 │ CS024514000042   20181205  20151010                      3\n",
       "   7 │ CS040415000178   20190922  20150627                      4\n",
       "   8 │ CS027514000015   20191010  20151101                      3\n",
       "   9 │ CS025415000134   20190918  20150720                      4\n",
       "  10 │ CS021515000126   20171010  20150508                      2"
      ]
     },
     "execution_count": 153,
     "metadata": {},
     "output_type": "execute_result"
    }
   ],
   "source": [
    "@chain df_receipt begin\n",
    "    innerjoin(df_customer, on=:customer_id)\n",
    "    select(:customer_id, :sales_ymd, :application_date)\n",
    "    @transform(:elapsed_years = (:sales_ymd .- parse.(Int, :application_date)) .÷ 10000)\n",
    "    @subset(:elapsed_years .>= 1)\n",
    "    first(10)\n",
    "end"
   ]
  },
  {
   "cell_type": "markdown",
   "id": "8f390b72-b511-4f40-971f-1943f1243279",
   "metadata": {},
   "source": [
    "---\n",
    "> P-073: レシート明細データ（df_receipt）の売上日（sales_ymd）に対し、顧客データ（df_customer）の会員申込日（application_date）からのエポック秒による経過時間を計算し、顧客ID（customer_id）、売上日、会員申込日とともに10件表示せよ（なお、sales_ymdは数値、application_dateは文字列でデータを保持している点に注意）。なお、時間情報は保有していないため各日付は0時0分0秒を表すものとする。"
   ]
  },
  {
   "cell_type": "code",
   "execution_count": 131,
   "id": "f8e814d0-c712-4ec5-8b71-595aa632a95c",
   "metadata": {},
   "outputs": [
    {
     "data": {
      "text/html": [
       "<div><div style = \"float: left;\"><span>10×4 DataFrame</span></div><div style = \"clear: both;\"></div></div><div class = \"data-frame\" style = \"overflow-x: scroll;\"><table class = \"data-frame\" style = \"margin-bottom: 6px;\"><thead><tr class = \"header\"><th class = \"rowNumber\" style = \"font-weight: bold; text-align: right;\">Row</th><th style = \"text-align: left;\">customer_id</th><th style = \"text-align: left;\">sales_ymd_date</th><th style = \"text-align: left;\">application_ymd_date</th><th style = \"text-align: left;\">elapsed_seconds</th></tr><tr class = \"subheader headerLastRow\"><th class = \"rowNumber\" style = \"font-weight: bold; text-align: right;\"></th><th title = \"Union{Missing, String}\" style = \"text-align: left;\">String?</th><th title = \"DateTime\" style = \"text-align: left;\">DateTime</th><th title = \"DateTime\" style = \"text-align: left;\">DateTime</th><th title = \"Millisecond\" style = \"text-align: left;\">Millisec…</th></tr></thead><tbody><tr><td class = \"rowNumber\" style = \"font-weight: bold; text-align: right;\">1</td><td style = \"text-align: left;\">CS006214000001</td><td style = \"text-align: left;\">2018-11-03T00:00:00</td><td style = \"text-align: left;\">2015-02-01T00:00:00</td><td style = \"text-align: left;\">118454400000 milliseconds</td></tr><tr><td class = \"rowNumber\" style = \"font-weight: bold; text-align: right;\">2</td><td style = \"text-align: left;\">CS008415000097</td><td style = \"text-align: left;\">2018-11-18T00:00:00</td><td style = \"text-align: left;\">2015-03-22T00:00:00</td><td style = \"text-align: left;\">115516800000 milliseconds</td></tr><tr><td class = \"rowNumber\" style = \"font-weight: bold; text-align: right;\">3</td><td style = \"text-align: left;\">CS028414000014</td><td style = \"text-align: left;\">2017-07-12T00:00:00</td><td style = \"text-align: left;\">2015-07-11T00:00:00</td><td style = \"text-align: left;\">63244800000 milliseconds</td></tr><tr><td class = \"rowNumber\" style = \"font-weight: bold; text-align: right;\">4</td><td style = \"text-align: left;\">CS025415000050</td><td style = \"text-align: left;\">2018-08-21T00:00:00</td><td style = \"text-align: left;\">2016-01-31T00:00:00</td><td style = \"text-align: left;\">80611200000 milliseconds</td></tr><tr><td class = \"rowNumber\" style = \"font-weight: bold; text-align: right;\">5</td><td style = \"text-align: left;\">CS003515000195</td><td style = \"text-align: left;\">2019-06-05T00:00:00</td><td style = \"text-align: left;\">2015-03-06T00:00:00</td><td style = \"text-align: left;\">134092800000 milliseconds</td></tr><tr><td class = \"rowNumber\" style = \"font-weight: bold; text-align: right;\">6</td><td style = \"text-align: left;\">CS024514000042</td><td style = \"text-align: left;\">2018-12-05T00:00:00</td><td style = \"text-align: left;\">2015-10-10T00:00:00</td><td style = \"text-align: left;\">99532800000 milliseconds</td></tr><tr><td class = \"rowNumber\" style = \"font-weight: bold; text-align: right;\">7</td><td style = \"text-align: left;\">CS040415000178</td><td style = \"text-align: left;\">2019-09-22T00:00:00</td><td style = \"text-align: left;\">2015-06-27T00:00:00</td><td style = \"text-align: left;\">133747200000 milliseconds</td></tr><tr><td class = \"rowNumber\" style = \"font-weight: bold; text-align: right;\">8</td><td style = \"text-align: left;\">CS027514000015</td><td style = \"text-align: left;\">2019-10-10T00:00:00</td><td style = \"text-align: left;\">2015-11-01T00:00:00</td><td style = \"text-align: left;\">124329600000 milliseconds</td></tr><tr><td class = \"rowNumber\" style = \"font-weight: bold; text-align: right;\">9</td><td style = \"text-align: left;\">CS025415000134</td><td style = \"text-align: left;\">2019-09-18T00:00:00</td><td style = \"text-align: left;\">2015-07-20T00:00:00</td><td style = \"text-align: left;\">131414400000 milliseconds</td></tr><tr><td class = \"rowNumber\" style = \"font-weight: bold; text-align: right;\">10</td><td style = \"text-align: left;\">CS021515000126</td><td style = \"text-align: left;\">2017-10-10T00:00:00</td><td style = \"text-align: left;\">2015-05-08T00:00:00</td><td style = \"text-align: left;\">76550400000 milliseconds</td></tr></tbody></table></div>"
      ],
      "text/latex": [
       "\\begin{tabular}{r|cccc}\n",
       "\t& customer\\_id & sales\\_ymd\\_date & application\\_ymd\\_date & elapsed\\_seconds\\\\\n",
       "\t\\hline\n",
       "\t& String? & DateTime & DateTime & Millisec…\\\\\n",
       "\t\\hline\n",
       "\t1 & CS006214000001 & 2018-11-03T00:00:00 & 2015-02-01T00:00:00 & 118454400000 milliseconds \\\\\n",
       "\t2 & CS008415000097 & 2018-11-18T00:00:00 & 2015-03-22T00:00:00 & 115516800000 milliseconds \\\\\n",
       "\t3 & CS028414000014 & 2017-07-12T00:00:00 & 2015-07-11T00:00:00 & 63244800000 milliseconds \\\\\n",
       "\t4 & CS025415000050 & 2018-08-21T00:00:00 & 2016-01-31T00:00:00 & 80611200000 milliseconds \\\\\n",
       "\t5 & CS003515000195 & 2019-06-05T00:00:00 & 2015-03-06T00:00:00 & 134092800000 milliseconds \\\\\n",
       "\t6 & CS024514000042 & 2018-12-05T00:00:00 & 2015-10-10T00:00:00 & 99532800000 milliseconds \\\\\n",
       "\t7 & CS040415000178 & 2019-09-22T00:00:00 & 2015-06-27T00:00:00 & 133747200000 milliseconds \\\\\n",
       "\t8 & CS027514000015 & 2019-10-10T00:00:00 & 2015-11-01T00:00:00 & 124329600000 milliseconds \\\\\n",
       "\t9 & CS025415000134 & 2019-09-18T00:00:00 & 2015-07-20T00:00:00 & 131414400000 milliseconds \\\\\n",
       "\t10 & CS021515000126 & 2017-10-10T00:00:00 & 2015-05-08T00:00:00 & 76550400000 milliseconds \\\\\n",
       "\\end{tabular}\n"
      ],
      "text/plain": [
       "\u001b[1m10×4 DataFrame\u001b[0m\n",
       "\u001b[1m Row \u001b[0m│\u001b[1m customer_id    \u001b[0m\u001b[1m sales_ymd_date      \u001b[0m\u001b[1m application_ymd_date \u001b[0m\u001b[1m elapsed_seco\u001b[0m ⋯\n",
       "     │\u001b[90m String?        \u001b[0m\u001b[90m DateTime            \u001b[0m\u001b[90m DateTime             \u001b[0m\u001b[90m Millisecond \u001b[0m ⋯\n",
       "─────┼──────────────────────────────────────────────────────────────────────────\n",
       "   1 │ CS006214000001  2018-11-03T00:00:00  2015-02-01T00:00:00   118454400000 ⋯\n",
       "   2 │ CS008415000097  2018-11-18T00:00:00  2015-03-22T00:00:00   115516800000\n",
       "   3 │ CS028414000014  2017-07-12T00:00:00  2015-07-11T00:00:00   63244800000\n",
       "   4 │ CS025415000050  2018-08-21T00:00:00  2016-01-31T00:00:00   80611200000\n",
       "   5 │ CS003515000195  2019-06-05T00:00:00  2015-03-06T00:00:00   134092800000 ⋯\n",
       "   6 │ CS024514000042  2018-12-05T00:00:00  2015-10-10T00:00:00   99532800000\n",
       "   7 │ CS040415000178  2019-09-22T00:00:00  2015-06-27T00:00:00   133747200000\n",
       "   8 │ CS027514000015  2019-10-10T00:00:00  2015-11-01T00:00:00   124329600000\n",
       "   9 │ CS025415000134  2019-09-18T00:00:00  2015-07-20T00:00:00   131414400000 ⋯\n",
       "  10 │ CS021515000126  2017-10-10T00:00:00  2015-05-08T00:00:00   76550400000\n",
       "\u001b[36m                                                                1 column omitted\u001b[0m"
      ]
     },
     "execution_count": 131,
     "metadata": {},
     "output_type": "execute_result"
    }
   ],
   "source": [
    "@chain df_receipt begin\n",
    "    innerjoin(df_customer, on=:customer_id)\n",
    "    @transform(:sales_ymd_date = DateTime.(string.(:sales_ymd), dateformat\"yyyymmdd\"))\n",
    "    @transform(:application_ymd_date = DateTime.(:application_date, dateformat\"yyyymmdd\"))\n",
    "    select(:customer_id, :sales_ymd_date, :application_ymd_date)\n",
    "    @transform(:elapsed_seconds = :sales_ymd_date .- :application_ymd_date)\n",
    "    first(10)\n",
    "end"
   ]
  },
  {
   "cell_type": "markdown",
   "id": "ce265b18-a53c-4180-a378-48a87195b4cc",
   "metadata": {},
   "source": [
    "---\n",
    "> P-074: レシート明細データ（df_receipt）の売上日（sales_ymd）に対し、当該週の月曜日からの経過日数を計算し、売上日、直前の月曜日付とともに10件表示せよ（sales_ymdは数値でデータを保持している点に注意）。"
   ]
  },
  {
   "cell_type": "code",
   "execution_count": 139,
   "id": "4759c2a5-853b-4b04-ac16-b8e6154e8acf",
   "metadata": {},
   "outputs": [
    {
     "data": {
      "text/html": [
       "<div><div style = \"float: left;\"><span>10×4 DataFrame</span></div><div style = \"clear: both;\"></div></div><div class = \"data-frame\" style = \"overflow-x: scroll;\"><table class = \"data-frame\" style = \"margin-bottom: 6px;\"><thead><tr class = \"header\"><th class = \"rowNumber\" style = \"font-weight: bold; text-align: right;\">Row</th><th style = \"text-align: left;\">customer_id</th><th style = \"text-align: left;\">sales_ymd_date</th><th style = \"text-align: left;\">elapsed_days_from_Mon</th><th style = \"text-align: left;\">Mon_of_week</th></tr><tr class = \"subheader headerLastRow\"><th class = \"rowNumber\" style = \"font-weight: bold; text-align: right;\"></th><th title = \"Union{Missing, String}\" style = \"text-align: left;\">String?</th><th title = \"Date\" style = \"text-align: left;\">Date</th><th title = \"Int64\" style = \"text-align: left;\">Int64</th><th title = \"Date\" style = \"text-align: left;\">Date</th></tr></thead><tbody><tr><td class = \"rowNumber\" style = \"font-weight: bold; text-align: right;\">1</td><td style = \"text-align: left;\">CS006214000001</td><td style = \"text-align: left;\">2018-11-03</td><td style = \"text-align: right;\">5</td><td style = \"text-align: left;\">2018-10-29</td></tr><tr><td class = \"rowNumber\" style = \"font-weight: bold; text-align: right;\">2</td><td style = \"text-align: left;\">CS008415000097</td><td style = \"text-align: left;\">2018-11-18</td><td style = \"text-align: right;\">6</td><td style = \"text-align: left;\">2018-11-12</td></tr><tr><td class = \"rowNumber\" style = \"font-weight: bold; text-align: right;\">3</td><td style = \"text-align: left;\">CS028414000014</td><td style = \"text-align: left;\">2017-07-12</td><td style = \"text-align: right;\">2</td><td style = \"text-align: left;\">2017-07-10</td></tr><tr><td class = \"rowNumber\" style = \"font-weight: bold; text-align: right;\">4</td><td style = \"text-align: left;\">ZZ000000000000</td><td style = \"text-align: left;\">2019-02-05</td><td style = \"text-align: right;\">1</td><td style = \"text-align: left;\">2019-02-04</td></tr><tr><td class = \"rowNumber\" style = \"font-weight: bold; text-align: right;\">5</td><td style = \"text-align: left;\">CS025415000050</td><td style = \"text-align: left;\">2018-08-21</td><td style = \"text-align: right;\">1</td><td style = \"text-align: left;\">2018-08-20</td></tr><tr><td class = \"rowNumber\" style = \"font-weight: bold; text-align: right;\">6</td><td style = \"text-align: left;\">CS003515000195</td><td style = \"text-align: left;\">2019-06-05</td><td style = \"text-align: right;\">2</td><td style = \"text-align: left;\">2019-06-03</td></tr><tr><td class = \"rowNumber\" style = \"font-weight: bold; text-align: right;\">7</td><td style = \"text-align: left;\">CS024514000042</td><td style = \"text-align: left;\">2018-12-05</td><td style = \"text-align: right;\">2</td><td style = \"text-align: left;\">2018-12-03</td></tr><tr><td class = \"rowNumber\" style = \"font-weight: bold; text-align: right;\">8</td><td style = \"text-align: left;\">CS040415000178</td><td style = \"text-align: left;\">2019-09-22</td><td style = \"text-align: right;\">6</td><td style = \"text-align: left;\">2019-09-16</td></tr><tr><td class = \"rowNumber\" style = \"font-weight: bold; text-align: right;\">9</td><td style = \"text-align: left;\">ZZ000000000000</td><td style = \"text-align: left;\">2017-05-04</td><td style = \"text-align: right;\">3</td><td style = \"text-align: left;\">2017-05-01</td></tr><tr><td class = \"rowNumber\" style = \"font-weight: bold; text-align: right;\">10</td><td style = \"text-align: left;\">CS027514000015</td><td style = \"text-align: left;\">2019-10-10</td><td style = \"text-align: right;\">3</td><td style = \"text-align: left;\">2019-10-07</td></tr></tbody></table></div>"
      ],
      "text/latex": [
       "\\begin{tabular}{r|cccc}\n",
       "\t& customer\\_id & sales\\_ymd\\_date & elapsed\\_days\\_from\\_Mon & Mon\\_of\\_week\\\\\n",
       "\t\\hline\n",
       "\t& String? & Date & Int64 & Date\\\\\n",
       "\t\\hline\n",
       "\t1 & CS006214000001 & 2018-11-03 & 5 & 2018-10-29 \\\\\n",
       "\t2 & CS008415000097 & 2018-11-18 & 6 & 2018-11-12 \\\\\n",
       "\t3 & CS028414000014 & 2017-07-12 & 2 & 2017-07-10 \\\\\n",
       "\t4 & ZZ000000000000 & 2019-02-05 & 1 & 2019-02-04 \\\\\n",
       "\t5 & CS025415000050 & 2018-08-21 & 1 & 2018-08-20 \\\\\n",
       "\t6 & CS003515000195 & 2019-06-05 & 2 & 2019-06-03 \\\\\n",
       "\t7 & CS024514000042 & 2018-12-05 & 2 & 2018-12-03 \\\\\n",
       "\t8 & CS040415000178 & 2019-09-22 & 6 & 2019-09-16 \\\\\n",
       "\t9 & ZZ000000000000 & 2017-05-04 & 3 & 2017-05-01 \\\\\n",
       "\t10 & CS027514000015 & 2019-10-10 & 3 & 2019-10-07 \\\\\n",
       "\\end{tabular}\n"
      ],
      "text/plain": [
       "\u001b[1m10×4 DataFrame\u001b[0m\n",
       "\u001b[1m Row \u001b[0m│\u001b[1m customer_id    \u001b[0m\u001b[1m sales_ymd_date \u001b[0m\u001b[1m elapsed_days_from_Mon \u001b[0m\u001b[1m Mon_of_week \u001b[0m\n",
       "     │\u001b[90m String?        \u001b[0m\u001b[90m Date           \u001b[0m\u001b[90m Int64                 \u001b[0m\u001b[90m Date        \u001b[0m\n",
       "─────┼────────────────────────────────────────────────────────────────────\n",
       "   1 │ CS006214000001  2018-11-03                          5  2018-10-29\n",
       "   2 │ CS008415000097  2018-11-18                          6  2018-11-12\n",
       "   3 │ CS028414000014  2017-07-12                          2  2017-07-10\n",
       "   4 │ ZZ000000000000  2019-02-05                          1  2019-02-04\n",
       "   5 │ CS025415000050  2018-08-21                          1  2018-08-20\n",
       "   6 │ CS003515000195  2019-06-05                          2  2019-06-03\n",
       "   7 │ CS024514000042  2018-12-05                          2  2018-12-03\n",
       "   8 │ CS040415000178  2019-09-22                          6  2019-09-16\n",
       "   9 │ ZZ000000000000  2017-05-04                          3  2017-05-01\n",
       "  10 │ CS027514000015  2019-10-10                          3  2019-10-07"
      ]
     },
     "execution_count": 139,
     "metadata": {},
     "output_type": "execute_result"
    }
   ],
   "source": [
    "@chain df_receipt begin\n",
    "    @transform(:sales_ymd_date = Date.(string.(:sales_ymd), dateformat\"yyyymmdd\"))\n",
    "    select(:customer_id, :sales_ymd_date)\n",
    "    @transform(:elapsed_days_from_Mon = Dates.dayofweek.(:sales_ymd_date) .- 1)\n",
    "    @transform(:Mon_of_week = :sales_ymd_date .- Day.(:elapsed_days_from_Mon))\n",
    "    first(10)\n",
    "end"
   ]
  },
  {
   "cell_type": "markdown",
   "id": "272d22a0-1b16-4d02-b511-3e6a26c03335",
   "metadata": {},
   "source": [
    "---\n",
    "> P-075: 顧客データ（df_customer）からランダムに1%のデータを抽出し、先頭から10件表示せよ。"
   ]
  },
  {
   "cell_type": "code",
   "execution_count": 150,
   "id": "cc01f171-3b6a-4668-9348-e380bfb982ee",
   "metadata": {},
   "outputs": [
    {
     "data": {
      "text/html": [
       "<div><div style = \"float: left;\"><span>10×11 DataFrame</span></div><div style = \"clear: both;\"></div></div><div class = \"data-frame\" style = \"overflow-x: scroll;\"><table class = \"data-frame\" style = \"margin-bottom: 6px;\"><thead><tr class = \"header\"><th class = \"rowNumber\" style = \"font-weight: bold; text-align: right;\">Row</th><th style = \"text-align: left;\">customer_id</th><th style = \"text-align: left;\">customer_name</th><th style = \"text-align: left;\">gender_cd</th><th style = \"text-align: left;\">gender</th><th style = \"text-align: left;\">birth_day</th><th style = \"text-align: left;\">age</th><th style = \"text-align: left;\">postal_cd</th><th style = \"text-align: left;\">address</th><th style = \"text-align: left;\">application_store_cd</th><th style = \"text-align: left;\">application_date</th><th style = \"text-align: left;\">status_cd</th></tr><tr class = \"subheader headerLastRow\"><th class = \"rowNumber\" style = \"font-weight: bold; text-align: right;\"></th><th title = \"Union{Missing, String}\" style = \"text-align: left;\">String?</th><th title = \"Union{Missing, String}\" style = \"text-align: left;\">String?</th><th title = \"Union{Missing, String}\" style = \"text-align: left;\">String?</th><th title = \"Union{Missing, String}\" style = \"text-align: left;\">String?</th><th title = \"Union{Missing, Date}\" style = \"text-align: left;\">Date?</th><th title = \"Union{Missing, Int32}\" style = \"text-align: left;\">Int32?</th><th title = \"Union{Missing, String}\" style = \"text-align: left;\">String?</th><th title = \"Union{Missing, String}\" style = \"text-align: left;\">String?</th><th title = \"Union{Missing, String}\" style = \"text-align: left;\">String?</th><th title = \"Union{Missing, String}\" style = \"text-align: left;\">String?</th><th title = \"Union{Missing, String}\" style = \"text-align: left;\">String?</th></tr></thead><tbody><tr><td class = \"rowNumber\" style = \"font-weight: bold; text-align: right;\">1</td><td style = \"text-align: left;\">CS038513000245</td><td style = \"text-align: left;\">村井 しぼり</td><td style = \"text-align: left;\">1</td><td style = \"text-align: left;\">女性</td><td style = \"text-align: left;\">1965-10-26</td><td style = \"text-align: right;\">53</td><td style = \"text-align: left;\">279-0004</td><td style = \"text-align: left;\">千葉県浦安市猫実**********</td><td style = \"text-align: left;\">S13038</td><td style = \"text-align: left;\">20180810</td><td style = \"text-align: left;\">0-00000000-0</td></tr><tr><td class = \"rowNumber\" style = \"font-weight: bold; text-align: right;\">2</td><td style = \"text-align: left;\">CS008415000263</td><td style = \"text-align: left;\">内田 莉緒</td><td style = \"text-align: left;\">1</td><td style = \"text-align: left;\">女性</td><td style = \"text-align: left;\">1970-10-12</td><td style = \"text-align: right;\">48</td><td style = \"text-align: left;\">201-0005</td><td style = \"text-align: left;\">東京都狛江市岩戸南**********</td><td style = \"text-align: left;\">S13008</td><td style = \"text-align: left;\">20150721</td><td style = \"text-align: left;\">E-20100720-F</td></tr><tr><td class = \"rowNumber\" style = \"font-weight: bold; text-align: right;\">3</td><td style = \"text-align: left;\">CS003412000457</td><td style = \"text-align: left;\">市川 ひろ子</td><td style = \"text-align: left;\">1</td><td style = \"text-align: left;\">女性</td><td style = \"text-align: left;\">1977-07-18</td><td style = \"text-align: right;\">41</td><td style = \"text-align: left;\">214-0021</td><td style = \"text-align: left;\">神奈川県川崎市多摩区宿河原**********</td><td style = \"text-align: left;\">S13003</td><td style = \"text-align: left;\">20170418</td><td style = \"text-align: left;\">0-00000000-0</td></tr><tr><td class = \"rowNumber\" style = \"font-weight: bold; text-align: right;\">4</td><td style = \"text-align: left;\">CS014214000023</td><td style = \"text-align: left;\">杉野 遥</td><td style = \"text-align: left;\">1</td><td style = \"text-align: left;\">女性</td><td style = \"text-align: left;\">1991-06-04</td><td style = \"text-align: right;\">27</td><td style = \"text-align: left;\">260-0041</td><td style = \"text-align: left;\">千葉県千葉市中央区東千葉**********</td><td style = \"text-align: left;\">S12014</td><td style = \"text-align: left;\">20151127</td><td style = \"text-align: left;\">F-20100410-F</td></tr><tr><td class = \"rowNumber\" style = \"font-weight: bold; text-align: right;\">5</td><td style = \"text-align: left;\">CS022412000075</td><td style = \"text-align: left;\">藤村 美佐子</td><td style = \"text-align: left;\">1</td><td style = \"text-align: left;\">女性</td><td style = \"text-align: left;\">1970-08-20</td><td style = \"text-align: right;\">48</td><td style = \"text-align: left;\">240-0112</td><td style = \"text-align: left;\">神奈川県三浦郡葉山町堀内**********</td><td style = \"text-align: left;\">S14022</td><td style = \"text-align: left;\">20150328</td><td style = \"text-align: left;\">0-00000000-0</td></tr><tr><td class = \"rowNumber\" style = \"font-weight: bold; text-align: right;\">6</td><td style = \"text-align: left;\">CS032513000114</td><td style = \"text-align: left;\">田原 涼</td><td style = \"text-align: left;\">1</td><td style = \"text-align: left;\">女性</td><td style = \"text-align: left;\">1967-11-26</td><td style = \"text-align: right;\">51</td><td style = \"text-align: left;\">144-0035</td><td style = \"text-align: left;\">東京都大田区南蒲田**********</td><td style = \"text-align: left;\">S13032</td><td style = \"text-align: left;\">20151022</td><td style = \"text-align: left;\">9-20100502-A</td></tr><tr><td class = \"rowNumber\" style = \"font-weight: bold; text-align: right;\">7</td><td style = \"text-align: left;\">CS014612000090</td><td style = \"text-align: left;\">宮崎 法子</td><td style = \"text-align: left;\">1</td><td style = \"text-align: left;\">女性</td><td style = \"text-align: left;\">1951-10-04</td><td style = \"text-align: right;\">67</td><td style = \"text-align: left;\">263-0035</td><td style = \"text-align: left;\">千葉県千葉市稲毛区稲毛町**********</td><td style = \"text-align: left;\">S12014</td><td style = \"text-align: left;\">20150324</td><td style = \"text-align: left;\">0-00000000-0</td></tr><tr><td class = \"rowNumber\" style = \"font-weight: bold; text-align: right;\">8</td><td style = \"text-align: left;\">CS004512000300</td><td style = \"text-align: left;\">根本 しほり</td><td style = \"text-align: left;\">1</td><td style = \"text-align: left;\">女性</td><td style = \"text-align: left;\">1962-03-22</td><td style = \"text-align: right;\">57</td><td style = \"text-align: left;\">176-0002</td><td style = \"text-align: left;\">東京都練馬区桜台**********</td><td style = \"text-align: left;\">S13004</td><td style = \"text-align: left;\">20160627</td><td style = \"text-align: left;\">2-20100712-1</td></tr><tr><td class = \"rowNumber\" style = \"font-weight: bold; text-align: right;\">9</td><td style = \"text-align: left;\">CS017711000013</td><td style = \"text-align: left;\">坂口 陽子</td><td style = \"text-align: left;\">1</td><td style = \"text-align: left;\">女性</td><td style = \"text-align: left;\">1947-04-15</td><td style = \"text-align: right;\">71</td><td style = \"text-align: left;\">166-0004</td><td style = \"text-align: left;\">東京都杉並区阿佐谷南**********</td><td style = \"text-align: left;\">S13017</td><td style = \"text-align: left;\">20150108</td><td style = \"text-align: left;\">0-00000000-0</td></tr><tr><td class = \"rowNumber\" style = \"font-weight: bold; text-align: right;\">10</td><td style = \"text-align: left;\">CS023211000003</td><td style = \"text-align: left;\">島津 郁恵</td><td style = \"text-align: left;\">1</td><td style = \"text-align: left;\">女性</td><td style = \"text-align: left;\">1994-12-07</td><td style = \"text-align: right;\">24</td><td style = \"text-align: left;\">144-0056</td><td style = \"text-align: left;\">東京都大田区西六郷**********</td><td style = \"text-align: left;\">S14023</td><td style = \"text-align: left;\">20150307</td><td style = \"text-align: left;\">6-20100331-7</td></tr></tbody></table></div>"
      ],
      "text/latex": [
       "\\begin{tabular}{r|cccccccc}\n",
       "\t& customer\\_id & customer\\_name & gender\\_cd & gender & birth\\_day & age & postal\\_cd & \\\\\n",
       "\t\\hline\n",
       "\t& String? & String? & String? & String? & Date? & Int32? & String? & \\\\\n",
       "\t\\hline\n",
       "\t1 & CS038513000245 & 村井 しぼり & 1 & 女性 & 1965-10-26 & 53 & 279-0004 & $\\dots$ \\\\\n",
       "\t2 & CS008415000263 & 内田 莉緒 & 1 & 女性 & 1970-10-12 & 48 & 201-0005 & $\\dots$ \\\\\n",
       "\t3 & CS003412000457 & 市川 ひろ子 & 1 & 女性 & 1977-07-18 & 41 & 214-0021 & $\\dots$ \\\\\n",
       "\t4 & CS014214000023 & 杉野 遥 & 1 & 女性 & 1991-06-04 & 27 & 260-0041 & $\\dots$ \\\\\n",
       "\t5 & CS022412000075 & 藤村 美佐子 & 1 & 女性 & 1970-08-20 & 48 & 240-0112 & $\\dots$ \\\\\n",
       "\t6 & CS032513000114 & 田原 涼 & 1 & 女性 & 1967-11-26 & 51 & 144-0035 & $\\dots$ \\\\\n",
       "\t7 & CS014612000090 & 宮崎 法子 & 1 & 女性 & 1951-10-04 & 67 & 263-0035 & $\\dots$ \\\\\n",
       "\t8 & CS004512000300 & 根本 しほり & 1 & 女性 & 1962-03-22 & 57 & 176-0002 & $\\dots$ \\\\\n",
       "\t9 & CS017711000013 & 坂口 陽子 & 1 & 女性 & 1947-04-15 & 71 & 166-0004 & $\\dots$ \\\\\n",
       "\t10 & CS023211000003 & 島津 郁恵 & 1 & 女性 & 1994-12-07 & 24 & 144-0056 & $\\dots$ \\\\\n",
       "\\end{tabular}\n"
      ],
      "text/plain": [
       "\u001b[1m10×11 DataFrame\u001b[0m\n",
       "\u001b[1m Row \u001b[0m│\u001b[1m customer_id    \u001b[0m\u001b[1m customer_name \u001b[0m\u001b[1m gender_cd \u001b[0m\u001b[1m gender  \u001b[0m\u001b[1m birth_day  \u001b[0m\u001b[1m age    \u001b[0m\u001b[1m \u001b[0m ⋯\n",
       "     │\u001b[90m String?        \u001b[0m\u001b[90m String?       \u001b[0m\u001b[90m String?   \u001b[0m\u001b[90m String? \u001b[0m\u001b[90m Date?      \u001b[0m\u001b[90m Int32? \u001b[0m\u001b[90m \u001b[0m ⋯\n",
       "─────┼──────────────────────────────────────────────────────────────────────────\n",
       "   1 │ CS038513000245  村井 しぼり    1          女性     1965-10-26      53   ⋯\n",
       "   2 │ CS008415000263  内田 莉緒      1          女性     1970-10-12      48\n",
       "   3 │ CS003412000457  市川 ひろ子    1          女性     1977-07-18      41\n",
       "   4 │ CS014214000023  杉野 遥        1          女性     1991-06-04      27\n",
       "   5 │ CS022412000075  藤村 美佐子    1          女性     1970-08-20      48   ⋯\n",
       "   6 │ CS032513000114  田原 涼        1          女性     1967-11-26      51\n",
       "   7 │ CS014612000090  宮崎 法子      1          女性     1951-10-04      67\n",
       "   8 │ CS004512000300  根本 しほり    1          女性     1962-03-22      57\n",
       "   9 │ CS017711000013  坂口 陽子      1          女性     1947-04-15      71   ⋯\n",
       "  10 │ CS023211000003  島津 郁恵      1          女性     1994-12-07      24\n",
       "\u001b[36m                                                               5 columns omitted\u001b[0m"
      ]
     },
     "execution_count": 150,
     "metadata": {},
     "output_type": "execute_result"
    }
   ],
   "source": [
    "first(df_customer[StatsBase.sample(1:size(df_customer)[1], div(size(df_customer)[1], 100), replace=false), :], 10)"
   ]
  },
  {
   "cell_type": "markdown",
   "id": "830a7ee6-47e9-4aa3-a209-48c6bce81e3b",
   "metadata": {},
   "source": [
    "---\n",
    "> P-076: 顧客データ（df_customer）から性別コード（gender_cd）の割合に基づきランダムに10%のデータを層化抽出し、性別コードごとに件数を集計せよ。"
   ]
  },
  {
   "cell_type": "code",
   "execution_count": 9,
   "id": "1fc688ab-b6fa-467c-a949-33d10cdc4a52",
   "metadata": {},
   "outputs": [
    {
     "data": {
      "text/html": [
       "<div><div style = \"float: left;\"><span>3×3 DataFrame</span></div><div style = \"clear: both;\"></div></div><div class = \"data-frame\" style = \"overflow-x: scroll;\"><table class = \"data-frame\" style = \"margin-bottom: 6px;\"><thead><tr class = \"header\"><th class = \"rowNumber\" style = \"font-weight: bold; text-align: right;\">Row</th><th style = \"text-align: left;\">gender_cd</th><th style = \"text-align: left;\">customer_num</th><th style = \"text-align: left;\">sample_num</th></tr><tr class = \"subheader headerLastRow\"><th class = \"rowNumber\" style = \"font-weight: bold; text-align: right;\"></th><th title = \"Union{Missing, String}\" style = \"text-align: left;\">String?</th><th title = \"Int64\" style = \"text-align: left;\">Int64</th><th title = \"Int64\" style = \"text-align: left;\">Int64</th></tr></thead><tbody><tr><td class = \"rowNumber\" style = \"font-weight: bold; text-align: right;\">1</td><td style = \"text-align: left;\">1</td><td style = \"text-align: right;\">17918</td><td style = \"text-align: right;\">1791</td></tr><tr><td class = \"rowNumber\" style = \"font-weight: bold; text-align: right;\">2</td><td style = \"text-align: left;\">9</td><td style = \"text-align: right;\">1072</td><td style = \"text-align: right;\">107</td></tr><tr><td class = \"rowNumber\" style = \"font-weight: bold; text-align: right;\">3</td><td style = \"text-align: left;\">0</td><td style = \"text-align: right;\">2981</td><td style = \"text-align: right;\">298</td></tr></tbody></table></div>"
      ],
      "text/latex": [
       "\\begin{tabular}{r|ccc}\n",
       "\t& gender\\_cd & customer\\_num & sample\\_num\\\\\n",
       "\t\\hline\n",
       "\t& String? & Int64 & Int64\\\\\n",
       "\t\\hline\n",
       "\t1 & 1 & 17918 & 1791 \\\\\n",
       "\t2 & 9 & 1072 & 107 \\\\\n",
       "\t3 & 0 & 2981 & 298 \\\\\n",
       "\\end{tabular}\n"
      ],
      "text/plain": [
       "\u001b[1m3×3 DataFrame\u001b[0m\n",
       "\u001b[1m Row \u001b[0m│\u001b[1m gender_cd \u001b[0m\u001b[1m customer_num \u001b[0m\u001b[1m sample_num \u001b[0m\n",
       "     │\u001b[90m String?   \u001b[0m\u001b[90m Int64        \u001b[0m\u001b[90m Int64      \u001b[0m\n",
       "─────┼─────────────────────────────────────\n",
       "   1 │ 1                 17918        1791\n",
       "   2 │ 9                  1072         107\n",
       "   3 │ 0                  2981         298"
      ]
     },
     "execution_count": 9,
     "metadata": {},
     "output_type": "execute_result"
    }
   ],
   "source": [
    "df_num_customer_by_gender = @chain df_customer begin\n",
    "    groupby(:gender_cd)\n",
    "    combine(nrow => :customer_num)\n",
    "    @transform(:sample_num = div.(:customer_num, 10))\n",
    "end"
   ]
  },
  {
   "cell_type": "code",
   "execution_count": 22,
   "id": "f0a9bfb7-1334-4572-b977-65b8bbd670f7",
   "metadata": {},
   "outputs": [
    {
     "data": {
      "text/html": [
       "<div><div style = \"float: left;\"><span>3×2 DataFrame</span></div><div style = \"clear: both;\"></div></div><div class = \"data-frame\" style = \"overflow-x: scroll;\"><table class = \"data-frame\" style = \"margin-bottom: 6px;\"><thead><tr class = \"header\"><th class = \"rowNumber\" style = \"font-weight: bold; text-align: right;\">Row</th><th style = \"text-align: left;\">gender_cd</th><th style = \"text-align: left;\">sample_num_result</th></tr><tr class = \"subheader headerLastRow\"><th class = \"rowNumber\" style = \"font-weight: bold; text-align: right;\"></th><th title = \"Union{Missing, String}\" style = \"text-align: left;\">String?</th><th title = \"Int64\" style = \"text-align: left;\">Int64</th></tr></thead><tbody><tr><td class = \"rowNumber\" style = \"font-weight: bold; text-align: right;\">1</td><td style = \"text-align: left;\">1</td><td style = \"text-align: right;\">1791</td></tr><tr><td class = \"rowNumber\" style = \"font-weight: bold; text-align: right;\">2</td><td style = \"text-align: left;\">9</td><td style = \"text-align: right;\">107</td></tr><tr><td class = \"rowNumber\" style = \"font-weight: bold; text-align: right;\">3</td><td style = \"text-align: left;\">0</td><td style = \"text-align: right;\">298</td></tr></tbody></table></div>"
      ],
      "text/latex": [
       "\\begin{tabular}{r|cc}\n",
       "\t& gender\\_cd & sample\\_num\\_result\\\\\n",
       "\t\\hline\n",
       "\t& String? & Int64\\\\\n",
       "\t\\hline\n",
       "\t1 & 1 & 1791 \\\\\n",
       "\t2 & 9 & 107 \\\\\n",
       "\t3 & 0 & 298 \\\\\n",
       "\\end{tabular}\n"
      ],
      "text/plain": [
       "\u001b[1m3×2 DataFrame\u001b[0m\n",
       "\u001b[1m Row \u001b[0m│\u001b[1m gender_cd \u001b[0m\u001b[1m sample_num_result \u001b[0m\n",
       "     │\u001b[90m String?   \u001b[0m\u001b[90m Int64             \u001b[0m\n",
       "─────┼──────────────────────────────\n",
       "   1 │ 1                       1791\n",
       "   2 │ 9                        107\n",
       "   3 │ 0                        298"
      ]
     },
     "execution_count": 22,
     "metadata": {},
     "output_type": "execute_result"
    }
   ],
   "source": [
    "function sampling(gender_cd)\n",
    "    df = @chain df_customer begin\n",
    "        @subset(:gender_cd .== gender_cd)\n",
    "    end\n",
    "    num_sample = df_num_customer_by_gender[df_num_customer_by_gender.gender_cd .== gender_cd, :sample_num][1]\n",
    "    n = nrow(df)\n",
    "    df[StatsBase.sample(1:n, num_sample, replace=false), :]\n",
    "end\n",
    "\n",
    "df_result = vcat([sampling(gender_cd) for gender_cd in df_num_customer_by_gender.gender_cd]...)\n",
    "\n",
    "@chain df_result begin\n",
    "    groupby(:gender_cd)\n",
    "    combine(nrow => :sample_num_result)\n",
    "end"
   ]
  },
  {
   "cell_type": "markdown",
   "id": "bd6910a6-3901-435e-a367-6b4fb30d9d8a",
   "metadata": {},
   "source": [
    "---\n",
    "> P-077: レシート明細データ（df_receipt）の売上金額を顧客単位に合計し、合計した売上金額の外れ値を抽出せよ。なお、外れ値は売上金額合計を対数化したうえで平均と標準偏差を計算し、その平均から3σを超えて離れたものとする（自然対数と常用対数のどちらでも可）。結果は10件表示せよ。"
   ]
  },
  {
   "cell_type": "code",
   "execution_count": 34,
   "id": "e03b6d6f-a523-4160-bf73-8998f8650cbf",
   "metadata": {},
   "outputs": [
    {
     "data": {
      "text/html": [
       "<div><div style = \"float: left;\"><span>1×2 DataFrame</span></div><div style = \"clear: both;\"></div></div><div class = \"data-frame\" style = \"overflow-x: scroll;\"><table class = \"data-frame\" style = \"margin-bottom: 6px;\"><thead><tr class = \"header\"><th class = \"rowNumber\" style = \"font-weight: bold; text-align: right;\">Row</th><th style = \"text-align: left;\">customer_id</th><th style = \"text-align: left;\">amount_log_sum</th></tr><tr class = \"subheader headerLastRow\"><th class = \"rowNumber\" style = \"font-weight: bold; text-align: right;\"></th><th title = \"Union{Missing, String}\" style = \"text-align: left;\">String?</th><th title = \"Float64\" style = \"text-align: left;\">Float64</th></tr></thead><tbody><tr><td class = \"rowNumber\" style = \"font-weight: bold; text-align: right;\">1</td><td style = \"text-align: left;\">ZZ000000000000</td><td style = \"text-align: right;\">16.3328</td></tr></tbody></table></div>"
      ],
      "text/latex": [
       "\\begin{tabular}{r|cc}\n",
       "\t& customer\\_id & amount\\_log\\_sum\\\\\n",
       "\t\\hline\n",
       "\t& String? & Float64\\\\\n",
       "\t\\hline\n",
       "\t1 & ZZ000000000000 & 16.3328 \\\\\n",
       "\\end{tabular}\n"
      ],
      "text/plain": [
       "\u001b[1m1×2 DataFrame\u001b[0m\n",
       "\u001b[1m Row \u001b[0m│\u001b[1m customer_id    \u001b[0m\u001b[1m amount_log_sum \u001b[0m\n",
       "     │\u001b[90m String?        \u001b[0m\u001b[90m Float64        \u001b[0m\n",
       "─────┼────────────────────────────────\n",
       "   1 │ ZZ000000000000         16.3328"
      ]
     },
     "execution_count": 34,
     "metadata": {},
     "output_type": "execute_result"
    }
   ],
   "source": [
    "df_log_sum_amount_by_customer = @chain df_receipt begin\n",
    "    groupby(:customer_id)\n",
    "    combine(:amount => log ∘ sum)\n",
    "end\n",
    "\n",
    "average_amount = mean(df_log_sum_amount_by_customer.amount_log_sum)\n",
    "std_amount = std(df_log_sum_amount_by_customer.amount_log_sum)\n",
    "\n",
    "first(\n",
    "    df_log_sum_amount_by_customer[abs.(df_log_sum_amount_by_customer.amount_log_sum .- average_amount) .> 3 * std_amount, :],\n",
    "    10\n",
    ")"
   ]
  },
  {
   "cell_type": "markdown",
   "id": "03bef9d2-bd67-4d4e-8da9-7dc60b4a1884",
   "metadata": {},
   "source": [
    "---\n",
    "> P-078: レシート明細データ（df_receipt）の売上金額（amount）を顧客単位に合計し、合計した売上金額の外れ値を抽出せよ。ただし、顧客IDが\"Z\"から始まるのものは非会員を表すため、除外して計算すること。なお、ここでは外れ値を第1四分位と第3四分位の差であるIQRを用いて、「第1四分位数-1.5×IQR」を下回るもの、または「第3四分位数+1.5×IQR」を超えるものとする。結果は10件表示せよ。"
   ]
  },
  {
   "cell_type": "code",
   "execution_count": 40,
   "id": "6637d841-f521-4a02-ad97-6aa1e1db1daa",
   "metadata": {},
   "outputs": [
    {
     "data": {
      "text/html": [
       "<div><div style = \"float: left;\"><span>10×2 DataFrame</span></div><div style = \"clear: both;\"></div></div><div class = \"data-frame\" style = \"overflow-x: scroll;\"><table class = \"data-frame\" style = \"margin-bottom: 6px;\"><thead><tr class = \"header\"><th class = \"rowNumber\" style = \"font-weight: bold; text-align: right;\">Row</th><th style = \"text-align: left;\">customer_id</th><th style = \"text-align: left;\">amount_sum</th></tr><tr class = \"subheader headerLastRow\"><th class = \"rowNumber\" style = \"font-weight: bold; text-align: right;\"></th><th title = \"Union{Missing, String}\" style = \"text-align: left;\">String?</th><th title = \"Int64\" style = \"text-align: left;\">Int64</th></tr></thead><tbody><tr><td class = \"rowNumber\" style = \"font-weight: bold; text-align: right;\">1</td><td style = \"text-align: left;\">CS001414000048</td><td style = \"text-align: right;\">8584</td></tr><tr><td class = \"rowNumber\" style = \"font-weight: bold; text-align: right;\">2</td><td style = \"text-align: left;\">CS001605000009</td><td style = \"text-align: right;\">18925</td></tr><tr><td class = \"rowNumber\" style = \"font-weight: bold; text-align: right;\">3</td><td style = \"text-align: left;\">CS002415000594</td><td style = \"text-align: right;\">9568</td></tr><tr><td class = \"rowNumber\" style = \"font-weight: bold; text-align: right;\">4</td><td style = \"text-align: left;\">CS004414000181</td><td style = \"text-align: right;\">9584</td></tr><tr><td class = \"rowNumber\" style = \"font-weight: bold; text-align: right;\">5</td><td style = \"text-align: left;\">CS005415000137</td><td style = \"text-align: right;\">8734</td></tr><tr><td class = \"rowNumber\" style = \"font-weight: bold; text-align: right;\">6</td><td style = \"text-align: left;\">CS006414000001</td><td style = \"text-align: right;\">9156</td></tr><tr><td class = \"rowNumber\" style = \"font-weight: bold; text-align: right;\">7</td><td style = \"text-align: left;\">CS006414000029</td><td style = \"text-align: right;\">9179</td></tr><tr><td class = \"rowNumber\" style = \"font-weight: bold; text-align: right;\">8</td><td style = \"text-align: left;\">CS006415000105</td><td style = \"text-align: right;\">10042</td></tr><tr><td class = \"rowNumber\" style = \"font-weight: bold; text-align: right;\">9</td><td style = \"text-align: left;\">CS006415000147</td><td style = \"text-align: right;\">12723</td></tr><tr><td class = \"rowNumber\" style = \"font-weight: bold; text-align: right;\">10</td><td style = \"text-align: left;\">CS006415000157</td><td style = \"text-align: right;\">10648</td></tr></tbody></table></div>"
      ],
      "text/latex": [
       "\\begin{tabular}{r|cc}\n",
       "\t& customer\\_id & amount\\_sum\\\\\n",
       "\t\\hline\n",
       "\t& String? & Int64\\\\\n",
       "\t\\hline\n",
       "\t1 & CS001414000048 & 8584 \\\\\n",
       "\t2 & CS001605000009 & 18925 \\\\\n",
       "\t3 & CS002415000594 & 9568 \\\\\n",
       "\t4 & CS004414000181 & 9584 \\\\\n",
       "\t5 & CS005415000137 & 8734 \\\\\n",
       "\t6 & CS006414000001 & 9156 \\\\\n",
       "\t7 & CS006414000029 & 9179 \\\\\n",
       "\t8 & CS006415000105 & 10042 \\\\\n",
       "\t9 & CS006415000147 & 12723 \\\\\n",
       "\t10 & CS006415000157 & 10648 \\\\\n",
       "\\end{tabular}\n"
      ],
      "text/plain": [
       "\u001b[1m10×2 DataFrame\u001b[0m\n",
       "\u001b[1m Row \u001b[0m│\u001b[1m customer_id    \u001b[0m\u001b[1m amount_sum \u001b[0m\n",
       "     │\u001b[90m String?        \u001b[0m\u001b[90m Int64      \u001b[0m\n",
       "─────┼────────────────────────────\n",
       "   1 │ CS001414000048        8584\n",
       "   2 │ CS001605000009       18925\n",
       "   3 │ CS002415000594        9568\n",
       "   4 │ CS004414000181        9584\n",
       "   5 │ CS005415000137        8734\n",
       "   6 │ CS006414000001        9156\n",
       "   7 │ CS006414000029        9179\n",
       "   8 │ CS006415000105       10042\n",
       "   9 │ CS006415000147       12723\n",
       "  10 │ CS006415000157       10648"
      ]
     },
     "execution_count": 40,
     "metadata": {},
     "output_type": "execute_result"
    }
   ],
   "source": [
    "df_sum_amount_by_customer = @chain df_receipt begin\n",
    "    @subset(.!startswith.(:customer_id, \"Z\"))\n",
    "    groupby(:customer_id)\n",
    "    combine(:amount => sum)\n",
    "end\n",
    "\n",
    "quantiles = quantile(df_sum_amount_by_customer.amount_sum, [1/4, 3/4])\n",
    "first_quantile = quantiles[1]\n",
    "third_quantile = quantiles[2]\n",
    "IQR = third_quantile - fist_quantile\n",
    "\n",
    "first(\n",
    "    @linq df_sum_amount_by_customer |> \n",
    "        where((:amount_sum .< first_quantile - 1.5 * IQR) .| (:amount_sum .> third_quantile + 1.5 * IQR)) |>\n",
    "        sort(:customer_id)\n",
    "    ,\n",
    "    10\n",
    ")"
   ]
  },
  {
   "cell_type": "markdown",
   "id": "9e280498-80b0-4a0d-b718-10d1605e81c6",
   "metadata": {},
   "source": [
    "---\n",
    "> P-079: 商品データ（df_product）の各項目に対し、欠損数を確認せよ。"
   ]
  },
  {
   "cell_type": "code",
   "execution_count": 49,
   "id": "d152b321-7d9c-4bbe-bb34-dd6a5fe76721",
   "metadata": {},
   "outputs": [
    {
     "name": "stdout",
     "output_type": "stream",
     "text": [
      "product_cd: 0\n",
      "category_major_cd: 0\n",
      "category_medium_cd: 0\n",
      "category_small_cd: 0\n",
      "unit_price: 7\n",
      "unit_cost: 7\n"
     ]
    }
   ],
   "source": [
    "for col in names(df_product)\n",
    "    println(col, \": \", sum(ismissing.(df_product[!, col])))\n",
    "end"
   ]
  },
  {
   "cell_type": "markdown",
   "id": "16e3a1a4-34a5-452f-9cbe-7c71fcfdd7aa",
   "metadata": {},
   "source": [
    "---\n",
    "> P-080: 商品データ（df_product）のいずれかの項目に欠損が発生しているレコードを全て削除した新たな商品データを作成せよ。なお、削除前後の件数を表示させ、079で確認した件数だけ減少していることも確認すること。"
   ]
  },
  {
   "cell_type": "code",
   "execution_count": 51,
   "id": "0e71b25b-1ece-4bbf-84cd-88014c030112",
   "metadata": {},
   "outputs": [
    {
     "name": "stdout",
     "output_type": "stream",
     "text": [
      "10030\n",
      "10023\n"
     ]
    }
   ],
   "source": [
    "println(nrow(df_product))\n",
    "\n",
    "println(nrow(dropmissing(df_product)))"
   ]
  },
  {
   "cell_type": "markdown",
   "id": "efa53a73-adaa-4ce7-be75-3a9ba452c618",
   "metadata": {},
   "source": [
    "---\n",
    "> P-081: 単価（unit_price）と原価（unit_cost）の欠損値について、それぞれの平均値で補完した新たな商品データを作成せよ。なお、平均値については1円未満を丸めること（四捨五入または偶数への丸めで良い）。補完実施後、各項目について欠損が生じていないことも確認すること。"
   ]
  },
  {
   "cell_type": "code",
   "execution_count": 62,
   "id": "b4b34a20-7763-4a34-95bd-113304163d6d",
   "metadata": {},
   "outputs": [
    {
     "name": "stdout",
     "output_type": "stream",
     "text": [
      "product_cd: 0\n",
      "category_major_cd: 0\n",
      "category_medium_cd: 0\n",
      "category_small_cd: 0\n",
      "unit_price: 0\n",
      "unit_cost: 0\n"
     ]
    }
   ],
   "source": [
    "price_mean = round(Int, mean(skipmissing(df_product.unit_price)))\n",
    "cost_mean = round(Int, mean(skipmissing(df_product.unit_cost)))\n",
    "\n",
    "df = copy(df_product)\n",
    "df.unit_price = coalesce.(df.unit_price, price_mean)\n",
    "df.unit_cost = coalesce.(df.unit_cost, cost_mean)\n",
    "\n",
    "for col in names(df)\n",
    "    println(col, \": \", sum(ismissing.(df[!, col])))\n",
    "end"
   ]
  },
  {
   "cell_type": "markdown",
   "id": "e1bfa8f5-1a96-46ae-923a-a846dc1bffd9",
   "metadata": {
    "tags": []
   },
   "source": [
    "---\n",
    "> P-082: 単価（unit_price）と原価（unit_cost）の欠損値について、それぞれの中央値で補完した新たな商品データを作成せよ。なお、中央値については1円未満を丸めること（四捨五入または偶数への丸めで良い）。補完実施後、各項目について欠損が生じていないことも確認すること。"
   ]
  },
  {
   "cell_type": "code",
   "execution_count": 63,
   "id": "4220fd1f-ca60-4888-b7ba-5f9760bb64b7",
   "metadata": {},
   "outputs": [
    {
     "name": "stdout",
     "output_type": "stream",
     "text": [
      "product_cd: 0\n",
      "category_major_cd: 0\n",
      "category_medium_cd: 0\n",
      "category_small_cd: 0\n",
      "unit_price: 0\n",
      "unit_cost: 0\n"
     ]
    }
   ],
   "source": [
    "price_mean = round(Int, median(skipmissing(df_product.unit_price)))\n",
    "cost_mean = round(Int, median(skipmissing(df_product.unit_cost)))\n",
    "\n",
    "df = copy(df_product)\n",
    "df.unit_price = coalesce.(df.unit_price, price_mean)\n",
    "df.unit_cost = coalesce.(df.unit_cost, cost_mean)\n",
    "\n",
    "for col in names(df)\n",
    "    println(col, \": \", sum(ismissing.(df[!, col])))\n",
    "end"
   ]
  },
  {
   "cell_type": "markdown",
   "id": "2467c324-216d-4eba-ad45-b9d8092808ea",
   "metadata": {},
   "source": [
    "---\n",
    "> P-083: 単価（unit_price）と原価（unit_cost）の欠損値について、各商品のカテゴリ小区分コード（category_small_cd）ごとに算出した中央値で補完した新たな商品データを作成せよ。なお、中央値については1円未満を丸めること（四捨五入または偶数への丸めで良い）。補完実施後、各項目について欠損が生じていないことも確認すること。"
   ]
  },
  {
   "cell_type": "code",
   "execution_count": 70,
   "id": "61b5afa4-d43b-4597-a3b6-444dfe7fb888",
   "metadata": {},
   "outputs": [
    {
     "name": "stdout",
     "output_type": "stream",
     "text": [
      "product_cd: 0\n",
      "category_major_cd: 0\n",
      "category_medium_cd: 0\n",
      "category_small_cd: 0\n",
      "unit_price: 0\n",
      "unit_cost: 0\n",
      "unit_price_median: 0\n",
      "unit_cost_median: 0\n"
     ]
    }
   ],
   "source": [
    "price_mean_by_group = @chain dropmissing(df_product) begin\n",
    "    groupby(:category_small_cd)\n",
    "    combine(:unit_price => median)\n",
    "    @transform(:unit_price_median = round.(Int, :unit_price_median))\n",
    "end\n",
    "\n",
    "df = @chain df_product begin\n",
    "    innerjoin(price_mean_by_group, on=:category_small_cd)\n",
    "    @transform(:unit_price = coalesce.(:unit_price, :unit_price_median))\n",
    "end\n",
    "\n",
    "cost_mean_by_group = @chain dropmissing(df_product) begin\n",
    "    groupby(:category_small_cd)\n",
    "    combine(:unit_cost => median)\n",
    "    @transform(:unit_cost_median = round.(Int, :unit_cost_median))\n",
    "end\n",
    "\n",
    "df = @chain df begin\n",
    "    innerjoin(cost_mean_by_group, on=:category_small_cd)\n",
    "    @transform(:unit_cost = coalesce.(:unit_cost, :unit_cost_median))\n",
    "end\n",
    "\n",
    "for col in names(df)\n",
    "    println(col, \": \", sum(ismissing.(df[!, col])))\n",
    "end"
   ]
  },
  {
   "cell_type": "markdown",
   "id": "2768592c-8186-4b9a-9042-540ee0fd779f",
   "metadata": {},
   "source": [
    "---\n",
    "> P-084: 顧客データ（df_customer）の全顧客に対して全期間の売上金額に占める2019年売上金額の割合を計算し、新たなデータを作成せよ。ただし、売上実績がない場合は0として扱うこと。そして計算した割合が0超のものを抽出し、結果を10件表示せよ。また、作成したデータに欠損が存在しないことを確認せよ。"
   ]
  },
  {
   "cell_type": "code",
   "execution_count": 83,
   "id": "85a16af1-dc35-4f23-ab73-94971743cddb",
   "metadata": {},
   "outputs": [
    {
     "data": {
      "text/html": [
       "<div><div style = \"float: left;\"><span>10×4 DataFrame</span></div><div style = \"clear: both;\"></div></div><div class = \"data-frame\" style = \"overflow-x: scroll;\"><table class = \"data-frame\" style = \"margin-bottom: 6px;\"><thead><tr class = \"header\"><th class = \"rowNumber\" style = \"font-weight: bold; text-align: right;\">Row</th><th style = \"text-align: left;\">customer_id</th><th style = \"text-align: left;\">amount_sum</th><th style = \"text-align: left;\">amount_2019</th><th style = \"text-align: left;\">amount_ratio_2019</th></tr><tr class = \"subheader headerLastRow\"><th class = \"rowNumber\" style = \"font-weight: bold; text-align: right;\"></th><th title = \"Union{Missing, String}\" style = \"text-align: left;\">String?</th><th title = \"Union{Missing, Int64}\" style = \"text-align: left;\">Int64?</th><th title = \"Int64\" style = \"text-align: left;\">Int64</th><th title = \"Float64\" style = \"text-align: left;\">Float64</th></tr></thead><tbody><tr><td class = \"rowNumber\" style = \"font-weight: bold; text-align: right;\">1</td><td style = \"text-align: left;\">CS031415000172</td><td style = \"text-align: right;\">5088</td><td style = \"text-align: right;\">2971</td><td style = \"text-align: right;\">0.583923</td></tr><tr><td class = \"rowNumber\" style = \"font-weight: bold; text-align: right;\">2</td><td style = \"text-align: left;\">CS015414000103</td><td style = \"text-align: right;\">3122</td><td style = \"text-align: right;\">874</td><td style = \"text-align: right;\">0.279949</td></tr><tr><td class = \"rowNumber\" style = \"font-weight: bold; text-align: right;\">3</td><td style = \"text-align: left;\">CS011215000048</td><td style = \"text-align: right;\">3444</td><td style = \"text-align: right;\">248</td><td style = \"text-align: right;\">0.0720093</td></tr><tr><td class = \"rowNumber\" style = \"font-weight: bold; text-align: right;\">4</td><td style = \"text-align: left;\">CS029415000023</td><td style = \"text-align: right;\">5167</td><td style = \"text-align: right;\">3767</td><td style = \"text-align: right;\">0.72905</td></tr><tr><td class = \"rowNumber\" style = \"font-weight: bold; text-align: right;\">5</td><td style = \"text-align: left;\">CS035415000029</td><td style = \"text-align: right;\">7504</td><td style = \"text-align: right;\">5823</td><td style = \"text-align: right;\">0.775986</td></tr><tr><td class = \"rowNumber\" style = \"font-weight: bold; text-align: right;\">6</td><td style = \"text-align: left;\">CS023513000066</td><td style = \"text-align: right;\">771</td><td style = \"text-align: right;\">208</td><td style = \"text-align: right;\">0.26978</td></tr><tr><td class = \"rowNumber\" style = \"font-weight: bold; text-align: right;\">7</td><td style = \"text-align: left;\">CS035513000134</td><td style = \"text-align: right;\">1565</td><td style = \"text-align: right;\">463</td><td style = \"text-align: right;\">0.295847</td></tr><tr><td class = \"rowNumber\" style = \"font-weight: bold; text-align: right;\">8</td><td style = \"text-align: left;\">CS001515000263</td><td style = \"text-align: right;\">216</td><td style = \"text-align: right;\">216</td><td style = \"text-align: right;\">1.0</td></tr><tr><td class = \"rowNumber\" style = \"font-weight: bold; text-align: right;\">9</td><td style = \"text-align: left;\">CS006415000279</td><td style = \"text-align: right;\">229</td><td style = \"text-align: right;\">229</td><td style = \"text-align: right;\">1.0</td></tr><tr><td class = \"rowNumber\" style = \"font-weight: bold; text-align: right;\">10</td><td style = \"text-align: left;\">CS031415000106</td><td style = \"text-align: right;\">7741</td><td style = \"text-align: right;\">215</td><td style = \"text-align: right;\">0.0277742</td></tr></tbody></table></div>"
      ],
      "text/latex": [
       "\\begin{tabular}{r|cccc}\n",
       "\t& customer\\_id & amount\\_sum & amount\\_2019 & amount\\_ratio\\_2019\\\\\n",
       "\t\\hline\n",
       "\t& String? & Int64? & Int64 & Float64\\\\\n",
       "\t\\hline\n",
       "\t1 & CS031415000172 & 5088 & 2971 & 0.583923 \\\\\n",
       "\t2 & CS015414000103 & 3122 & 874 & 0.279949 \\\\\n",
       "\t3 & CS011215000048 & 3444 & 248 & 0.0720093 \\\\\n",
       "\t4 & CS029415000023 & 5167 & 3767 & 0.72905 \\\\\n",
       "\t5 & CS035415000029 & 7504 & 5823 & 0.775986 \\\\\n",
       "\t6 & CS023513000066 & 771 & 208 & 0.26978 \\\\\n",
       "\t7 & CS035513000134 & 1565 & 463 & 0.295847 \\\\\n",
       "\t8 & CS001515000263 & 216 & 216 & 1.0 \\\\\n",
       "\t9 & CS006415000279 & 229 & 229 & 1.0 \\\\\n",
       "\t10 & CS031415000106 & 7741 & 215 & 0.0277742 \\\\\n",
       "\\end{tabular}\n"
      ],
      "text/plain": [
       "\u001b[1m10×4 DataFrame\u001b[0m\n",
       "\u001b[1m Row \u001b[0m│\u001b[1m customer_id    \u001b[0m\u001b[1m amount_sum \u001b[0m\u001b[1m amount_2019 \u001b[0m\u001b[1m amount_ratio_2019 \u001b[0m\n",
       "     │\u001b[90m String?        \u001b[0m\u001b[90m Int64?     \u001b[0m\u001b[90m Int64       \u001b[0m\u001b[90m Float64           \u001b[0m\n",
       "─────┼────────────────────────────────────────────────────────────\n",
       "   1 │ CS031415000172        5088         2971          0.583923\n",
       "   2 │ CS015414000103        3122          874          0.279949\n",
       "   3 │ CS011215000048        3444          248          0.0720093\n",
       "   4 │ CS029415000023        5167         3767          0.72905\n",
       "   5 │ CS035415000029        7504         5823          0.775986\n",
       "   6 │ CS023513000066         771          208          0.26978\n",
       "   7 │ CS035513000134        1565          463          0.295847\n",
       "   8 │ CS001515000263         216          216          1.0\n",
       "   9 │ CS006415000279         229          229          1.0\n",
       "  10 │ CS031415000106        7741          215          0.0277742"
      ]
     },
     "execution_count": 83,
     "metadata": {},
     "output_type": "execute_result"
    }
   ],
   "source": [
    "df_amount_by_customer = @chain df_receipt begin\n",
    "    groupby(:customer_id)\n",
    "    combine(:amount => sum)\n",
    "end\n",
    "\n",
    "df_amount_2019_by_customer = @chain df_receipt begin\n",
    "    @transform(:sales_year = Year.(Date.(string.(:sales_ymd), dateformat\"yyyymmdd\")))\n",
    "    @subset(:sales_year .== Year(2019))\n",
    "    groupby(:customer_id)\n",
    "    combine(:amount => sum => :amount_2019)\n",
    "end\n",
    "\n",
    "df_customer_ratio_2019 = @chain df_customer begin\n",
    "    select(:customer_id)\n",
    "    leftjoin(df_amount_by_customer, on=:customer_id)\n",
    "    @subset(.!ismissing.(:amount_sum))\n",
    "    leftjoin(df_amount_2019_by_customer, on=:customer_id)\n",
    "    @transform(:amount_2019 = coalesce.(:amount_2019, 0))\n",
    "    @transform(:amount_ratio_2019 = :amount_2019 ./ :amount_sum)\n",
    "    # sort(:customer_id)\n",
    "end\n",
    "\n",
    "first(df_customer_ratio_2019[df_customer_ratio_2019.amount_ratio_2019 .> 0, :], 10)"
   ]
  },
  {
   "cell_type": "code",
   "execution_count": 96,
   "id": "fb8c5375-9406-466b-b7bf-0e9f468d71a8",
   "metadata": {},
   "outputs": [
    {
     "name": "stdout",
     "output_type": "stream",
     "text": [
      "customer_id: 0\n",
      "amount_sum: 0\n",
      "amount_2019: 0\n",
      "amount_ratio_2019: 0\n"
     ]
    }
   ],
   "source": [
    "for col in names(df_customer_ratio_2019)\n",
    "    println(col, \": \", sum(ismissing.(df_customer_ratio_2019[!, col])))\n",
    "end"
   ]
  },
  {
   "cell_type": "markdown",
   "id": "d87e18a3-668f-4c55-b7ed-ac0053841a69",
   "metadata": {},
   "source": [
    "---\n",
    "> P-085: 顧客データ（df_customer）の全顧客に対し、郵便番号（postal_cd）を用いてジオコードデータ（df_geocode）を紐付け、新たな顧客データを作成せよ。ただし、1つの郵便番号（postal_cd）に複数の経度（longitude）、緯度（latitude）情報が紐づく場合は、経度（longitude）、緯度（latitude）の平均値を算出して使用すること。また、作成結果を確認するために結果を10件表示せよ。"
   ]
  },
  {
   "cell_type": "code",
   "execution_count": 4,
   "id": "c2d6b9ec-ae0c-4a29-a49c-81aef0d2acfa",
   "metadata": {},
   "outputs": [
    {
     "data": {
      "text/html": [
       "<div><div style = \"float: left;\"><span>10×13 DataFrame</span></div><div style = \"clear: both;\"></div></div><div class = \"data-frame\" style = \"overflow-x: scroll;\"><table class = \"data-frame\" style = \"margin-bottom: 6px;\"><thead><tr class = \"header\"><th class = \"rowNumber\" style = \"font-weight: bold; text-align: right;\">Row</th><th style = \"text-align: left;\">customer_id</th><th style = \"text-align: left;\">customer_name</th><th style = \"text-align: left;\">gender_cd</th><th style = \"text-align: left;\">gender</th><th style = \"text-align: left;\">birth_day</th><th style = \"text-align: left;\">age</th><th style = \"text-align: left;\">postal_cd</th><th style = \"text-align: left;\">address</th><th style = \"text-align: left;\">application_store_cd</th><th style = \"text-align: left;\">application_date</th><th style = \"text-align: left;\">status_cd</th><th style = \"text-align: left;\">longitude</th><th style = \"text-align: left;\">latitude</th></tr><tr class = \"subheader headerLastRow\"><th class = \"rowNumber\" style = \"font-weight: bold; text-align: right;\"></th><th title = \"Union{Missing, String}\" style = \"text-align: left;\">String?</th><th title = \"Union{Missing, String}\" style = \"text-align: left;\">String?</th><th title = \"Union{Missing, String}\" style = \"text-align: left;\">String?</th><th title = \"Union{Missing, String}\" style = \"text-align: left;\">String?</th><th title = \"Union{Missing, Date}\" style = \"text-align: left;\">Date?</th><th title = \"Union{Missing, Int32}\" style = \"text-align: left;\">Int32?</th><th title = \"Union{Missing, String}\" style = \"text-align: left;\">String?</th><th title = \"Union{Missing, String}\" style = \"text-align: left;\">String?</th><th title = \"Union{Missing, String}\" style = \"text-align: left;\">String?</th><th title = \"Union{Missing, String}\" style = \"text-align: left;\">String?</th><th title = \"Union{Missing, String}\" style = \"text-align: left;\">String?</th><th title = \"Decimals.Decimal\" style = \"text-align: left;\">Decimal</th><th title = \"Decimals.Decimal\" style = \"text-align: left;\">Decimal</th></tr></thead><tbody><tr><td class = \"rowNumber\" style = \"font-weight: bold; text-align: right;\">1</td><td style = \"text-align: left;\">CS020301000012</td><td style = \"text-align: left;\">都築 育二</td><td style = \"text-align: left;\">0</td><td style = \"text-align: left;\">男性</td><td style = \"text-align: left;\">1985-08-20</td><td style = \"text-align: right;\">33</td><td style = \"text-align: left;\">332-0031</td><td style = \"text-align: left;\">埼玉県川口市青木**********</td><td style = \"text-align: left;\">S13020</td><td style = \"text-align: left;\">20161018</td><td style = \"text-align: left;\">0-00000000-0</td><td style = \"text-align: right;\">139.72675</td><td style = \"text-align: right;\">35.80881</td></tr><tr><td class = \"rowNumber\" style = \"font-weight: bold; text-align: right;\">2</td><td style = \"text-align: left;\">CS051412000011</td><td style = \"text-align: left;\">奥村 愛</td><td style = \"text-align: left;\">1</td><td style = \"text-align: left;\">女性</td><td style = \"text-align: left;\">1969-06-04</td><td style = \"text-align: right;\">49</td><td style = \"text-align: left;\">332-0023</td><td style = \"text-align: left;\">埼玉県川口市飯塚**********</td><td style = \"text-align: left;\">S13051</td><td style = \"text-align: left;\">20180702</td><td style = \"text-align: left;\">0-00000000-0</td><td style = \"text-align: right;\">139.71146</td><td style = \"text-align: right;\">35.79651</td></tr><tr><td class = \"rowNumber\" style = \"font-weight: bold; text-align: right;\">3</td><td style = \"text-align: left;\">CS051412000012</td><td style = \"text-align: left;\">おかやま 未華子</td><td style = \"text-align: left;\">1</td><td style = \"text-align: left;\">女性</td><td style = \"text-align: left;\">1977-03-13</td><td style = \"text-align: right;\">42</td><td style = \"text-align: left;\">332-0023</td><td style = \"text-align: left;\">埼玉県川口市飯塚**********</td><td style = \"text-align: left;\">S13051</td><td style = \"text-align: left;\">20180511</td><td style = \"text-align: left;\">0-00000000-0</td><td style = \"text-align: right;\">139.71146</td><td style = \"text-align: right;\">35.79651</td></tr><tr><td class = \"rowNumber\" style = \"font-weight: bold; text-align: right;\">4</td><td style = \"text-align: left;\">CS051212000001</td><td style = \"text-align: left;\">美木 瞬</td><td style = \"text-align: left;\">1</td><td style = \"text-align: left;\">女性</td><td style = \"text-align: left;\">1991-10-19</td><td style = \"text-align: right;\">27</td><td style = \"text-align: left;\">332-0023</td><td style = \"text-align: left;\">埼玉県川口市飯塚**********</td><td style = \"text-align: left;\">S13051</td><td style = \"text-align: left;\">20180509</td><td style = \"text-align: left;\">2-20101018-4</td><td style = \"text-align: right;\">139.71146</td><td style = \"text-align: right;\">35.79651</td></tr><tr><td class = \"rowNumber\" style = \"font-weight: bold; text-align: right;\">5</td><td style = \"text-align: left;\">CS020112000003</td><td style = \"text-align: left;\">荒川 まなみ</td><td style = \"text-align: left;\">1</td><td style = \"text-align: left;\">女性</td><td style = \"text-align: left;\">2004-05-13</td><td style = \"text-align: right;\">14</td><td style = \"text-align: left;\">332-0015</td><td style = \"text-align: left;\">埼玉県川口市川口**********</td><td style = \"text-align: left;\">S13020</td><td style = \"text-align: left;\">20151116</td><td style = \"text-align: left;\">0-00000000-0</td><td style = \"text-align: right;\">139.7159</td><td style = \"text-align: right;\">35.80227</td></tr><tr><td class = \"rowNumber\" style = \"font-weight: bold; text-align: right;\">6</td><td style = \"text-align: left;\">CS020212000016</td><td style = \"text-align: left;\">藤沢 恵梨香</td><td style = \"text-align: left;\">1</td><td style = \"text-align: left;\">女性</td><td style = \"text-align: left;\">1991-08-08</td><td style = \"text-align: right;\">27</td><td style = \"text-align: left;\">332-0015</td><td style = \"text-align: left;\">埼玉県川口市川口**********</td><td style = \"text-align: left;\">S13020</td><td style = \"text-align: left;\">20150122</td><td style = \"text-align: left;\">4-20100207-3</td><td style = \"text-align: right;\">139.7159</td><td style = \"text-align: right;\">35.80227</td></tr><tr><td class = \"rowNumber\" style = \"font-weight: bold; text-align: right;\">7</td><td style = \"text-align: left;\">CS051512000001</td><td style = \"text-align: left;\">田原 夏希</td><td style = \"text-align: left;\">1</td><td style = \"text-align: left;\">女性</td><td style = \"text-align: left;\">1959-11-21</td><td style = \"text-align: right;\">59</td><td style = \"text-align: left;\">332-0015</td><td style = \"text-align: left;\">埼玉県川口市川口**********</td><td style = \"text-align: left;\">S13051</td><td style = \"text-align: left;\">20190325</td><td style = \"text-align: left;\">0-00000000-0</td><td style = \"text-align: right;\">139.7159</td><td style = \"text-align: right;\">35.80227</td></tr><tr><td class = \"rowNumber\" style = \"font-weight: bold; text-align: right;\">8</td><td style = \"text-align: left;\">CS020212000004</td><td style = \"text-align: left;\">前田 美佐</td><td style = \"text-align: left;\">1</td><td style = \"text-align: left;\">女性</td><td style = \"text-align: left;\">1989-12-11</td><td style = \"text-align: right;\">29</td><td style = \"text-align: left;\">332-0015</td><td style = \"text-align: left;\">埼玉県川口市川口**********</td><td style = \"text-align: left;\">S13020</td><td style = \"text-align: left;\">20150814</td><td style = \"text-align: left;\">C-20090906-9</td><td style = \"text-align: right;\">139.7159</td><td style = \"text-align: right;\">35.80227</td></tr><tr><td class = \"rowNumber\" style = \"font-weight: bold; text-align: right;\">9</td><td style = \"text-align: left;\">CS051502000001</td><td style = \"text-align: left;\">若山 哲平</td><td style = \"text-align: left;\">0</td><td style = \"text-align: left;\">男性</td><td style = \"text-align: left;\">1961-10-07</td><td style = \"text-align: right;\">57</td><td style = \"text-align: left;\">332-0015</td><td style = \"text-align: left;\">埼玉県川口市川口**********</td><td style = \"text-align: left;\">S13051</td><td style = \"text-align: left;\">20180209</td><td style = \"text-align: left;\">0-00000000-0</td><td style = \"text-align: right;\">139.7159</td><td style = \"text-align: right;\">35.80227</td></tr><tr><td class = \"rowNumber\" style = \"font-weight: bold; text-align: right;\">10</td><td style = \"text-align: left;\">CS020212000008</td><td style = \"text-align: left;\">板垣 瞳</td><td style = \"text-align: left;\">1</td><td style = \"text-align: left;\">女性</td><td style = \"text-align: left;\">1997-01-05</td><td style = \"text-align: right;\">22</td><td style = \"text-align: left;\">332-0015</td><td style = \"text-align: left;\">埼玉県川口市川口**********</td><td style = \"text-align: left;\">S13020</td><td style = \"text-align: left;\">20150105</td><td style = \"text-align: left;\">0-00000000-0</td><td style = \"text-align: right;\">139.7159</td><td style = \"text-align: right;\">35.80227</td></tr></tbody></table></div>"
      ],
      "text/latex": [
       "\\begin{tabular}{r|cccccccc}\n",
       "\t& customer\\_id & customer\\_name & gender\\_cd & gender & birth\\_day & age & postal\\_cd & \\\\\n",
       "\t\\hline\n",
       "\t& String? & String? & String? & String? & Date? & Int32? & String? & \\\\\n",
       "\t\\hline\n",
       "\t1 & CS020301000012 & 都築 育二 & 0 & 男性 & 1985-08-20 & 33 & 332-0031 & $\\dots$ \\\\\n",
       "\t2 & CS051412000011 & 奥村 愛 & 1 & 女性 & 1969-06-04 & 49 & 332-0023 & $\\dots$ \\\\\n",
       "\t3 & CS051412000012 & おかやま 未華子 & 1 & 女性 & 1977-03-13 & 42 & 332-0023 & $\\dots$ \\\\\n",
       "\t4 & CS051212000001 & 美木 瞬 & 1 & 女性 & 1991-10-19 & 27 & 332-0023 & $\\dots$ \\\\\n",
       "\t5 & CS020112000003 & 荒川 まなみ & 1 & 女性 & 2004-05-13 & 14 & 332-0015 & $\\dots$ \\\\\n",
       "\t6 & CS020212000016 & 藤沢 恵梨香 & 1 & 女性 & 1991-08-08 & 27 & 332-0015 & $\\dots$ \\\\\n",
       "\t7 & CS051512000001 & 田原 夏希 & 1 & 女性 & 1959-11-21 & 59 & 332-0015 & $\\dots$ \\\\\n",
       "\t8 & CS020212000004 & 前田 美佐 & 1 & 女性 & 1989-12-11 & 29 & 332-0015 & $\\dots$ \\\\\n",
       "\t9 & CS051502000001 & 若山 哲平 & 0 & 男性 & 1961-10-07 & 57 & 332-0015 & $\\dots$ \\\\\n",
       "\t10 & CS020212000008 & 板垣 瞳 & 1 & 女性 & 1997-01-05 & 22 & 332-0015 & $\\dots$ \\\\\n",
       "\\end{tabular}\n"
      ],
      "text/plain": [
       "\u001b[1m10×13 DataFrame\u001b[0m\n",
       "\u001b[1m Row \u001b[0m│\u001b[1m customer_id    \u001b[0m\u001b[1m customer_name   \u001b[0m\u001b[1m gender_cd \u001b[0m\u001b[1m gender  \u001b[0m\u001b[1m birth_day  \u001b[0m\u001b[1m age   \u001b[0m ⋯\n",
       "     │\u001b[90m String?        \u001b[0m\u001b[90m String?         \u001b[0m\u001b[90m String?   \u001b[0m\u001b[90m String? \u001b[0m\u001b[90m Date?      \u001b[0m\u001b[90m Int32?\u001b[0m ⋯\n",
       "─────┼──────────────────────────────────────────────────────────────────────────\n",
       "   1 │ CS020301000012  都築 育二        0          男性     1985-08-20      33 ⋯\n",
       "   2 │ CS051412000011  奥村 愛          1          女性     1969-06-04      49\n",
       "   3 │ CS051412000012  おかやま 未華子  1          女性     1977-03-13      42\n",
       "   4 │ CS051212000001  美木 瞬          1          女性     1991-10-19      27\n",
       "   5 │ CS020112000003  荒川 まなみ      1          女性     2004-05-13      14 ⋯\n",
       "   6 │ CS020212000016  藤沢 恵梨香      1          女性     1991-08-08      27\n",
       "   7 │ CS051512000001  田原 夏希        1          女性     1959-11-21      59\n",
       "   8 │ CS020212000004  前田 美佐        1          女性     1989-12-11      29\n",
       "   9 │ CS051502000001  若山 哲平        0          男性     1961-10-07      57 ⋯\n",
       "  10 │ CS020212000008  板垣 瞳          1          女性     1997-01-05      22\n",
       "\u001b[36m                                                               7 columns omitted\u001b[0m"
      ]
     },
     "execution_count": 4,
     "metadata": {},
     "output_type": "execute_result"
    }
   ],
   "source": [
    "df_geocode_unique_postal = @chain df_geocode begin\n",
    "    groupby(:postal_cd)\n",
    "    combine(:longitude => mean => :longitude, :latitude => mean => :latitude)\n",
    "end\n",
    "\n",
    "df_customer_long_lat = @chain df_customer begin\n",
    "    innerjoin(df_geocode_unique_postal, on=:postal_cd)\n",
    "    first(10)\n",
    "end"
   ]
  },
  {
   "cell_type": "markdown",
   "id": "635332c7-05de-484a-9e97-bdcb5388a70d",
   "metadata": {},
   "source": [
    "---\n",
    "> P-086: 085で作成した緯度経度つき顧客データに対し、会員申込店舗コード（application_store_cd）をキーに店舗データ（df_store）と結合せよ。そして申込み店舗の緯度（latitude）・経度情報（longitude)と顧客住所（address）の緯度・経度を用いて申込み店舗と顧客住所の距離（単位：km）を求め、顧客ID（customer_id）、顧客住所（address）、店舗住所（address）とともに表示せよ。計算式は以下の簡易式で良いものとするが、その他精度の高い方式を利用したライブラリを利用してもかまわない。結果は10件表示せよ。\n",
    "\n",
    "$$\n",
    "\\begin{aligned}\n",
    "& \\mbox{緯度（ラジアン）}：\\phi \\\\\n",
    "& \\mbox{経度（ラジアン）}：\\lambda \\\\\n",
    "& \\mbox{距離}L = 6371 * \\arccos(\\sin \\phi_1 * \\sin \\phi_2 \\\\\n",
    "& \\cos \\phi_1 * \\cos \\phi_2 * \\cos(\\lambda_1 − \\lambda_2))\n",
    "\\end{aligned}\n",
    "$$\n"
   ]
  },
  {
   "cell_type": "code",
   "execution_count": 5,
   "id": "65aee08f-9e86-4967-9d7d-72c436b61b6f",
   "metadata": {},
   "outputs": [
    {
     "data": {
      "text/plain": [
       "calc_distance (generic function with 1 method)"
      ]
     },
     "execution_count": 5,
     "metadata": {},
     "output_type": "execute_result"
    }
   ],
   "source": [
    "function calc_distance(long_1, lat_1, long_2, lat_2)\n",
    "    6371 * acos(\n",
    "        sin(deg2rad(Float64(long_1))) * sin(deg2rad(Float64(long_2)))\n",
    "        + cos(deg2rad(Float64(long_1))) * cos(deg2rad(Float64(long_2))) * cos(deg2rad(Float64(lat_1)) - deg2rad(Float64(lat_2)))\n",
    "    )\n",
    "end"
   ]
  },
  {
   "cell_type": "code",
   "execution_count": 6,
   "id": "9973f987-057a-46e1-b475-b823f341bc64",
   "metadata": {},
   "outputs": [
    {
     "data": {
      "text/html": [
       "<div><div style = \"float: left;\"><span>10×4 DataFrame</span></div><div style = \"clear: both;\"></div></div><div class = \"data-frame\" style = \"overflow-x: scroll;\"><table class = \"data-frame\" style = \"margin-bottom: 6px;\"><thead><tr class = \"header\"><th class = \"rowNumber\" style = \"font-weight: bold; text-align: right;\">Row</th><th style = \"text-align: left;\">customer_id</th><th style = \"text-align: left;\">address_customer</th><th style = \"text-align: left;\">address_store</th><th style = \"text-align: left;\">distance</th></tr><tr class = \"subheader headerLastRow\"><th class = \"rowNumber\" style = \"font-weight: bold; text-align: right;\"></th><th title = \"Union{Missing, String}\" style = \"text-align: left;\">String?</th><th title = \"Union{Missing, String}\" style = \"text-align: left;\">String?</th><th title = \"Union{Missing, String}\" style = \"text-align: left;\">String?</th><th title = \"Float64\" style = \"text-align: left;\">Float64</th></tr></thead><tbody><tr><td class = \"rowNumber\" style = \"font-weight: bold; text-align: right;\">1</td><td style = \"text-align: left;\">CS051412000011</td><td style = \"text-align: left;\">埼玉県川口市飯塚**********</td><td style = \"text-align: left;\">東京都板橋区大原町</td><td style = \"text-align: right;\">2.85235</td></tr><tr><td class = \"rowNumber\" style = \"font-weight: bold; text-align: right;\">2</td><td style = \"text-align: left;\">CS051412000012</td><td style = \"text-align: left;\">埼玉県川口市飯塚**********</td><td style = \"text-align: left;\">東京都板橋区大原町</td><td style = \"text-align: right;\">2.85235</td></tr><tr><td class = \"rowNumber\" style = \"font-weight: bold; text-align: right;\">3</td><td style = \"text-align: left;\">CS051212000001</td><td style = \"text-align: left;\">埼玉県川口市飯塚**********</td><td style = \"text-align: left;\">東京都板橋区大原町</td><td style = \"text-align: right;\">2.85235</td></tr><tr><td class = \"rowNumber\" style = \"font-weight: bold; text-align: right;\">4</td><td style = \"text-align: left;\">CS051512000001</td><td style = \"text-align: left;\">埼玉県川口市川口**********</td><td style = \"text-align: left;\">東京都板橋区大原町</td><td style = \"text-align: right;\">3.53115</td></tr><tr><td class = \"rowNumber\" style = \"font-weight: bold; text-align: right;\">5</td><td style = \"text-align: left;\">CS051502000001</td><td style = \"text-align: left;\">埼玉県川口市川口**********</td><td style = \"text-align: left;\">東京都板橋区大原町</td><td style = \"text-align: right;\">3.53115</td></tr><tr><td class = \"rowNumber\" style = \"font-weight: bold; text-align: right;\">6</td><td style = \"text-align: left;\">CS020301000012</td><td style = \"text-align: left;\">埼玉県川口市青木**********</td><td style = \"text-align: left;\">東京都北区十条仲原三丁目</td><td style = \"text-align: right;\">3.67233</td></tr><tr><td class = \"rowNumber\" style = \"font-weight: bold; text-align: right;\">7</td><td style = \"text-align: left;\">CS020112000003</td><td style = \"text-align: left;\">埼玉県川口市川口**********</td><td style = \"text-align: left;\">東京都北区十条仲原三丁目</td><td style = \"text-align: right;\">3.01867</td></tr><tr><td class = \"rowNumber\" style = \"font-weight: bold; text-align: right;\">8</td><td style = \"text-align: left;\">CS020212000016</td><td style = \"text-align: left;\">埼玉県川口市川口**********</td><td style = \"text-align: left;\">東京都北区十条仲原三丁目</td><td style = \"text-align: right;\">3.01867</td></tr><tr><td class = \"rowNumber\" style = \"font-weight: bold; text-align: right;\">9</td><td style = \"text-align: left;\">CS020212000004</td><td style = \"text-align: left;\">埼玉県川口市川口**********</td><td style = \"text-align: left;\">東京都北区十条仲原三丁目</td><td style = \"text-align: right;\">3.01867</td></tr><tr><td class = \"rowNumber\" style = \"font-weight: bold; text-align: right;\">10</td><td style = \"text-align: left;\">CS020212000008</td><td style = \"text-align: left;\">埼玉県川口市川口**********</td><td style = \"text-align: left;\">東京都北区十条仲原三丁目</td><td style = \"text-align: right;\">3.01867</td></tr></tbody></table></div>"
      ],
      "text/latex": [
       "\\begin{tabular}{r|cccc}\n",
       "\t& customer\\_id & address\\_customer & address\\_store & distance\\\\\n",
       "\t\\hline\n",
       "\t& String? & String? & String? & Float64\\\\\n",
       "\t\\hline\n",
       "\t1 & CS051412000011 & 埼玉県川口市飯塚********** & 東京都板橋区大原町 & 2.85235 \\\\\n",
       "\t2 & CS051412000012 & 埼玉県川口市飯塚********** & 東京都板橋区大原町 & 2.85235 \\\\\n",
       "\t3 & CS051212000001 & 埼玉県川口市飯塚********** & 東京都板橋区大原町 & 2.85235 \\\\\n",
       "\t4 & CS051512000001 & 埼玉県川口市川口********** & 東京都板橋区大原町 & 3.53115 \\\\\n",
       "\t5 & CS051502000001 & 埼玉県川口市川口********** & 東京都板橋区大原町 & 3.53115 \\\\\n",
       "\t6 & CS020301000012 & 埼玉県川口市青木********** & 東京都北区十条仲原三丁目 & 3.67233 \\\\\n",
       "\t7 & CS020112000003 & 埼玉県川口市川口********** & 東京都北区十条仲原三丁目 & 3.01867 \\\\\n",
       "\t8 & CS020212000016 & 埼玉県川口市川口********** & 東京都北区十条仲原三丁目 & 3.01867 \\\\\n",
       "\t9 & CS020212000004 & 埼玉県川口市川口********** & 東京都北区十条仲原三丁目 & 3.01867 \\\\\n",
       "\t10 & CS020212000008 & 埼玉県川口市川口********** & 東京都北区十条仲原三丁目 & 3.01867 \\\\\n",
       "\\end{tabular}\n"
      ],
      "text/plain": [
       "\u001b[1m10×4 DataFrame\u001b[0m\n",
       "\u001b[1m Row \u001b[0m│\u001b[1m customer_id    \u001b[0m\u001b[1m address_customer           \u001b[0m\u001b[1m address_store            \u001b[0m\u001b[1m d\u001b[0m ⋯\n",
       "     │\u001b[90m String?        \u001b[0m\u001b[90m String?                    \u001b[0m\u001b[90m String?                  \u001b[0m\u001b[90m F\u001b[0m ⋯\n",
       "─────┼──────────────────────────────────────────────────────────────────────────\n",
       "   1 │ CS051412000011  埼玉県川口市飯塚**********  東京都板橋区大原町          ⋯\n",
       "   2 │ CS051412000012  埼玉県川口市飯塚**********  東京都板橋区大原町\n",
       "   3 │ CS051212000001  埼玉県川口市飯塚**********  東京都板橋区大原町\n",
       "   4 │ CS051512000001  埼玉県川口市川口**********  東京都板橋区大原町\n",
       "   5 │ CS051502000001  埼玉県川口市川口**********  東京都板橋区大原町          ⋯\n",
       "   6 │ CS020301000012  埼玉県川口市青木**********  東京都北区十条仲原三丁目\n",
       "   7 │ CS020112000003  埼玉県川口市川口**********  東京都北区十条仲原三丁目\n",
       "   8 │ CS020212000016  埼玉県川口市川口**********  東京都北区十条仲原三丁目\n",
       "   9 │ CS020212000004  埼玉県川口市川口**********  東京都北区十条仲原三丁目    ⋯\n",
       "  10 │ CS020212000008  埼玉県川口市川口**********  東京都北区十条仲原三丁目\n",
       "\u001b[36m                                                                1 column omitted\u001b[0m"
      ]
     },
     "execution_count": 6,
     "metadata": {},
     "output_type": "execute_result"
    }
   ],
   "source": [
    "@chain df_customer_long_lat begin\n",
    "    select(:customer_id, :application_store_cd, :longitude => :longitude_customer, :latitude => :latitude_customer, :address => :address_customer)\n",
    "    innerjoin(df_store, on=:application_store_cd => :store_cd)\n",
    "    @transform(:distance = calc_distance.(\n",
    "            :longitude_customer, :latitude_customer, :longitude, :latitude\n",
    "        ))\n",
    "    select(:customer_id, :address_customer, :address => :address_store, :distance)\n",
    "    first(10)\n",
    "end"
   ]
  },
  {
   "cell_type": "markdown",
   "id": "0cdf8247-48db-45b6-ad20-8ddf8a469dc5",
   "metadata": {},
   "source": [
    "---\n",
    "> P-087: 顧客データ（df_customer）では、異なる店舗での申込みなどにより同一顧客が複数登録されている。名前（customer_name）と郵便番号（postal_cd）が同じ顧客は同一顧客とみなして1顧客1レコードとなるように名寄せした名寄顧客データを作成し、顧客データの件数、名寄顧客データの件数、重複数を算出せよ。ただし、同一顧客に対しては売上金額合計が最も高いものを残し、売上金額合計が同一もしくは売上実績がない顧客については顧客ID（customer_id）の番号が小さいものを残すこととする。"
   ]
  },
  {
   "cell_type": "code",
   "execution_count": 10,
   "id": "f755f9ce-b1e5-41bb-9dc3-32f9488f1dd0",
   "metadata": {},
   "outputs": [
    {
     "data": {
      "text/plain": [
       "21971"
      ]
     },
     "execution_count": 10,
     "metadata": {},
     "output_type": "execute_result"
    }
   ],
   "source": [
    "num_customer = nrow(df_customer)"
   ]
  },
  {
   "cell_type": "code",
   "execution_count": 29,
   "id": "fc27edbf-c0ac-4bd4-82ca-f0de55974081",
   "metadata": {},
   "outputs": [
    {
     "data": {
      "text/plain": [
       "21941"
      ]
     },
     "execution_count": 29,
     "metadata": {},
     "output_type": "execute_result"
    }
   ],
   "source": [
    "lst_unique_col = [:customer_name, :postal_cd]\n",
    "\n",
    "df_amount_by_customer = @chain df_receipt begin\n",
    "    groupby(:customer_id)\n",
    "    combine(:amount => sum)\n",
    "end\n",
    "\n",
    "df_unique_customer = @chain df_customer begin\n",
    "    leftjoin(df_amount_by_customer, on=:customer_id)\n",
    "    sort([:amount_sum, :customer_id])\n",
    "    unique(lst_unique_col)\n",
    "    select(names(df_customer))\n",
    "end\n",
    "\n",
    "num_unique_customer = nrow(df_unique_customer)"
   ]
  },
  {
   "cell_type": "code",
   "execution_count": 30,
   "id": "3eb9762a-267d-4740-af77-1354bb0937aa",
   "metadata": {},
   "outputs": [
    {
     "data": {
      "text/plain": [
       "30"
      ]
     },
     "execution_count": 30,
     "metadata": {},
     "output_type": "execute_result"
    }
   ],
   "source": [
    "# diff\n",
    "num_customer - num_unique_customer"
   ]
  },
  {
   "cell_type": "markdown",
   "id": "fa127a34-a83a-449e-a3bb-bd82a4df07c5",
   "metadata": {},
   "source": [
    "---\n",
    "> P-088: 087で作成したデータを元に、顧客データに統合名寄IDを付与したデータを作成せよ。ただし、統合名寄IDは以下の仕様で付与するものとする。\n",
    ">\n",
    "> - 重複していない顧客：顧客ID（customer_id）を設定\n",
    "> - 重複している顧客：前設問で抽出したレコードの顧客IDを設定\n",
    "> \n",
    "> 顧客IDのユニーク件数と、統合名寄IDのユニーク件数の差も確認すること。"
   ]
  },
  {
   "cell_type": "code",
   "execution_count": 34,
   "id": "8f02bdf7-d2b7-4295-8dfc-227b0d295bd9",
   "metadata": {},
   "outputs": [
    {
     "name": "stdout",
     "output_type": "stream",
     "text": [
      "30\n"
     ]
    }
   ],
   "source": [
    "df_customer_with_integration_id = @chain df_unique_customer begin\n",
    "    select(:customer_name, :postal_cd, :customer_id => :integration_id)\n",
    "    innerjoin(df_customer, on=lst_unique_col)\n",
    "end\n",
    "\n",
    "println(length(unique(df_customer_with_integration_id.customer_id)) - length(unique(df_customer_with_integration_id.integration_id)))"
   ]
  },
  {
   "cell_type": "markdown",
   "id": "fc64ec70-c423-48cf-894f-c178f7b5dbda",
   "metadata": {},
   "source": [
    "---\n",
    "> P-089: 売上実績がある顧客を、予測モデル構築のため学習用データとテスト用データに分割したい。それぞれ8:2の割合でランダムにデータを分割せよ。"
   ]
  },
  {
   "cell_type": "code",
   "execution_count": 4,
   "id": "8f6e3802-46f1-4b1d-aeda-2310c84c5d65",
   "metadata": {},
   "outputs": [
    {
     "name": "stdout",
     "output_type": "stream",
     "text": [
      "0.8000240789790513 0.19997592102094872\n"
     ]
    }
   ],
   "source": [
    "df_customer_with_sales = @chain df_receipt begin\n",
    "    groupby(:customer_id)\n",
    "    combine(:amount => sum)\n",
    "    @subset(:amount_sum .> 0)\n",
    "    innerjoin(df_customer, on=:customer_id)\n",
    "end\n",
    "\n",
    "n = nrow(df_customer_with_sales)\n",
    "idxs = StatsBase.sample(1:n, Int(round(0.8 * n)), replace=false, ordered=true)\n",
    "\n",
    "df_train = df_customer_with_sales[idxs, :]\n",
    "df_test = df_customer_with_sales[Not(idxs), :]\n",
    "\n",
    "n_train = nrow(df_train)\n",
    "n_test = nrow(df_test)\n",
    "println(n_train / (n_train + n_test), \" \", n_test / (n_train + n_test))"
   ]
  },
  {
   "cell_type": "markdown",
   "id": "5fe398c5-72e4-47b0-b6b9-c2eaf61269ff",
   "metadata": {},
   "source": [
    "---\n",
    "> P-090: レシート明細データ（df_receipt）は2017年1月1日〜2019年10月31日までのデータを有している。売上金額（amount）を月次で集計し、学習用に12ヶ月、テスト用に6ヶ月の時系列モデル構築用データを3セット作成せよ。"
   ]
  },
  {
   "cell_type": "code",
   "execution_count": 57,
   "id": "951c79a2-663e-4253-ad65-e87c36e92dd4",
   "metadata": {},
   "outputs": [
    {
     "data": {
      "text/plain": [
       "(\u001b[1m12×2 DataFrame\u001b[0m\n",
       "\u001b[1m Row \u001b[0m│\u001b[1m sales_ym   \u001b[0m\u001b[1m amount_sum \u001b[0m\n",
       "     │\u001b[90m Date       \u001b[0m\u001b[90m Int64      \u001b[0m\n",
       "─────┼────────────────────────\n",
       "   1 │ 2018-01-01      944509\n",
       "   2 │ 2018-02-01      864128\n",
       "   3 │ 2018-03-01      946588\n",
       "   4 │ 2018-04-01      937099\n",
       "   5 │ 2018-05-01     1004438\n",
       "   6 │ 2018-06-01     1012329\n",
       "   7 │ 2018-07-01     1058472\n",
       "   8 │ 2018-08-01     1045793\n",
       "   9 │ 2018-09-01      977114\n",
       "  10 │ 2018-10-01     1069939\n",
       "  11 │ 2018-11-01      967479\n",
       "  12 │ 2018-12-01     1016425, \u001b[1m6×2 DataFrame\u001b[0m\n",
       "\u001b[1m Row \u001b[0m│\u001b[1m sales_ym   \u001b[0m\u001b[1m amount_sum \u001b[0m\n",
       "     │\u001b[90m Date       \u001b[0m\u001b[90m Int64      \u001b[0m\n",
       "─────┼────────────────────────\n",
       "   1 │ 2019-01-01     1064085\n",
       "   2 │ 2019-02-01      959538\n",
       "   3 │ 2019-03-01     1093753\n",
       "   4 │ 2019-04-01     1044210\n",
       "   5 │ 2019-05-01     1111985\n",
       "   6 │ 2019-06-01     1089063)"
      ]
     },
     "execution_count": 57,
     "metadata": {},
     "output_type": "execute_result"
    }
   ],
   "source": [
    "df_amount_by_year_month = @chain df_receipt begin\n",
    "    @transform(:sales_ym = Date.(string.(:sales_ymd .÷ 100), dateformat\"yyyymm\"))\n",
    "    groupby(:sales_ym)\n",
    "    combine(:amount => sum)\n",
    "    sort(:sales_ym)\n",
    "end\n",
    "\n",
    "function split_12_train_6_test(df, start_offset::Int)\n",
    "    start_train_month = minimum(df.sales_ym) + Month(start_offset * 6)\n",
    "    start_test_month = start_train_month + Month(12)\n",
    "    df[start_train_month .<= df.sales_ym .< start_test_month, :], df[start_test_month .<= df.sales_ym .< start_test_month + Month(6), :]\n",
    "end\n",
    "\n",
    "df_train_1, df_test_1 = split_12_train_6_test(df_amount_by_year_month, 0)\n",
    "df_train_2, df_test_2 = split_12_train_6_test(df_amount_by_year_month, 1)\n",
    "df_train_3, df_test_3 = split_12_train_6_test(df_amount_by_year_month, 2)"
   ]
  },
  {
   "cell_type": "markdown",
   "id": "a772524e-38f8-4a72-a3c5-b58e661dd5d0",
   "metadata": {},
   "source": [
    "---\n",
    "> P-091: 顧客データ（df_customer）の各顧客に対し、売上実績がある顧客数と売上実績がない顧客数が1:1となるようにアンダーサンプリングで抽出せよ。"
   ]
  },
  {
   "cell_type": "code",
   "execution_count": 18,
   "id": "0cf3378e-ca96-4961-9593-a26c8461dd83",
   "metadata": {},
   "outputs": [
    {
     "name": "stdout",
     "output_type": "stream",
     "text": [
      "8306 8306\n"
     ]
    }
   ],
   "source": [
    "df_customer_with_sales = @chain df_receipt begin\n",
    "    groupby(:customer_id)\n",
    "    combine(:amount => sum)\n",
    "    @subset(:amount_sum .> 0)\n",
    "    innerjoin(df_customer, on=:customer_id)\n",
    "    select(names(df_customer))\n",
    "end\n",
    "df_customer_without_sales = antijoin(df_customer, df_customer_with_sales, on=:customer_id)\n",
    "\n",
    "n_with_sale = nrow(df_customer_with_sales)\n",
    "n_without_sale = nrow(df_customer_without_sales)\n",
    "num_sample = min(n_with_sale, n_without_sale)\n",
    "\n",
    "df_customer_with_sales_sampled = df_customer_with_sales[StatsBase.sample(1:n_with_sale, num_sample, replace=false), :]\n",
    "df_customer_without_sales_sampled = df_customer_without_sales[StatsBase.sample(1:n_without_sale, num_sample, replace=false), :]\n",
    "\n",
    "println(nrow(df_customer_with_sales_sampled), \" \", nrow(df_customer_without_sales_sampled))"
   ]
  },
  {
   "cell_type": "markdown",
   "id": "33e9634f-af51-4663-9a0f-7a4680a5d132",
   "metadata": {},
   "source": [
    "---\n",
    "> P-092: 顧客データ（df_customer）の性別について、第三正規形へと正規化せよ。"
   ]
  },
  {
   "cell_type": "code",
   "execution_count": 20,
   "id": "eea0b2bc-3ba4-437d-b5d4-e745a813c499",
   "metadata": {},
   "outputs": [
    {
     "data": {
      "text/html": [
       "<div><div style = \"float: left;\"><span>3×2 DataFrame</span></div><div style = \"clear: both;\"></div></div><div class = \"data-frame\" style = \"overflow-x: scroll;\"><table class = \"data-frame\" style = \"margin-bottom: 6px;\"><thead><tr class = \"header\"><th class = \"rowNumber\" style = \"font-weight: bold; text-align: right;\">Row</th><th style = \"text-align: left;\">gender_cd</th><th style = \"text-align: left;\">gender</th></tr><tr class = \"subheader headerLastRow\"><th class = \"rowNumber\" style = \"font-weight: bold; text-align: right;\"></th><th title = \"Union{Missing, String}\" style = \"text-align: left;\">String?</th><th title = \"Union{Missing, String}\" style = \"text-align: left;\">String?</th></tr></thead><tbody><tr><td class = \"rowNumber\" style = \"font-weight: bold; text-align: right;\">1</td><td style = \"text-align: left;\">1</td><td style = \"text-align: left;\">女性</td></tr><tr><td class = \"rowNumber\" style = \"font-weight: bold; text-align: right;\">2</td><td style = \"text-align: left;\">9</td><td style = \"text-align: left;\">不明</td></tr><tr><td class = \"rowNumber\" style = \"font-weight: bold; text-align: right;\">3</td><td style = \"text-align: left;\">0</td><td style = \"text-align: left;\">男性</td></tr></tbody></table></div>"
      ],
      "text/latex": [
       "\\begin{tabular}{r|cc}\n",
       "\t& gender\\_cd & gender\\\\\n",
       "\t\\hline\n",
       "\t& String? & String?\\\\\n",
       "\t\\hline\n",
       "\t1 & 1 & 女性 \\\\\n",
       "\t2 & 9 & 不明 \\\\\n",
       "\t3 & 0 & 男性 \\\\\n",
       "\\end{tabular}\n"
      ],
      "text/plain": [
       "\u001b[1m3×2 DataFrame\u001b[0m\n",
       "\u001b[1m Row \u001b[0m│\u001b[1m gender_cd \u001b[0m\u001b[1m gender  \u001b[0m\n",
       "     │\u001b[90m String?   \u001b[0m\u001b[90m String? \u001b[0m\n",
       "─────┼────────────────────\n",
       "   1 │ 1          女性\n",
       "   2 │ 9          不明\n",
       "   3 │ 0          男性"
      ]
     },
     "execution_count": 20,
     "metadata": {},
     "output_type": "execute_result"
    }
   ],
   "source": [
    "@chain df_customer begin\n",
    "    select(:gender_cd, :gender)\n",
    "    unique()\n",
    "end"
   ]
  },
  {
   "cell_type": "markdown",
   "id": "2bc59039-a4a4-4ddc-a200-609b4d35ff93",
   "metadata": {},
   "source": [
    "---\n",
    "> P-093: 商品データ（df_product）では各カテゴリのコード値だけを保有し、カテゴリ名は保有していない。カテゴリデータ（df_category）と組み合わせて非正規化し、カテゴリ名を保有した新たな商品データを作成せよ。"
   ]
  },
  {
   "cell_type": "code",
   "execution_count": 24,
   "id": "8a840987-06e3-4f78-930c-428fd4cefbae",
   "metadata": {},
   "outputs": [
    {
     "data": {
      "text/html": [
       "<div><div style = \"float: left;\"><span>10030×9 DataFrame</span></div><div style = \"float: right;\"><span style = \"font-style: italic;\">10005 rows omitted</span></div><div style = \"clear: both;\"></div></div><div class = \"data-frame\" style = \"overflow-x: scroll;\"><table class = \"data-frame\" style = \"margin-bottom: 6px;\"><thead><tr class = \"header\"><th class = \"rowNumber\" style = \"font-weight: bold; text-align: right;\">Row</th><th style = \"text-align: left;\">product_cd</th><th style = \"text-align: left;\">category_major_cd</th><th style = \"text-align: left;\">category_medium_cd</th><th style = \"text-align: left;\">category_small_cd</th><th style = \"text-align: left;\">unit_price</th><th style = \"text-align: left;\">unit_cost</th><th style = \"text-align: left;\">category_major_name</th><th style = \"text-align: left;\">category_medium_name</th><th style = \"text-align: left;\">category_small_name</th></tr><tr class = \"subheader headerLastRow\"><th class = \"rowNumber\" style = \"font-weight: bold; text-align: right;\"></th><th title = \"Union{Missing, String}\" style = \"text-align: left;\">String?</th><th title = \"Union{Missing, String}\" style = \"text-align: left;\">String?</th><th title = \"Union{Missing, String}\" style = \"text-align: left;\">String?</th><th title = \"Union{Missing, String}\" style = \"text-align: left;\">String?</th><th title = \"Union{Missing, Int32}\" style = \"text-align: left;\">Int32?</th><th title = \"Union{Missing, Int32}\" style = \"text-align: left;\">Int32?</th><th title = \"Union{Missing, String}\" style = \"text-align: left;\">String?</th><th title = \"Union{Missing, String}\" style = \"text-align: left;\">String?</th><th title = \"Union{Missing, String}\" style = \"text-align: left;\">String?</th></tr></thead><tbody><tr><td class = \"rowNumber\" style = \"font-weight: bold; text-align: right;\">1</td><td style = \"text-align: left;\">P040101001</td><td style = \"text-align: left;\">04</td><td style = \"text-align: left;\">0401</td><td style = \"text-align: left;\">040101</td><td style = \"text-align: right;\">198</td><td style = \"text-align: right;\">149</td><td style = \"text-align: left;\">惣菜</td><td style = \"text-align: left;\">御飯類</td><td style = \"text-align: left;\">弁当類</td></tr><tr><td class = \"rowNumber\" style = \"font-weight: bold; text-align: right;\">2</td><td style = \"text-align: left;\">P040101002</td><td style = \"text-align: left;\">04</td><td style = \"text-align: left;\">0401</td><td style = \"text-align: left;\">040101</td><td style = \"text-align: right;\">218</td><td style = \"text-align: right;\">164</td><td style = \"text-align: left;\">惣菜</td><td style = \"text-align: left;\">御飯類</td><td style = \"text-align: left;\">弁当類</td></tr><tr><td class = \"rowNumber\" style = \"font-weight: bold; text-align: right;\">3</td><td style = \"text-align: left;\">P040101003</td><td style = \"text-align: left;\">04</td><td style = \"text-align: left;\">0401</td><td style = \"text-align: left;\">040101</td><td style = \"text-align: right;\">230</td><td style = \"text-align: right;\">173</td><td style = \"text-align: left;\">惣菜</td><td style = \"text-align: left;\">御飯類</td><td style = \"text-align: left;\">弁当類</td></tr><tr><td class = \"rowNumber\" style = \"font-weight: bold; text-align: right;\">4</td><td style = \"text-align: left;\">P040101004</td><td style = \"text-align: left;\">04</td><td style = \"text-align: left;\">0401</td><td style = \"text-align: left;\">040101</td><td style = \"text-align: right;\">248</td><td style = \"text-align: right;\">186</td><td style = \"text-align: left;\">惣菜</td><td style = \"text-align: left;\">御飯類</td><td style = \"text-align: left;\">弁当類</td></tr><tr><td class = \"rowNumber\" style = \"font-weight: bold; text-align: right;\">5</td><td style = \"text-align: left;\">P040101005</td><td style = \"text-align: left;\">04</td><td style = \"text-align: left;\">0401</td><td style = \"text-align: left;\">040101</td><td style = \"text-align: right;\">268</td><td style = \"text-align: right;\">201</td><td style = \"text-align: left;\">惣菜</td><td style = \"text-align: left;\">御飯類</td><td style = \"text-align: left;\">弁当類</td></tr><tr><td class = \"rowNumber\" style = \"font-weight: bold; text-align: right;\">6</td><td style = \"text-align: left;\">P040101006</td><td style = \"text-align: left;\">04</td><td style = \"text-align: left;\">0401</td><td style = \"text-align: left;\">040101</td><td style = \"text-align: right;\">298</td><td style = \"text-align: right;\">224</td><td style = \"text-align: left;\">惣菜</td><td style = \"text-align: left;\">御飯類</td><td style = \"text-align: left;\">弁当類</td></tr><tr><td class = \"rowNumber\" style = \"font-weight: bold; text-align: right;\">7</td><td style = \"text-align: left;\">P040101007</td><td style = \"text-align: left;\">04</td><td style = \"text-align: left;\">0401</td><td style = \"text-align: left;\">040101</td><td style = \"text-align: right;\">338</td><td style = \"text-align: right;\">254</td><td style = \"text-align: left;\">惣菜</td><td style = \"text-align: left;\">御飯類</td><td style = \"text-align: left;\">弁当類</td></tr><tr><td class = \"rowNumber\" style = \"font-weight: bold; text-align: right;\">8</td><td style = \"text-align: left;\">P040101008</td><td style = \"text-align: left;\">04</td><td style = \"text-align: left;\">0401</td><td style = \"text-align: left;\">040101</td><td style = \"text-align: right;\">420</td><td style = \"text-align: right;\">315</td><td style = \"text-align: left;\">惣菜</td><td style = \"text-align: left;\">御飯類</td><td style = \"text-align: left;\">弁当類</td></tr><tr><td class = \"rowNumber\" style = \"font-weight: bold; text-align: right;\">9</td><td style = \"text-align: left;\">P040101009</td><td style = \"text-align: left;\">04</td><td style = \"text-align: left;\">0401</td><td style = \"text-align: left;\">040101</td><td style = \"text-align: right;\">498</td><td style = \"text-align: right;\">374</td><td style = \"text-align: left;\">惣菜</td><td style = \"text-align: left;\">御飯類</td><td style = \"text-align: left;\">弁当類</td></tr><tr><td class = \"rowNumber\" style = \"font-weight: bold; text-align: right;\">10</td><td style = \"text-align: left;\">P040101010</td><td style = \"text-align: left;\">04</td><td style = \"text-align: left;\">0401</td><td style = \"text-align: left;\">040101</td><td style = \"text-align: right;\">580</td><td style = \"text-align: right;\">435</td><td style = \"text-align: left;\">惣菜</td><td style = \"text-align: left;\">御飯類</td><td style = \"text-align: left;\">弁当類</td></tr><tr><td class = \"rowNumber\" style = \"font-weight: bold; text-align: right;\">11</td><td style = \"text-align: left;\">P040102001</td><td style = \"text-align: left;\">04</td><td style = \"text-align: left;\">0401</td><td style = \"text-align: left;\">040102</td><td style = \"text-align: right;\">268</td><td style = \"text-align: right;\">201</td><td style = \"text-align: left;\">惣菜</td><td style = \"text-align: left;\">御飯類</td><td style = \"text-align: left;\">寿司類</td></tr><tr><td class = \"rowNumber\" style = \"font-weight: bold; text-align: right;\">12</td><td style = \"text-align: left;\">P040102002</td><td style = \"text-align: left;\">04</td><td style = \"text-align: left;\">0401</td><td style = \"text-align: left;\">040102</td><td style = \"text-align: right;\">268</td><td style = \"text-align: right;\">201</td><td style = \"text-align: left;\">惣菜</td><td style = \"text-align: left;\">御飯類</td><td style = \"text-align: left;\">寿司類</td></tr><tr><td class = \"rowNumber\" style = \"font-weight: bold; text-align: right;\">13</td><td style = \"text-align: left;\">P040102003</td><td style = \"text-align: left;\">04</td><td style = \"text-align: left;\">0401</td><td style = \"text-align: left;\">040102</td><td style = \"text-align: right;\">278</td><td style = \"text-align: right;\">209</td><td style = \"text-align: left;\">惣菜</td><td style = \"text-align: left;\">御飯類</td><td style = \"text-align: left;\">寿司類</td></tr><tr><td style = \"text-align: right;\">&vellip;</td><td style = \"text-align: right;\">&vellip;</td><td style = \"text-align: right;\">&vellip;</td><td style = \"text-align: right;\">&vellip;</td><td style = \"text-align: right;\">&vellip;</td><td style = \"text-align: right;\">&vellip;</td><td style = \"text-align: right;\">&vellip;</td><td style = \"text-align: right;\">&vellip;</td><td style = \"text-align: right;\">&vellip;</td><td style = \"text-align: right;\">&vellip;</td></tr><tr><td class = \"rowNumber\" style = \"font-weight: bold; text-align: right;\">10019</td><td style = \"text-align: left;\">P091501043</td><td style = \"text-align: left;\">09</td><td style = \"text-align: left;\">0915</td><td style = \"text-align: left;\">091501</td><td style = \"text-align: right;\">800</td><td style = \"text-align: right;\">600</td><td style = \"text-align: left;\">洗剤</td><td style = \"text-align: left;\">ＤＩＹ用品</td><td style = \"text-align: left;\">建築・塗装材料</td></tr><tr><td class = \"rowNumber\" style = \"font-weight: bold; text-align: right;\">10020</td><td style = \"text-align: left;\">P091501044</td><td style = \"text-align: left;\">09</td><td style = \"text-align: left;\">0915</td><td style = \"text-align: left;\">091501</td><td style = \"text-align: right;\">880</td><td style = \"text-align: right;\">660</td><td style = \"text-align: left;\">洗剤</td><td style = \"text-align: left;\">ＤＩＹ用品</td><td style = \"text-align: left;\">建築・塗装材料</td></tr><tr><td class = \"rowNumber\" style = \"font-weight: bold; text-align: right;\">10021</td><td style = \"text-align: left;\">P091501045</td><td style = \"text-align: left;\">09</td><td style = \"text-align: left;\">0915</td><td style = \"text-align: left;\">091501</td><td style = \"text-align: right;\">980</td><td style = \"text-align: right;\">735</td><td style = \"text-align: left;\">洗剤</td><td style = \"text-align: left;\">ＤＩＹ用品</td><td style = \"text-align: left;\">建築・塗装材料</td></tr><tr><td class = \"rowNumber\" style = \"font-weight: bold; text-align: right;\">10022</td><td style = \"text-align: left;\">P091501046</td><td style = \"text-align: left;\">09</td><td style = \"text-align: left;\">0915</td><td style = \"text-align: left;\">091501</td><td style = \"text-align: right;\">980</td><td style = \"text-align: right;\">735</td><td style = \"text-align: left;\">洗剤</td><td style = \"text-align: left;\">ＤＩＹ用品</td><td style = \"text-align: left;\">建築・塗装材料</td></tr><tr><td class = \"rowNumber\" style = \"font-weight: bold; text-align: right;\">10023</td><td style = \"text-align: left;\">P091501047</td><td style = \"text-align: left;\">09</td><td style = \"text-align: left;\">0915</td><td style = \"text-align: left;\">091501</td><td style = \"text-align: right;\">1240</td><td style = \"text-align: right;\">930</td><td style = \"text-align: left;\">洗剤</td><td style = \"text-align: left;\">ＤＩＹ用品</td><td style = \"text-align: left;\">建築・塗装材料</td></tr><tr><td class = \"rowNumber\" style = \"font-weight: bold; text-align: right;\">10024</td><td style = \"text-align: left;\">P091501048</td><td style = \"text-align: left;\">09</td><td style = \"text-align: left;\">0915</td><td style = \"text-align: left;\">091501</td><td style = \"text-align: right;\">1360</td><td style = \"text-align: right;\">1020</td><td style = \"text-align: left;\">洗剤</td><td style = \"text-align: left;\">ＤＩＹ用品</td><td style = \"text-align: left;\">建築・塗装材料</td></tr><tr><td class = \"rowNumber\" style = \"font-weight: bold; text-align: right;\">10025</td><td style = \"text-align: left;\">P091501049</td><td style = \"text-align: left;\">09</td><td style = \"text-align: left;\">0915</td><td style = \"text-align: left;\">091501</td><td style = \"text-align: right;\">1380</td><td style = \"text-align: right;\">1035</td><td style = \"text-align: left;\">洗剤</td><td style = \"text-align: left;\">ＤＩＹ用品</td><td style = \"text-align: left;\">建築・塗装材料</td></tr><tr><td class = \"rowNumber\" style = \"font-weight: bold; text-align: right;\">10026</td><td style = \"text-align: left;\">P091503001</td><td style = \"text-align: left;\">09</td><td style = \"text-align: left;\">0915</td><td style = \"text-align: left;\">091503</td><td style = \"text-align: right;\">280</td><td style = \"text-align: right;\">210</td><td style = \"text-align: left;\">洗剤</td><td style = \"text-align: left;\">ＤＩＹ用品</td><td style = \"text-align: left;\">園芸用品</td></tr><tr><td class = \"rowNumber\" style = \"font-weight: bold; text-align: right;\">10027</td><td style = \"text-align: left;\">P091503002</td><td style = \"text-align: left;\">09</td><td style = \"text-align: left;\">0915</td><td style = \"text-align: left;\">091503</td><td style = \"text-align: right;\">680</td><td style = \"text-align: right;\">510</td><td style = \"text-align: left;\">洗剤</td><td style = \"text-align: left;\">ＤＩＹ用品</td><td style = \"text-align: left;\">園芸用品</td></tr><tr><td class = \"rowNumber\" style = \"font-weight: bold; text-align: right;\">10028</td><td style = \"text-align: left;\">P091503003</td><td style = \"text-align: left;\">09</td><td style = \"text-align: left;\">0915</td><td style = \"text-align: left;\">091503</td><td style = \"text-align: right;\">1080</td><td style = \"text-align: right;\">810</td><td style = \"text-align: left;\">洗剤</td><td style = \"text-align: left;\">ＤＩＹ用品</td><td style = \"text-align: left;\">園芸用品</td></tr><tr><td class = \"rowNumber\" style = \"font-weight: bold; text-align: right;\">10029</td><td style = \"text-align: left;\">P091503004</td><td style = \"text-align: left;\">09</td><td style = \"text-align: left;\">0915</td><td style = \"text-align: left;\">091503</td><td style = \"text-align: right;\">1130</td><td style = \"text-align: right;\">848</td><td style = \"text-align: left;\">洗剤</td><td style = \"text-align: left;\">ＤＩＹ用品</td><td style = \"text-align: left;\">園芸用品</td></tr><tr><td class = \"rowNumber\" style = \"font-weight: bold; text-align: right;\">10030</td><td style = \"text-align: left;\">P091503005</td><td style = \"text-align: left;\">09</td><td style = \"text-align: left;\">0915</td><td style = \"text-align: left;\">091503</td><td style = \"text-align: right;\">1280</td><td style = \"text-align: right;\">960</td><td style = \"text-align: left;\">洗剤</td><td style = \"text-align: left;\">ＤＩＹ用品</td><td style = \"text-align: left;\">園芸用品</td></tr></tbody></table></div>"
      ],
      "text/latex": [
       "\\begin{tabular}{r|cccccc}\n",
       "\t& product\\_cd & category\\_major\\_cd & category\\_medium\\_cd & category\\_small\\_cd & unit\\_price & \\\\\n",
       "\t\\hline\n",
       "\t& String? & String? & String? & String? & Int32? & \\\\\n",
       "\t\\hline\n",
       "\t1 & P040101001 & 04 & 0401 & 040101 & 198 & $\\dots$ \\\\\n",
       "\t2 & P040101002 & 04 & 0401 & 040101 & 218 & $\\dots$ \\\\\n",
       "\t3 & P040101003 & 04 & 0401 & 040101 & 230 & $\\dots$ \\\\\n",
       "\t4 & P040101004 & 04 & 0401 & 040101 & 248 & $\\dots$ \\\\\n",
       "\t5 & P040101005 & 04 & 0401 & 040101 & 268 & $\\dots$ \\\\\n",
       "\t6 & P040101006 & 04 & 0401 & 040101 & 298 & $\\dots$ \\\\\n",
       "\t7 & P040101007 & 04 & 0401 & 040101 & 338 & $\\dots$ \\\\\n",
       "\t8 & P040101008 & 04 & 0401 & 040101 & 420 & $\\dots$ \\\\\n",
       "\t9 & P040101009 & 04 & 0401 & 040101 & 498 & $\\dots$ \\\\\n",
       "\t10 & P040101010 & 04 & 0401 & 040101 & 580 & $\\dots$ \\\\\n",
       "\t11 & P040102001 & 04 & 0401 & 040102 & 268 & $\\dots$ \\\\\n",
       "\t12 & P040102002 & 04 & 0401 & 040102 & 268 & $\\dots$ \\\\\n",
       "\t13 & P040102003 & 04 & 0401 & 040102 & 278 & $\\dots$ \\\\\n",
       "\t14 & P040102004 & 04 & 0401 & 040102 & 318 & $\\dots$ \\\\\n",
       "\t15 & P040102005 & 04 & 0401 & 040102 & 318 & $\\dots$ \\\\\n",
       "\t16 & P040102006 & 04 & 0401 & 040102 & 318 & $\\dots$ \\\\\n",
       "\t17 & P040102007 & 04 & 0401 & 040102 & 338 & $\\dots$ \\\\\n",
       "\t18 & P040102008 & 04 & 0401 & 040102 & 358 & $\\dots$ \\\\\n",
       "\t19 & P040102009 & 04 & 0401 & 040102 & 358 & $\\dots$ \\\\\n",
       "\t20 & P040102010 & 04 & 0401 & 040102 & 358 & $\\dots$ \\\\\n",
       "\t21 & P040102011 & 04 & 0401 & 040102 & 358 & $\\dots$ \\\\\n",
       "\t22 & P040102012 & 04 & 0401 & 040102 & 358 & $\\dots$ \\\\\n",
       "\t23 & P040102013 & 04 & 0401 & 040102 & 398 & $\\dots$ \\\\\n",
       "\t24 & P040102014 & 04 & 0401 & 040102 & 398 & $\\dots$ \\\\\n",
       "\t25 & P040102015 & 04 & 0401 & 040102 & 398 & $\\dots$ \\\\\n",
       "\t26 & P040102016 & 04 & 0401 & 040102 & 398 & $\\dots$ \\\\\n",
       "\t27 & P040102017 & 04 & 0401 & 040102 & 438 & $\\dots$ \\\\\n",
       "\t28 & P040102018 & 04 & 0401 & 040102 & 498 & $\\dots$ \\\\\n",
       "\t29 & P040102019 & 04 & 0401 & 040102 & 598 & $\\dots$ \\\\\n",
       "\t30 & P040102020 & 04 & 0401 & 040102 & 980 & $\\dots$ \\\\\n",
       "\t$\\dots$ & $\\dots$ & $\\dots$ & $\\dots$ & $\\dots$ & $\\dots$ &  \\\\\n",
       "\\end{tabular}\n"
      ],
      "text/plain": [
       "\u001b[1m10030×9 DataFrame\u001b[0m\n",
       "\u001b[1m   Row \u001b[0m│\u001b[1m product_cd \u001b[0m\u001b[1m category_major_cd \u001b[0m\u001b[1m category_medium_cd \u001b[0m\u001b[1m category_small_cd \u001b[0m\u001b[1m\u001b[0m ⋯\n",
       "       │\u001b[90m String?    \u001b[0m\u001b[90m String?           \u001b[0m\u001b[90m String?            \u001b[0m\u001b[90m String?           \u001b[0m\u001b[90m\u001b[0m ⋯\n",
       "───────┼────────────────────────────────────────────────────────────────────────\n",
       "     1 │ P040101001  04                 0401                040101             ⋯\n",
       "     2 │ P040101002  04                 0401                040101\n",
       "     3 │ P040101003  04                 0401                040101\n",
       "     4 │ P040101004  04                 0401                040101\n",
       "     5 │ P040101005  04                 0401                040101             ⋯\n",
       "     6 │ P040101006  04                 0401                040101\n",
       "     7 │ P040101007  04                 0401                040101\n",
       "     8 │ P040101008  04                 0401                040101\n",
       "     9 │ P040101009  04                 0401                040101             ⋯\n",
       "    10 │ P040101010  04                 0401                040101\n",
       "    11 │ P040102001  04                 0401                040102\n",
       "   ⋮   │     ⋮               ⋮                  ⋮                   ⋮          ⋱\n",
       " 10021 │ P091501045  09                 0915                091501\n",
       " 10022 │ P091501046  09                 0915                091501             ⋯\n",
       " 10023 │ P091501047  09                 0915                091501\n",
       " 10024 │ P091501048  09                 0915                091501\n",
       " 10025 │ P091501049  09                 0915                091501\n",
       " 10026 │ P091503001  09                 0915                091503             ⋯\n",
       " 10027 │ P091503002  09                 0915                091503\n",
       " 10028 │ P091503003  09                 0915                091503\n",
       " 10029 │ P091503004  09                 0915                091503\n",
       " 10030 │ P091503005  09                 0915                091503             ⋯\n",
       "\u001b[36m                                                5 columns and 10009 rows omitted\u001b[0m"
      ]
     },
     "execution_count": 24,
     "metadata": {},
     "output_type": "execute_result"
    }
   ],
   "source": [
    "df_product_with_names = @chain df_product begin\n",
    "    innerjoin(df_category, on=[:category_major_cd, :category_medium_cd, :category_small_cd])\n",
    "end"
   ]
  },
  {
   "cell_type": "markdown",
   "id": "ffb747d6-47ec-4139-9a93-9ef909065365",
   "metadata": {},
   "source": [
    "---\n",
    "> P-094: 093で作成したカテゴリ名付き商品データを以下の仕様でファイル出力せよ。\n",
    ">\n",
    "> |ファイル形式|ヘッダ有無|文字エンコーディング|\n",
    "> |:--:|:--:|:--:|\n",
    "> |CSV（カンマ区切り）|有り|UTF-8|\n",
    "> \n",
    "> ファイル出力先のパスは以下のようにすること\n",
    "> \n",
    "> |出力先|\n",
    "> |:--:|\n",
    "> |./data|"
   ]
  },
  {
   "cell_type": "code",
   "execution_count": 27,
   "id": "6dadb1e7-23f6-4319-993c-388d584691e7",
   "metadata": {},
   "outputs": [
    {
     "data": {
      "text/plain": [
       "\"./data/output_p94.csv\""
      ]
     },
     "execution_count": 27,
     "metadata": {},
     "output_type": "execute_result"
    }
   ],
   "source": [
    "CSV.write(\"./data/output_p94.csv\", df_product_with_names, delim=',', writeheader=true)"
   ]
  },
  {
   "cell_type": "markdown",
   "id": "6cc6b0a4-46a2-43e6-aed2-61e97b25acdd",
   "metadata": {},
   "source": [
    "---\n",
    "> P-095: 093で作成したカテゴリ名付き商品データを以下の仕様でファイル出力せよ。\n",
    ">\n",
    "> |ファイル形式|ヘッダ有無|文字エンコーディング|\n",
    "> |:--:|:--:|:--:|\n",
    "> |CSV（カンマ区切り）|有り|CP932|\n",
    "> \n",
    "> ファイル出力先のパスは以下のようにすること。\n",
    "> \n",
    "> |出力先|\n",
    "> |:--:|\n",
    "> |./data|"
   ]
  },
  {
   "cell_type": "code",
   "execution_count": 102,
   "id": "7a15b0fa-e138-4d6f-beff-8fa094a521d6",
   "metadata": {},
   "outputs": [],
   "source": [
    "CSV.write(\"./data/output_p95.csv\", df_product_with_names, delim=',', writeheader=true)"
   ]
  },
  {
   "cell_type": "markdown",
   "id": "b577dc05-e3d3-4f36-ac3c-bb062006df5c",
   "metadata": {},
   "source": [
    "---\n",
    "> P-096: 093で作成したカテゴリ名付き商品データを以下の仕様でファイル出力せよ。\n",
    ">\n",
    "> |ファイル形式|ヘッダ有無|文字エンコーディング|\n",
    "> |:--:|:--:|:--:|\n",
    "> |CSV（カンマ区切り）|無し|UTF-8|\n",
    "> \n",
    "> ファイル出力先のパスは以下のようにすること。\n",
    "> \n",
    "> |出力先|\n",
    "> |:--:|\n",
    "> |./data|"
   ]
  },
  {
   "cell_type": "code",
   "execution_count": 28,
   "id": "3fa61428-6f8a-418c-a350-157715187a20",
   "metadata": {},
   "outputs": [
    {
     "data": {
      "text/plain": [
       "\"./data/output_p96.csv\""
      ]
     },
     "execution_count": 28,
     "metadata": {},
     "output_type": "execute_result"
    }
   ],
   "source": [
    "CSV.write(\"./data/output_p96.csv\", df_product_with_names, delim=',', writeheader=false)"
   ]
  },
  {
   "cell_type": "markdown",
   "id": "8f84d5cb-4252-4260-ae57-f8bd68b6805f",
   "metadata": {},
   "source": [
    "---\n",
    "> P-097: 094で作成した以下形式のファイルを読み込み、データを3件を表示させて正しく取り込まれていることを確認せよ。\n",
    "> \n",
    "> |ファイル形式|ヘッダ有無|文字エンコーディング|\n",
    "> |:--:|:--:|:--:|\n",
    "> |CSV（カンマ区切り）|有り|UTF-8|"
   ]
  },
  {
   "cell_type": "code",
   "execution_count": 30,
   "id": "e54a58a4-2ec5-489a-8f88-c74c7bf7086a",
   "metadata": {},
   "outputs": [
    {
     "data": {
      "text/html": [
       "<div><div style = \"float: left;\"><span>3×9 DataFrame</span></div><div style = \"clear: both;\"></div></div><div class = \"data-frame\" style = \"overflow-x: scroll;\"><table class = \"data-frame\" style = \"margin-bottom: 6px;\"><thead><tr class = \"header\"><th class = \"rowNumber\" style = \"font-weight: bold; text-align: right;\">Row</th><th style = \"text-align: left;\">product_cd</th><th style = \"text-align: left;\">category_major_cd</th><th style = \"text-align: left;\">category_medium_cd</th><th style = \"text-align: left;\">category_small_cd</th><th style = \"text-align: left;\">unit_price</th><th style = \"text-align: left;\">unit_cost</th><th style = \"text-align: left;\">category_major_name</th><th style = \"text-align: left;\">category_medium_name</th><th style = \"text-align: left;\">category_small_name</th></tr><tr class = \"subheader headerLastRow\"><th class = \"rowNumber\" style = \"font-weight: bold; text-align: right;\"></th><th title = \"String15\" style = \"text-align: left;\">String15</th><th title = \"Int64\" style = \"text-align: left;\">Int64</th><th title = \"Int64\" style = \"text-align: left;\">Int64</th><th title = \"Int64\" style = \"text-align: left;\">Int64</th><th title = \"Union{Missing, Int64}\" style = \"text-align: left;\">Int64?</th><th title = \"Union{Missing, Int64}\" style = \"text-align: left;\">Int64?</th><th title = \"String31\" style = \"text-align: left;\">String31</th><th title = \"String\" style = \"text-align: left;\">String</th><th title = \"String\" style = \"text-align: left;\">String</th></tr></thead><tbody><tr><td class = \"rowNumber\" style = \"font-weight: bold; text-align: right;\">1</td><td style = \"text-align: left;\">P040101001</td><td style = \"text-align: right;\">4</td><td style = \"text-align: right;\">401</td><td style = \"text-align: right;\">40101</td><td style = \"text-align: right;\">198</td><td style = \"text-align: right;\">149</td><td style = \"text-align: left;\">惣菜</td><td style = \"text-align: left;\">御飯類</td><td style = \"text-align: left;\">弁当類</td></tr><tr><td class = \"rowNumber\" style = \"font-weight: bold; text-align: right;\">2</td><td style = \"text-align: left;\">P040101002</td><td style = \"text-align: right;\">4</td><td style = \"text-align: right;\">401</td><td style = \"text-align: right;\">40101</td><td style = \"text-align: right;\">218</td><td style = \"text-align: right;\">164</td><td style = \"text-align: left;\">惣菜</td><td style = \"text-align: left;\">御飯類</td><td style = \"text-align: left;\">弁当類</td></tr><tr><td class = \"rowNumber\" style = \"font-weight: bold; text-align: right;\">3</td><td style = \"text-align: left;\">P040101003</td><td style = \"text-align: right;\">4</td><td style = \"text-align: right;\">401</td><td style = \"text-align: right;\">40101</td><td style = \"text-align: right;\">230</td><td style = \"text-align: right;\">173</td><td style = \"text-align: left;\">惣菜</td><td style = \"text-align: left;\">御飯類</td><td style = \"text-align: left;\">弁当類</td></tr></tbody></table></div>"
      ],
      "text/latex": [
       "\\begin{tabular}{r|cccccc}\n",
       "\t& product\\_cd & category\\_major\\_cd & category\\_medium\\_cd & category\\_small\\_cd & unit\\_price & \\\\\n",
       "\t\\hline\n",
       "\t& String15 & Int64 & Int64 & Int64 & Int64? & \\\\\n",
       "\t\\hline\n",
       "\t1 & P040101001 & 4 & 401 & 40101 & 198 & $\\dots$ \\\\\n",
       "\t2 & P040101002 & 4 & 401 & 40101 & 218 & $\\dots$ \\\\\n",
       "\t3 & P040101003 & 4 & 401 & 40101 & 230 & $\\dots$ \\\\\n",
       "\\end{tabular}\n"
      ],
      "text/plain": [
       "\u001b[1m3×9 DataFrame\u001b[0m\n",
       "\u001b[1m Row \u001b[0m│\u001b[1m product_cd \u001b[0m\u001b[1m category_major_cd \u001b[0m\u001b[1m category_medium_cd \u001b[0m\u001b[1m category_small_cd \u001b[0m\u001b[1m u\u001b[0m ⋯\n",
       "     │\u001b[90m String15   \u001b[0m\u001b[90m Int64             \u001b[0m\u001b[90m Int64              \u001b[0m\u001b[90m Int64             \u001b[0m\u001b[90m I\u001b[0m ⋯\n",
       "─────┼──────────────────────────────────────────────────────────────────────────\n",
       "   1 │ P040101001                  4                 401              40101    ⋯\n",
       "   2 │ P040101002                  4                 401              40101\n",
       "   3 │ P040101003                  4                 401              40101\n",
       "\u001b[36m                                                               5 columns omitted\u001b[0m"
      ]
     },
     "execution_count": 30,
     "metadata": {},
     "output_type": "execute_result"
    }
   ],
   "source": [
    "first(DataFrame(CSV.File(\"./data/output_p94.csv\")), 3)"
   ]
  },
  {
   "cell_type": "markdown",
   "id": "541f9a66-29f5-48b3-9478-c2521f70aca9",
   "metadata": {},
   "source": [
    "---\n",
    "> P-098: 096で作成した以下形式のファイルを読み込み、データを3件を表示させて正しく取り込まれていることを確認せよ。\n",
    "> \n",
    "> |ファイル形式|ヘッダ有無|文字エンコーディング|\n",
    "> |:--:|:--:|:--:|\n",
    "> |CSV（カンマ区切り）|ヘッダ無し|UTF-8|"
   ]
  },
  {
   "cell_type": "code",
   "execution_count": 105,
   "id": "3c0b8e9a-d2e3-4716-b569-2b7a9cbd2c01",
   "metadata": {},
   "outputs": [],
   "source": []
  },
  {
   "cell_type": "markdown",
   "id": "de249ec4-e6e1-4af6-85f6-1b100f99b8fb",
   "metadata": {},
   "source": [
    "---\n",
    "> P-099: 093で作成したカテゴリ名付き商品データを以下の仕様でファイル出力せよ。\n",
    ">\n",
    "> |ファイル形式|ヘッダ有無|文字エンコーディング|\n",
    "> |:--:|:--:|:--:|\n",
    "> |TSV（タブ区切り）|有り|UTF-8|\n",
    "> \n",
    "> ファイル出力先のパスは以下のようにすること\n",
    "> \n",
    "> |出力先|\n",
    "> |:--:|\n",
    "> |./data|"
   ]
  },
  {
   "cell_type": "code",
   "execution_count": 106,
   "id": "2fbd30ee-482f-42de-b362-fe83bcb4057b",
   "metadata": {},
   "outputs": [],
   "source": []
  },
  {
   "cell_type": "markdown",
   "id": "5f7fedc8-de5b-43ea-b34c-7cc5945b6892",
   "metadata": {},
   "source": [
    "---\n",
    "> P-100: 099で作成した以下形式のファイルを読み込み、データを3件を表示させて正しく取り込まれていることを確認せよ。\n",
    "> \n",
    "> |ファイル形式|ヘッダ有無|文字エンコーディング|\n",
    "> |:--:|:--:|:--:|\n",
    "> |TSV（タブ区切り）|有り|UTF-8|"
   ]
  },
  {
   "cell_type": "code",
   "execution_count": 107,
   "id": "99e443ea-5fb0-4437-acab-005412d3cad1",
   "metadata": {},
   "outputs": [],
   "source": []
  },
  {
   "cell_type": "markdown",
   "id": "a92c8f96-2f46-41aa-9ec8-9fa0139d96b3",
   "metadata": {},
   "source": [
    "# これで１００本終わりです。おつかれさまでした！"
   ]
  }
 ],
 "metadata": {
  "kernelspec": {
   "display_name": "Julia 1.8.5",
   "language": "julia",
   "name": "julia-1.8"
  },
  "language_info": {
   "file_extension": ".jl",
   "mimetype": "application/julia",
   "name": "julia",
   "version": "1.8.5"
  }
 },
 "nbformat": 4,
 "nbformat_minor": 5
}
